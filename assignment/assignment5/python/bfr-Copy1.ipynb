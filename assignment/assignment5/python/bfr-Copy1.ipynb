{
 "cells": [
  {
   "cell_type": "markdown",
   "metadata": {
    "ExecuteTime": {
     "end_time": "2020-04-07T20:24:35.724750Z",
     "start_time": "2020-04-07T20:24:35.714275Z"
    }
   },
   "source": [
    "``` shell\n",
    "python3 bfr.py <input_path> <n_cluster> <out_file1> <out_file2>\n",
    "```"
   ]
  },
  {
   "cell_type": "code",
   "execution_count": 1,
   "metadata": {
    "ExecuteTime": {
     "end_time": "2020-04-12T05:07:06.000572Z",
     "start_time": "2020-04-12T05:07:05.996198Z"
    }
   },
   "outputs": [],
   "source": [
    "import findspark\n",
    "findspark.init()"
   ]
  },
  {
   "cell_type": "code",
   "execution_count": 2,
   "metadata": {
    "ExecuteTime": {
     "end_time": "2020-04-12T05:07:06.301962Z",
     "start_time": "2020-04-12T05:07:06.002979Z"
    }
   },
   "outputs": [],
   "source": [
    "import sys\n",
    "import time\n",
    "import json\n",
    "import os\n",
    "import random\n",
    "from math import sqrt\n",
    "\n",
    "from pyspark import SparkConf, SparkContext, StorageLevel"
   ]
  },
  {
   "cell_type": "code",
   "execution_count": 3,
   "metadata": {
    "ExecuteTime": {
     "end_time": "2020-04-12T05:07:06.307173Z",
     "start_time": "2020-04-12T05:07:06.304418Z"
    }
   },
   "outputs": [],
   "source": [
    "a = {1:2, 3:4, 5:6}"
   ]
  },
  {
   "cell_type": "code",
   "execution_count": 4,
   "metadata": {
    "ExecuteTime": {
     "end_time": "2020-04-12T05:07:06.318411Z",
     "start_time": "2020-04-12T05:07:06.309706Z"
    }
   },
   "outputs": [
    {
     "data": {
      "text/plain": [
       "1"
      ]
     },
     "execution_count": 4,
     "metadata": {},
     "output_type": "execute_result"
    }
   ],
   "source": [
    "random.seed(2)\n",
    "random.choice(list(a.keys()))"
   ]
  },
  {
   "cell_type": "code",
   "execution_count": 5,
   "metadata": {
    "ExecuteTime": {
     "end_time": "2020-04-12T05:07:06.323660Z",
     "start_time": "2020-04-12T05:07:06.320588Z"
    }
   },
   "outputs": [],
   "source": [
    "SMALL_SAMPLE_RATIO = 0.025\n",
    "RANDOM_SEED = 1208\n",
    "LARGE_NUMBER = sys.maxsize * 1.0\n",
    "EQUAL_THRESHOLD = 0.0001\n",
    "ALPHA_FOR_MD = 2"
   ]
  },
  {
   "cell_type": "code",
   "execution_count": 6,
   "metadata": {
    "ExecuteTime": {
     "end_time": "2020-04-12T05:07:06.328898Z",
     "start_time": "2020-04-12T05:07:06.325868Z"
    }
   },
   "outputs": [],
   "source": [
    "input_path = \"/Users/markduan/duan/USC_course/USC_APDS/INF553/homework/hw5/data/test1\"\n",
    "n_cluster = 10\n",
    "out_file1 = \"./out_file1_jn.json\"\n",
    "out_file2 = \"./out_file2_jn.json\""
   ]
  },
  {
   "cell_type": "code",
   "execution_count": 7,
   "metadata": {
    "ExecuteTime": {
     "end_time": "2020-04-12T05:07:06.334350Z",
     "start_time": "2020-04-12T05:07:06.330800Z"
    }
   },
   "outputs": [],
   "source": [
    "def getFilesPath(input_path):\n",
    "    files = os.listdir(input_path)\n",
    "    files_start_with_slash = [os.path.join(input_path, f) for f in files]\n",
    "    files_start_with_file = ['file://' + f for f in files_start_with_slash]\n",
    "    return files_start_with_file"
   ]
  },
  {
   "cell_type": "code",
   "execution_count": 8,
   "metadata": {
    "ExecuteTime": {
     "end_time": "2020-04-12T05:07:06.341138Z",
     "start_time": "2020-04-12T05:07:06.338601Z"
    }
   },
   "outputs": [],
   "source": [
    "files_complete_path = getFilesPath(input_path)"
   ]
  },
  {
   "cell_type": "code",
   "execution_count": 9,
   "metadata": {
    "ExecuteTime": {
     "end_time": "2020-04-12T05:07:06.347741Z",
     "start_time": "2020-04-12T05:07:06.345196Z"
    }
   },
   "outputs": [],
   "source": [
    "file_path = files_complete_path[0]"
   ]
  },
  {
   "cell_type": "code",
   "execution_count": 10,
   "metadata": {
    "ExecuteTime": {
     "end_time": "2020-04-12T05:07:08.427456Z",
     "start_time": "2020-04-12T05:07:06.349826Z"
    }
   },
   "outputs": [],
   "source": [
    "conf = SparkConf() \\\n",
    "    .setAppName(\"task\") \\\n",
    "    .setMaster(\"local[*]\") \\\n",
    "    .set(\"spark.driver.memory\",\"4g\")\n",
    "sc = SparkContext(conf=conf)\n",
    "sc.setLogLevel(\"ERROR\")"
   ]
  },
  {
   "cell_type": "code",
   "execution_count": 11,
   "metadata": {
    "ExecuteTime": {
     "end_time": "2020-04-12T05:07:08.439624Z",
     "start_time": "2020-04-12T05:07:08.429532Z"
    }
   },
   "outputs": [],
   "source": [
    "def loadFileRDD(sc, file_path):\n",
    "    \"\"\"\n",
    "    :return rdd - [(idx, (attrs...)), ...] idx: int attr: float\n",
    "    \"\"\"\n",
    "    data_points = sc.textFile(file_path) \\\n",
    "        .map(lambda x: x.split(',')) \\\n",
    "        .map(lambda x: (int(x[0]), tuple(x[1:]))) \\\n",
    "        .mapValues(lambda v: tuple([float(x) for x in v]))\n",
    "    return data_points"
   ]
  },
  {
   "cell_type": "code",
   "execution_count": 12,
   "metadata": {
    "ExecuteTime": {
     "end_time": "2020-04-12T05:07:11.200971Z",
     "start_time": "2020-04-12T05:07:08.442140Z"
    }
   },
   "outputs": [],
   "source": [
    "data_points = loadFileRDD(sc,file_path).collect()"
   ]
  },
  {
   "cell_type": "code",
   "execution_count": 13,
   "metadata": {
    "ExecuteTime": {
     "end_time": "2020-04-12T05:07:11.206411Z",
     "start_time": "2020-04-12T05:07:11.202929Z"
    }
   },
   "outputs": [],
   "source": [
    "d = len(data_points[0][1])\n",
    "md_threshold = sqrt(d) * ALPHA_FOR_MD"
   ]
  },
  {
   "cell_type": "code",
   "execution_count": 14,
   "metadata": {
    "ExecuteTime": {
     "end_time": "2020-04-12T05:07:11.214342Z",
     "start_time": "2020-04-12T05:07:11.209147Z"
    }
   },
   "outputs": [],
   "source": [
    "def splitData(data_points, ratio):\n",
    "    # randomly select samples and the rest data\n",
    "    random.seed(RANDOM_SEED)\n",
    "    random.shuffle(data_points)\n",
    "    num_data = len(data_points)\n",
    "    num_small_sample = int(num_data * ratio)\n",
    "    small_sample = data_points[:num_small_sample]\n",
    "    rest_data = data_points[num_small_sample:]\n",
    "    return small_sample, rest_data"
   ]
  },
  {
   "cell_type": "code",
   "execution_count": 15,
   "metadata": {
    "ExecuteTime": {
     "end_time": "2020-04-12T05:07:11.347953Z",
     "start_time": "2020-04-12T05:07:11.217012Z"
    }
   },
   "outputs": [],
   "source": [
    "sample, rest_data = splitData(data_points, SMALL_SAMPLE_RATIO)"
   ]
  },
  {
   "cell_type": "code",
   "execution_count": 16,
   "metadata": {
    "ExecuteTime": {
     "end_time": "2020-04-12T05:07:11.353105Z",
     "start_time": "2020-04-12T05:07:11.349985Z"
    }
   },
   "outputs": [],
   "source": [
    "def computeDistance(v1, v2):\n",
    "    # Euclidean Distance\n",
    "    pingfanghe = 0\n",
    "    for i in range(len(v1)):\n",
    "        pingfanghe += (v1[i] - v2[i]) ** 2\n",
    "    return sqrt(pingfanghe)"
   ]
  },
  {
   "cell_type": "code",
   "execution_count": 17,
   "metadata": {
    "ExecuteTime": {
     "end_time": "2020-04-12T05:07:11.359119Z",
     "start_time": "2020-04-12T05:07:11.355850Z"
    }
   },
   "outputs": [],
   "source": [
    "def getClosestCentroid(x, centroids_list):\n",
    "    # x - (idx, (attrs...))\n",
    "    # centroids_list - [(cluster_tag, (attrs...)), ...]\n",
    "    shortest_distance = LARGE_NUMBER\n",
    "    for centroid in centroids_list:\n",
    "        centroid_attrs = centroid[1]\n",
    "        dis = computeDistance(x[1], centroid_attrs)\n",
    "        if dis < shortest_distance:\n",
    "            shortest_distance = dis\n",
    "    return (1, (shortest_distance, x))"
   ]
  },
  {
   "cell_type": "code",
   "execution_count": 18,
   "metadata": {
    "ExecuteTime": {
     "end_time": "2020-04-12T05:07:11.376063Z",
     "start_time": "2020-04-12T05:07:11.361540Z"
    }
   },
   "outputs": [],
   "source": [
    "def getInitialCentroids(data_rdd, size, method=\"random\"):\n",
    "    if method == \"random\":\n",
    "        # random\n",
    "        centroids_list = data_rdd.map(lambda x: x[1]) \\\n",
    "            .takeSample(False, size, RANDOM_SEED)\n",
    "        centroids = dict(centroids_list)\n",
    "        # the key of each centroid is the tag of the cluster\n",
    "        # {cluster_tag: (attrs...), ...}\n",
    "        return centroids\n",
    "    elif method == \"kmeans++\":\n",
    "        data_rdd = data_rdd.persist(StorageLevel.MEMORY_AND_DISK)\n",
    "        centroids_list = []\n",
    "        for i in range(size):\n",
    "            if i == 0:\n",
    "                first_centroid = data_rdd.map(lambda x: x[1]) \\\n",
    "                    .takeSample(False, 1, RANDOM_SEED)\n",
    "                centroids_list.extend(first_centroid)\n",
    "            else:\n",
    "                next_centroid = data_rdd.map(lambda x: x[1]) \\\n",
    "                    .map(lambda x: getClosestCentroid(x, centroids_list)) \\\n",
    "                    .reduceByKey(lambda x, y: y if x[0] < y[0] else x) \\\n",
    "                    .map(lambda x: x[1][1]) \\\n",
    "                    .collect()\n",
    "                centroids_list.extend(next_centroid)\n",
    "        centroids = dict(centroids_list)\n",
    "        return centroids\n",
    "    else:\n",
    "        return None\n",
    "        "
   ]
  },
  {
   "cell_type": "code",
   "execution_count": 19,
   "metadata": {
    "ExecuteTime": {
     "end_time": "2020-04-12T05:07:11.382839Z",
     "start_time": "2020-04-12T05:07:11.378280Z"
    }
   },
   "outputs": [],
   "source": [
    "def clusterPoint(point, centroids):\n",
    "    \"\"\"\n",
    "    :param - (idx, (cluster_tag, (attrs...)))\n",
    "    :param - {cluster_tag: (attrs...), ...}\n",
    "    \"\"\"\n",
    "    attrs = point[1][1]\n",
    "    min_distance = (None, LARGE_NUMBER)\n",
    "    for c in centroids:\n",
    "        dis = computeDistance(attrs, centroids[c])\n",
    "        if dis < min_distance[1]:\n",
    "            min_distance = (c, dis)\n",
    "    ctag = min_distance[0]\n",
    "    return (point[0], (ctag, attrs))"
   ]
  },
  {
   "cell_type": "code",
   "execution_count": 20,
   "metadata": {
    "ExecuteTime": {
     "end_time": "2020-04-12T05:07:11.389073Z",
     "start_time": "2020-04-12T05:07:11.385801Z"
    }
   },
   "outputs": [],
   "source": [
    "def addList(l1, l2):\n",
    "    \"\"\"\n",
    "    :param list\n",
    "    \"\"\"\n",
    "    return [l1[i] + l2[i] for i in range(len(l1))]"
   ]
  },
  {
   "cell_type": "code",
   "execution_count": 21,
   "metadata": {
    "ExecuteTime": {
     "end_time": "2020-04-12T05:07:11.396337Z",
     "start_time": "2020-04-12T05:07:11.391635Z"
    }
   },
   "outputs": [],
   "source": [
    "def computeCentroids(points):\n",
    "    # points: rdd - [(idx, (cluster_tag, (attrs...))), ...]\n",
    "    new_centroids = points.map(lambda x: x[1]) \\\n",
    "        .map(lambda x: (x[0], (x[1], 1))) \\\n",
    "        .reduceByKey(lambda x, y: (addList(x[0], y[0]), x[1]+y[1])) \\\n",
    "        .mapValues(lambda v: tuple([x / v[1] for x in v[0]])) \\\n",
    "        .collectAsMap()\n",
    "    return new_centroids"
   ]
  },
  {
   "cell_type": "code",
   "execution_count": 22,
   "metadata": {
    "ExecuteTime": {
     "end_time": "2020-04-12T05:07:11.403234Z",
     "start_time": "2020-04-12T05:07:11.398861Z"
    }
   },
   "outputs": [],
   "source": [
    "def checkCentroidsChanged(new_centroids, old_centroids, equal_threshold=0.0001):\n",
    "        if old_centroids == None:\n",
    "            return True\n",
    "        for k in old_centroids:\n",
    "            old_centroid = old_centroids[k]\n",
    "            new_centroid = new_centroids[k]\n",
    "            for i in range(len(old_centroid)):\n",
    "                if abs(old_centroid[i] - new_centroid[i]) > equal_threshold:\n",
    "                    return True\n",
    "        return False  "
   ]
  },
  {
   "cell_type": "code",
   "execution_count": 23,
   "metadata": {
    "ExecuteTime": {
     "end_time": "2020-04-12T05:07:11.444462Z",
     "start_time": "2020-04-12T05:07:11.413734Z"
    }
   },
   "outputs": [],
   "source": [
    "data_rdd = sc.parallelize(sample).map(lambda x: (x[0], x)).persist(StorageLevel.MEMORY_AND_DISK)"
   ]
  },
  {
   "cell_type": "code",
   "execution_count": 24,
   "metadata": {
    "ExecuteTime": {
     "end_time": "2020-04-12T05:07:12.747734Z",
     "start_time": "2020-04-12T05:07:11.449132Z"
    }
   },
   "outputs": [
    {
     "ename": "KeyboardInterrupt",
     "evalue": "",
     "output_type": "error",
     "traceback": [
      "\u001b[0;31m---------------------------------------------------------------------------\u001b[0m",
      "\u001b[0;31mKeyboardInterrupt\u001b[0m                         Traceback (most recent call last)",
      "\u001b[0;32m<ipython-input-24-e72095f85816>\u001b[0m in \u001b[0;36m<module>\u001b[0;34m\u001b[0m\n\u001b[0;32m----> 1\u001b[0;31m \u001b[0minitial_centroids\u001b[0m \u001b[0;34m=\u001b[0m \u001b[0mgetInitialCentroids\u001b[0m\u001b[0;34m(\u001b[0m\u001b[0mdata_rdd\u001b[0m\u001b[0;34m,\u001b[0m \u001b[0mn_cluster\u001b[0m\u001b[0;34m,\u001b[0m \u001b[0mmethod\u001b[0m\u001b[0;34m=\u001b[0m\u001b[0;34m'kmeans++'\u001b[0m\u001b[0;34m)\u001b[0m\u001b[0;34m\u001b[0m\u001b[0;34m\u001b[0m\u001b[0m\n\u001b[0m",
      "\u001b[0;32m<ipython-input-18-14a0ca36a765>\u001b[0m in \u001b[0;36mgetInitialCentroids\u001b[0;34m(data_rdd, size, method)\u001b[0m\n\u001b[1;32m     20\u001b[0m                     \u001b[0;34m.\u001b[0m\u001b[0mmap\u001b[0m\u001b[0;34m(\u001b[0m\u001b[0;32mlambda\u001b[0m \u001b[0mx\u001b[0m\u001b[0;34m:\u001b[0m \u001b[0mgetClosestCentroid\u001b[0m\u001b[0;34m(\u001b[0m\u001b[0mx\u001b[0m\u001b[0;34m,\u001b[0m \u001b[0mcentroids_list\u001b[0m\u001b[0;34m)\u001b[0m\u001b[0;34m)\u001b[0m\u001b[0;31m \u001b[0m\u001b[0;31m\\\u001b[0m\u001b[0;34m\u001b[0m\u001b[0;34m\u001b[0m\u001b[0m\n\u001b[1;32m     21\u001b[0m                     \u001b[0;34m.\u001b[0m\u001b[0mreduceByKey\u001b[0m\u001b[0;34m(\u001b[0m\u001b[0;32mlambda\u001b[0m \u001b[0mx\u001b[0m\u001b[0;34m,\u001b[0m \u001b[0my\u001b[0m\u001b[0;34m:\u001b[0m \u001b[0my\u001b[0m \u001b[0;32mif\u001b[0m \u001b[0mx\u001b[0m\u001b[0;34m[\u001b[0m\u001b[0;36m0\u001b[0m\u001b[0;34m]\u001b[0m \u001b[0;34m<\u001b[0m \u001b[0my\u001b[0m\u001b[0;34m[\u001b[0m\u001b[0;36m0\u001b[0m\u001b[0;34m]\u001b[0m \u001b[0;32melse\u001b[0m \u001b[0mx\u001b[0m\u001b[0;34m)\u001b[0m\u001b[0;31m \u001b[0m\u001b[0;31m\\\u001b[0m\u001b[0;34m\u001b[0m\u001b[0;34m\u001b[0m\u001b[0m\n\u001b[0;32m---> 22\u001b[0;31m                     \u001b[0;34m.\u001b[0m\u001b[0mmap\u001b[0m\u001b[0;34m(\u001b[0m\u001b[0;32mlambda\u001b[0m \u001b[0mx\u001b[0m\u001b[0;34m:\u001b[0m \u001b[0mx\u001b[0m\u001b[0;34m[\u001b[0m\u001b[0;36m1\u001b[0m\u001b[0;34m]\u001b[0m\u001b[0;34m[\u001b[0m\u001b[0;36m1\u001b[0m\u001b[0;34m]\u001b[0m\u001b[0;34m)\u001b[0m\u001b[0;31m \u001b[0m\u001b[0;31m\\\u001b[0m\u001b[0;34m\u001b[0m\u001b[0;34m\u001b[0m\u001b[0m\n\u001b[0m\u001b[1;32m     23\u001b[0m                     \u001b[0;34m.\u001b[0m\u001b[0mcollect\u001b[0m\u001b[0;34m(\u001b[0m\u001b[0;34m)\u001b[0m\u001b[0;34m\u001b[0m\u001b[0;34m\u001b[0m\u001b[0m\n\u001b[1;32m     24\u001b[0m                 \u001b[0mcentroids_list\u001b[0m\u001b[0;34m.\u001b[0m\u001b[0mextend\u001b[0m\u001b[0;34m(\u001b[0m\u001b[0mnext_centroid\u001b[0m\u001b[0;34m)\u001b[0m\u001b[0;34m\u001b[0m\u001b[0;34m\u001b[0m\u001b[0m\n",
      "\u001b[0;32m/usr/local/spark/python/pyspark/rdd.py\u001b[0m in \u001b[0;36mcollect\u001b[0;34m(self)\u001b[0m\n\u001b[1;32m    822\u001b[0m         \"\"\"\n\u001b[1;32m    823\u001b[0m         \u001b[0;32mwith\u001b[0m \u001b[0mSCCallSiteSync\u001b[0m\u001b[0;34m(\u001b[0m\u001b[0mself\u001b[0m\u001b[0;34m.\u001b[0m\u001b[0mcontext\u001b[0m\u001b[0;34m)\u001b[0m \u001b[0;32mas\u001b[0m \u001b[0mcss\u001b[0m\u001b[0;34m:\u001b[0m\u001b[0;34m\u001b[0m\u001b[0;34m\u001b[0m\u001b[0m\n\u001b[0;32m--> 824\u001b[0;31m             \u001b[0mport\u001b[0m \u001b[0;34m=\u001b[0m \u001b[0mself\u001b[0m\u001b[0;34m.\u001b[0m\u001b[0mctx\u001b[0m\u001b[0;34m.\u001b[0m\u001b[0m_jvm\u001b[0m\u001b[0;34m.\u001b[0m\u001b[0mPythonRDD\u001b[0m\u001b[0;34m.\u001b[0m\u001b[0mcollectAndServe\u001b[0m\u001b[0;34m(\u001b[0m\u001b[0mself\u001b[0m\u001b[0;34m.\u001b[0m\u001b[0m_jrdd\u001b[0m\u001b[0;34m.\u001b[0m\u001b[0mrdd\u001b[0m\u001b[0;34m(\u001b[0m\u001b[0;34m)\u001b[0m\u001b[0;34m)\u001b[0m\u001b[0;34m\u001b[0m\u001b[0;34m\u001b[0m\u001b[0m\n\u001b[0m\u001b[1;32m    825\u001b[0m         \u001b[0;32mreturn\u001b[0m \u001b[0mlist\u001b[0m\u001b[0;34m(\u001b[0m\u001b[0m_load_from_socket\u001b[0m\u001b[0;34m(\u001b[0m\u001b[0mport\u001b[0m\u001b[0;34m,\u001b[0m \u001b[0mself\u001b[0m\u001b[0;34m.\u001b[0m\u001b[0m_jrdd_deserializer\u001b[0m\u001b[0;34m)\u001b[0m\u001b[0;34m)\u001b[0m\u001b[0;34m\u001b[0m\u001b[0;34m\u001b[0m\u001b[0m\n\u001b[1;32m    826\u001b[0m \u001b[0;34m\u001b[0m\u001b[0m\n",
      "\u001b[0;32m/usr/local/spark/python/lib/py4j-0.10.6-src.zip/py4j/java_gateway.py\u001b[0m in \u001b[0;36m__call__\u001b[0;34m(self, *args)\u001b[0m\n\u001b[1;32m   1156\u001b[0m             \u001b[0mproto\u001b[0m\u001b[0;34m.\u001b[0m\u001b[0mEND_COMMAND_PART\u001b[0m\u001b[0;34m\u001b[0m\u001b[0;34m\u001b[0m\u001b[0m\n\u001b[1;32m   1157\u001b[0m \u001b[0;34m\u001b[0m\u001b[0m\n\u001b[0;32m-> 1158\u001b[0;31m         \u001b[0manswer\u001b[0m \u001b[0;34m=\u001b[0m \u001b[0mself\u001b[0m\u001b[0;34m.\u001b[0m\u001b[0mgateway_client\u001b[0m\u001b[0;34m.\u001b[0m\u001b[0msend_command\u001b[0m\u001b[0;34m(\u001b[0m\u001b[0mcommand\u001b[0m\u001b[0;34m)\u001b[0m\u001b[0;34m\u001b[0m\u001b[0;34m\u001b[0m\u001b[0m\n\u001b[0m\u001b[1;32m   1159\u001b[0m         return_value = get_return_value(\n\u001b[1;32m   1160\u001b[0m             answer, self.gateway_client, self.target_id, self.name)\n",
      "\u001b[0;32m/usr/local/spark/python/lib/py4j-0.10.6-src.zip/py4j/java_gateway.py\u001b[0m in \u001b[0;36msend_command\u001b[0;34m(self, command, retry, binary)\u001b[0m\n\u001b[1;32m    906\u001b[0m         \u001b[0mconnection\u001b[0m \u001b[0;34m=\u001b[0m \u001b[0mself\u001b[0m\u001b[0;34m.\u001b[0m\u001b[0m_get_connection\u001b[0m\u001b[0;34m(\u001b[0m\u001b[0;34m)\u001b[0m\u001b[0;34m\u001b[0m\u001b[0;34m\u001b[0m\u001b[0m\n\u001b[1;32m    907\u001b[0m         \u001b[0;32mtry\u001b[0m\u001b[0;34m:\u001b[0m\u001b[0;34m\u001b[0m\u001b[0;34m\u001b[0m\u001b[0m\n\u001b[0;32m--> 908\u001b[0;31m             \u001b[0mresponse\u001b[0m \u001b[0;34m=\u001b[0m \u001b[0mconnection\u001b[0m\u001b[0;34m.\u001b[0m\u001b[0msend_command\u001b[0m\u001b[0;34m(\u001b[0m\u001b[0mcommand\u001b[0m\u001b[0;34m)\u001b[0m\u001b[0;34m\u001b[0m\u001b[0;34m\u001b[0m\u001b[0m\n\u001b[0m\u001b[1;32m    909\u001b[0m             \u001b[0;32mif\u001b[0m \u001b[0mbinary\u001b[0m\u001b[0;34m:\u001b[0m\u001b[0;34m\u001b[0m\u001b[0;34m\u001b[0m\u001b[0m\n\u001b[1;32m    910\u001b[0m                 \u001b[0;32mreturn\u001b[0m \u001b[0mresponse\u001b[0m\u001b[0;34m,\u001b[0m \u001b[0mself\u001b[0m\u001b[0;34m.\u001b[0m\u001b[0m_create_connection_guard\u001b[0m\u001b[0;34m(\u001b[0m\u001b[0mconnection\u001b[0m\u001b[0;34m)\u001b[0m\u001b[0;34m\u001b[0m\u001b[0;34m\u001b[0m\u001b[0m\n",
      "\u001b[0;32m/usr/local/spark/python/lib/py4j-0.10.6-src.zip/py4j/java_gateway.py\u001b[0m in \u001b[0;36msend_command\u001b[0;34m(self, command)\u001b[0m\n\u001b[1;32m   1053\u001b[0m \u001b[0;34m\u001b[0m\u001b[0m\n\u001b[1;32m   1054\u001b[0m         \u001b[0;32mtry\u001b[0m\u001b[0;34m:\u001b[0m\u001b[0;34m\u001b[0m\u001b[0;34m\u001b[0m\u001b[0m\n\u001b[0;32m-> 1055\u001b[0;31m             \u001b[0manswer\u001b[0m \u001b[0;34m=\u001b[0m \u001b[0msmart_decode\u001b[0m\u001b[0;34m(\u001b[0m\u001b[0mself\u001b[0m\u001b[0;34m.\u001b[0m\u001b[0mstream\u001b[0m\u001b[0;34m.\u001b[0m\u001b[0mreadline\u001b[0m\u001b[0;34m(\u001b[0m\u001b[0;34m)\u001b[0m\u001b[0;34m[\u001b[0m\u001b[0;34m:\u001b[0m\u001b[0;34m-\u001b[0m\u001b[0;36m1\u001b[0m\u001b[0;34m]\u001b[0m\u001b[0;34m)\u001b[0m\u001b[0;34m\u001b[0m\u001b[0;34m\u001b[0m\u001b[0m\n\u001b[0m\u001b[1;32m   1056\u001b[0m             \u001b[0mlogger\u001b[0m\u001b[0;34m.\u001b[0m\u001b[0mdebug\u001b[0m\u001b[0;34m(\u001b[0m\u001b[0;34m\"Answer received: {0}\"\u001b[0m\u001b[0;34m.\u001b[0m\u001b[0mformat\u001b[0m\u001b[0;34m(\u001b[0m\u001b[0manswer\u001b[0m\u001b[0;34m)\u001b[0m\u001b[0;34m)\u001b[0m\u001b[0;34m\u001b[0m\u001b[0;34m\u001b[0m\u001b[0m\n\u001b[1;32m   1057\u001b[0m             \u001b[0;32mif\u001b[0m \u001b[0manswer\u001b[0m\u001b[0;34m.\u001b[0m\u001b[0mstartswith\u001b[0m\u001b[0;34m(\u001b[0m\u001b[0mproto\u001b[0m\u001b[0;34m.\u001b[0m\u001b[0mRETURN_MESSAGE\u001b[0m\u001b[0;34m)\u001b[0m\u001b[0;34m:\u001b[0m\u001b[0;34m\u001b[0m\u001b[0;34m\u001b[0m\u001b[0m\n",
      "\u001b[0;32m~/opt/anaconda3/envs/inf553/lib/python3.6/socket.py\u001b[0m in \u001b[0;36mreadinto\u001b[0;34m(self, b)\u001b[0m\n\u001b[1;32m    584\u001b[0m         \u001b[0;32mwhile\u001b[0m \u001b[0;32mTrue\u001b[0m\u001b[0;34m:\u001b[0m\u001b[0;34m\u001b[0m\u001b[0;34m\u001b[0m\u001b[0m\n\u001b[1;32m    585\u001b[0m             \u001b[0;32mtry\u001b[0m\u001b[0;34m:\u001b[0m\u001b[0;34m\u001b[0m\u001b[0;34m\u001b[0m\u001b[0m\n\u001b[0;32m--> 586\u001b[0;31m                 \u001b[0;32mreturn\u001b[0m \u001b[0mself\u001b[0m\u001b[0;34m.\u001b[0m\u001b[0m_sock\u001b[0m\u001b[0;34m.\u001b[0m\u001b[0mrecv_into\u001b[0m\u001b[0;34m(\u001b[0m\u001b[0mb\u001b[0m\u001b[0;34m)\u001b[0m\u001b[0;34m\u001b[0m\u001b[0;34m\u001b[0m\u001b[0m\n\u001b[0m\u001b[1;32m    587\u001b[0m             \u001b[0;32mexcept\u001b[0m \u001b[0mtimeout\u001b[0m\u001b[0;34m:\u001b[0m\u001b[0;34m\u001b[0m\u001b[0;34m\u001b[0m\u001b[0m\n\u001b[1;32m    588\u001b[0m                 \u001b[0mself\u001b[0m\u001b[0;34m.\u001b[0m\u001b[0m_timeout_occurred\u001b[0m \u001b[0;34m=\u001b[0m \u001b[0;32mTrue\u001b[0m\u001b[0;34m\u001b[0m\u001b[0;34m\u001b[0m\u001b[0m\n",
      "\u001b[0;31mKeyboardInterrupt\u001b[0m: "
     ]
    }
   ],
   "source": [
    "initial_centroids = getInitialCentroids(data_rdd, n_cluster, method='kmeans++')"
   ]
  },
  {
   "cell_type": "code",
   "execution_count": null,
   "metadata": {
    "ExecuteTime": {
     "end_time": "2020-04-12T05:07:12.750423Z",
     "start_time": "2020-04-12T05:07:06.037Z"
    }
   },
   "outputs": [],
   "source": [
    "initial_centroids"
   ]
  },
  {
   "cell_type": "code",
   "execution_count": null,
   "metadata": {
    "ExecuteTime": {
     "end_time": "2020-04-12T05:07:12.752276Z",
     "start_time": "2020-04-12T05:07:06.038Z"
    }
   },
   "outputs": [],
   "source": [
    "def KMeansRDD(sc, data, k_clusters):\n",
    "    \"\"\"\n",
    "    :param data: [(idx, (attrs...)), ...]\n",
    "    :return rdd: [(idx, (cluster_tag, (attrs...))), ...]\n",
    "    \"\"\"\n",
    "    data_rdd = sc.parallelize(data).map(lambda x: (x[0], x)).persist(StorageLevel.MEMORY_AND_DISK)\n",
    "    # data_rdd: [(idx, (cluster_tag, (attrs...))), ...]\n",
    "    \n",
    "    initial_centroids = getInitialCentroids(data_rdd, k_clusters)\n",
    "    old_centroids = None\n",
    "    new_centroids = initial_centroids\n",
    "    \n",
    "    go_on = True\n",
    "    num_iter = 1\n",
    "    while(go_on):\n",
    "        points_tags = data_rdd.map(lambda x: clusterPoint(x, new_centroids))\n",
    "\n",
    "        old_centroids = new_centroids\n",
    "        new_centroids = computeCentroids(points_tags)\n",
    "        \n",
    "        go_on = checkCentroidsChanged(new_centroids, old_centroids, equal_threshold=EQUAL_THRESHOLD)\n",
    "#         print(num_iter)\n",
    "        num_iter += 1\n",
    "        if num_iter >=5:\n",
    "            break\n",
    "    \n",
    "    return points_tags"
   ]
  },
  {
   "cell_type": "code",
   "execution_count": null,
   "metadata": {
    "ExecuteTime": {
     "end_time": "2020-04-12T05:07:12.753919Z",
     "start_time": "2020-04-12T05:07:06.040Z"
    }
   },
   "outputs": [],
   "source": [
    "k_clusters = n_cluster\n",
    "sample_rdd = KMeansRDD(sc, sample, k_clusters).persist(StorageLevel.MEMORY_AND_DISK)\n",
    "# kmeans_rdd rdd: [(idx, (cluster_tag, (attrs...))), ...]"
   ]
  },
  {
   "cell_type": "code",
   "execution_count": null,
   "metadata": {
    "ExecuteTime": {
     "end_time": "2020-04-12T05:07:12.755540Z",
     "start_time": "2020-04-12T05:07:06.042Z"
    }
   },
   "outputs": [],
   "source": [
    "def simpleStatistics(X, pre_state=None):\n",
    "    \"\"\"\n",
    "    :param pre_state: list - [0, [0]*d, [0]*d] [N, SUM_vector, SUMSQ_vector]\n",
    "    \"\"\"\n",
    "    X = list(X)\n",
    "    d = len(X[0]) # dimension\n",
    "    \n",
    "    state = None\n",
    "    if pre_state == None:\n",
    "        state = [0, [0]*d, [0]*d]\n",
    "    else:\n",
    "        state = pre_state\n",
    "        \n",
    "    for x in X:\n",
    "        state[0] += 1\n",
    "        for i in range(d):\n",
    "            state[1][i] += x[i]\n",
    "            state[2][i] += x[i] ** 2\n",
    "    return state"
   ]
  },
  {
   "cell_type": "code",
   "execution_count": null,
   "metadata": {
    "ExecuteTime": {
     "end_time": "2020-04-12T05:07:12.757501Z",
     "start_time": "2020-04-12T05:07:06.044Z"
    }
   },
   "outputs": [],
   "source": [
    "def getDiscardSets(points):\n",
    "    \"\"\"\n",
    "    :param points: rdd - [(idx, (cluster_tag, (attrs...))), ...]\n",
    "    :return : dict - {tag: [N, SUM_vector, SUMSQ_vector], ...}\n",
    "    \"\"\"\n",
    "    initial_DS = points.map(lambda x: x[1]) \\\n",
    "        .groupByKey() \\\n",
    "        .mapValues(lambda X: simpleStatistics(X)) \\\n",
    "        .collectAsMap()\n",
    "    return initial_DS"
   ]
  },
  {
   "cell_type": "code",
   "execution_count": null,
   "metadata": {
    "ExecuteTime": {
     "end_time": "2020-04-12T05:07:12.758953Z",
     "start_time": "2020-04-12T05:07:06.045Z"
    }
   },
   "outputs": [],
   "source": [
    "DS = getDiscardSets(sample_rdd)"
   ]
  },
  {
   "cell_type": "code",
   "execution_count": null,
   "metadata": {
    "ExecuteTime": {
     "end_time": "2020-04-12T05:07:12.760554Z",
     "start_time": "2020-04-12T05:07:06.046Z"
    }
   },
   "outputs": [],
   "source": [
    "def rearrangeResult(res_rdd, RS_idx=None):\n",
    "    \"\"\"\n",
    "    :param res_rdd: rdd - [(idx, (cluster_tag, (attrs...))), ...]\n",
    "    :return : list - [(idx, tag), ...] idx: int tag: int\n",
    "    \"\"\"\n",
    "    if RS_idx == None:\n",
    "        return res_rdd.map(lambda x: (x[0], x[1][0])).collect()\n",
    "    else:\n",
    "        return res_rdd.filter(lambda x: x[0] not in RS_idx).map(lambda x: (x[0], x[1][0])).collect()"
   ]
  },
  {
   "cell_type": "code",
   "execution_count": null,
   "metadata": {
    "ExecuteTime": {
     "end_time": "2020-04-12T05:07:12.762298Z",
     "start_time": "2020-04-12T05:07:06.048Z"
    }
   },
   "outputs": [],
   "source": [
    "res_DS = rearrangeResult(sample_rdd, None)"
   ]
  },
  {
   "cell_type": "code",
   "execution_count": null,
   "metadata": {},
   "outputs": [],
   "source": []
  },
  {
   "cell_type": "code",
   "execution_count": null,
   "metadata": {
    "ExecuteTime": {
     "end_time": "2020-04-12T05:07:12.765050Z",
     "start_time": "2020-04-12T05:07:06.051Z"
    },
    "scrolled": true
   },
   "outputs": [],
   "source": [
    "k_clusters = n_cluster * 5\n",
    "rest_rdd = KMeansRDD(sc, rest_data, k_clusters).persist(StorageLevel.MEMORY_AND_DISK)"
   ]
  },
  {
   "cell_type": "code",
   "execution_count": null,
   "metadata": {
    "ExecuteTime": {
     "end_time": "2020-04-12T05:07:12.766842Z",
     "start_time": "2020-04-12T05:07:06.053Z"
    }
   },
   "outputs": [],
   "source": [
    "def getCSandRS(points):\n",
    "    \"\"\"\n",
    "    :param points: rdd - [(idx, (cluster_tag, (attrs...))), ...]\n",
    "    \"\"\"\n",
    "    RS_idx = points.map(lambda x: (x[1][0], x[0])) \\\n",
    "        .groupByKey() \\\n",
    "        .map(lambda x: (x[0], list(x[1]))) \\\n",
    "        .filter(lambda x: len(x[1]) == 1) \\\n",
    "        .flatMap(lambda x: x[1]) \\\n",
    "        .collect()\n",
    "    \n",
    "    initial_CS = points.filter(lambda x: x[0] not in RS_idx) \\\n",
    "        .map(lambda x: x[1]) \\\n",
    "        .groupByKey() \\\n",
    "        .mapValues(lambda X: simpleStatistics(X)) \\\n",
    "        .collectAsMap()\n",
    "\n",
    "    initial_RS = points.filter(lambda x: x[0] in RS_idx) \\\n",
    "        .collect()\n",
    "    return RS_idx, initial_CS, initial_RS"
   ]
  },
  {
   "cell_type": "code",
   "execution_count": null,
   "metadata": {
    "ExecuteTime": {
     "end_time": "2020-04-12T05:07:12.768684Z",
     "start_time": "2020-04-12T05:07:06.054Z"
    }
   },
   "outputs": [],
   "source": [
    "RS_idx, CS, RS = getCSandRS(rest_rdd)"
   ]
  },
  {
   "cell_type": "code",
   "execution_count": null,
   "metadata": {
    "ExecuteTime": {
     "end_time": "2020-04-12T05:07:12.770376Z",
     "start_time": "2020-04-12T05:07:06.056Z"
    }
   },
   "outputs": [],
   "source": [
    "res_CS = rearrangeResult(rest_rdd, RS_idx)"
   ]
  },
  {
   "cell_type": "code",
   "execution_count": null,
   "metadata": {},
   "outputs": [],
   "source": []
  },
  {
   "cell_type": "code",
   "execution_count": null,
   "metadata": {
    "ExecuteTime": {
     "end_time": "2020-04-12T05:07:12.772535Z",
     "start_time": "2020-04-12T05:07:06.060Z"
    }
   },
   "outputs": [],
   "source": [
    "file_path = files_complete_path[1]"
   ]
  },
  {
   "cell_type": "code",
   "execution_count": null,
   "metadata": {
    "ExecuteTime": {
     "end_time": "2020-04-12T05:07:12.774262Z",
     "start_time": "2020-04-12T05:07:06.062Z"
    }
   },
   "outputs": [],
   "source": [
    "file_path"
   ]
  },
  {
   "cell_type": "code",
   "execution_count": null,
   "metadata": {
    "ExecuteTime": {
     "end_time": "2020-04-12T05:07:12.776129Z",
     "start_time": "2020-04-12T05:07:06.063Z"
    }
   },
   "outputs": [],
   "source": [
    "data_points = loadFileRDD(sc, file_path).collect()"
   ]
  },
  {
   "cell_type": "code",
   "execution_count": null,
   "metadata": {
    "ExecuteTime": {
     "end_time": "2020-04-12T05:07:12.778036Z",
     "start_time": "2020-04-12T05:07:06.064Z"
    }
   },
   "outputs": [],
   "source": [
    "point = data_points[0]"
   ]
  },
  {
   "cell_type": "code",
   "execution_count": null,
   "metadata": {
    "ExecuteTime": {
     "end_time": "2020-04-12T05:07:12.779645Z",
     "start_time": "2020-04-12T05:07:06.066Z"
    }
   },
   "outputs": [],
   "source": [
    "point"
   ]
  },
  {
   "cell_type": "code",
   "execution_count": null,
   "metadata": {
    "ExecuteTime": {
     "end_time": "2020-04-12T05:07:12.781645Z",
     "start_time": "2020-04-12T05:07:06.067Z"
    }
   },
   "outputs": [],
   "source": [
    "def calculateCentroidAndDeviation(cluster):\n",
    "    \"\"\"\n",
    "    :param cluster : list - [N, SUM_vector, SUMSQ_vector] could be any cluster in DS or CS\n",
    "    :return : list - [avg_vector, sd_vector]\n",
    "    \"\"\"\n",
    "    n = cluster[0]\n",
    "    su_v = cluster[1]\n",
    "    sumsq_v = cluster[2]\n",
    "    \n",
    "    avg_v = []\n",
    "    sd_v = []\n",
    "    for i in range(len(su_v)):\n",
    "        su = su_v[i]\n",
    "        sumsq = sumsq_v[i]\n",
    "        \n",
    "        avg = su / n\n",
    "        sd = sqrt((sumsq / n) - (su / n) ** 2)\n",
    "        \n",
    "        avg_v.append(avg)\n",
    "        sd_v.append(sd)\n",
    "    return [avg_v, sd_v]"
   ]
  },
  {
   "cell_type": "code",
   "execution_count": null,
   "metadata": {
    "ExecuteTime": {
     "end_time": "2020-04-12T05:07:12.783452Z",
     "start_time": "2020-04-12T05:07:06.069Z"
    }
   },
   "outputs": [],
   "source": [
    "DS_stt = {}\n",
    "for ctag in DS:\n",
    "    DS_stt[ctag] = calculateCentroidAndDeviation(DS[ctag])"
   ]
  },
  {
   "cell_type": "code",
   "execution_count": null,
   "metadata": {
    "ExecuteTime": {
     "end_time": "2020-04-12T05:07:12.785146Z",
     "start_time": "2020-04-12T05:07:06.071Z"
    },
    "scrolled": true
   },
   "outputs": [],
   "source": [
    "DS_stt"
   ]
  },
  {
   "cell_type": "code",
   "execution_count": null,
   "metadata": {
    "ExecuteTime": {
     "end_time": "2020-04-12T05:07:12.787454Z",
     "start_time": "2020-04-12T05:07:06.073Z"
    }
   },
   "outputs": [],
   "source": [
    "def mahalanobisDistancePointCluster(p_attrs, cluster_stt):\n",
    "    avg_v = cluster_stt[0]\n",
    "    sd_v = cluster_stt[1]\n",
    "    d = len(p_attrs)\n",
    "    vsq = 0\n",
    "    for i in range(d):\n",
    "        vsq += ((p_attrs[i] - sd_v[i]) / avg_v[i]) ** 2\n",
    "    return sqrt(vsq)"
   ]
  },
  {
   "cell_type": "code",
   "execution_count": null,
   "metadata": {
    "ExecuteTime": {
     "end_time": "2020-04-12T05:07:12.789171Z",
     "start_time": "2020-04-12T05:07:06.074Z"
    }
   },
   "outputs": [],
   "source": [
    "idx = point[0]\n",
    "attrs = point[1]\n",
    "\n",
    "closest_one = [None, LARGE_NUMBER]\n",
    "for ctag in DS_stt:\n",
    "    md = mahalanobisDistancePointCluster(attrs, DS_stt[ctag])\n",
    "    if md < closest_one[1]:\n",
    "        closest_one = [ctag, md]\n",
    "ds_tag = closest_one[0]"
   ]
  },
  {
   "cell_type": "code",
   "execution_count": null,
   "metadata": {
    "ExecuteTime": {
     "end_time": "2020-04-12T05:07:12.790985Z",
     "start_time": "2020-04-12T05:07:06.076Z"
    }
   },
   "outputs": [],
   "source": [
    "def updateCluster(tag, p_attrs, clusters, clusters_stt):\n",
    "    sim_stt = clusters[tag]\n",
    "    stt = clusters_stt[tag]\n",
    "    d = len(p_attrs)\n",
    "    \n",
    "    # update simple statistics\n",
    "    n = sim_stt[0] + 1\n",
    "    su = [sim_stt[1][i] + p_attrs[i] for i in range(d)]\n",
    "    sumsq = [sim_stt[2][i] + p_attrs[i] ** 2 for i in range(d)]\n",
    "    new_cluster = [n, su, sumsq]\n",
    "    clusters[tag] = new_cluster\n",
    "    \n",
    "    clusters_stt[ctag] = calculateCentroidAndDeviation(new_cluster)\n",
    "    return clusters, clusters_stt"
   ]
  },
  {
   "cell_type": "code",
   "execution_count": null,
   "metadata": {
    "ExecuteTime": {
     "end_time": "2020-04-12T05:07:12.792434Z",
     "start_time": "2020-04-12T05:07:06.077Z"
    }
   },
   "outputs": [],
   "source": [
    "if closest_one[1] < md_threshold:\n",
    "    res_DS.append((idx, ds_tag))\n",
    "    DS, DS_stt = updateCluster(ds_tag, attrs, DS, DS_stt)\n",
    "else:\n",
    "    # check cs\n",
    "    pass"
   ]
  },
  {
   "cell_type": "code",
   "execution_count": null,
   "metadata": {},
   "outputs": [],
   "source": []
  },
  {
   "cell_type": "code",
   "execution_count": null,
   "metadata": {},
   "outputs": [],
   "source": []
  },
  {
   "cell_type": "code",
   "execution_count": null,
   "metadata": {},
   "outputs": [],
   "source": []
  },
  {
   "cell_type": "code",
   "execution_count": null,
   "metadata": {},
   "outputs": [],
   "source": []
  },
  {
   "cell_type": "code",
   "execution_count": null,
   "metadata": {},
   "outputs": [],
   "source": []
  },
  {
   "cell_type": "code",
   "execution_count": null,
   "metadata": {},
   "outputs": [],
   "source": []
  },
  {
   "cell_type": "code",
   "execution_count": null,
   "metadata": {},
   "outputs": [],
   "source": []
  },
  {
   "cell_type": "code",
   "execution_count": null,
   "metadata": {},
   "outputs": [],
   "source": []
  },
  {
   "cell_type": "code",
   "execution_count": null,
   "metadata": {},
   "outputs": [],
   "source": []
  },
  {
   "cell_type": "code",
   "execution_count": null,
   "metadata": {
    "ExecuteTime": {
     "end_time": "2020-04-12T05:07:12.794568Z",
     "start_time": "2020-04-12T05:07:06.089Z"
    }
   },
   "outputs": [],
   "source": [
    "a = random.sample(range(10),4)\n",
    "b = random.sample(range(10),4)"
   ]
  },
  {
   "cell_type": "code",
   "execution_count": null,
   "metadata": {
    "ExecuteTime": {
     "end_time": "2020-04-12T05:07:12.796240Z",
     "start_time": "2020-04-12T05:07:06.091Z"
    }
   },
   "outputs": [],
   "source": [
    "a = {1,2,3}\n",
    "b = {3,2,1}"
   ]
  },
  {
   "cell_type": "code",
   "execution_count": null,
   "metadata": {},
   "outputs": [],
   "source": []
  },
  {
   "cell_type": "code",
   "execution_count": null,
   "metadata": {
    "ExecuteTime": {
     "end_time": "2020-04-12T05:07:12.797953Z",
     "start_time": "2020-04-12T05:07:06.094Z"
    }
   },
   "outputs": [],
   "source": [
    "with open('/Users/markduan/duan/USC_course/USC_APDS/INF553/homework/hw5/data/cluster1.json', 'r') as fp:\n",
    "    a = json.load(fp)"
   ]
  },
  {
   "cell_type": "code",
   "execution_count": null,
   "metadata": {
    "ExecuteTime": {
     "end_time": "2020-04-12T05:07:12.799609Z",
     "start_time": "2020-04-12T05:07:06.095Z"
    }
   },
   "outputs": [],
   "source": [
    "a = {1:set([1,2,3]), 2:[4,5,7.4]}\n",
    "b = {1:set([3,2,1]), 2:[4,5,7.4]}"
   ]
  },
  {
   "cell_type": "code",
   "execution_count": null,
   "metadata": {
    "ExecuteTime": {
     "end_time": "2020-04-12T05:07:12.801565Z",
     "start_time": "2020-04-12T05:07:06.097Z"
    }
   },
   "outputs": [],
   "source": [
    "a == b"
   ]
  },
  {
   "cell_type": "code",
   "execution_count": null,
   "metadata": {
    "ExecuteTime": {
     "end_time": "2020-04-12T05:07:12.803245Z",
     "start_time": "2020-04-12T05:07:06.099Z"
    }
   },
   "outputs": [],
   "source": [
    "lc = [1,2,3,4,5,6,7,8,9]\n",
    "random.seed(1)\n",
    "random.shuffle(lc)\n",
    "lc"
   ]
  },
  {
   "cell_type": "code",
   "execution_count": null,
   "metadata": {
    "ExecuteTime": {
     "end_time": "2020-04-12T05:07:12.804949Z",
     "start_time": "2020-04-12T05:07:06.101Z"
    }
   },
   "outputs": [],
   "source": [
    "for file in input_path:\n",
    "    data_points = load(file)\n",
    "    if first round:\n",
    "        run K-Means for initialization\n",
    "    else:\n",
    "        run BFR(data_points)"
   ]
  },
  {
   "cell_type": "code",
   "execution_count": null,
   "metadata": {
    "ExecuteTime": {
     "end_time": "2020-04-12T05:07:12.806870Z",
     "start_time": "2020-04-12T05:07:06.103Z"
    }
   },
   "outputs": [],
   "source": [
    "def loadFile(file_path):\n",
    "    \"\"\"\n",
    "    :return lines: [[0, 1.2, -4.5, ...], ...]\n",
    "    \"\"\"\n",
    "    with open(file_path, 'r', encoding='utf-8') as fp:\n",
    "        lines = []\n",
    "        for line in fp.readlines():\n",
    "            # discard '\\n' at each line's end\n",
    "            if line[-1] == '\\n':\n",
    "                line = line[:-1]\n",
    "            line_list = line.split(',')\n",
    "            for i, item in enumerate(line_list):\n",
    "                if i == 0:\n",
    "                    line_list[i] = item\n",
    "                else:\n",
    "                    line_list[i] = float(item)\n",
    "            lines.append(line_list)\n",
    "    return lines"
   ]
  },
  {
   "cell_type": "code",
   "execution_count": null,
   "metadata": {
    "ExecuteTime": {
     "end_time": "2020-04-12T05:07:12.808938Z",
     "start_time": "2020-04-12T05:07:06.104Z"
    }
   },
   "outputs": [],
   "source": [
    "(6 / 2) - (9 / 3) ** 2"
   ]
  },
  {
   "cell_type": "code",
   "execution_count": null,
   "metadata": {},
   "outputs": [],
   "source": []
  }
 ],
 "metadata": {
  "kernelspec": {
   "display_name": "inf553",
   "language": "python",
   "name": "inf553"
  },
  "language_info": {
   "codemirror_mode": {
    "name": "ipython",
    "version": 3
   },
   "file_extension": ".py",
   "mimetype": "text/x-python",
   "name": "python",
   "nbconvert_exporter": "python",
   "pygments_lexer": "ipython3",
   "version": "3.6.10"
  },
  "toc": {
   "base_numbering": 1,
   "nav_menu": {},
   "number_sections": true,
   "sideBar": true,
   "skip_h1_title": false,
   "title_cell": "Table of Contents",
   "title_sidebar": "Contents",
   "toc_cell": false,
   "toc_position": {},
   "toc_section_display": true,
   "toc_window_display": false
  }
 },
 "nbformat": 4,
 "nbformat_minor": 4
}

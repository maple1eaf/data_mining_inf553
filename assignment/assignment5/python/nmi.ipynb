{
 "cells": [
  {
   "cell_type": "code",
   "execution_count": 1,
   "metadata": {
    "ExecuteTime": {
     "end_time": "2020-04-12T22:08:06.290863Z",
     "start_time": "2020-04-12T22:08:05.584026Z"
    }
   },
   "outputs": [],
   "source": [
    "import json\n",
    "\n",
    "from sklearn.metrics.cluster import normalized_mutual_info_score"
   ]
  },
  {
   "cell_type": "code",
   "execution_count": 2,
   "metadata": {
    "ExecuteTime": {
     "end_time": "2020-04-12T22:08:06.296943Z",
     "start_time": "2020-04-12T22:08:06.292985Z"
    }
   },
   "outputs": [],
   "source": [
    "def getFile(file_path):\n",
    "    with open(file_path, 'r', encoding='utf-8') as fp:\n",
    "        d = json.load(fp)\n",
    "    m = [(int(k), d[k]) for k in d]\n",
    "    m.sort(key=lambda x: x[0])\n",
    "    res = [x[1] for x in m]\n",
    "    return res"
   ]
  },
  {
   "cell_type": "code",
   "execution_count": 4,
   "metadata": {
    "ExecuteTime": {
     "end_time": "2020-04-12T22:08:44.935844Z",
     "start_time": "2020-04-12T22:08:41.173687Z"
    }
   },
   "outputs": [
    {
     "name": "stdout",
     "output_type": "stream",
     "text": [
      "case1: NMI = 1.000000\n",
      "case2: NMI = 1.000000\n",
      "case3: NMI = 1.000000\n",
      "case4: NMI = 1.000000\n",
      "case5: NMI = 1.000000\n"
     ]
    }
   ],
   "source": [
    "for case in range(1, 6):\n",
    "    ground_truth_path = \"../data/cluster%d.json\" % (case)\n",
    "    predict_path  = \"./output/out_file1_case%d.json\" % (case)\n",
    "    ground_truth = getFile(ground_truth_path)\n",
    "    prediction = getFile(predict_path)\n",
    "    nmi = normalized_mutual_info_score(ground_truth, prediction)\n",
    "    print('case%d: NMI = %f' % (case, nmi))"
   ]
  },
  {
   "cell_type": "code",
   "execution_count": null,
   "metadata": {},
   "outputs": [],
   "source": []
  }
 ],
 "metadata": {
  "kernelspec": {
   "display_name": "ml",
   "language": "python",
   "name": "ml"
  },
  "language_info": {
   "codemirror_mode": {
    "name": "ipython",
    "version": 3
   },
   "file_extension": ".py",
   "mimetype": "text/x-python",
   "name": "python",
   "nbconvert_exporter": "python",
   "pygments_lexer": "ipython3",
   "version": "3.6.10"
  },
  "toc": {
   "base_numbering": 1,
   "nav_menu": {},
   "number_sections": true,
   "sideBar": true,
   "skip_h1_title": false,
   "title_cell": "Table of Contents",
   "title_sidebar": "Contents",
   "toc_cell": false,
   "toc_position": {},
   "toc_section_display": true,
   "toc_window_display": false
  }
 },
 "nbformat": 4,
 "nbformat_minor": 4
}

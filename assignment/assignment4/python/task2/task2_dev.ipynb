{
 "cells": [
  {
   "cell_type": "code",
   "execution_count": 1,
   "metadata": {
    "ExecuteTime": {
     "end_time": "2020-03-31T07:43:12.387636Z",
     "start_time": "2020-03-31T07:43:12.383223Z"
    }
   },
   "outputs": [],
   "source": [
    "import findspark\n",
    "findspark.init()"
   ]
  },
  {
   "cell_type": "code",
   "execution_count": 2,
   "metadata": {
    "ExecuteTime": {
     "end_time": "2020-03-31T07:43:12.613172Z",
     "start_time": "2020-03-31T07:43:12.389736Z"
    }
   },
   "outputs": [],
   "source": [
    "import sys\n",
    "import time\n",
    "import json\n",
    "import os\n",
    "\n",
    "from pyspark import SparkConf, SparkContext, StorageLevel"
   ]
  },
  {
   "cell_type": "code",
   "execution_count": 3,
   "metadata": {
    "ExecuteTime": {
     "end_time": "2020-03-31T07:43:12.618028Z",
     "start_time": "2020-03-31T07:43:12.615597Z"
    }
   },
   "outputs": [],
   "source": [
    "import importlib"
   ]
  },
  {
   "cell_type": "code",
   "execution_count": 4,
   "metadata": {
    "ExecuteTime": {
     "end_time": "2020-03-31T07:43:12.623836Z",
     "start_time": "2020-03-31T07:43:12.620668Z"
    }
   },
   "outputs": [],
   "source": [
    "from task2support import *"
   ]
  },
  {
   "cell_type": "code",
   "execution_count": 5,
   "metadata": {
    "ExecuteTime": {
     "end_time": "2020-03-31T07:43:12.628689Z",
     "start_time": "2020-03-31T07:43:12.626190Z"
    }
   },
   "outputs": [],
   "source": [
    "# importlib.reload(task2support)"
   ]
  },
  {
   "cell_type": "code",
   "execution_count": 6,
   "metadata": {
    "ExecuteTime": {
     "end_time": "2020-03-31T07:43:14.625553Z",
     "start_time": "2020-03-31T07:43:12.630746Z"
    }
   },
   "outputs": [],
   "source": [
    "conf = SparkConf() \\\n",
    "    .setAppName(\"task2\") \\\n",
    "    .setMaster(\"local[*]\") \\\n",
    "    .set(\"spark.driver.memory\",\"4g\")\n",
    "sc = SparkContext(conf=conf)\n",
    "sc.setLogLevel(\"ERROR\")"
   ]
  },
  {
   "cell_type": "code",
   "execution_count": 7,
   "metadata": {
    "ExecuteTime": {
     "end_time": "2020-03-31T07:43:14.633972Z",
     "start_time": "2020-03-31T07:43:14.627575Z"
    }
   },
   "outputs": [],
   "source": [
    "\"\"\"\n",
    "spark-submit task2.py <filter_threshold> <input_file_path> <betweenness_output_file_path> <community_output_file_path>\n",
    "\"\"\"\n",
    "filter_threshold = 7\n",
    "input_file_path = \"file:///Users/markduan/duan/USC_course/USC_APDS/INF553/homework/hw4/data/ub_sample_data.csv\"\n",
    "betweenness_output_file_path = \"./output/betweenness_jupyter.txt\"\n",
    "community_output_file_path = \"./output/community_jupyter.txt\""
   ]
  },
  {
   "cell_type": "code",
   "execution_count": 8,
   "metadata": {
    "ExecuteTime": {
     "end_time": "2020-03-31T07:43:16.291789Z",
     "start_time": "2020-03-31T07:43:14.640824Z"
    }
   },
   "outputs": [],
   "source": [
    "data_with_header = sc.textFile(input_file_path)\n",
    "header = data_with_header.first()\n",
    "distinct_data = data_with_header.filter(lambda l: l != header) \\\n",
    "    .map(lambda l: tuple(l.split(','))) \\\n",
    "    .distinct()\\\n",
    "    .persist(StorageLevel.MEMORY_AND_DISK)\n",
    "# distinct_data: RDD - [(uid, bid), ...]"
   ]
  },
  {
   "cell_type": "code",
   "execution_count": 9,
   "metadata": {
    "ExecuteTime": {
     "end_time": "2020-03-31T07:43:16.940177Z",
     "start_time": "2020-03-31T07:43:16.294139Z"
    }
   },
   "outputs": [],
   "source": [
    "uid_map_table = distinct_data.map(lambda x: x[0]).distinct().collect()\n",
    "bid_map_table = distinct_data.map(lambda x: x[1]).distinct().collect()"
   ]
  },
  {
   "cell_type": "code",
   "execution_count": 10,
   "metadata": {
    "ExecuteTime": {
     "end_time": "2020-03-31T07:43:19.510245Z",
     "start_time": "2020-03-31T07:43:16.942112Z"
    }
   },
   "outputs": [],
   "source": [
    "baskets = distinct_data.map(lambda x: (uid_map_table.index(x[0]), bid_map_table.index(x[1])))\\\n",
    "    .map(lambda x: (x[0], [x[1]])) \\\n",
    "    .reduceByKey(lambda x, y: x + y) \\\n",
    "    .collectAsMap()"
   ]
  },
  {
   "cell_type": "code",
   "execution_count": 11,
   "metadata": {
    "ExecuteTime": {
     "end_time": "2020-03-31T07:43:19.524126Z",
     "start_time": "2020-03-31T07:43:19.511559Z"
    },
    "scrolled": true
   },
   "outputs": [
    {
     "data": {
      "text/plain": [
       "[947,\n",
       " 92,\n",
       " 948,\n",
       " 453,\n",
       " 456,\n",
       " 432,\n",
       " 949,\n",
       " 465,\n",
       " 310,\n",
       " 443,\n",
       " 57,\n",
       " 489,\n",
       " 950,\n",
       " 466,\n",
       " 951,\n",
       " 952,\n",
       " 406,\n",
       " 462,\n",
       " 449,\n",
       " 79,\n",
       " 394,\n",
       " 395,\n",
       " 417,\n",
       " 953,\n",
       " 954,\n",
       " 245,\n",
       " 458,\n",
       " 955,\n",
       " 956,\n",
       " 400,\n",
       " 407,\n",
       " 91,\n",
       " 490,\n",
       " 414,\n",
       " 957,\n",
       " 21,\n",
       " 403,\n",
       " 2,\n",
       " 958,\n",
       " 442,\n",
       " 322,\n",
       " 959,\n",
       " 473,\n",
       " 812,\n",
       " 960,\n",
       " 296,\n",
       " 961,\n",
       " 325,\n",
       " 265,\n",
       " 962,\n",
       " 963,\n",
       " 964,\n",
       " 374,\n",
       " 965,\n",
       " 966,\n",
       " 167,\n",
       " 384,\n",
       " 217,\n",
       " 291,\n",
       " 967,\n",
       " 968,\n",
       " 303,\n",
       " 360,\n",
       " 202,\n",
       " 304,\n",
       " 969,\n",
       " 970,\n",
       " 64,\n",
       " 312,\n",
       " 886,\n",
       " 366,\n",
       " 971,\n",
       " 460,\n",
       " 381,\n",
       " 972,\n",
       " 973,\n",
       " 223,\n",
       " 305,\n",
       " 353,\n",
       " 316,\n",
       " 268,\n",
       " 307,\n",
       " 974,\n",
       " 285,\n",
       " 169,\n",
       " 277,\n",
       " 297,\n",
       " 315,\n",
       " 289,\n",
       " 975,\n",
       " 355,\n",
       " 454,\n",
       " 464,\n",
       " 471,\n",
       " 976,\n",
       " 321,\n",
       " 286,\n",
       " 171,\n",
       " 368]"
      ]
     },
     "execution_count": 11,
     "metadata": {},
     "output_type": "execute_result"
    }
   ],
   "source": [
    "baskets[5]"
   ]
  },
  {
   "cell_type": "code",
   "execution_count": 12,
   "metadata": {
    "ExecuteTime": {
     "end_time": "2020-03-31T07:43:19.530336Z",
     "start_time": "2020-03-31T07:43:19.526725Z"
    }
   },
   "outputs": [],
   "source": [
    "uids = sorted(list(baskets.keys()))"
   ]
  },
  {
   "cell_type": "code",
   "execution_count": 13,
   "metadata": {
    "ExecuteTime": {
     "end_time": "2020-03-31T07:43:19.534541Z",
     "start_time": "2020-03-31T07:43:19.532199Z"
    }
   },
   "outputs": [],
   "source": [
    "uids_length = len(uids)"
   ]
  },
  {
   "cell_type": "code",
   "execution_count": 14,
   "metadata": {
    "ExecuteTime": {
     "end_time": "2020-03-31T07:43:25.290256Z",
     "start_time": "2020-03-31T07:43:19.536896Z"
    }
   },
   "outputs": [],
   "source": [
    "edges_list = []\n",
    "vertices_have_link = set([])\n",
    "for i in range(uids_length):\n",
    "    uid1 = uids[i]\n",
    "    set1 = set(baskets[uid1])\n",
    "    for j in range(i+1, uids_length):\n",
    "        uid2 = uids[j]\n",
    "        set2 = set(baskets[uid2])\n",
    "        if len(set1.intersection(set2)) >= filter_threshold:\n",
    "            edges_list.append((uid1, uid2, 1))\n",
    "            vertices_have_link.add(uid1)\n",
    "            vertices_have_link.add(uid2)"
   ]
  },
  {
   "cell_type": "code",
   "execution_count": 15,
   "metadata": {
    "ExecuteTime": {
     "end_time": "2020-03-31T07:43:25.299399Z",
     "start_time": "2020-03-31T07:43:25.292707Z"
    }
   },
   "outputs": [
    {
     "data": {
      "text/plain": [
       "498"
      ]
     },
     "execution_count": 15,
     "metadata": {},
     "output_type": "execute_result"
    }
   ],
   "source": [
    "len(edges_list)"
   ]
  },
  {
   "cell_type": "code",
   "execution_count": 16,
   "metadata": {
    "ExecuteTime": {
     "end_time": "2020-03-31T07:43:25.306147Z",
     "start_time": "2020-03-31T07:43:25.301871Z"
    }
   },
   "outputs": [],
   "source": [
    "def buildGraph(vtx_names, edges):\n",
    "    g = UndirectedGraph()\n",
    "    # add vertices\n",
    "    for v in vtx_names:\n",
    "        g.addVertex(v)\n",
    "    # add edges\n",
    "    for e in edges:\n",
    "        g.addEdge(e[0], e[1], e[2])\n",
    "    return g"
   ]
  },
  {
   "cell_type": "code",
   "execution_count": 17,
   "metadata": {
    "ExecuteTime": {
     "end_time": "2020-03-31T07:43:25.312184Z",
     "start_time": "2020-03-31T07:43:25.308298Z"
    }
   },
   "outputs": [],
   "source": [
    "original_g = buildGraph(vertices_have_link, edges_list)"
   ]
  },
  {
   "cell_type": "code",
   "execution_count": 18,
   "metadata": {
    "ExecuteTime": {
     "end_time": "2020-03-31T07:43:25.318182Z",
     "start_time": "2020-03-31T07:43:25.314597Z"
    }
   },
   "outputs": [],
   "source": [
    "g = buildGraph(vertices_have_link, edges_list)"
   ]
  },
  {
   "cell_type": "code",
   "execution_count": 19,
   "metadata": {
    "ExecuteTime": {
     "end_time": "2020-03-31T07:43:25.324851Z",
     "start_time": "2020-03-31T07:43:25.320898Z"
    }
   },
   "outputs": [
    {
     "data": {
      "text/plain": [
       "498"
      ]
     },
     "execution_count": 19,
     "metadata": {},
     "output_type": "execute_result"
    }
   ],
   "source": [
    "g.num_edge"
   ]
  },
  {
   "cell_type": "code",
   "execution_count": 20,
   "metadata": {
    "ExecuteTime": {
     "end_time": "2020-03-31T07:43:30.976896Z",
     "start_time": "2020-03-31T07:43:25.328623Z"
    }
   },
   "outputs": [],
   "source": [
    "num_remain_edges = g.num_edge\n",
    "res = []\n",
    "visual = []\n",
    "while(num_remain_edges != 0):\n",
    "    modularity = g.countModularityDependOnOriginalGraph(original_g)\n",
    "    g.getBetweenness()\n",
    "    removed_edges = g.removeEdgesWithHighestBetweenness()\n",
    "    num_remain_edges -= len(removed_edges)\n",
    "    res.append((modularity, removed_edges))\n",
    "    visual.append(modularity)\n",
    "    "
   ]
  },
  {
   "cell_type": "code",
   "execution_count": 21,
   "metadata": {
    "ExecuteTime": {
     "end_time": "2020-03-31T07:43:30.991885Z",
     "start_time": "2020-03-31T07:43:30.978810Z"
    },
    "scrolled": true
   },
   "outputs": [
    {
     "name": "stdout",
     "output_type": "stream",
     "text": [
      "0 (0.15704585409912972, [(1366, 1670)])\n",
      "1 (0.1570458540991294, [(1376, 1670)])\n",
      "2 (0.15704585409912974, [(10, 31)])\n",
      "3 (0.15704585409912974, [(3, 31)])\n",
      "4 (1.049402428993006, [(0, 3)])\n",
      "5 (1.0494024289930057, [(3, 23)])\n",
      "6 (1.0494024289930057, [(3, 10)])\n",
      "7 (1.0494024289930057, [(3, 44)])\n",
      "8 (1.0494024289930057, [(12, 32)])\n",
      "9 (1.0494024289930057, [(0, 37)])\n",
      "10 (1.049402428993006, [(0, 39)])\n",
      "11 (1.0494024289930057, [(12, 74)])\n",
      "12 (1.2498064547345586, [(626, 1367)])\n",
      "13 (1.2981484169609767, [(0, 1)])\n",
      "14 (1.2981484169609765, [(1, 23)])\n",
      "15 (1.2981484169609765, [(0, 122)])\n",
      "16 (1.3054789438879635, [(1670, 1697), (1670, 2576)])\n",
      "17 (1.364655408783695, [(23, 127)])\n",
      "18 (1.364655408783695, [(32, 74)])\n",
      "19 (1.364655408783695, [(23, 74)])\n",
      "20 (1.3745100885469288, [(1, 4)])\n",
      "21 (1.3745100885469288, [(3, 52)])\n",
      "22 (1.3745100885469288, [(1, 16)])\n",
      "23 (1.3745100885469288, [(1, 5)])\n",
      "24 (1.3745100885469315, [(3, 41)])\n",
      "25 (1.3745100885469315, [(3, 12)])\n",
      "26 (1.374510088546932, [(3, 18)])\n",
      "27 (1.374510088546932, [(3, 26)])\n",
      "28 (1.374510088546932, [(12, 52)])\n",
      "29 (1.374510088546932, [(12, 41)])\n",
      "30 (1.374510088546932, [(3, 42)])\n",
      "31 (1.374510088546932, [(12, 81)])\n",
      "32 (1.374510088546932, [(12, 42)])\n",
      "33 (1.3565426364090658, [(4, 72)])\n",
      "34 (1.3565426364090658, [(4, 508), (4, 91)])\n",
      "35 (1.361215948129847, [(1, 32)])\n",
      "36 (1.361215948129847, [(1, 142)])\n",
      "37 (1.361215948129847, [(1, 21)])\n",
      "38 (1.361215948129847, [(1, 68), (1, 148)])\n",
      "39 (1.362812696569391, [(3, 121)])\n",
      "40 (1.362812696569391, [(12, 121)])\n",
      "41 (1.3574902017709203, [(1, 10)])\n",
      "42 (1.3574902017709203, [(1, 27)])\n",
      "43 (1.3574902017709203, [(1, 20)])\n",
      "44 (1.3574902017709203, [(1, 29)])\n",
      "45 (1.3574902017709203, [(1, 66)])\n",
      "46 (1.3574902017709203, [(1, 30)])\n",
      "47 (1.3574902017709203, [(1, 60)])\n",
      "48 (1.3574902017709203, [(1, 22)])\n",
      "49 (1.3574902017709203, [(1, 109)])\n",
      "50 (1.3574902017709203, [(1, 73)])\n",
      "51 (1.3574902017709203, [(1, 67)])\n",
      "52 (1.3574902017709203, [(1, 33)])\n",
      "53 (1.3574902017709203, [(1, 614)])\n",
      "54 (1.3574902017709203, [(1, 19)])\n",
      "55 (1.3574902017709203, [(1, 678)])\n",
      "56 (1.3574902017709203, [(1, 248)])\n",
      "57 (1.3574902017709203, [(1, 28)])\n",
      "58 (1.3574902017709203, [(1, 505)])\n",
      "59 (1.3574902017709203, [(16, 662)])\n",
      "60 (1.3574902017709203, [(1, 260)])\n",
      "61 (1.3574902017709203, [(5, 25), (5, 861)])\n",
      "62 (1.35749020177092, [(5, 82)])\n",
      "63 (1.3574902017709203, [(20, 275)])\n",
      "64 (1.3574902017709203, [(0, 246), (0, 44)])\n",
      "65 (1.3249423396396722, [(3, 192)])\n",
      "66 (1.3249423396396722, [(3, 277)])\n",
      "67 (1.3249423396396722, [(174, 192)])\n",
      "68 (1.3249423396396722, [(3, 463)])\n",
      "69 (1.3249423396396722, [(233, 399)])\n",
      "70 (1.3072773019789896, [(869, 1366)])\n",
      "71 (1.3072773019789896, [(1083, 1366)])\n",
      "72 (1.3072773019789896, [(869, 1376)])\n",
      "73 (1.3072773019789896, [(1083, 1376)])\n",
      "74 (1.3072773019789896, [(60, 1829), (16, 102), (0, 59), (7, 32), (32, 282), (10, 336), (5, 204), (0, 14), (26, 41), (0, 108), (23, 673), (27, 735), (23, 550), (0, 221), (5, 189)])\n",
      "75 (1.2637417138433202, [(1366, 1551)])\n",
      "76 (1.2637417138433211, [(869, 2167)])\n",
      "77 (1.2637417138433207, [(1366, 1367)])\n",
      "78 (1.2637417138433207, [(1366, 1444)])\n",
      "79 (1.2637417138433207, [(1080, 1366)])\n",
      "80 (1.2637417138433207, [(1366, 2191)])\n",
      "81 (1.2637417138433207, [(1366, 1376)])\n",
      "82 (1.2637417138433207, [(1376, 1551)])\n",
      "83 (1.2637417138433205, [(1080, 1376)])\n",
      "84 (1.2637417138433205, [(1376, 1444)])\n",
      "85 (1.2579998709698212, [(3, 46)])\n",
      "86 (1.2546128288253395, [(1, 1112), (1, 246), (1, 1573), (1, 549), (1, 25), (1, 250), (1, 497), (1, 82), (1, 363), (1, 606), (1, 1603), (1, 44), (1, 346), (1, 1136), (1, 496), (1, 275), (1, 861), (1, 702), (1, 84), (1, 322), (1, 662), (1, 617), (1, 701), (1, 1248)])\n",
      "87 (1.1670295640392885, [(869, 1596)])\n",
      "88 (1.1640900953210422, [(16, 146)])\n",
      "89 (1.1640900953210422, [(23, 146)])\n",
      "90 (1.158186964726375, [(3, 37)])\n",
      "91 (1.158186964726375, [(3, 50)])\n",
      "92 (1.1514249770164995, [(5, 28), (5, 125)])\n",
      "93 (1.1514249770164995, [(0, 125), (0, 28)])\n",
      "94 (1.1406066031193045, [(12, 192)])\n",
      "95 (1.1374292350123385, [(41, 52)])\n",
      "96 (1.1374292350123385, [(18, 52)])\n",
      "97 (1.1374292350123385, [(41, 120)])\n",
      "98 (1.1374292350123385, [(52, 1230)])\n",
      "99 (1.123034305898292, [(869, 1534), (588, 869)])\n",
      "100 (1.123034305898292, [(1083, 1551), (869, 1551)])\n",
      "101 (1.1230343058982917, [(1080, 1551)])\n",
      "102 (1.123034305898292, [(1444, 1551)])\n",
      "103 (1.1132199480653535, [(5, 678)])\n",
      "104 (1.1132199480653535, [(27, 678)])\n",
      "105 (1.1082845437976805, [(16, 505), (5, 260)])\n",
      "106 (1.1082845437976805, [(20, 260), (20, 505)])\n",
      "107 (1.0983048660505472, [(1670, 2292), (504, 3019), (504, 1670)])\n",
      "108 (1.0907445041209012, [(4, 16)])\n",
      "109 (1.0907445041209012, [(5, 248)])\n",
      "110 (1.0907445041209012, [(16, 248)])\n",
      "111 (1.0857002306414412, [(1670, 1790)])\n",
      "112 (1.0791075950387896, [(3, 111), (3, 825), (3, 332), (626, 1890), (626, 1863), (626, 3164), (3, 39), (3, 100), (3, 910), (3, 389)])\n",
      "113 (1.0406485379268076, [(5, 22)])\n",
      "114 (1.0406485379268076, [(1083, 3007), (869, 3007), (869, 1367), (1083, 1367)])\n",
      "115 (1.0305922485121208, [(74, 127)])\n",
      "116 (1.0267697295204914, [(16, 19), (5, 19)])\n",
      "117 (1.0267697295204914, [(0, 19)])\n",
      "118 (1.0186408283737358, [(5, 215), (16, 215)])\n",
      "119 (1.0186408283737358, [(0, 215)])\n",
      "120 (1.0094958145836355, [(1366, 2587), (1366, 2172), (1366, 2167), (18, 41)])\n",
      "121 (0.9943428331801099, [(1083, 2191), (869, 1444), (869, 2191), (1083, 1444)])\n",
      "122 (0.9943428331801099, [(1080, 1083), (869, 1080)])\n",
      "123 (0.9860123223818967, [(4, 20)])\n",
      "124 (0.9860123223818967, [(4, 66)])\n",
      "125 (0.9860123223818967, [(4, 109)])\n",
      "126 (0.9860123223818967, [(4, 22)])\n",
      "127 (0.9743149304043481, [(52, 218), (52, 1150), (52, 573), (43, 52), (52, 81)])\n",
      "128 (0.9547023435105884, [(642, 1790), (504, 642)])\n",
      "129 (0.9547023435105884, [(504, 1081), (1081, 1790)])\n",
      "130 (0.9547023435105884, [(1081, 1365)])\n",
      "131 (0.9369526297962936, [(21, 36), (190, 192)])\n",
      "132 (0.9292188835663938, [(5, 614), (16, 614)])\n",
      "133 (0.9292188835663938, [(27, 614)])\n",
      "134 (0.9292188835663938, [(109, 614)])\n",
      "135 (0.9177110046612149, [(20, 22)])\n",
      "136 (0.9177110046612149, [(22, 66)])\n",
      "137 (0.9177110046612149, [(10, 22)])\n",
      "138 (0.9177110046612149, [(22, 73)])\n",
      "139 (0.9038120352897531, [(16, 109), (5, 109)])\n",
      "140 (0.9038120352897531, [(20, 109)])\n",
      "141 (0.9038120352897531, [(66, 109)])\n",
      "142 (0.8937315527168911, [(626, 3152), (626, 3165), (626, 1814), (626, 3163)])\n",
      "143 (0.8825180239028397, [(16, 67), (16, 245), (5, 245), (5, 67)])\n",
      "144 (0.8825180239028397, [(27, 67), (27, 245)])\n",
      "145 (0.8825180239028397, [(10, 245), (10, 67)])\n",
      "146 (0.8578369703714448, [(2, 6), (509, 1992), (509, 1086), (1371, 1814), (509, 1813), (509, 1520)])\n",
      "147 (0.8300188706633755, [(16, 33), (5, 33)])\n",
      "148 (0.8300188706633755, [(30, 33), (27, 33)])\n",
      "149 (0.8179464847341162, [(12, 277), (504, 1365), (41, 1230), (114, 1644), (121, 804), (121, 350), (12, 71), (1519, 1790), (72, 1333), (12, 326), (504, 1519), (1365, 1790), (41, 170), (88, 121), (31, 504), (8, 114), (41, 197), (31, 1790), (114, 2635)])\n",
      "150 (0.7431936581668028, [(16, 73), (5, 73), (5, 60), (16, 60)])\n",
      "151 (0.7431936581668028, [(27, 73), (27, 60), (20, 60), (20, 73)])\n",
      "152 (0.7431936581668028, [(30, 60), (30, 73)])\n",
      "153 (0.7136175222980263, [(1069, 1366), (1376, 2837), (1366, 2837), (1069, 1376)])\n",
      "154 (0.6981339010661107, [(10, 16), (5, 10)])\n",
      "155 (0.6981339010661107, [(0, 10)])\n",
      "156 (0.6981339010661107, [(10, 30), (10, 27)])\n",
      "157 (0.6863760261931248, [(21, 148), (190, 463), (190, 399), (37, 75), (26, 445), (74, 742), (37, 50), (1080, 2191), (1080, 1444), (159, 241), (58, 159), (21, 68), (62, 74), (127, 205), (127, 173), (26, 42)])\n",
      "158 (0.6228851147562126, [(20, 23)])\n",
      "159 (0.6228851147562126, [(23, 66)])\n",
      "160 (0.6228851147562126, [(5, 23), (16, 23)])\n",
      "161 (0.6228851147562126, [(23, 29), (0, 23)])\n",
      "162 (0.6071232722052858, [(0, 29)])\n",
      "163 (0.6071232722052858, [(0, 16), (0, 5)])\n",
      "164 (0.6071232722052858, [(0, 32)])\n",
      "165 (0.6071232722052858, [(0, 30), (0, 20)])\n",
      "166 (0.5956395864582817, [(1376, 1697), (174, 235), (1366, 2576), (3, 235), (3, 233), (1376, 2576), (1366, 1697), (174, 233)])\n",
      "167 (0.5617449718552914, [(16, 29), (29, 32), (29, 66), (5, 29), (27, 29)])\n",
      "168 (0.5457936162319952, [(1351, 3139), (1083, 3150), (1351, 2124), (149, 1334), (3155, 3173), (869, 3150), (1340, 3138), (2122, 3139), (2124, 3138), (588, 1551), (1340, 3198), (107, 670), (642, 777), (2, 213), (30, 66), (1340, 3177), (20, 30), (1351, 3155), (72, 508), (2124, 3177), (3363, 3364), (3139, 3173), (2145, 3138), (1351, 3177), (504, 1790), (1083, 2145), (3150, 3155), (777, 2741), (642, 2741), (2122, 3155), (20, 32), (1083, 3144), (626, 1547), (46, 293), (504, 2630), (3152, 3163), (869, 1083), (5, 27), (1083, 3138), (1351, 3144), (3, 174), (1340, 3155), (2122, 3173), (3155, 3177), (869, 2122), (30, 32), (3150, 3173), (3138, 3144), (3144, 3155), (2145, 3144), (2124, 3198), (3139, 3150), (3155, 3198), (5, 30), (1340, 3173), (1351, 3138), (3138, 3155), (20, 66), (1340, 3139), (2124, 3173), (16, 32), (1351, 3173), (1340, 3150), (3139, 3177), (1083, 3173), (2124, 3139), (18, 320), (869, 3177), (1534, 1551), (2124, 3150), (1083, 2124), (16, 66), (626, 1371), (120, 303), (3138, 3139), (1547, 1851), (3139, 3155), (27, 66), (3138, 3150), (869, 1340), (1790, 2854), (3173, 3198), (2124, 3155), (3139, 3144), (2145, 3173), (5, 20), (3144, 3198), (3177, 3198), (2122, 2145), (16, 20), (294, 1804), (3150, 3177), (869, 3139), (1371, 1851), (3138, 3198), (694, 698), (1340, 2145), (588, 1534), (3163, 3165), (3144, 3150), (2124, 2145), (2630, 2854), (1351, 2145), (1340, 2122), (626, 1851), (2122, 2124), (3139, 3198), (869, 3155), (1340, 1351), (5, 66), (777, 1081), (20, 27), (2145, 3198), (27, 32), (3144, 3173), (1351, 3150), (374, 468), (16, 30), (1697, 2576), (869, 2124), (1083, 1351), (642, 1081), (1083, 3177), (32, 66), (584, 1060), (137, 192), (869, 3173), (5, 16), (3150, 3198), (36, 142), (95, 122), (3171, 3199), (16, 27), (2145, 3155), (27, 30), (1083, 3198), (49, 122), (72, 91), (52, 303), (1340, 2124), (2122, 3138), (1790, 2630), (3138, 3177), (869, 1351), (1083, 2122), (2145, 3177), (5, 32), (1081, 2741), (91, 508), (869, 3138), (2122, 3144), (2145, 3139), (52, 120), (3152, 3165), (1083, 3155), (49, 95), (3144, 3177), (1351, 2122), (869, 3144), (3173, 3177), (2122, 3198), (504, 2854), (2145, 3150), (1351, 3198), (1371, 1547), (869, 2145), (1083, 3139), (2122, 3177), (869, 3198), (6, 38), (1340, 3144), (2122, 3150), (3138, 3173), (1083, 1340), (2124, 3144)])\n"
     ]
    }
   ],
   "source": [
    "for i, item in enumerate(res):\n",
    "    print(i, item)"
   ]
  },
  {
   "cell_type": "code",
   "execution_count": 22,
   "metadata": {
    "ExecuteTime": {
     "end_time": "2020-03-31T07:43:31.417100Z",
     "start_time": "2020-03-31T07:43:30.994302Z"
    }
   },
   "outputs": [
    {
     "data": {
      "image/png": "[encoded data removed]",
      "text/plain": [
       "<Figure size 432x288 with 1 Axes>"
      ]
     },
     "metadata": {
      "needs_background": "light"
     },
     "output_type": "display_data"
    }
   ],
   "source": [
    "import numpy as np \n",
    "from matplotlib import pyplot as plt \n",
    " \n",
    "x = np.array(list(range(len(visual))))\n",
    "y = np.array(visual)\n",
    "# plt.title(\"Matplotlib demo\") \n",
    "plt.xlabel(\"steps\") \n",
    "plt.ylabel(\"modularity\") \n",
    "plt.plot(x, y) \n",
    "plt.show()"
   ]
  },
  {
   "cell_type": "code",
   "execution_count": 23,
   "metadata": {
    "ExecuteTime": {
     "end_time": "2020-03-31T07:43:31.425599Z",
     "start_time": "2020-03-31T07:43:31.422687Z"
    }
   },
   "outputs": [],
   "source": [
    "DECIMAL_ACCURACY = 0.00000000001\n",
    "largest_i = None\n",
    "largest_item = res[0]\n",
    "for i, item in enumerate(res):\n",
    "    if item[0] - largest_item[0] > DECIMAL_ACCURACY:\n",
    "        largest_item = item\n",
    "        largest_i = i"
   ]
  },
  {
   "cell_type": "code",
   "execution_count": 24,
   "metadata": {
    "ExecuteTime": {
     "end_time": "2020-03-31T07:43:31.431804Z",
     "start_time": "2020-03-31T07:43:31.427976Z"
    }
   },
   "outputs": [
    {
     "data": {
      "text/plain": [
       "(1.3745100885469288, [(1, 4)])"
      ]
     },
     "execution_count": 24,
     "metadata": {},
     "output_type": "execute_result"
    }
   ],
   "source": [
    "largest_item"
   ]
  },
  {
   "cell_type": "code",
   "execution_count": 25,
   "metadata": {
    "ExecuteTime": {
     "end_time": "2020-03-31T07:43:31.436061Z",
     "start_time": "2020-03-31T07:43:31.433364Z"
    }
   },
   "outputs": [],
   "source": [
    "edges_should_be_removed = [i for x in res[:largest_i] for i in x[1]]"
   ]
  },
  {
   "cell_type": "code",
   "execution_count": 26,
   "metadata": {
    "ExecuteTime": {
     "end_time": "2020-03-31T07:43:31.441774Z",
     "start_time": "2020-03-31T07:43:31.437936Z"
    }
   },
   "outputs": [
    {
     "data": {
      "text/plain": [
       "[(1366, 1670),\n",
       " (1376, 1670),\n",
       " (10, 31),\n",
       " (3, 31),\n",
       " (0, 3),\n",
       " (3, 23),\n",
       " (3, 10),\n",
       " (3, 44),\n",
       " (12, 32),\n",
       " (0, 37),\n",
       " (0, 39),\n",
       " (12, 74),\n",
       " (626, 1367),\n",
       " (0, 1),\n",
       " (1, 23),\n",
       " (0, 122),\n",
       " (1670, 1697),\n",
       " (1670, 2576),\n",
       " (23, 127),\n",
       " (32, 74),\n",
       " (23, 74)]"
      ]
     },
     "execution_count": 26,
     "metadata": {},
     "output_type": "execute_result"
    }
   ],
   "source": [
    "edges_should_be_removed"
   ]
  },
  {
   "cell_type": "code",
   "execution_count": 27,
   "metadata": {
    "ExecuteTime": {
     "end_time": "2020-03-31T07:43:31.448180Z",
     "start_time": "2020-03-31T07:43:31.444018Z"
    }
   },
   "outputs": [
    {
     "data": {
      "text/plain": [
       "21"
      ]
     },
     "execution_count": 27,
     "metadata": {},
     "output_type": "execute_result"
    }
   ],
   "source": [
    "len(edges_should_be_removed)"
   ]
  },
  {
   "cell_type": "code",
   "execution_count": 28,
   "metadata": {
    "ExecuteTime": {
     "end_time": "2020-03-31T07:43:31.453830Z",
     "start_time": "2020-03-31T07:43:31.449907Z"
    }
   },
   "outputs": [],
   "source": [
    "g = buildGraph(vertices_have_link, edges_list)"
   ]
  },
  {
   "cell_type": "code",
   "execution_count": 29,
   "metadata": {
    "ExecuteTime": {
     "end_time": "2020-03-31T07:43:31.458441Z",
     "start_time": "2020-03-31T07:43:31.455953Z"
    }
   },
   "outputs": [],
   "source": [
    "for e in edges_should_be_removed:\n",
    "    g.removeEdge(e)"
   ]
  },
  {
   "cell_type": "code",
   "execution_count": 30,
   "metadata": {
    "ExecuteTime": {
     "end_time": "2020-03-31T07:43:31.464098Z",
     "start_time": "2020-03-31T07:43:31.460120Z"
    }
   },
   "outputs": [
    {
     "data": {
      "text/plain": [
       "477"
      ]
     },
     "execution_count": 30,
     "metadata": {},
     "output_type": "execute_result"
    }
   ],
   "source": [
    "g.num_edge"
   ]
  },
  {
   "cell_type": "code",
   "execution_count": 31,
   "metadata": {
    "ExecuteTime": {
     "end_time": "2020-03-31T07:43:31.469812Z",
     "start_time": "2020-03-31T07:43:31.466735Z"
    }
   },
   "outputs": [],
   "source": [
    "res = g.getConnectedGraphs()"
   ]
  },
  {
   "cell_type": "code",
   "execution_count": 32,
   "metadata": {
    "ExecuteTime": {
     "end_time": "2020-03-31T07:43:31.475047Z",
     "start_time": "2020-03-31T07:43:31.472119Z"
    }
   },
   "outputs": [],
   "source": [
    "for group in res:\n",
    "    for i in range(len(group)):\n",
    "        group[i] = uid_map_table[group[i]]"
   ]
  },
  {
   "cell_type": "code",
   "execution_count": 33,
   "metadata": {
    "ExecuteTime": {
     "end_time": "2020-03-31T07:43:31.480036Z",
     "start_time": "2020-03-31T07:43:31.476586Z"
    }
   },
   "outputs": [
    {
     "name": "stdout",
     "output_type": "stream",
     "text": [
      "['39FT2Ui8KUXwmUt6hnwy-g', 'bSUS0YcvS7UelmHvCzNWBA', 'DKolrsBSwMTpTJL22dqJRQ', 'sdLns7062kz3Ur_b8wgeYw', '_VTEyUzzH92X3w-IpGaXVA', 'qtOCfMTrozmUSHWIcohc6Q', 'zBi_JWB5uUdVuz3JLoAxGQ', 'KLB3wIYUwKDPMbijIE92vg', '1KQi8Ymatd4ySAd4fhSfaw', '_Pn-EmWO-pFPFg81ZIEiDw', 'dTeSvET2SR5LDF_J07wJAQ', 'ay4M5J28kBUf0odOQct0BA', 'OoyQYSeYNyRVOmdO3tsxYA', 'PE8s8ACYABRNANI-T_WmzA', '79yaBDbLASfIdB-C2c8DzA', 'R4l3ONHzGBakKKNo4TN9iQ', 'bHufZ2OTlC-OUxBDRXxViw', 'ChshgCKJTdIDg17JKtFuJw', 'B0ENvYKQdNNr1Izd2r-BAA', '0FVcoJko1kfZCrJRfssfIA', '4pc_EyanaC3ARh0MZZyouA', '2XYdguaaZ7dgi6fAlddujg', 'bE7Yd0jI_P6g27MWEKKalA', 'sBqCpEUn0qYdpSF4DbWlAQ', '7RCz4Ln_FaTvNrdwe251Dg', 'y6jsaAXFstAJkf53R4_y4Q', 'tL2pS5UOmN6aAOi3Z-qFGg', 'dW6bAWM1HbPdk_cGS_a2HA', 'CebjpVd3PsofCgotWp60pg', '2quguRdKBzul3GpRi9e1mA', 'T88y73qdOSutuvzLlhWtqQ', 'DkLSyxogCcJXY5DbTZ-f2A', 'WoKCLSctS7G2547xKcED-Q', 'bJguBxPlnTW29tRTAF0nkQ', 'tRZAC_H5RHrjvyvtufcNXQ', 'KtE55izPs1ubJn3ofF2IrA', 'hqmnMdDS-Opjp3BfBJA8qA', '4PQhC-zTQ4ACEN0-r39JuQ', 'hd343st7cOIUSfAd5r0U7A', 'LcCRMIDz1JgshpPGYfLDcA', 'jPcrABeWgWlTPi-E0Op_aA', 'S9dDf0JqSMAvusp5f-9bGw', 'cm3_8c_NDhPcpwJQ96Aixw', 'XPAJ2KHkCwBA0vafF-2Zcg', 'e8uzNcSC5tQMD22GNAQEQA', 'O9pMFJSPg80YVzpMfNikxw', 'mnoe2vwouRADn97dTDkw4A', '23o7tyUGlC6FCDVcyqLeFA', 'ELfzWgdf64VBLi5z1ECItw', 'EiwxlbR8fb68lMgEXhcWKA', 'SdXxLZQQnQNUEL1rGMOQ6w', 'KgJdBWS3ReP6TVhYWJRKmg', 'Ams0iLRd0AhZZectGKA8fw', '97j2wkFU46OOgm6ErRAb7w', 'JLv2Dmfj73-I0d9N41tz1A', '7Vfy39A_totC-w70qZi0MA', 'UAB1Zyg6Q0oEpXeYRf5K_g', 'voXU5A3FfOcXZ2VNsJ0q4w', 'ma6206bmu-a_Ja7Iv-yRCw', 'yCaDISH0R8e5U376zDWTpQ', 'BDjiEmXljD2ZHT61Iv9rrQ', 'p9942XebvxZ9ubHm4SXmMQ', '0FMte0z-repSVWSJ_BaQTg', 'XUEwSGOGARxW-3gPiGJKUg', 'bbK1mL-AyYCHZncDQ_4RgA', 'waN6iwcphiVEoCews4f4CA', 'IXD-jdycm7m34b_Nliy82g', 'TjsBbWAfwxWEXPxaLNv5SQ', 'j8Dts8irvVBwEhEEae_-wA', 'sO6iNKgv_ToVfof-aQWgXg', 'Tk_FWXueutKii3f9yJFsdw', '9xM8upr_n9jchUDKxqSGHw', '0QREkWHGO8-Z_70qx1BIWw', 'KHjroLTG6Ah8LyItTyB2yw', 'tAcY4S3vIuNlAoRlCcz5VA', 'JteQGisqOf_pklq7GA0Rww', 'kKTcYPz47sCDH1_ylnE4ZQ']\n",
      "['_6Zg4ukwS0kst9UtkfVw3w', 'lJFBgSAccsMGwIjfD7LMeQ', 'QRsuZ_LqrRU65dTs5CL4Lw', 'Gr-MqCunME2K_KmsAwjpTA']\n",
      "['JM0GL6Dx4EuZ1mprLk5Gyg', 'MtdSCXtmrSxj_uZOJ5ZycQ', 'm1IVpXClMox1VGw5hO2LhQ', 'IuaAfrkirlfzY3f4PkgSmw', 'dzJDCQ5vubQBJTfYTEmcbg', 'mu4XvWvJOb3XpG1C_CHCWA', 'tekHDsd0fskYG3tqu4sHQw', 'ZA1OT-PIZwz2kdHDA6mShw', 'hLVq7VSJBHZwqurwWoCmpg', '5fQ9P6kbQM_E0dx8DL6JWA', 'e5kg9bLvlJz-MEUrGjIeVQ', 'TZ974xcbw2kqjYxAhDUYVg', '8oYMqhC5fhqAK_yxRjE7dQ', 'fLnkI1uHtXEsjtF6KoBHbQ', 'ajxohdcsKhRGFlEvHZDyTw', '5DgFmyjW6hkBtXtTMKl4tA', '7G8w2SnaC-qDVQ7_GqTxMg', 'NUtVG7jNPLJR2cxMXMH2-A', 'jcriwcTidug0fK8sgAloHA', 'NlNlyQynkyEU3l7TR3LXdg', 'UYcmGbelzRa0Q6JqzLoguw', 'Zk95TMXDx0zMUhYq5u8pxw', 'JRqMFKGxx6DnTGZrxwQZaA', '2k8OVAPxlXHsA5X6EIoQpQ', 'SsOiVav4V5_NjTl21Lj92w', 'UwV6jBuTR1S9acT6bPTBPw', '2xVrxhQJUBmOyG4ML77XKw', '903YwVSoAKyzudc8LH_HMA', 'Y0-lLNc2Y7gUGXPzSsMueQ', '0KhRPd66BZGHCtsb9mGh_g', 'DPtOaWemjBPvFiZJBi0m8A', 'PKEzKWv_FktMm2mGPjwd0Q', 'xrvyW1ruKS0uz9RtFewC0Q', 'MrsRJa4SWLq8XLU1RtPdlw', 'XEqQG61fetXhuEV9RPslIA', '37HswRimgBEf7_US-c3CDA', 'fcWM-oqjgS94yi1INhZa0g', 'cIbbfJEGLB3B-c8Po4AL5g', 'WaAOt_eG0_-yLpG3fI--3g', 'VdoTNYWuoXo01umgannw8A', '750rhwO7D_Cul7_GtO9Jsg', 'MwpK7PqQX7fgTFM2Pfy61w', 'DjcRgZ0cJbf6-W2TxvFlBA', 'nOTl4aPC4tKHK35T3bNauQ', '9S52XHEyrvOv4OZxU6pCLw', 'JqjAthJThuVYgTh4iWDZ2A']\n",
      "['CLbpPUqP6XpeAfoqScGaJQ', 'tX0r-C9BaHYEolRUfufTsQ', 'xhlcoVm3FOKcxZ0phkdO6Q', 'drTMOo4p8nL0pnMNEyat2A']\n",
      "['2GUjO7NU88cPXpoffYCU8w', 'a48HhwcmjFLApZhiax41IA', 'XrRLaAeV20MRwdSIGjj2SQ', '6xi9tBoZ6r_v41u_XFsSnA', 'BDmxm7aeWFOLT35gSvkmig', 'H5Asta4LpiKmRhSjWaogIg', 'H4EQn0rjFuGRgIm6c9NFLg', 'frQs7y5qa-X1pvAM0sJe1w', 'angEr2YcXmCl20s8WQu32w', 'e5sdXDOkCf0sIUAivXVluA', '6YmRpoIuiq8I19Q8dHKTHw']\n",
      "['jnn504CkjtfbYIwBquWmBw', 'mm9WYrFhiNqvHCyhQKw3Mg', 'pDNeS1nbkKS7mJmhRQJPig', 'Gua5GdTlTWJpovtG7Hdtyg', 'QvLg2kxqHHahxxOlHlEIZw', 'cyuDrrG5eEK-TZI867MUPA', 'A-U-K9z9oraMH7eBZW1dOA', 'B7IvZ26ZUdL2jGbYsFVGxQ', 'S1cjSFKcS5NVc3o1MkfpwA', 'LKP0Yq9T7Ss6oiDZnVtQwQ', 'tcWnoX_IfuDmlDl6o6y3_g', 'o-t-i7nbT5N_cmkCXs5oDQ', 'k24kSTpZHUdEd-QYXLy3fQ', 'ae7zi8F0B6l_JCITh1mXDg', 'Nf_Jw_W_CwOz5WJ7ApSMxg', 'EI9ijI9Wh66LrVW-GmWkOg', 'SX_SMrddkDU5dySbsZMu9A', 'YA-caxALI4C-eCiSM97new', 'QUYbGl1DL-9faG150MQ7zA', 'k58KNO8Rya-q8njKq8-uBQ', 'WXlxViTwXHPBvhioljN9PQ', 'h-ajC_UHD0QAyAzySN6g2A', 'BE4fE4R3TaVn8xy4sYYjbg', 'FyQrUamokaPLDrBxGmzPnA', 'DgfsJqg_gozVgaeZ5vjllA', 'ZXyGw3Z1DyhK1sfNtpcyYA', '9SWtEX1k9AjRg93BAzMCpg', '0gZ8E5tBWTEtGEZDuTzhzw', 'ZZvfGGLnAkSBSUduV7KN-w', 'ORJnGXXkS9tQBTNyPQJF9A', 'SVC0CajvmYfH5uAq4JnGvg', 'LgFDWZTLi1w9OGi5BtKORg', '4ONcRRisDZkbV1cviA7nFw']\n",
      "['1st2ltGKJ00ZcRsev-Ieew', 'HLY9oDcVBH9D25lU4X_V5Q', 'Hv_q_ZnSIoZwdcoH0CyV2Q', '4ZQq0ozRs-gXSz1z55iIDw', 'oegRUjhGbP62M18WyAL6pQ', 'wXdrUQg4-VkSZH1FG4Byzw', 'e0Jn0ZjqL-dWi7Brs0bbmg', 'l-1cva9rA8_ugLrtSdKAqA', 'LaiylSIbrA3aPvOYtl-J4A', 'ZEq0WtRJD9Bl_vYgCsbfOg', 'fOut10lknIp64tm3z6UTNg', 'Z9a1tDT8fVI75qXYwNhPpw', 'Ih85YhFRDzOnB09yS__94g', 'KBoIRjxSW7OWczv8OS9Bew']\n",
      "['UmTMCfPlhA6kJLAsLycSfg', '9W73B44Iw8WslrTNB2CdCg', 'Uo5dPwoDpYBzOnmUnjxJ6A']\n",
      "['98rLDXbloLXekGjieuQSlA', 'QYKexxaOJQlseGWmc6soRg', 'MJ0Wphhko2-LbJ0uZ5XyQA']\n",
      "['qd16czwFUVHICKF7A4qWsQ', 'kwIhn1_cnQeUaLN0CuWWHw', 'hilL60vuuh06sMxs6Ckkog', 'jgoG_hHqnhZvQEoBK0-82w', 'EY8h9IJimXDNbPXVFpYF3A', 'LiNx18WUre9WFCEQlUhtKA']\n",
      "['lL-wNa0TKK6LXrlcVmjYrQ', 'Cf0chERnfd06ltnN45xLNQ', 'ZW-XoteNlRuuK-19q1spmw', 'CyrRjt_7iJ8_lSHeH1_TlA', 'JhFK9D3LYl23Se3x4oPUxA']\n",
      "['F47atsRPw-KHmRVk5exBFw', 'JeOHA8tW7gr-FDYOcPJoeA']\n",
      "['gH0dJQhyKUOVCKQA6sqAnw', '453V8MlGr8y61PpsDAFjKQ']\n",
      "['d5WLqmTMvmL7-RmUDVKqqQ', 'Si3aMsOVGSVlsc54iuiPwA']\n",
      "['vENR70IrUsDNTDebbuxyQA', '_m1ot2zZetDgjerAD2Sidg']\n",
      "['jSbXY_rno4hYHQCFftsWXg', '3Vd_ATdvvuVVgn_YCpz8fw']\n",
      "['23y0Nv9FFWn_3UWudpnFMA', 'eqWEgMH-DCP74i82BEAZzw']\n",
      "['YVQFzWm0H72mLUh-8gzd5w', '46HhzhpBfTdTSB5ceTx_Og']\n",
      "['gUu0uaiU7UEUVIgCdnqPVQ', 'jJDUCuPwVqwjbth3s92whA']\n"
     ]
    }
   ],
   "source": [
    "for r in res:\n",
    "    print(r)"
   ]
  },
  {
   "cell_type": "code",
   "execution_count": 34,
   "metadata": {
    "ExecuteTime": {
     "end_time": "2020-03-31T07:43:31.485520Z",
     "start_time": "2020-03-31T07:43:31.482541Z"
    }
   },
   "outputs": [],
   "source": [
    "def rearrageCommunity(res):\n",
    "    for item in res:\n",
    "        item.sort()\n",
    "    res.sort(key=lambda x: x[0])\n",
    "    res.sort(key=lambda x: len(x))\n",
    "    return res"
   ]
  },
  {
   "cell_type": "code",
   "execution_count": 35,
   "metadata": {
    "ExecuteTime": {
     "end_time": "2020-03-31T07:43:31.489612Z",
     "start_time": "2020-03-31T07:43:31.487409Z"
    }
   },
   "outputs": [],
   "source": [
    "res = rearrageCommunity(res)"
   ]
  },
  {
   "cell_type": "code",
   "execution_count": 36,
   "metadata": {
    "ExecuteTime": {
     "end_time": "2020-03-31T07:43:31.494628Z",
     "start_time": "2020-03-31T07:43:31.491217Z"
    },
    "scrolled": true
   },
   "outputs": [
    {
     "name": "stdout",
     "output_type": "stream",
     "text": [
      "['23y0Nv9FFWn_3UWudpnFMA', 'eqWEgMH-DCP74i82BEAZzw']\n",
      "['3Vd_ATdvvuVVgn_YCpz8fw', 'jSbXY_rno4hYHQCFftsWXg']\n",
      "['453V8MlGr8y61PpsDAFjKQ', 'gH0dJQhyKUOVCKQA6sqAnw']\n",
      "['46HhzhpBfTdTSB5ceTx_Og', 'YVQFzWm0H72mLUh-8gzd5w']\n",
      "['F47atsRPw-KHmRVk5exBFw', 'JeOHA8tW7gr-FDYOcPJoeA']\n",
      "['Si3aMsOVGSVlsc54iuiPwA', 'd5WLqmTMvmL7-RmUDVKqqQ']\n",
      "['_m1ot2zZetDgjerAD2Sidg', 'vENR70IrUsDNTDebbuxyQA']\n",
      "['gUu0uaiU7UEUVIgCdnqPVQ', 'jJDUCuPwVqwjbth3s92whA']\n",
      "['98rLDXbloLXekGjieuQSlA', 'MJ0Wphhko2-LbJ0uZ5XyQA', 'QYKexxaOJQlseGWmc6soRg']\n",
      "['9W73B44Iw8WslrTNB2CdCg', 'UmTMCfPlhA6kJLAsLycSfg', 'Uo5dPwoDpYBzOnmUnjxJ6A']\n",
      "['CLbpPUqP6XpeAfoqScGaJQ', 'drTMOo4p8nL0pnMNEyat2A', 'tX0r-C9BaHYEolRUfufTsQ', 'xhlcoVm3FOKcxZ0phkdO6Q']\n",
      "['Gr-MqCunME2K_KmsAwjpTA', 'QRsuZ_LqrRU65dTs5CL4Lw', '_6Zg4ukwS0kst9UtkfVw3w', 'lJFBgSAccsMGwIjfD7LMeQ']\n",
      "['Cf0chERnfd06ltnN45xLNQ', 'CyrRjt_7iJ8_lSHeH1_TlA', 'JhFK9D3LYl23Se3x4oPUxA', 'ZW-XoteNlRuuK-19q1spmw', 'lL-wNa0TKK6LXrlcVmjYrQ']\n",
      "['EY8h9IJimXDNbPXVFpYF3A', 'LiNx18WUre9WFCEQlUhtKA', 'hilL60vuuh06sMxs6Ckkog', 'jgoG_hHqnhZvQEoBK0-82w', 'kwIhn1_cnQeUaLN0CuWWHw', 'qd16czwFUVHICKF7A4qWsQ']\n",
      "['2GUjO7NU88cPXpoffYCU8w', '6YmRpoIuiq8I19Q8dHKTHw', '6xi9tBoZ6r_v41u_XFsSnA', 'BDmxm7aeWFOLT35gSvkmig', 'H4EQn0rjFuGRgIm6c9NFLg', 'H5Asta4LpiKmRhSjWaogIg', 'XrRLaAeV20MRwdSIGjj2SQ', 'a48HhwcmjFLApZhiax41IA', 'angEr2YcXmCl20s8WQu32w', 'e5sdXDOkCf0sIUAivXVluA', 'frQs7y5qa-X1pvAM0sJe1w']\n",
      "['1st2ltGKJ00ZcRsev-Ieew', '4ZQq0ozRs-gXSz1z55iIDw', 'HLY9oDcVBH9D25lU4X_V5Q', 'Hv_q_ZnSIoZwdcoH0CyV2Q', 'Ih85YhFRDzOnB09yS__94g', 'KBoIRjxSW7OWczv8OS9Bew', 'LaiylSIbrA3aPvOYtl-J4A', 'Z9a1tDT8fVI75qXYwNhPpw', 'ZEq0WtRJD9Bl_vYgCsbfOg', 'e0Jn0ZjqL-dWi7Brs0bbmg', 'fOut10lknIp64tm3z6UTNg', 'l-1cva9rA8_ugLrtSdKAqA', 'oegRUjhGbP62M18WyAL6pQ', 'wXdrUQg4-VkSZH1FG4Byzw']\n",
      "['0gZ8E5tBWTEtGEZDuTzhzw', '4ONcRRisDZkbV1cviA7nFw', '9SWtEX1k9AjRg93BAzMCpg', 'A-U-K9z9oraMH7eBZW1dOA', 'B7IvZ26ZUdL2jGbYsFVGxQ', 'BE4fE4R3TaVn8xy4sYYjbg', 'DgfsJqg_gozVgaeZ5vjllA', 'EI9ijI9Wh66LrVW-GmWkOg', 'FyQrUamokaPLDrBxGmzPnA', 'Gua5GdTlTWJpovtG7Hdtyg', 'LKP0Yq9T7Ss6oiDZnVtQwQ', 'LgFDWZTLi1w9OGi5BtKORg', 'Nf_Jw_W_CwOz5WJ7ApSMxg', 'ORJnGXXkS9tQBTNyPQJF9A', 'QUYbGl1DL-9faG150MQ7zA', 'QvLg2kxqHHahxxOlHlEIZw', 'S1cjSFKcS5NVc3o1MkfpwA', 'SVC0CajvmYfH5uAq4JnGvg', 'SX_SMrddkDU5dySbsZMu9A', 'WXlxViTwXHPBvhioljN9PQ', 'YA-caxALI4C-eCiSM97new', 'ZXyGw3Z1DyhK1sfNtpcyYA', 'ZZvfGGLnAkSBSUduV7KN-w', 'ae7zi8F0B6l_JCITh1mXDg', 'cyuDrrG5eEK-TZI867MUPA', 'h-ajC_UHD0QAyAzySN6g2A', 'jnn504CkjtfbYIwBquWmBw', 'k24kSTpZHUdEd-QYXLy3fQ', 'k58KNO8Rya-q8njKq8-uBQ', 'mm9WYrFhiNqvHCyhQKw3Mg', 'o-t-i7nbT5N_cmkCXs5oDQ', 'pDNeS1nbkKS7mJmhRQJPig', 'tcWnoX_IfuDmlDl6o6y3_g']\n",
      "['0KhRPd66BZGHCtsb9mGh_g', '2k8OVAPxlXHsA5X6EIoQpQ', '2xVrxhQJUBmOyG4ML77XKw', '37HswRimgBEf7_US-c3CDA', '5DgFmyjW6hkBtXtTMKl4tA', '5fQ9P6kbQM_E0dx8DL6JWA', '750rhwO7D_Cul7_GtO9Jsg', '7G8w2SnaC-qDVQ7_GqTxMg', '8oYMqhC5fhqAK_yxRjE7dQ', '903YwVSoAKyzudc8LH_HMA', '9S52XHEyrvOv4OZxU6pCLw', 'DPtOaWemjBPvFiZJBi0m8A', 'DjcRgZ0cJbf6-W2TxvFlBA', 'IuaAfrkirlfzY3f4PkgSmw', 'JM0GL6Dx4EuZ1mprLk5Gyg', 'JRqMFKGxx6DnTGZrxwQZaA', 'JqjAthJThuVYgTh4iWDZ2A', 'MrsRJa4SWLq8XLU1RtPdlw', 'MtdSCXtmrSxj_uZOJ5ZycQ', 'MwpK7PqQX7fgTFM2Pfy61w', 'NUtVG7jNPLJR2cxMXMH2-A', 'NlNlyQynkyEU3l7TR3LXdg', 'PKEzKWv_FktMm2mGPjwd0Q', 'SsOiVav4V5_NjTl21Lj92w', 'TZ974xcbw2kqjYxAhDUYVg', 'UYcmGbelzRa0Q6JqzLoguw', 'UwV6jBuTR1S9acT6bPTBPw', 'VdoTNYWuoXo01umgannw8A', 'WaAOt_eG0_-yLpG3fI--3g', 'XEqQG61fetXhuEV9RPslIA', 'Y0-lLNc2Y7gUGXPzSsMueQ', 'ZA1OT-PIZwz2kdHDA6mShw', 'Zk95TMXDx0zMUhYq5u8pxw', 'ajxohdcsKhRGFlEvHZDyTw', 'cIbbfJEGLB3B-c8Po4AL5g', 'dzJDCQ5vubQBJTfYTEmcbg', 'e5kg9bLvlJz-MEUrGjIeVQ', 'fLnkI1uHtXEsjtF6KoBHbQ', 'fcWM-oqjgS94yi1INhZa0g', 'hLVq7VSJBHZwqurwWoCmpg', 'jcriwcTidug0fK8sgAloHA', 'm1IVpXClMox1VGw5hO2LhQ', 'mu4XvWvJOb3XpG1C_CHCWA', 'nOTl4aPC4tKHK35T3bNauQ', 'tekHDsd0fskYG3tqu4sHQw', 'xrvyW1ruKS0uz9RtFewC0Q']\n",
      "['0FMte0z-repSVWSJ_BaQTg', '0FVcoJko1kfZCrJRfssfIA', '0QREkWHGO8-Z_70qx1BIWw', '1KQi8Ymatd4ySAd4fhSfaw', '23o7tyUGlC6FCDVcyqLeFA', '2XYdguaaZ7dgi6fAlddujg', '2quguRdKBzul3GpRi9e1mA', '39FT2Ui8KUXwmUt6hnwy-g', '4PQhC-zTQ4ACEN0-r39JuQ', '4pc_EyanaC3ARh0MZZyouA', '79yaBDbLASfIdB-C2c8DzA', '7RCz4Ln_FaTvNrdwe251Dg', '7Vfy39A_totC-w70qZi0MA', '97j2wkFU46OOgm6ErRAb7w', '9xM8upr_n9jchUDKxqSGHw', 'Ams0iLRd0AhZZectGKA8fw', 'B0ENvYKQdNNr1Izd2r-BAA', 'BDjiEmXljD2ZHT61Iv9rrQ', 'CebjpVd3PsofCgotWp60pg', 'ChshgCKJTdIDg17JKtFuJw', 'DKolrsBSwMTpTJL22dqJRQ', 'DkLSyxogCcJXY5DbTZ-f2A', 'ELfzWgdf64VBLi5z1ECItw', 'EiwxlbR8fb68lMgEXhcWKA', 'IXD-jdycm7m34b_Nliy82g', 'JLv2Dmfj73-I0d9N41tz1A', 'JteQGisqOf_pklq7GA0Rww', 'KHjroLTG6Ah8LyItTyB2yw', 'KLB3wIYUwKDPMbijIE92vg', 'KgJdBWS3ReP6TVhYWJRKmg', 'KtE55izPs1ubJn3ofF2IrA', 'LcCRMIDz1JgshpPGYfLDcA', 'O9pMFJSPg80YVzpMfNikxw', 'OoyQYSeYNyRVOmdO3tsxYA', 'PE8s8ACYABRNANI-T_WmzA', 'R4l3ONHzGBakKKNo4TN9iQ', 'S9dDf0JqSMAvusp5f-9bGw', 'SdXxLZQQnQNUEL1rGMOQ6w', 'T88y73qdOSutuvzLlhWtqQ', 'TjsBbWAfwxWEXPxaLNv5SQ', 'Tk_FWXueutKii3f9yJFsdw', 'UAB1Zyg6Q0oEpXeYRf5K_g', 'WoKCLSctS7G2547xKcED-Q', 'XPAJ2KHkCwBA0vafF-2Zcg', 'XUEwSGOGARxW-3gPiGJKUg', '_Pn-EmWO-pFPFg81ZIEiDw', '_VTEyUzzH92X3w-IpGaXVA', 'ay4M5J28kBUf0odOQct0BA', 'bE7Yd0jI_P6g27MWEKKalA', 'bHufZ2OTlC-OUxBDRXxViw', 'bJguBxPlnTW29tRTAF0nkQ', 'bSUS0YcvS7UelmHvCzNWBA', 'bbK1mL-AyYCHZncDQ_4RgA', 'cm3_8c_NDhPcpwJQ96Aixw', 'dTeSvET2SR5LDF_J07wJAQ', 'dW6bAWM1HbPdk_cGS_a2HA', 'e8uzNcSC5tQMD22GNAQEQA', 'hd343st7cOIUSfAd5r0U7A', 'hqmnMdDS-Opjp3BfBJA8qA', 'j8Dts8irvVBwEhEEae_-wA', 'jPcrABeWgWlTPi-E0Op_aA', 'kKTcYPz47sCDH1_ylnE4ZQ', 'ma6206bmu-a_Ja7Iv-yRCw', 'mnoe2vwouRADn97dTDkw4A', 'p9942XebvxZ9ubHm4SXmMQ', 'qtOCfMTrozmUSHWIcohc6Q', 'sBqCpEUn0qYdpSF4DbWlAQ', 'sO6iNKgv_ToVfof-aQWgXg', 'sdLns7062kz3Ur_b8wgeYw', 'tAcY4S3vIuNlAoRlCcz5VA', 'tL2pS5UOmN6aAOi3Z-qFGg', 'tRZAC_H5RHrjvyvtufcNXQ', 'voXU5A3FfOcXZ2VNsJ0q4w', 'waN6iwcphiVEoCews4f4CA', 'y6jsaAXFstAJkf53R4_y4Q', 'yCaDISH0R8e5U376zDWTpQ', 'zBi_JWB5uUdVuz3JLoAxGQ']\n"
     ]
    }
   ],
   "source": [
    "for r in res:\n",
    "    print(r)"
   ]
  },
  {
   "cell_type": "code",
   "execution_count": 40,
   "metadata": {
    "ExecuteTime": {
     "end_time": "2020-03-31T07:44:06.437869Z",
     "start_time": "2020-03-31T07:44:06.433223Z"
    }
   },
   "outputs": [
    {
     "data": {
      "text/plain": [
       "19"
      ]
     },
     "execution_count": 40,
     "metadata": {},
     "output_type": "execute_result"
    }
   ],
   "source": [
    "len(res)"
   ]
  },
  {
   "cell_type": "code",
   "execution_count": 37,
   "metadata": {
    "ExecuteTime": {
     "end_time": "2020-03-31T07:43:31.501822Z",
     "start_time": "2020-03-31T07:43:31.497127Z"
    }
   },
   "outputs": [],
   "source": [
    "def outputAsFile(res):\n",
    "    with open(community_output_file_path, 'w', encoding='utf-8') as fp:\n",
    "        for t in res:\n",
    "            if len(t) == 1:\n",
    "                fp.write(\"'%s'\\n\" % (t[0]))\n",
    "            else:\n",
    "                fp.write(\"'\" + (\"', '\").join(t) + \"'\\n\")"
   ]
  },
  {
   "cell_type": "code",
   "execution_count": 38,
   "metadata": {
    "ExecuteTime": {
     "end_time": "2020-03-31T07:43:31.506582Z",
     "start_time": "2020-03-31T07:43:31.504181Z"
    }
   },
   "outputs": [],
   "source": [
    "# outputAsFile(res)    "
   ]
  },
  {
   "cell_type": "code",
   "execution_count": null,
   "metadata": {},
   "outputs": [],
   "source": []
  }
 ],
 "metadata": {
  "kernelspec": {
   "display_name": "inf553",
   "language": "python",
   "name": "inf553"
  },
  "language_info": {
   "codemirror_mode": {
    "name": "ipython",
    "version": 3
   },
   "file_extension": ".py",
   "mimetype": "text/x-python",
   "name": "python",
   "nbconvert_exporter": "python",
   "pygments_lexer": "ipython3",
   "version": "3.6.10"
  },
  "toc": {
   "base_numbering": 1,
   "nav_menu": {},
   "number_sections": true,
   "sideBar": true,
   "skip_h1_title": false,
   "title_cell": "Table of Contents",
   "title_sidebar": "Contents",
   "toc_cell": false,
   "toc_position": {},
   "toc_section_display": true,
   "toc_window_display": false
  }
 },
 "nbformat": 4,
 "nbformat_minor": 4
}

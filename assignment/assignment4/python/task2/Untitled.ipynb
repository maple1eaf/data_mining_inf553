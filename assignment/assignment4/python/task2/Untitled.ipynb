{
 "cells": [
  {
   "cell_type": "code",
   "execution_count": 1,
   "metadata": {
    "ExecuteTime": {
     "end_time": "2020-03-27T03:59:25.950397Z",
     "start_time": "2020-03-27T03:59:25.945989Z"
    }
   },
   "outputs": [],
   "source": [
    "from task2support import *"
   ]
  },
  {
   "cell_type": "code",
   "execution_count": 2,
   "metadata": {
    "ExecuteTime": {
     "end_time": "2020-03-27T03:59:26.285629Z",
     "start_time": "2020-03-27T03:59:26.271750Z"
    }
   },
   "outputs": [
    {
     "data": {
      "text/plain": [
       "<task2support.Vertex at 0x10fcc9470>"
      ]
     },
     "execution_count": 2,
     "metadata": {},
     "output_type": "execute_result"
    }
   ],
   "source": [
    "gt = UndirectedGraph()\n",
    "gt.addEdge('A','B',1)\n",
    "gt.addEdge('A','D',1)\n",
    "gt.addEdge('B','C',1)\n",
    "gt.addEdge('B','D',1)\n",
    "gt.addEdge('C','D',1)\n",
    "gt.addEdge('C','E',1)\n",
    "gt.addEdge('D','E',1)\n",
    "gt.addEdge('D','F',1)\n",
    "gt.addEdge('E','G',1)\n",
    "gt.addEdge('F','G',1)\n",
    "gt.addEdge('H','I',1)\n",
    "gt.addEdge('H','J',1)\n",
    "gt.addEdge('P','Q',1)\n",
    "gt.addVertex('M')\n",
    "gt.addVertex('N')"
   ]
  },
  {
   "cell_type": "code",
   "execution_count": 21,
   "metadata": {
    "ExecuteTime": {
     "end_time": "2020-03-27T04:00:54.437122Z",
     "start_time": "2020-03-27T04:00:54.432201Z"
    }
   },
   "outputs": [
    {
     "data": {
      "text/plain": [
       "11.111111111111114"
      ]
     },
     "execution_count": 21,
     "metadata": {},
     "output_type": "execute_result"
    }
   ],
   "source": [
    "gt.countModularity()"
   ]
  },
  {
   "cell_type": "code",
   "execution_count": 22,
   "metadata": {
    "ExecuteTime": {
     "end_time": "2020-03-27T04:00:55.296618Z",
     "start_time": "2020-03-27T04:00:55.291542Z"
    },
    "scrolled": true
   },
   "outputs": [
    {
     "data": {
      "text/plain": [
       "{('C', 'E'): 4.0,\n",
       " ('B', 'D'): 2.0,\n",
       " ('B', 'C'): 4.0,\n",
       " ('A', 'B'): 4.0,\n",
       " ('C', 'D'): 2.0,\n",
       " ('F', 'G'): 1.0,\n",
       " ('H', 'J'): 2.0,\n",
       " ('H', 'I'): 2.0,\n",
       " ('P', 'Q'): 1.0}"
      ]
     },
     "execution_count": 22,
     "metadata": {},
     "output_type": "execute_result"
    }
   ],
   "source": [
    "gt.getBetweenness()"
   ]
  },
  {
   "cell_type": "code",
   "execution_count": 23,
   "metadata": {
    "ExecuteTime": {
     "end_time": "2020-03-27T04:00:57.383846Z",
     "start_time": "2020-03-27T04:00:57.379084Z"
    }
   },
   "outputs": [
    {
     "data": {
      "text/plain": [
       "[['G', 'F'],\n",
       " ['A', 'B', 'C', 'D', 'E'],\n",
       " ['Q', 'P'],\n",
       " ['M'],\n",
       " ['N'],\n",
       " ['H', 'I', 'J']]"
      ]
     },
     "execution_count": 23,
     "metadata": {},
     "output_type": "execute_result"
    }
   ],
   "source": [
    "gt.getConnectedGraphs()"
   ]
  },
  {
   "cell_type": "code",
   "execution_count": 24,
   "metadata": {
    "ExecuteTime": {
     "end_time": "2020-03-27T04:00:58.704328Z",
     "start_time": "2020-03-27T04:00:58.699471Z"
    }
   },
   "outputs": [
    {
     "data": {
      "text/plain": [
       "<task2support.UndirectedGraph at 0x10fcc9358>"
      ]
     },
     "execution_count": 24,
     "metadata": {},
     "output_type": "execute_result"
    }
   ],
   "source": [
    "gt.removeEdgesWithHighestBetweenness()"
   ]
  },
  {
   "cell_type": "code",
   "execution_count": 25,
   "metadata": {
    "ExecuteTime": {
     "end_time": "2020-03-27T04:00:59.444697Z",
     "start_time": "2020-03-27T04:00:59.440051Z"
    }
   },
   "outputs": [
    {
     "data": {
      "text/plain": [
       "[['G', 'F'],\n",
       " ['A'],\n",
       " ['Q', 'P'],\n",
       " ['M'],\n",
       " ['N'],\n",
       " ['D', 'B', 'C'],\n",
       " ['E'],\n",
       " ['H', 'I', 'J']]"
      ]
     },
     "execution_count": 25,
     "metadata": {},
     "output_type": "execute_result"
    }
   ],
   "source": [
    "gt.getConnectedGraphs()"
   ]
  },
  {
   "cell_type": "code",
   "execution_count": 26,
   "metadata": {
    "ExecuteTime": {
     "end_time": "2020-03-27T04:01:05.991913Z",
     "start_time": "2020-03-27T04:01:05.987292Z"
    },
    "scrolled": true
   },
   "outputs": [
    {
     "data": {
      "text/plain": [
       "6"
      ]
     },
     "execution_count": 26,
     "metadata": {},
     "output_type": "execute_result"
    }
   ],
   "source": [
    "gt.num_edge"
   ]
  },
  {
   "cell_type": "code",
   "execution_count": null,
   "metadata": {},
   "outputs": [],
   "source": []
  },
  {
   "cell_type": "code",
   "execution_count": null,
   "metadata": {},
   "outputs": [],
   "source": []
  },
  {
   "cell_type": "code",
   "execution_count": null,
   "metadata": {},
   "outputs": [],
   "source": []
  },
  {
   "cell_type": "code",
   "execution_count": 8,
   "metadata": {
    "ExecuteTime": {
     "end_time": "2020-03-27T03:53:40.392043Z",
     "start_time": "2020-03-27T03:53:40.388909Z"
    }
   },
   "outputs": [],
   "source": [
    "gt.betweenness"
   ]
  },
  {
   "cell_type": "code",
   "execution_count": 9,
   "metadata": {
    "ExecuteTime": {
     "end_time": "2020-03-27T03:53:40.399428Z",
     "start_time": "2020-03-27T03:53:40.394930Z"
    }
   },
   "outputs": [
    {
     "data": {
      "text/plain": [
       "9.666666666666668"
      ]
     },
     "execution_count": 9,
     "metadata": {},
     "output_type": "execute_result"
    }
   ],
   "source": [
    "gt.countModularity()"
   ]
  },
  {
   "cell_type": "code",
   "execution_count": 16,
   "metadata": {
    "ExecuteTime": {
     "end_time": "2020-03-27T03:54:27.123488Z",
     "start_time": "2020-03-27T03:54:27.120705Z"
    }
   },
   "outputs": [],
   "source": [
    "gt.betweenness"
   ]
  },
  {
   "cell_type": "code",
   "execution_count": 10,
   "metadata": {
    "ExecuteTime": {
     "end_time": "2020-03-27T03:53:40.407318Z",
     "start_time": "2020-03-27T03:53:40.401757Z"
    }
   },
   "outputs": [],
   "source": [
    "gt1 = UndirectedGraph()\n",
    "gt1.addEdge('A','B',1)\n",
    "gt1.addEdge('A','C',1)\n",
    "gt1.addEdge('B','E',1)\n",
    "gt1.addEdge('C','D',1)\n",
    "gt1.addEdge('D','E',1)"
   ]
  },
  {
   "cell_type": "code",
   "execution_count": null,
   "metadata": {},
   "outputs": [],
   "source": [
    "gt1_o = UndirectedGraph()\n",
    "gt1_o.addEdge('A','B',1)\n",
    "gt1_o.addEdge('A','C',1)\n",
    "gt1_o.addEdge('B','E',1)\n",
    "gt1_o.addEdge('C','D',1)\n",
    "gt1_o.addEdge('D','E',1)"
   ]
  },
  {
   "cell_type": "code",
   "execution_count": null,
   "metadata": {},
   "outputs": [],
   "source": []
  },
  {
   "cell_type": "code",
   "execution_count": 11,
   "metadata": {
    "ExecuteTime": {
     "end_time": "2020-03-27T03:53:40.415478Z",
     "start_time": "2020-03-27T03:53:40.409841Z"
    }
   },
   "outputs": [
    {
     "data": {
      "text/plain": [
       "{('D', 'G'): 4.5,\n",
       " ('D', 'F'): 4.0,\n",
       " ('D', 'E'): 4.5,\n",
       " ('B', 'D'): 12.0,\n",
       " ('A', 'C'): 1.0,\n",
       " ('A', 'B'): 5.0,\n",
       " ('B', 'C'): 5.0,\n",
       " ('F', 'G'): 1.5,\n",
       " ('E', 'F'): 1.5}"
      ]
     },
     "execution_count": 11,
     "metadata": {},
     "output_type": "execute_result"
    }
   ],
   "source": [
    "gt1.getBetweenness()"
   ]
  },
  {
   "cell_type": "code",
   "execution_count": 12,
   "metadata": {
    "ExecuteTime": {
     "end_time": "2020-03-27T03:53:40.424335Z",
     "start_time": "2020-03-27T03:53:40.419033Z"
    }
   },
   "outputs": [],
   "source": [
    "di1 = {('D', 'G'): 4.5,\n",
    " ('D', 'F'): 4.0,\n",
    " ('D', 'E'): 4.5,\n",
    " ('B', 'D'): 12.0,\n",
    " ('A', 'C'): 1.0,\n",
    " ('A', 'B'): 5.0,\n",
    " ('B', 'C'): 5.0,\n",
    " ('F', 'G'): 1.5,\n",
    " ('E', 'F'): 1.5}"
   ]
  },
  {
   "cell_type": "code",
   "execution_count": 13,
   "metadata": {
    "ExecuteTime": {
     "end_time": "2020-03-27T03:53:40.433321Z",
     "start_time": "2020-03-27T03:53:40.427760Z"
    }
   },
   "outputs": [
    {
     "data": {
      "text/plain": [
       "4.5"
      ]
     },
     "execution_count": 13,
     "metadata": {},
     "output_type": "execute_result"
    }
   ],
   "source": [
    "di1.pop(('D', 'G'))"
   ]
  },
  {
   "cell_type": "code",
   "execution_count": 14,
   "metadata": {
    "ExecuteTime": {
     "end_time": "2020-03-27T03:53:40.444536Z",
     "start_time": "2020-03-27T03:53:40.437331Z"
    }
   },
   "outputs": [
    {
     "data": {
      "text/plain": [
       "{('D', 'F'): 4.0,\n",
       " ('D', 'E'): 4.5,\n",
       " ('B', 'D'): 12.0,\n",
       " ('A', 'C'): 1.0,\n",
       " ('A', 'B'): 5.0,\n",
       " ('B', 'C'): 5.0,\n",
       " ('F', 'G'): 1.5,\n",
       " ('E', 'F'): 1.5}"
      ]
     },
     "execution_count": 14,
     "metadata": {},
     "output_type": "execute_result"
    }
   ],
   "source": [
    "di1"
   ]
  },
  {
   "cell_type": "code",
   "execution_count": 15,
   "metadata": {
    "ExecuteTime": {
     "end_time": "2020-03-27T03:53:40.450746Z",
     "start_time": "2020-03-27T03:53:40.447401Z"
    }
   },
   "outputs": [],
   "source": [
    "di1.pop('d', None)"
   ]
  },
  {
   "cell_type": "code",
   "execution_count": 29,
   "metadata": {
    "ExecuteTime": {
     "end_time": "2020-03-27T06:42:34.086500Z",
     "start_time": "2020-03-27T06:42:34.082999Z"
    }
   },
   "outputs": [],
   "source": [
    "l = [(1, 'qwer'), (2, 'asdf'),(3, 'zxcv')]"
   ]
  },
  {
   "cell_type": "code",
   "execution_count": 31,
   "metadata": {
    "ExecuteTime": {
     "end_time": "2020-03-27T06:43:26.571848Z",
     "start_time": "2020-03-27T06:43:26.567600Z"
    }
   },
   "outputs": [
    {
     "name": "stdout",
     "output_type": "stream",
     "text": [
      "0 (1, 'qwer')\n",
      "1 (2, 'asdf')\n",
      "2 (3, 'zxcv')\n"
     ]
    }
   ],
   "source": [
    "for i, s in enumerate(l):\n",
    "    print(i, s)"
   ]
  },
  {
   "cell_type": "code",
   "execution_count": 32,
   "metadata": {
    "ExecuteTime": {
     "end_time": "2020-03-27T07:06:28.483049Z",
     "start_time": "2020-03-27T07:06:28.479504Z"
    }
   },
   "outputs": [],
   "source": [
    "a = [(1, 'qwer')]\n",
    "b = [(2, 'asdf')]\n",
    "c = [(3, 'zxcv')]"
   ]
  },
  {
   "cell_type": "code",
   "execution_count": 33,
   "metadata": {
    "ExecuteTime": {
     "end_time": "2020-03-27T07:06:31.762316Z",
     "start_time": "2020-03-27T07:06:31.757844Z"
    }
   },
   "outputs": [
    {
     "data": {
      "text/plain": [
       "[(1, 'qwer'), (2, 'asdf')]"
      ]
     },
     "execution_count": 33,
     "metadata": {},
     "output_type": "execute_result"
    }
   ],
   "source": [
    "a+b"
   ]
  },
  {
   "cell_type": "code",
   "execution_count": 34,
   "metadata": {
    "ExecuteTime": {
     "end_time": "2020-03-27T07:06:42.190594Z",
     "start_time": "2020-03-27T07:06:42.187669Z"
    }
   },
   "outputs": [],
   "source": [
    "x = a+b"
   ]
  },
  {
   "cell_type": "code",
   "execution_count": 35,
   "metadata": {
    "ExecuteTime": {
     "end_time": "2020-03-27T07:06:47.036334Z",
     "start_time": "2020-03-27T07:06:47.031674Z"
    }
   },
   "outputs": [
    {
     "data": {
      "text/plain": [
       "[(1, 'qwer'), (2, 'asdf')]"
      ]
     },
     "execution_count": 35,
     "metadata": {},
     "output_type": "execute_result"
    }
   ],
   "source": [
    "x"
   ]
  },
  {
   "cell_type": "code",
   "execution_count": 36,
   "metadata": {
    "ExecuteTime": {
     "end_time": "2020-03-27T07:06:52.321584Z",
     "start_time": "2020-03-27T07:06:52.318549Z"
    }
   },
   "outputs": [],
   "source": [
    "y = x+c"
   ]
  },
  {
   "cell_type": "code",
   "execution_count": 37,
   "metadata": {
    "ExecuteTime": {
     "end_time": "2020-03-27T07:06:54.309292Z",
     "start_time": "2020-03-27T07:06:54.304855Z"
    }
   },
   "outputs": [
    {
     "data": {
      "text/plain": [
       "[(1, 'qwer'), (2, 'asdf'), (3, 'zxcv')]"
      ]
     },
     "execution_count": 37,
     "metadata": {},
     "output_type": "execute_result"
    }
   ],
   "source": [
    "y"
   ]
  },
  {
   "cell_type": "code",
   "execution_count": null,
   "metadata": {},
   "outputs": [],
   "source": []
  },
  {
   "cell_type": "code",
   "execution_count": 38,
   "metadata": {
    "ExecuteTime": {
     "end_time": "2020-03-27T09:39:46.783902Z",
     "start_time": "2020-03-27T09:39:46.781332Z"
    }
   },
   "outputs": [],
   "source": [
    "a = {\"a\":1,\"b\":2}"
   ]
  },
  {
   "cell_type": "code",
   "execution_count": 39,
   "metadata": {
    "ExecuteTime": {
     "end_time": "2020-03-27T09:39:50.256764Z",
     "start_time": "2020-03-27T09:39:50.254022Z"
    }
   },
   "outputs": [],
   "source": [
    "b = a"
   ]
  },
  {
   "cell_type": "code",
   "execution_count": 40,
   "metadata": {
    "ExecuteTime": {
     "end_time": "2020-03-27T09:39:51.673269Z",
     "start_time": "2020-03-27T09:39:51.668722Z"
    }
   },
   "outputs": [
    {
     "data": {
      "text/plain": [
       "{'a': 1, 'b': 2}"
      ]
     },
     "execution_count": 40,
     "metadata": {},
     "output_type": "execute_result"
    }
   ],
   "source": [
    "b"
   ]
  },
  {
   "cell_type": "code",
   "execution_count": 41,
   "metadata": {
    "ExecuteTime": {
     "end_time": "2020-03-27T09:40:01.871111Z",
     "start_time": "2020-03-27T09:40:01.868060Z"
    }
   },
   "outputs": [],
   "source": [
    "a[\"a\"] =4"
   ]
  },
  {
   "cell_type": "code",
   "execution_count": 42,
   "metadata": {
    "ExecuteTime": {
     "end_time": "2020-03-27T09:40:03.042176Z",
     "start_time": "2020-03-27T09:40:03.037653Z"
    }
   },
   "outputs": [
    {
     "data": {
      "text/plain": [
       "{'a': 4, 'b': 2}"
      ]
     },
     "execution_count": 42,
     "metadata": {},
     "output_type": "execute_result"
    }
   ],
   "source": [
    "b"
   ]
  },
  {
   "cell_type": "code",
   "execution_count": null,
   "metadata": {},
   "outputs": [],
   "source": []
  }
 ],
 "metadata": {
  "kernelspec": {
   "display_name": "inf553",
   "language": "python",
   "name": "inf553"
  },
  "language_info": {
   "codemirror_mode": {
    "name": "ipython",
    "version": 3
   },
   "file_extension": ".py",
   "mimetype": "text/x-python",
   "name": "python",
   "nbconvert_exporter": "python",
   "pygments_lexer": "ipython3",
   "version": "3.6.10"
  },
  "toc": {
   "base_numbering": 1,
   "nav_menu": {},
   "number_sections": true,
   "sideBar": true,
   "skip_h1_title": false,
   "title_cell": "Table of Contents",
   "title_sidebar": "Contents",
   "toc_cell": false,
   "toc_position": {},
   "toc_section_display": true,
   "toc_window_display": false
  }
 },
 "nbformat": 4,
 "nbformat_minor": 4
}

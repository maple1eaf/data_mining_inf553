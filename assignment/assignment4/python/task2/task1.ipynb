{
 "cells": [
  {
   "cell_type": "code",
   "execution_count": 1,
   "metadata": {
    "ExecuteTime": {
     "end_time": "2020-04-01T01:19:36.162054Z",
     "start_time": "2020-04-01T01:19:36.156768Z"
    }
   },
   "outputs": [],
   "source": [
    "import findspark\n",
    "findspark.init()"
   ]
  },
  {
   "cell_type": "code",
   "execution_count": 2,
   "metadata": {
    "ExecuteTime": {
     "end_time": "2020-04-01T01:19:37.224735Z",
     "start_time": "2020-04-01T01:19:36.753509Z"
    }
   },
   "outputs": [],
   "source": [
    "import sys\n",
    "import time\n",
    "import json\n",
    "import os\n",
    "\n",
    "from pyspark import SparkConf, SparkContext, StorageLevel\n",
    "from pyspark.sql import SparkSession\n",
    "from pyspark.sql import functions as F"
   ]
  },
  {
   "cell_type": "code",
   "execution_count": 3,
   "metadata": {
    "ExecuteTime": {
     "end_time": "2020-04-01T01:19:37.621739Z",
     "start_time": "2020-04-01T01:19:37.618837Z"
    }
   },
   "outputs": [],
   "source": [
    "SUBMIT_ARGS = \"--packages graphframes:graphframes:0.6.0-spark2.3-s_2.11  pyspark-shell\"\n",
    "os.environ[\"PYSPARK_SUBMIT_ARGS\"] = SUBMIT_ARGS"
   ]
  },
  {
   "cell_type": "code",
   "execution_count": 4,
   "metadata": {
    "ExecuteTime": {
     "end_time": "2020-04-01T01:19:42.218715Z",
     "start_time": "2020-04-01T01:19:38.221356Z"
    }
   },
   "outputs": [],
   "source": [
    "conf = SparkConf() \\\n",
    "    .setAppName(\"task1\") \\\n",
    "    .setMaster(\"local[3]\") \\\n",
    "    .set(\"spark.driver.memory\",\"4g\")\n",
    "sc = SparkContext(conf=conf)\n",
    "sc.setLogLevel(\"ERROR\")"
   ]
  },
  {
   "cell_type": "code",
   "execution_count": 5,
   "metadata": {
    "ExecuteTime": {
     "end_time": "2020-04-01T01:19:42.247694Z",
     "start_time": "2020-04-01T01:19:42.220954Z"
    }
   },
   "outputs": [],
   "source": [
    "pyfiles = str(sc.getConf().get('spark.submit.pyFiles')).split(',')\n",
    "sys.path.extend(pyfiles)"
   ]
  },
  {
   "cell_type": "code",
   "execution_count": 6,
   "metadata": {
    "ExecuteTime": {
     "end_time": "2020-04-01T01:19:42.267683Z",
     "start_time": "2020-04-01T01:19:42.251265Z"
    }
   },
   "outputs": [],
   "source": [
    "from graphframes import *"
   ]
  },
  {
   "cell_type": "code",
   "execution_count": 7,
   "metadata": {
    "ExecuteTime": {
     "end_time": "2020-04-01T01:19:42.272767Z",
     "start_time": "2020-04-01T01:19:42.270250Z"
    }
   },
   "outputs": [],
   "source": [
    "LPA_MAXITER = 5"
   ]
  },
  {
   "cell_type": "code",
   "execution_count": 8,
   "metadata": {
    "ExecuteTime": {
     "end_time": "2020-04-01T01:19:42.277538Z",
     "start_time": "2020-04-01T01:19:42.274698Z"
    }
   },
   "outputs": [],
   "source": [
    "filter_threshold = 7\n",
    "input_file_path = \"file:///Users/markduan/duan/USC_course/USC_APDS/INF553/homework/hw4/data/ub_sample_data.csv\"\n",
    "community_output_file_path = \"./output/task1_jupyter.txt\""
   ]
  },
  {
   "cell_type": "code",
   "execution_count": 9,
   "metadata": {
    "ExecuteTime": {
     "end_time": "2020-04-01T01:19:44.986953Z",
     "start_time": "2020-04-01T01:19:44.981833Z"
    }
   },
   "outputs": [],
   "source": [
    "def outputAsFile(res):\n",
    "    with open(community_output_file_path, 'w', encoding='utf-8') as fp:\n",
    "        for t in res:\n",
    "            if len(t) == 1:\n",
    "                fp.write(\"'%s'\\n\" % (t[0]))\n",
    "            else:\n",
    "                fp.write(\"'\" + (\"', '\").join(t) + \"'\\n\")"
   ]
  },
  {
   "cell_type": "code",
   "execution_count": 10,
   "metadata": {
    "ExecuteTime": {
     "end_time": "2020-04-01T01:19:49.017724Z",
     "start_time": "2020-04-01T01:19:46.056633Z"
    }
   },
   "outputs": [],
   "source": [
    "data_with_header = sc.textFile(input_file_path)\n",
    "header = data_with_header.first()\n",
    "baskets = data_with_header.filter(lambda l: l != header) \\\n",
    "    .map(lambda l: tuple(l.split(','))) \\\n",
    "    .distinct() \\\n",
    "    .map(lambda x: (x[0], [x[1]])) \\\n",
    "    .reduceByKey(lambda x, y: x + y) \\\n",
    "    .collect()\n",
    "# baskets - [(uid, [bid, ...]), ...]"
   ]
  },
  {
   "cell_type": "code",
   "execution_count": 12,
   "metadata": {
    "ExecuteTime": {
     "end_time": "2020-04-01T09:19:11.452400Z",
     "start_time": "2020-04-01T09:19:05.544969Z"
    }
   },
   "outputs": [],
   "source": [
    "uids = [x[0] for x in baskets]\n",
    "baskets_length = len(baskets)\n",
    "edges_list = []\n",
    "vertices_have_link = []\n",
    "for i in range(baskets_length):\n",
    "    uid_i = baskets[i][0]\n",
    "    bids_i = set(baskets[i][1])\n",
    "    for j in range(i+1, baskets_length):\n",
    "        uid_j = baskets[j][0]\n",
    "        bids_j = set(baskets[j][1])\n",
    "        if len(bids_i.intersection(bids_j)) >= filter_threshold:\n",
    "            edges_list.append((uid_i, uid_j, 1))\n",
    "            edges_list.append((uid_j, uid_i, 1))\n",
    "            if uid_i not in vertices_have_link:\n",
    "                vertices_have_link.append(uid_i)\n",
    "            if uid_j not in vertices_have_link:\n",
    "                vertices_have_link.append(uid_j)"
   ]
  },
  {
   "cell_type": "code",
   "execution_count": 13,
   "metadata": {
    "ExecuteTime": {
     "end_time": "2020-04-01T09:19:14.761304Z",
     "start_time": "2020-04-01T09:19:14.110726Z"
    }
   },
   "outputs": [],
   "source": [
    "# build dataframe context\n",
    "spark = SparkSession.builder.config(conf=SparkConf()).getOrCreate()"
   ]
  },
  {
   "cell_type": "code",
   "execution_count": 14,
   "metadata": {
    "ExecuteTime": {
     "end_time": "2020-04-01T09:19:20.889083Z",
     "start_time": "2020-04-01T09:19:19.079693Z"
    }
   },
   "outputs": [],
   "source": [
    "uids_transform = [(u,) for u in vertices_have_link]\n",
    "vertices = spark.createDataFrame(uids_transform, [\"id\"])"
   ]
  },
  {
   "cell_type": "code",
   "execution_count": 15,
   "metadata": {
    "ExecuteTime": {
     "end_time": "2020-04-01T09:19:21.776697Z",
     "start_time": "2020-04-01T09:19:21.715149Z"
    }
   },
   "outputs": [],
   "source": [
    "edges = spark.createDataFrame(edges_list, [\"src\", \"dst\", \"relationship\"])"
   ]
  },
  {
   "cell_type": "code",
   "execution_count": 16,
   "metadata": {
    "ExecuteTime": {
     "end_time": "2020-04-01T09:19:23.320543Z",
     "start_time": "2020-04-01T09:19:22.464996Z"
    }
   },
   "outputs": [
    {
     "name": "stdout",
     "output_type": "stream",
     "text": [
      "+--------------------+--------------------+------------+\n",
      "|                 src|                 dst|relationship|\n",
      "+--------------------+--------------------+------------+\n",
      "|39FT2Ui8KUXwmUt6h...|0FVcoJko1kfZCrJRf...|           1|\n",
      "|0FVcoJko1kfZCrJRf...|39FT2Ui8KUXwmUt6h...|           1|\n",
      "|39FT2Ui8KUXwmUt6h...|JM0GL6Dx4EuZ1mprL...|           1|\n",
      "|JM0GL6Dx4EuZ1mprL...|39FT2Ui8KUXwmUt6h...|           1|\n",
      "|39FT2Ui8KUXwmUt6h...|bSUS0YcvS7UelmHvC...|           1|\n",
      "|bSUS0YcvS7UelmHvC...|39FT2Ui8KUXwmUt6h...|           1|\n",
      "|39FT2Ui8KUXwmUt6h...|DKolrsBSwMTpTJL22...|           1|\n",
      "|DKolrsBSwMTpTJL22...|39FT2Ui8KUXwmUt6h...|           1|\n",
      "|39FT2Ui8KUXwmUt6h...|sdLns7062kz3Ur_b8...|           1|\n",
      "|sdLns7062kz3Ur_b8...|39FT2Ui8KUXwmUt6h...|           1|\n",
      "|39FT2Ui8KUXwmUt6h...|_VTEyUzzH92X3w-Ip...|           1|\n",
      "|_VTEyUzzH92X3w-Ip...|39FT2Ui8KUXwmUt6h...|           1|\n",
      "|39FT2Ui8KUXwmUt6h...|qtOCfMTrozmUSHWIc...|           1|\n",
      "|qtOCfMTrozmUSHWIc...|39FT2Ui8KUXwmUt6h...|           1|\n",
      "|39FT2Ui8KUXwmUt6h...|zBi_JWB5uUdVuz3JL...|           1|\n",
      "|zBi_JWB5uUdVuz3JL...|39FT2Ui8KUXwmUt6h...|           1|\n",
      "|39FT2Ui8KUXwmUt6h...|KLB3wIYUwKDPMbijI...|           1|\n",
      "|KLB3wIYUwKDPMbijI...|39FT2Ui8KUXwmUt6h...|           1|\n",
      "|39FT2Ui8KUXwmUt6h...|1KQi8Ymatd4ySAd4f...|           1|\n",
      "|1KQi8Ymatd4ySAd4f...|39FT2Ui8KUXwmUt6h...|           1|\n",
      "+--------------------+--------------------+------------+\n",
      "only showing top 20 rows\n",
      "\n"
     ]
    }
   ],
   "source": [
    "edges.show()"
   ]
  },
  {
   "cell_type": "code",
   "execution_count": 17,
   "metadata": {
    "ExecuteTime": {
     "end_time": "2020-04-01T09:19:25.326847Z",
     "start_time": "2020-04-01T09:19:25.300871Z"
    }
   },
   "outputs": [],
   "source": [
    "g = GraphFrame(vertices, edges)"
   ]
  },
  {
   "cell_type": "code",
   "execution_count": 18,
   "metadata": {
    "ExecuteTime": {
     "end_time": "2020-04-01T09:21:12.495296Z",
     "start_time": "2020-04-01T09:19:27.587916Z"
    }
   },
   "outputs": [],
   "source": [
    "communities = g.labelPropagation(maxIter=LPA_MAXITER)"
   ]
  },
  {
   "cell_type": "code",
   "execution_count": 19,
   "metadata": {
    "ExecuteTime": {
     "end_time": "2020-04-01T09:21:32.658919Z",
     "start_time": "2020-04-01T09:21:31.727941Z"
    }
   },
   "outputs": [
    {
     "name": "stdout",
     "output_type": "stream",
     "text": [
      "+--------------------+-------------+\n",
      "|                  id|        label|\n",
      "+--------------------+-------------+\n",
      "|gH0dJQhyKUOVCKQA6...| 146028888064|\n",
      "|oegRUjhGbP62M18Wy...|1005022347264|\n",
      "|2quguRdKBzul3GpRi...|1425929142273|\n",
      "|DPtOaWemjBPvFiZJB...|  17179869185|\n",
      "|Ih85YhFRDzOnB09yS...|1005022347264|\n",
      "|ZW-XoteNlRuuK-19q...| 532575944705|\n",
      "|tekHDsd0fskYG3tqu...|  17179869185|\n",
      "|OoyQYSeYNyRVOmdO3...|1425929142273|\n",
      "|dTeSvET2SR5LDF_J0...|1425929142273|\n",
      "|wXdrUQg4-VkSZH1FG...| 644245094400|\n",
      "|mu4XvWvJOb3XpG1C_...|  17179869185|\n",
      "|FyQrUamokaPLDrBxG...| 584115552258|\n",
      "|ZXyGw3Z1DyhK1sfNt...| 584115552258|\n",
      "|XrRLaAeV20MRwdSIG...| 103079215104|\n",
      "|tAcY4S3vIuNlAoRlC...| 532575944704|\n",
      "|eqWEgMH-DCP74i82B...|1649267441664|\n",
      "|TjsBbWAfwxWEXPxaL...|1425929142273|\n",
      "|lJFBgSAccsMGwIjfD...| 274877906944|\n",
      "|Nf_Jw_W_CwOz5WJ7A...| 584115552258|\n",
      "|cIbbfJEGLB3B-c8Po...|  17179869185|\n",
      "+--------------------+-------------+\n",
      "only showing top 20 rows\n",
      "\n"
     ]
    }
   ],
   "source": [
    "communities.show()"
   ]
  },
  {
   "cell_type": "code",
   "execution_count": 20,
   "metadata": {
    "ExecuteTime": {
     "end_time": "2020-04-01T09:21:45.189611Z",
     "start_time": "2020-04-01T09:21:40.131619Z"
    }
   },
   "outputs": [],
   "source": [
    "result = communities.groupby('label') \\\n",
    "    .agg(F.collect_list('id').alias('collect')) \\\n",
    "    .select('collect') \\\n",
    "    .rdd \\\n",
    "    .map(tuple) \\\n",
    "    .map(lambda x: tuple(sorted(x[0]))) \\\n",
    "    .sortBy(keyfunc=lambda x: x[0]) \\\n",
    "    .sortBy(keyfunc=lambda x: len(x)) \\\n",
    "    .collect()"
   ]
  },
  {
   "cell_type": "code",
   "execution_count": 21,
   "metadata": {
    "ExecuteTime": {
     "end_time": "2020-04-01T09:21:46.086894Z",
     "start_time": "2020-04-01T09:21:46.081881Z"
    },
    "scrolled": true
   },
   "outputs": [
    {
     "name": "stdout",
     "output_type": "stream",
     "text": [
      "('23y0Nv9FFWn_3UWudpnFMA',)\n",
      "('3Vd_ATdvvuVVgn_YCpz8fw',)\n",
      "('453V8MlGr8y61PpsDAFjKQ',)\n",
      "('46HhzhpBfTdTSB5ceTx_Og',)\n",
      "('9W73B44Iw8WslrTNB2CdCg',)\n",
      "('Cf0chERnfd06ltnN45xLNQ',)\n",
      "('F47atsRPw-KHmRVk5exBFw',)\n",
      "('JeOHA8tW7gr-FDYOcPJoeA',)\n",
      "('KBoIRjxSW7OWczv8OS9Bew',)\n",
      "('QYKexxaOJQlseGWmc6soRg',)\n",
      "('Si3aMsOVGSVlsc54iuiPwA',)\n",
      "('YVQFzWm0H72mLUh-8gzd5w',)\n",
      "('_m1ot2zZetDgjerAD2Sidg',)\n",
      "('d5WLqmTMvmL7-RmUDVKqqQ',)\n",
      "('eqWEgMH-DCP74i82BEAZzw',)\n",
      "('gH0dJQhyKUOVCKQA6sqAnw',)\n",
      "('gUu0uaiU7UEUVIgCdnqPVQ',)\n",
      "('jJDUCuPwVqwjbth3s92whA',)\n",
      "('jSbXY_rno4hYHQCFftsWXg',)\n",
      "('tX0r-C9BaHYEolRUfufTsQ',)\n",
      "('vENR70IrUsDNTDebbuxyQA',)\n",
      "('0QREkWHGO8-Z_70qx1BIWw', 'KHjroLTG6Ah8LyItTyB2yw')\n",
      "('2GUjO7NU88cPXpoffYCU8w', 'BDmxm7aeWFOLT35gSvkmig')\n",
      "('6YmRpoIuiq8I19Q8dHKTHw', 'frQs7y5qa-X1pvAM0sJe1w')\n",
      "('6xi9tBoZ6r_v41u_XFsSnA', 'XrRLaAeV20MRwdSIGjj2SQ')\n",
      "('98rLDXbloLXekGjieuQSlA', 'MJ0Wphhko2-LbJ0uZ5XyQA')\n",
      "('Ams0iLRd0AhZZectGKA8fw', 'EiwxlbR8fb68lMgEXhcWKA')\n",
      "('Gr-MqCunME2K_KmsAwjpTA', '_6Zg4ukwS0kst9UtkfVw3w')\n",
      "('QRsuZ_LqrRU65dTs5CL4Lw', 'lJFBgSAccsMGwIjfD7LMeQ')\n",
      "('UmTMCfPlhA6kJLAsLycSfg', 'Uo5dPwoDpYBzOnmUnjxJ6A')\n",
      "('a48HhwcmjFLApZhiax41IA', 'angEr2YcXmCl20s8WQu32w')\n",
      "('kKTcYPz47sCDH1_ylnE4ZQ', 'tAcY4S3vIuNlAoRlCcz5VA')\n",
      "('750rhwO7D_Cul7_GtO9Jsg', 'DjcRgZ0cJbf6-W2TxvFlBA', 'MwpK7PqQX7fgTFM2Pfy61w')\n",
      "('97j2wkFU46OOgm6ErRAb7w', 'JteQGisqOf_pklq7GA0Rww', 'SdXxLZQQnQNUEL1rGMOQ6w')\n",
      "('CLbpPUqP6XpeAfoqScGaJQ', 'drTMOo4p8nL0pnMNEyat2A', 'xhlcoVm3FOKcxZ0phkdO6Q')\n",
      "('H4EQn0rjFuGRgIm6c9NFLg', 'H5Asta4LpiKmRhSjWaogIg', 'e5sdXDOkCf0sIUAivXVluA')\n",
      "('CyrRjt_7iJ8_lSHeH1_TlA', 'JhFK9D3LYl23Se3x4oPUxA', 'ZW-XoteNlRuuK-19q1spmw', 'lL-wNa0TKK6LXrlcVmjYrQ')\n",
      "('0KhRPd66BZGHCtsb9mGh_g', '903YwVSoAKyzudc8LH_HMA', 'JM0GL6Dx4EuZ1mprLk5Gyg', 'JqjAthJThuVYgTh4iWDZ2A', 'XEqQG61fetXhuEV9RPslIA')\n",
      "('1st2ltGKJ00ZcRsev-Ieew', 'LaiylSIbrA3aPvOYtl-J4A', 'ZEq0WtRJD9Bl_vYgCsbfOg', 'e0Jn0ZjqL-dWi7Brs0bbmg', 'fOut10lknIp64tm3z6UTNg', 'wXdrUQg4-VkSZH1FG4Byzw')\n",
      "('4ZQq0ozRs-gXSz1z55iIDw', 'HLY9oDcVBH9D25lU4X_V5Q', 'Hv_q_ZnSIoZwdcoH0CyV2Q', 'Ih85YhFRDzOnB09yS__94g', 'Z9a1tDT8fVI75qXYwNhPpw', 'oegRUjhGbP62M18WyAL6pQ')\n",
      "('0gZ8E5tBWTEtGEZDuTzhzw', '4ONcRRisDZkbV1cviA7nFw', 'LgFDWZTLi1w9OGi5BtKORg', 'ORJnGXXkS9tQBTNyPQJF9A', 'SVC0CajvmYfH5uAq4JnGvg', 'ZZvfGGLnAkSBSUduV7KN-w', 'l-1cva9rA8_ugLrtSdKAqA')\n",
      "('9SWtEX1k9AjRg93BAzMCpg', 'A-U-K9z9oraMH7eBZW1dOA', 'B7IvZ26ZUdL2jGbYsFVGxQ', 'BE4fE4R3TaVn8xy4sYYjbg', 'DgfsJqg_gozVgaeZ5vjllA', 'EI9ijI9Wh66LrVW-GmWkOg', 'FyQrUamokaPLDrBxGmzPnA', 'Gua5GdTlTWJpovtG7Hdtyg', 'LKP0Yq9T7Ss6oiDZnVtQwQ', 'Nf_Jw_W_CwOz5WJ7ApSMxg', 'QUYbGl1DL-9faG150MQ7zA', 'QvLg2kxqHHahxxOlHlEIZw', 'S1cjSFKcS5NVc3o1MkfpwA', 'SX_SMrddkDU5dySbsZMu9A', 'WXlxViTwXHPBvhioljN9PQ', 'YA-caxALI4C-eCiSM97new', 'ZXyGw3Z1DyhK1sfNtpcyYA', 'ae7zi8F0B6l_JCITh1mXDg', 'cyuDrrG5eEK-TZI867MUPA', 'h-ajC_UHD0QAyAzySN6g2A', 'jnn504CkjtfbYIwBquWmBw', 'k24kSTpZHUdEd-QYXLy3fQ', 'k58KNO8Rya-q8njKq8-uBQ', 'mm9WYrFhiNqvHCyhQKw3Mg', 'o-t-i7nbT5N_cmkCXs5oDQ', 'pDNeS1nbkKS7mJmhRQJPig', 'tcWnoX_IfuDmlDl6o6y3_g')\n",
      "('2k8OVAPxlXHsA5X6EIoQpQ', '2xVrxhQJUBmOyG4ML77XKw', '37HswRimgBEf7_US-c3CDA', '5DgFmyjW6hkBtXtTMKl4tA', '5fQ9P6kbQM_E0dx8DL6JWA', '7G8w2SnaC-qDVQ7_GqTxMg', '8oYMqhC5fhqAK_yxRjE7dQ', '9S52XHEyrvOv4OZxU6pCLw', 'DPtOaWemjBPvFiZJBi0m8A', 'IuaAfrkirlfzY3f4PkgSmw', 'JRqMFKGxx6DnTGZrxwQZaA', 'MrsRJa4SWLq8XLU1RtPdlw', 'MtdSCXtmrSxj_uZOJ5ZycQ', 'NUtVG7jNPLJR2cxMXMH2-A', 'NlNlyQynkyEU3l7TR3LXdg', 'PKEzKWv_FktMm2mGPjwd0Q', 'SsOiVav4V5_NjTl21Lj92w', 'TZ974xcbw2kqjYxAhDUYVg', 'UYcmGbelzRa0Q6JqzLoguw', 'UwV6jBuTR1S9acT6bPTBPw', 'VdoTNYWuoXo01umgannw8A', 'WaAOt_eG0_-yLpG3fI--3g', 'Y0-lLNc2Y7gUGXPzSsMueQ', 'ZA1OT-PIZwz2kdHDA6mShw', 'Zk95TMXDx0zMUhYq5u8pxw', 'ajxohdcsKhRGFlEvHZDyTw', 'cIbbfJEGLB3B-c8Po4AL5g', 'dzJDCQ5vubQBJTfYTEmcbg', 'e5kg9bLvlJz-MEUrGjIeVQ', 'fLnkI1uHtXEsjtF6KoBHbQ', 'fcWM-oqjgS94yi1INhZa0g', 'hLVq7VSJBHZwqurwWoCmpg', 'jcriwcTidug0fK8sgAloHA', 'm1IVpXClMox1VGw5hO2LhQ', 'mu4XvWvJOb3XpG1C_CHCWA', 'nOTl4aPC4tKHK35T3bNauQ', 'tekHDsd0fskYG3tqu4sHQw', 'xrvyW1ruKS0uz9RtFewC0Q')\n",
      "('0FMte0z-repSVWSJ_BaQTg', '0FVcoJko1kfZCrJRfssfIA', '1KQi8Ymatd4ySAd4fhSfaw', '23o7tyUGlC6FCDVcyqLeFA', '2XYdguaaZ7dgi6fAlddujg', '2quguRdKBzul3GpRi9e1mA', '39FT2Ui8KUXwmUt6hnwy-g', '4PQhC-zTQ4ACEN0-r39JuQ', '4pc_EyanaC3ARh0MZZyouA', '79yaBDbLASfIdB-C2c8DzA', '7RCz4Ln_FaTvNrdwe251Dg', '7Vfy39A_totC-w70qZi0MA', '9xM8upr_n9jchUDKxqSGHw', 'B0ENvYKQdNNr1Izd2r-BAA', 'BDjiEmXljD2ZHT61Iv9rrQ', 'CebjpVd3PsofCgotWp60pg', 'ChshgCKJTdIDg17JKtFuJw', 'DKolrsBSwMTpTJL22dqJRQ', 'DkLSyxogCcJXY5DbTZ-f2A', 'ELfzWgdf64VBLi5z1ECItw', 'EY8h9IJimXDNbPXVFpYF3A', 'IXD-jdycm7m34b_Nliy82g', 'JLv2Dmfj73-I0d9N41tz1A', 'KLB3wIYUwKDPMbijIE92vg', 'KgJdBWS3ReP6TVhYWJRKmg', 'KtE55izPs1ubJn3ofF2IrA', 'LcCRMIDz1JgshpPGYfLDcA', 'LiNx18WUre9WFCEQlUhtKA', 'O9pMFJSPg80YVzpMfNikxw', 'OoyQYSeYNyRVOmdO3tsxYA', 'PE8s8ACYABRNANI-T_WmzA', 'R4l3ONHzGBakKKNo4TN9iQ', 'S9dDf0JqSMAvusp5f-9bGw', 'T88y73qdOSutuvzLlhWtqQ', 'TjsBbWAfwxWEXPxaLNv5SQ', 'Tk_FWXueutKii3f9yJFsdw', 'UAB1Zyg6Q0oEpXeYRf5K_g', 'WoKCLSctS7G2547xKcED-Q', 'XPAJ2KHkCwBA0vafF-2Zcg', 'XUEwSGOGARxW-3gPiGJKUg', '_Pn-EmWO-pFPFg81ZIEiDw', '_VTEyUzzH92X3w-IpGaXVA', 'ay4M5J28kBUf0odOQct0BA', 'bE7Yd0jI_P6g27MWEKKalA', 'bHufZ2OTlC-OUxBDRXxViw', 'bJguBxPlnTW29tRTAF0nkQ', 'bSUS0YcvS7UelmHvCzNWBA', 'bbK1mL-AyYCHZncDQ_4RgA', 'cm3_8c_NDhPcpwJQ96Aixw', 'dTeSvET2SR5LDF_J07wJAQ', 'dW6bAWM1HbPdk_cGS_a2HA', 'e8uzNcSC5tQMD22GNAQEQA', 'hd343st7cOIUSfAd5r0U7A', 'hilL60vuuh06sMxs6Ckkog', 'hqmnMdDS-Opjp3BfBJA8qA', 'j8Dts8irvVBwEhEEae_-wA', 'jPcrABeWgWlTPi-E0Op_aA', 'jgoG_hHqnhZvQEoBK0-82w', 'kwIhn1_cnQeUaLN0CuWWHw', 'ma6206bmu-a_Ja7Iv-yRCw', 'mnoe2vwouRADn97dTDkw4A', 'p9942XebvxZ9ubHm4SXmMQ', 'qd16czwFUVHICKF7A4qWsQ', 'qtOCfMTrozmUSHWIcohc6Q', 'sBqCpEUn0qYdpSF4DbWlAQ', 'sO6iNKgv_ToVfof-aQWgXg', 'sdLns7062kz3Ur_b8wgeYw', 'tL2pS5UOmN6aAOi3Z-qFGg', 'tRZAC_H5RHrjvyvtufcNXQ', 'voXU5A3FfOcXZ2VNsJ0q4w', 'waN6iwcphiVEoCews4f4CA', 'y6jsaAXFstAJkf53R4_y4Q', 'yCaDISH0R8e5U376zDWTpQ', 'zBi_JWB5uUdVuz3JLoAxGQ')\n"
     ]
    }
   ],
   "source": [
    "for x in result:\n",
    "    print(x)"
   ]
  },
  {
   "cell_type": "code",
   "execution_count": 22,
   "metadata": {
    "ExecuteTime": {
     "end_time": "2020-04-01T09:28:10.724487Z",
     "start_time": "2020-04-01T09:28:10.714805Z"
    }
   },
   "outputs": [
    {
     "data": {
      "text/plain": [
       "44"
      ]
     },
     "execution_count": 22,
     "metadata": {},
     "output_type": "execute_result"
    }
   ],
   "source": [
    "len(result)"
   ]
  },
  {
   "cell_type": "code",
   "execution_count": null,
   "metadata": {},
   "outputs": [],
   "source": []
  }
 ],
 "metadata": {
  "kernelspec": {
   "display_name": "inf553",
   "language": "python",
   "name": "inf553"
  },
  "language_info": {
   "codemirror_mode": {
    "name": "ipython",
    "version": 3
   },
   "file_extension": ".py",
   "mimetype": "text/x-python",
   "name": "python",
   "nbconvert_exporter": "python",
   "pygments_lexer": "ipython3",
   "version": "3.6.10"
  },
  "toc": {
   "base_numbering": 1,
   "nav_menu": {},
   "number_sections": true,
   "sideBar": true,
   "skip_h1_title": false,
   "title_cell": "Table of Contents",
   "title_sidebar": "Contents",
   "toc_cell": false,
   "toc_position": {},
   "toc_section_display": true,
   "toc_window_display": false
  }
 },
 "nbformat": 4,
 "nbformat_minor": 4
}

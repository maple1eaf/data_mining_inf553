{
 "cells": [
  {
   "cell_type": "code",
   "execution_count": 1,
   "metadata": {
    "ExecuteTime": {
     "end_time": "2020-03-31T10:38:28.781866Z",
     "start_time": "2020-03-31T10:38:28.774559Z"
    }
   },
   "outputs": [],
   "source": [
    "import findspark\n",
    "findspark.init()"
   ]
  },
  {
   "cell_type": "code",
   "execution_count": 2,
   "metadata": {
    "ExecuteTime": {
     "end_time": "2020-03-31T10:38:29.635315Z",
     "start_time": "2020-03-31T10:38:29.236385Z"
    }
   },
   "outputs": [],
   "source": [
    "import sys\n",
    "import time\n",
    "import json\n",
    "import os\n",
    "\n",
    "from pyspark import SparkConf, SparkContext, StorageLevel"
   ]
  },
  {
   "cell_type": "code",
   "execution_count": 3,
   "metadata": {
    "ExecuteTime": {
     "end_time": "2020-03-31T10:38:30.021018Z",
     "start_time": "2020-03-31T10:38:30.018213Z"
    }
   },
   "outputs": [],
   "source": [
    "import importlib"
   ]
  },
  {
   "cell_type": "code",
   "execution_count": 4,
   "metadata": {
    "ExecuteTime": {
     "end_time": "2020-03-31T10:38:30.996370Z",
     "start_time": "2020-03-31T10:38:30.992611Z"
    }
   },
   "outputs": [],
   "source": [
    "import task2support"
   ]
  },
  {
   "cell_type": "code",
   "execution_count": 5,
   "metadata": {
    "ExecuteTime": {
     "end_time": "2020-03-31T10:38:31.361275Z",
     "start_time": "2020-03-31T10:38:31.351146Z"
    }
   },
   "outputs": [
    {
     "data": {
      "text/plain": [
       "<module 'task2support' from '/Users/markduan/duan/USC_course/USC_APDS/INF553/homework/hw4/python/task2/task2support.py'>"
      ]
     },
     "execution_count": 5,
     "metadata": {},
     "output_type": "execute_result"
    }
   ],
   "source": [
    "importlib.reload(task2support)"
   ]
  },
  {
   "cell_type": "code",
   "execution_count": 6,
   "metadata": {
    "ExecuteTime": {
     "end_time": "2020-03-31T10:38:34.039222Z",
     "start_time": "2020-03-31T10:38:31.985469Z"
    }
   },
   "outputs": [],
   "source": [
    "conf = SparkConf() \\\n",
    "    .setAppName(\"task2\") \\\n",
    "    .setMaster(\"local[*]\") \\\n",
    "    .set(\"spark.driver.memory\",\"4g\")\n",
    "sc = SparkContext(conf=conf)\n",
    "sc.setLogLevel(\"ERROR\")"
   ]
  },
  {
   "cell_type": "code",
   "execution_count": 7,
   "metadata": {
    "ExecuteTime": {
     "end_time": "2020-03-31T10:38:34.048551Z",
     "start_time": "2020-03-31T10:38:34.041757Z"
    }
   },
   "outputs": [],
   "source": [
    "\"\"\"\n",
    "spark-submit task2.py <filter_threshold> <input_file_path> <betweenness_output_file_path> <community_output_file_path>\n",
    "\"\"\"\n",
    "filter_threshold = 7\n",
    "input_file_path = \"file:///Users/markduan/duan/USC_course/USC_APDS/INF553/homework/hw4/data/ub_sample_data.csv\"\n",
    "betweenness_output_file_path = \"./output/betweenness_jupyter.txt\"\n",
    "community_output_file_path = \"./output/community_jupyter.txt\""
   ]
  },
  {
   "cell_type": "code",
   "execution_count": 8,
   "metadata": {
    "ExecuteTime": {
     "end_time": "2020-03-31T10:38:35.708228Z",
     "start_time": "2020-03-31T10:38:34.052106Z"
    }
   },
   "outputs": [],
   "source": [
    "data_with_header = sc.textFile(input_file_path)\n",
    "header = data_with_header.first()\n",
    "distinct_data = data_with_header.filter(lambda l: l != header) \\\n",
    "    .map(lambda l: tuple(l.split(','))) \\\n",
    "    .distinct()\\\n",
    "    .persist(StorageLevel.MEMORY_AND_DISK)\n",
    "# distinct_data: RDD - [(uid, bid), ...]"
   ]
  },
  {
   "cell_type": "code",
   "execution_count": 9,
   "metadata": {
    "ExecuteTime": {
     "end_time": "2020-03-31T10:38:36.384556Z",
     "start_time": "2020-03-31T10:38:35.709793Z"
    }
   },
   "outputs": [],
   "source": [
    "uid_map_table = distinct_data.map(lambda x: x[0]).distinct().collect()\n",
    "bid_map_table = distinct_data.map(lambda x: x[1]).distinct().collect()"
   ]
  },
  {
   "cell_type": "code",
   "execution_count": 10,
   "metadata": {
    "ExecuteTime": {
     "end_time": "2020-03-31T10:38:38.998513Z",
     "start_time": "2020-03-31T10:38:36.386137Z"
    }
   },
   "outputs": [],
   "source": [
    "baskets = distinct_data.map(lambda x: (uid_map_table.index(x[0]), bid_map_table.index(x[1])))\\\n",
    "    .map(lambda x: (x[0], [x[1]])) \\\n",
    "    .reduceByKey(lambda x, y: x + y) \\\n",
    "    .collectAsMap()"
   ]
  },
  {
   "cell_type": "code",
   "execution_count": 11,
   "metadata": {
    "ExecuteTime": {
     "end_time": "2020-03-31T10:38:39.004015Z",
     "start_time": "2020-03-31T10:38:39.000758Z"
    }
   },
   "outputs": [],
   "source": [
    "uids = sorted(list(baskets.keys()))"
   ]
  },
  {
   "cell_type": "code",
   "execution_count": 12,
   "metadata": {
    "ExecuteTime": {
     "end_time": "2020-03-31T10:38:39.009780Z",
     "start_time": "2020-03-31T10:38:39.007061Z"
    }
   },
   "outputs": [],
   "source": [
    "uids_length = len(uids)"
   ]
  },
  {
   "cell_type": "code",
   "execution_count": 13,
   "metadata": {
    "ExecuteTime": {
     "end_time": "2020-03-31T10:38:44.829500Z",
     "start_time": "2020-03-31T10:38:39.012180Z"
    }
   },
   "outputs": [],
   "source": [
    "edges_list = []\n",
    "vertices_have_link = set([])\n",
    "for i in range(uids_length):\n",
    "    uid1 = uids[i]\n",
    "    set1 = set(baskets[uid1])\n",
    "    for j in range(i+1, uids_length):\n",
    "        uid2 = uids[j]\n",
    "        set2 = set(baskets[uid2])\n",
    "        if len(set1.intersection(set2)) >= filter_threshold:\n",
    "            edges_list.append((uid1, uid2, 1))\n",
    "            vertices_have_link.add(uid1)\n",
    "            vertices_have_link.add(uid2)"
   ]
  },
  {
   "cell_type": "code",
   "execution_count": 14,
   "metadata": {
    "ExecuteTime": {
     "end_time": "2020-03-31T10:38:44.836471Z",
     "start_time": "2020-03-31T10:38:44.831295Z"
    }
   },
   "outputs": [
    {
     "data": {
      "text/plain": [
       "222"
      ]
     },
     "execution_count": 14,
     "metadata": {},
     "output_type": "execute_result"
    }
   ],
   "source": [
    "len(vertices_have_link)"
   ]
  },
  {
   "cell_type": "code",
   "execution_count": 15,
   "metadata": {
    "ExecuteTime": {
     "end_time": "2020-03-31T10:38:44.844409Z",
     "start_time": "2020-03-31T10:38:44.838953Z"
    }
   },
   "outputs": [],
   "source": [
    "g = task2support.UndirectedGraph(vertices=vertices_have_link, edges=edges_list)"
   ]
  },
  {
   "cell_type": "code",
   "execution_count": 16,
   "metadata": {
    "ExecuteTime": {
     "end_time": "2020-03-31T10:38:50.558426Z",
     "start_time": "2020-03-31T10:38:44.847448Z"
    }
   },
   "outputs": [],
   "source": [
    "optimal_groups = g.getOptimalClustersBasedOnModularity()"
   ]
  },
  {
   "cell_type": "code",
   "execution_count": 17,
   "metadata": {
    "ExecuteTime": {
     "end_time": "2020-03-31T10:38:53.829436Z",
     "start_time": "2020-03-31T10:38:53.824852Z"
    }
   },
   "outputs": [
    {
     "data": {
      "text/plain": [
       "19"
      ]
     },
     "execution_count": 17,
     "metadata": {},
     "output_type": "execute_result"
    }
   ],
   "source": [
    "len(optimal_groups)"
   ]
  },
  {
   "cell_type": "code",
   "execution_count": 18,
   "metadata": {
    "ExecuteTime": {
     "end_time": "2020-03-31T10:38:59.893222Z",
     "start_time": "2020-03-31T10:38:59.884912Z"
    }
   },
   "outputs": [
    {
     "data": {
      "text/plain": [
       "[[0,\n",
       "  5,\n",
       "  10,\n",
       "  14,\n",
       "  16,\n",
       "  19,\n",
       "  20,\n",
       "  23,\n",
       "  28,\n",
       "  29,\n",
       "  30,\n",
       "  32,\n",
       "  44,\n",
       "  59,\n",
       "  108,\n",
       "  125,\n",
       "  215,\n",
       "  221,\n",
       "  246,\n",
       "  1,\n",
       "  22,\n",
       "  25,\n",
       "  27,\n",
       "  33,\n",
       "  60,\n",
       "  66,\n",
       "  67,\n",
       "  73,\n",
       "  82,\n",
       "  109,\n",
       "  189,\n",
       "  204,\n",
       "  245,\n",
       "  248,\n",
       "  260,\n",
       "  614,\n",
       "  678,\n",
       "  861,\n",
       "  336,\n",
       "  4,\n",
       "  102,\n",
       "  146,\n",
       "  505,\n",
       "  662,\n",
       "  275,\n",
       "  550,\n",
       "  673,\n",
       "  7,\n",
       "  282,\n",
       "  21,\n",
       "  68,\n",
       "  84,\n",
       "  142,\n",
       "  148,\n",
       "  250,\n",
       "  322,\n",
       "  346,\n",
       "  363,\n",
       "  496,\n",
       "  497,\n",
       "  549,\n",
       "  606,\n",
       "  617,\n",
       "  701,\n",
       "  702,\n",
       "  1112,\n",
       "  1136,\n",
       "  1248,\n",
       "  1573,\n",
       "  1603,\n",
       "  735,\n",
       "  1829,\n",
       "  72,\n",
       "  91,\n",
       "  508,\n",
       "  36,\n",
       "  1333],\n",
       " [2, 6, 213, 38],\n",
       " [3,\n",
       "  12,\n",
       "  18,\n",
       "  26,\n",
       "  37,\n",
       "  39,\n",
       "  41,\n",
       "  42,\n",
       "  46,\n",
       "  50,\n",
       "  52,\n",
       "  100,\n",
       "  111,\n",
       "  121,\n",
       "  174,\n",
       "  192,\n",
       "  233,\n",
       "  235,\n",
       "  277,\n",
       "  332,\n",
       "  389,\n",
       "  463,\n",
       "  825,\n",
       "  910,\n",
       "  71,\n",
       "  81,\n",
       "  326,\n",
       "  320,\n",
       "  445,\n",
       "  75,\n",
       "  120,\n",
       "  170,\n",
       "  197,\n",
       "  1230,\n",
       "  293,\n",
       "  43,\n",
       "  218,\n",
       "  303,\n",
       "  573,\n",
       "  1150,\n",
       "  88,\n",
       "  350,\n",
       "  804,\n",
       "  137,\n",
       "  190,\n",
       "  399],\n",
       " [8, 114, 1644, 2635],\n",
       " [1547, 626, 1371, 1851, 1814, 1863, 1890, 3152, 3163, 3164, 3165],\n",
       " [1551,\n",
       "  588,\n",
       "  869,\n",
       "  1080,\n",
       "  1083,\n",
       "  1366,\n",
       "  1376,\n",
       "  1444,\n",
       "  1534,\n",
       "  1340,\n",
       "  1351,\n",
       "  1367,\n",
       "  1596,\n",
       "  2122,\n",
       "  2124,\n",
       "  2145,\n",
       "  2167,\n",
       "  2191,\n",
       "  3007,\n",
       "  3138,\n",
       "  3139,\n",
       "  3144,\n",
       "  3150,\n",
       "  3155,\n",
       "  3173,\n",
       "  3177,\n",
       "  3198,\n",
       "  1069,\n",
       "  1697,\n",
       "  2172,\n",
       "  2576,\n",
       "  2587,\n",
       "  2837],\n",
       " [31,\n",
       "  504,\n",
       "  1790,\n",
       "  642,\n",
       "  1081,\n",
       "  1365,\n",
       "  1519,\n",
       "  1670,\n",
       "  2630,\n",
       "  2854,\n",
       "  3019,\n",
       "  777,\n",
       "  2741,\n",
       "  2292],\n",
       " [49, 95, 122],\n",
       " [58, 159, 241],\n",
       " [62, 74, 127, 742, 173, 205],\n",
       " [1086, 509, 1520, 1813, 1992],\n",
       " [584, 1060],\n",
       " [3171, 3199],\n",
       " [107, 670],\n",
       " [149, 1334],\n",
       " [694, 698],\n",
       " [1804, 294],\n",
       " [3363, 3364],\n",
       " [374, 468]]"
      ]
     },
     "execution_count": 18,
     "metadata": {},
     "output_type": "execute_result"
    }
   ],
   "source": [
    "optimal_groups"
   ]
  },
  {
   "cell_type": "code",
   "execution_count": 19,
   "metadata": {
    "ExecuteTime": {
     "end_time": "2020-03-31T10:40:24.352775Z",
     "start_time": "2020-03-31T10:40:24.349242Z"
    }
   },
   "outputs": [],
   "source": [
    "for group in optimal_groups:\n",
    "    for i in range(len(group)):\n",
    "        group[i] = uid_map_table[group[i]]"
   ]
  },
  {
   "cell_type": "code",
   "execution_count": 21,
   "metadata": {
    "ExecuteTime": {
     "end_time": "2020-03-31T10:40:37.764551Z",
     "start_time": "2020-03-31T10:40:37.760134Z"
    }
   },
   "outputs": [
    {
     "name": "stdout",
     "output_type": "stream",
     "text": [
      "['39FT2Ui8KUXwmUt6hnwy-g', 'bSUS0YcvS7UelmHvCzNWBA', 'DKolrsBSwMTpTJL22dqJRQ', 'sdLns7062kz3Ur_b8wgeYw', '_VTEyUzzH92X3w-IpGaXVA', 'qtOCfMTrozmUSHWIcohc6Q', 'zBi_JWB5uUdVuz3JLoAxGQ', 'KLB3wIYUwKDPMbijIE92vg', '1KQi8Ymatd4ySAd4fhSfaw', '_Pn-EmWO-pFPFg81ZIEiDw', 'dTeSvET2SR5LDF_J07wJAQ', 'ay4M5J28kBUf0odOQct0BA', 'OoyQYSeYNyRVOmdO3tsxYA', 'PE8s8ACYABRNANI-T_WmzA', '79yaBDbLASfIdB-C2c8DzA', 'R4l3ONHzGBakKKNo4TN9iQ', 'bHufZ2OTlC-OUxBDRXxViw', 'ChshgCKJTdIDg17JKtFuJw', 'B0ENvYKQdNNr1Izd2r-BAA', '0FVcoJko1kfZCrJRfssfIA', '4pc_EyanaC3ARh0MZZyouA', '2XYdguaaZ7dgi6fAlddujg', 'bE7Yd0jI_P6g27MWEKKalA', 'sBqCpEUn0qYdpSF4DbWlAQ', '7RCz4Ln_FaTvNrdwe251Dg', 'y6jsaAXFstAJkf53R4_y4Q', 'tL2pS5UOmN6aAOi3Z-qFGg', 'dW6bAWM1HbPdk_cGS_a2HA', 'CebjpVd3PsofCgotWp60pg', '2quguRdKBzul3GpRi9e1mA', 'T88y73qdOSutuvzLlhWtqQ', 'DkLSyxogCcJXY5DbTZ-f2A', 'WoKCLSctS7G2547xKcED-Q', 'bJguBxPlnTW29tRTAF0nkQ', 'tRZAC_H5RHrjvyvtufcNXQ', 'KtE55izPs1ubJn3ofF2IrA', 'hqmnMdDS-Opjp3BfBJA8qA', '4PQhC-zTQ4ACEN0-r39JuQ', 'hd343st7cOIUSfAd5r0U7A', 'LcCRMIDz1JgshpPGYfLDcA', 'jPcrABeWgWlTPi-E0Op_aA', 'S9dDf0JqSMAvusp5f-9bGw', 'cm3_8c_NDhPcpwJQ96Aixw', 'XPAJ2KHkCwBA0vafF-2Zcg', 'e8uzNcSC5tQMD22GNAQEQA', 'O9pMFJSPg80YVzpMfNikxw', 'mnoe2vwouRADn97dTDkw4A', '23o7tyUGlC6FCDVcyqLeFA', 'ELfzWgdf64VBLi5z1ECItw', 'EiwxlbR8fb68lMgEXhcWKA', 'SdXxLZQQnQNUEL1rGMOQ6w', 'KgJdBWS3ReP6TVhYWJRKmg', 'Ams0iLRd0AhZZectGKA8fw', '97j2wkFU46OOgm6ErRAb7w', 'JLv2Dmfj73-I0d9N41tz1A', '7Vfy39A_totC-w70qZi0MA', 'UAB1Zyg6Q0oEpXeYRf5K_g', 'voXU5A3FfOcXZ2VNsJ0q4w', 'ma6206bmu-a_Ja7Iv-yRCw', 'yCaDISH0R8e5U376zDWTpQ', 'BDjiEmXljD2ZHT61Iv9rrQ', 'p9942XebvxZ9ubHm4SXmMQ', '0FMte0z-repSVWSJ_BaQTg', 'XUEwSGOGARxW-3gPiGJKUg', 'bbK1mL-AyYCHZncDQ_4RgA', 'waN6iwcphiVEoCews4f4CA', 'IXD-jdycm7m34b_Nliy82g', 'TjsBbWAfwxWEXPxaLNv5SQ', 'j8Dts8irvVBwEhEEae_-wA', 'sO6iNKgv_ToVfof-aQWgXg', 'Tk_FWXueutKii3f9yJFsdw', '9xM8upr_n9jchUDKxqSGHw', '0QREkWHGO8-Z_70qx1BIWw', 'KHjroLTG6Ah8LyItTyB2yw', 'tAcY4S3vIuNlAoRlCcz5VA', 'JteQGisqOf_pklq7GA0Rww', 'kKTcYPz47sCDH1_ylnE4ZQ']\n",
      "['_6Zg4ukwS0kst9UtkfVw3w', 'lJFBgSAccsMGwIjfD7LMeQ', 'QRsuZ_LqrRU65dTs5CL4Lw', 'Gr-MqCunME2K_KmsAwjpTA']\n",
      "['JM0GL6Dx4EuZ1mprLk5Gyg', 'MtdSCXtmrSxj_uZOJ5ZycQ', 'm1IVpXClMox1VGw5hO2LhQ', 'IuaAfrkirlfzY3f4PkgSmw', 'dzJDCQ5vubQBJTfYTEmcbg', 'mu4XvWvJOb3XpG1C_CHCWA', 'tekHDsd0fskYG3tqu4sHQw', 'ZA1OT-PIZwz2kdHDA6mShw', 'hLVq7VSJBHZwqurwWoCmpg', '5fQ9P6kbQM_E0dx8DL6JWA', 'e5kg9bLvlJz-MEUrGjIeVQ', 'TZ974xcbw2kqjYxAhDUYVg', '8oYMqhC5fhqAK_yxRjE7dQ', 'fLnkI1uHtXEsjtF6KoBHbQ', 'ajxohdcsKhRGFlEvHZDyTw', '5DgFmyjW6hkBtXtTMKl4tA', '7G8w2SnaC-qDVQ7_GqTxMg', 'NUtVG7jNPLJR2cxMXMH2-A', 'jcriwcTidug0fK8sgAloHA', 'NlNlyQynkyEU3l7TR3LXdg', 'UYcmGbelzRa0Q6JqzLoguw', 'Zk95TMXDx0zMUhYq5u8pxw', 'JRqMFKGxx6DnTGZrxwQZaA', '2k8OVAPxlXHsA5X6EIoQpQ', 'SsOiVav4V5_NjTl21Lj92w', 'UwV6jBuTR1S9acT6bPTBPw', '2xVrxhQJUBmOyG4ML77XKw', '903YwVSoAKyzudc8LH_HMA', 'Y0-lLNc2Y7gUGXPzSsMueQ', '0KhRPd66BZGHCtsb9mGh_g', 'DPtOaWemjBPvFiZJBi0m8A', 'PKEzKWv_FktMm2mGPjwd0Q', 'xrvyW1ruKS0uz9RtFewC0Q', 'MrsRJa4SWLq8XLU1RtPdlw', 'XEqQG61fetXhuEV9RPslIA', '37HswRimgBEf7_US-c3CDA', 'fcWM-oqjgS94yi1INhZa0g', 'cIbbfJEGLB3B-c8Po4AL5g', 'WaAOt_eG0_-yLpG3fI--3g', 'VdoTNYWuoXo01umgannw8A', '750rhwO7D_Cul7_GtO9Jsg', 'MwpK7PqQX7fgTFM2Pfy61w', 'DjcRgZ0cJbf6-W2TxvFlBA', 'nOTl4aPC4tKHK35T3bNauQ', '9S52XHEyrvOv4OZxU6pCLw', 'JqjAthJThuVYgTh4iWDZ2A']\n",
      "['CLbpPUqP6XpeAfoqScGaJQ', 'tX0r-C9BaHYEolRUfufTsQ', 'xhlcoVm3FOKcxZ0phkdO6Q', 'drTMOo4p8nL0pnMNEyat2A']\n",
      "['2GUjO7NU88cPXpoffYCU8w', 'a48HhwcmjFLApZhiax41IA', 'XrRLaAeV20MRwdSIGjj2SQ', '6xi9tBoZ6r_v41u_XFsSnA', 'BDmxm7aeWFOLT35gSvkmig', 'H5Asta4LpiKmRhSjWaogIg', 'H4EQn0rjFuGRgIm6c9NFLg', 'frQs7y5qa-X1pvAM0sJe1w', 'angEr2YcXmCl20s8WQu32w', 'e5sdXDOkCf0sIUAivXVluA', '6YmRpoIuiq8I19Q8dHKTHw']\n",
      "['jnn504CkjtfbYIwBquWmBw', 'mm9WYrFhiNqvHCyhQKw3Mg', 'pDNeS1nbkKS7mJmhRQJPig', 'Gua5GdTlTWJpovtG7Hdtyg', 'QvLg2kxqHHahxxOlHlEIZw', 'cyuDrrG5eEK-TZI867MUPA', 'A-U-K9z9oraMH7eBZW1dOA', 'B7IvZ26ZUdL2jGbYsFVGxQ', 'S1cjSFKcS5NVc3o1MkfpwA', 'LKP0Yq9T7Ss6oiDZnVtQwQ', 'tcWnoX_IfuDmlDl6o6y3_g', 'o-t-i7nbT5N_cmkCXs5oDQ', 'k24kSTpZHUdEd-QYXLy3fQ', 'ae7zi8F0B6l_JCITh1mXDg', 'Nf_Jw_W_CwOz5WJ7ApSMxg', 'EI9ijI9Wh66LrVW-GmWkOg', 'SX_SMrddkDU5dySbsZMu9A', 'YA-caxALI4C-eCiSM97new', 'QUYbGl1DL-9faG150MQ7zA', 'k58KNO8Rya-q8njKq8-uBQ', 'WXlxViTwXHPBvhioljN9PQ', 'h-ajC_UHD0QAyAzySN6g2A', 'BE4fE4R3TaVn8xy4sYYjbg', 'FyQrUamokaPLDrBxGmzPnA', 'DgfsJqg_gozVgaeZ5vjllA', 'ZXyGw3Z1DyhK1sfNtpcyYA', '9SWtEX1k9AjRg93BAzMCpg', '0gZ8E5tBWTEtGEZDuTzhzw', 'ZZvfGGLnAkSBSUduV7KN-w', 'ORJnGXXkS9tQBTNyPQJF9A', 'SVC0CajvmYfH5uAq4JnGvg', 'LgFDWZTLi1w9OGi5BtKORg', '4ONcRRisDZkbV1cviA7nFw']\n",
      "['1st2ltGKJ00ZcRsev-Ieew', 'HLY9oDcVBH9D25lU4X_V5Q', 'Hv_q_ZnSIoZwdcoH0CyV2Q', '4ZQq0ozRs-gXSz1z55iIDw', 'oegRUjhGbP62M18WyAL6pQ', 'wXdrUQg4-VkSZH1FG4Byzw', 'e0Jn0ZjqL-dWi7Brs0bbmg', 'l-1cva9rA8_ugLrtSdKAqA', 'LaiylSIbrA3aPvOYtl-J4A', 'ZEq0WtRJD9Bl_vYgCsbfOg', 'fOut10lknIp64tm3z6UTNg', 'Z9a1tDT8fVI75qXYwNhPpw', 'Ih85YhFRDzOnB09yS__94g', 'KBoIRjxSW7OWczv8OS9Bew']\n",
      "['UmTMCfPlhA6kJLAsLycSfg', '9W73B44Iw8WslrTNB2CdCg', 'Uo5dPwoDpYBzOnmUnjxJ6A']\n",
      "['98rLDXbloLXekGjieuQSlA', 'QYKexxaOJQlseGWmc6soRg', 'MJ0Wphhko2-LbJ0uZ5XyQA']\n",
      "['qd16czwFUVHICKF7A4qWsQ', 'kwIhn1_cnQeUaLN0CuWWHw', 'hilL60vuuh06sMxs6Ckkog', 'jgoG_hHqnhZvQEoBK0-82w', 'EY8h9IJimXDNbPXVFpYF3A', 'LiNx18WUre9WFCEQlUhtKA']\n",
      "['lL-wNa0TKK6LXrlcVmjYrQ', 'Cf0chERnfd06ltnN45xLNQ', 'ZW-XoteNlRuuK-19q1spmw', 'CyrRjt_7iJ8_lSHeH1_TlA', 'JhFK9D3LYl23Se3x4oPUxA']\n",
      "['F47atsRPw-KHmRVk5exBFw', 'JeOHA8tW7gr-FDYOcPJoeA']\n",
      "['gH0dJQhyKUOVCKQA6sqAnw', '453V8MlGr8y61PpsDAFjKQ']\n",
      "['d5WLqmTMvmL7-RmUDVKqqQ', 'Si3aMsOVGSVlsc54iuiPwA']\n",
      "['vENR70IrUsDNTDebbuxyQA', '_m1ot2zZetDgjerAD2Sidg']\n",
      "['jSbXY_rno4hYHQCFftsWXg', '3Vd_ATdvvuVVgn_YCpz8fw']\n",
      "['23y0Nv9FFWn_3UWudpnFMA', 'eqWEgMH-DCP74i82BEAZzw']\n",
      "['YVQFzWm0H72mLUh-8gzd5w', '46HhzhpBfTdTSB5ceTx_Og']\n",
      "['gUu0uaiU7UEUVIgCdnqPVQ', 'jJDUCuPwVqwjbth3s92whA']\n"
     ]
    }
   ],
   "source": [
    "for r in optimal_groups:\n",
    "    print(r)"
   ]
  },
  {
   "cell_type": "code",
   "execution_count": 24,
   "metadata": {
    "ExecuteTime": {
     "end_time": "2020-03-31T10:41:29.155603Z",
     "start_time": "2020-03-31T10:41:29.151157Z"
    }
   },
   "outputs": [],
   "source": [
    "def rearrageCommunity(communities):\n",
    "    for item in communities:\n",
    "        item.sort()\n",
    "    communities.sort(key=lambda x: x[0])\n",
    "    communities.sort(key=lambda x: len(x))\n",
    "    return communities"
   ]
  },
  {
   "cell_type": "code",
   "execution_count": 25,
   "metadata": {
    "ExecuteTime": {
     "end_time": "2020-03-31T10:41:31.103107Z",
     "start_time": "2020-03-31T10:41:31.100155Z"
    }
   },
   "outputs": [],
   "source": [
    "res = rearrageCommunity(optimal_groups)"
   ]
  },
  {
   "cell_type": "code",
   "execution_count": 26,
   "metadata": {
    "ExecuteTime": {
     "end_time": "2020-03-31T10:41:40.135083Z",
     "start_time": "2020-03-31T10:41:40.130663Z"
    },
    "scrolled": true
   },
   "outputs": [
    {
     "name": "stdout",
     "output_type": "stream",
     "text": [
      "['23y0Nv9FFWn_3UWudpnFMA', 'eqWEgMH-DCP74i82BEAZzw']\n",
      "['3Vd_ATdvvuVVgn_YCpz8fw', 'jSbXY_rno4hYHQCFftsWXg']\n",
      "['453V8MlGr8y61PpsDAFjKQ', 'gH0dJQhyKUOVCKQA6sqAnw']\n",
      "['46HhzhpBfTdTSB5ceTx_Og', 'YVQFzWm0H72mLUh-8gzd5w']\n",
      "['F47atsRPw-KHmRVk5exBFw', 'JeOHA8tW7gr-FDYOcPJoeA']\n",
      "['Si3aMsOVGSVlsc54iuiPwA', 'd5WLqmTMvmL7-RmUDVKqqQ']\n",
      "['_m1ot2zZetDgjerAD2Sidg', 'vENR70IrUsDNTDebbuxyQA']\n",
      "['gUu0uaiU7UEUVIgCdnqPVQ', 'jJDUCuPwVqwjbth3s92whA']\n",
      "['98rLDXbloLXekGjieuQSlA', 'MJ0Wphhko2-LbJ0uZ5XyQA', 'QYKexxaOJQlseGWmc6soRg']\n",
      "['9W73B44Iw8WslrTNB2CdCg', 'UmTMCfPlhA6kJLAsLycSfg', 'Uo5dPwoDpYBzOnmUnjxJ6A']\n",
      "['CLbpPUqP6XpeAfoqScGaJQ', 'drTMOo4p8nL0pnMNEyat2A', 'tX0r-C9BaHYEolRUfufTsQ', 'xhlcoVm3FOKcxZ0phkdO6Q']\n",
      "['Gr-MqCunME2K_KmsAwjpTA', 'QRsuZ_LqrRU65dTs5CL4Lw', '_6Zg4ukwS0kst9UtkfVw3w', 'lJFBgSAccsMGwIjfD7LMeQ']\n",
      "['Cf0chERnfd06ltnN45xLNQ', 'CyrRjt_7iJ8_lSHeH1_TlA', 'JhFK9D3LYl23Se3x4oPUxA', 'ZW-XoteNlRuuK-19q1spmw', 'lL-wNa0TKK6LXrlcVmjYrQ']\n",
      "['EY8h9IJimXDNbPXVFpYF3A', 'LiNx18WUre9WFCEQlUhtKA', 'hilL60vuuh06sMxs6Ckkog', 'jgoG_hHqnhZvQEoBK0-82w', 'kwIhn1_cnQeUaLN0CuWWHw', 'qd16czwFUVHICKF7A4qWsQ']\n",
      "['2GUjO7NU88cPXpoffYCU8w', '6YmRpoIuiq8I19Q8dHKTHw', '6xi9tBoZ6r_v41u_XFsSnA', 'BDmxm7aeWFOLT35gSvkmig', 'H4EQn0rjFuGRgIm6c9NFLg', 'H5Asta4LpiKmRhSjWaogIg', 'XrRLaAeV20MRwdSIGjj2SQ', 'a48HhwcmjFLApZhiax41IA', 'angEr2YcXmCl20s8WQu32w', 'e5sdXDOkCf0sIUAivXVluA', 'frQs7y5qa-X1pvAM0sJe1w']\n",
      "['1st2ltGKJ00ZcRsev-Ieew', '4ZQq0ozRs-gXSz1z55iIDw', 'HLY9oDcVBH9D25lU4X_V5Q', 'Hv_q_ZnSIoZwdcoH0CyV2Q', 'Ih85YhFRDzOnB09yS__94g', 'KBoIRjxSW7OWczv8OS9Bew', 'LaiylSIbrA3aPvOYtl-J4A', 'Z9a1tDT8fVI75qXYwNhPpw', 'ZEq0WtRJD9Bl_vYgCsbfOg', 'e0Jn0ZjqL-dWi7Brs0bbmg', 'fOut10lknIp64tm3z6UTNg', 'l-1cva9rA8_ugLrtSdKAqA', 'oegRUjhGbP62M18WyAL6pQ', 'wXdrUQg4-VkSZH1FG4Byzw']\n",
      "['0gZ8E5tBWTEtGEZDuTzhzw', '4ONcRRisDZkbV1cviA7nFw', '9SWtEX1k9AjRg93BAzMCpg', 'A-U-K9z9oraMH7eBZW1dOA', 'B7IvZ26ZUdL2jGbYsFVGxQ', 'BE4fE4R3TaVn8xy4sYYjbg', 'DgfsJqg_gozVgaeZ5vjllA', 'EI9ijI9Wh66LrVW-GmWkOg', 'FyQrUamokaPLDrBxGmzPnA', 'Gua5GdTlTWJpovtG7Hdtyg', 'LKP0Yq9T7Ss6oiDZnVtQwQ', 'LgFDWZTLi1w9OGi5BtKORg', 'Nf_Jw_W_CwOz5WJ7ApSMxg', 'ORJnGXXkS9tQBTNyPQJF9A', 'QUYbGl1DL-9faG150MQ7zA', 'QvLg2kxqHHahxxOlHlEIZw', 'S1cjSFKcS5NVc3o1MkfpwA', 'SVC0CajvmYfH5uAq4JnGvg', 'SX_SMrddkDU5dySbsZMu9A', 'WXlxViTwXHPBvhioljN9PQ', 'YA-caxALI4C-eCiSM97new', 'ZXyGw3Z1DyhK1sfNtpcyYA', 'ZZvfGGLnAkSBSUduV7KN-w', 'ae7zi8F0B6l_JCITh1mXDg', 'cyuDrrG5eEK-TZI867MUPA', 'h-ajC_UHD0QAyAzySN6g2A', 'jnn504CkjtfbYIwBquWmBw', 'k24kSTpZHUdEd-QYXLy3fQ', 'k58KNO8Rya-q8njKq8-uBQ', 'mm9WYrFhiNqvHCyhQKw3Mg', 'o-t-i7nbT5N_cmkCXs5oDQ', 'pDNeS1nbkKS7mJmhRQJPig', 'tcWnoX_IfuDmlDl6o6y3_g']\n",
      "['0KhRPd66BZGHCtsb9mGh_g', '2k8OVAPxlXHsA5X6EIoQpQ', '2xVrxhQJUBmOyG4ML77XKw', '37HswRimgBEf7_US-c3CDA', '5DgFmyjW6hkBtXtTMKl4tA', '5fQ9P6kbQM_E0dx8DL6JWA', '750rhwO7D_Cul7_GtO9Jsg', '7G8w2SnaC-qDVQ7_GqTxMg', '8oYMqhC5fhqAK_yxRjE7dQ', '903YwVSoAKyzudc8LH_HMA', '9S52XHEyrvOv4OZxU6pCLw', 'DPtOaWemjBPvFiZJBi0m8A', 'DjcRgZ0cJbf6-W2TxvFlBA', 'IuaAfrkirlfzY3f4PkgSmw', 'JM0GL6Dx4EuZ1mprLk5Gyg', 'JRqMFKGxx6DnTGZrxwQZaA', 'JqjAthJThuVYgTh4iWDZ2A', 'MrsRJa4SWLq8XLU1RtPdlw', 'MtdSCXtmrSxj_uZOJ5ZycQ', 'MwpK7PqQX7fgTFM2Pfy61w', 'NUtVG7jNPLJR2cxMXMH2-A', 'NlNlyQynkyEU3l7TR3LXdg', 'PKEzKWv_FktMm2mGPjwd0Q', 'SsOiVav4V5_NjTl21Lj92w', 'TZ974xcbw2kqjYxAhDUYVg', 'UYcmGbelzRa0Q6JqzLoguw', 'UwV6jBuTR1S9acT6bPTBPw', 'VdoTNYWuoXo01umgannw8A', 'WaAOt_eG0_-yLpG3fI--3g', 'XEqQG61fetXhuEV9RPslIA', 'Y0-lLNc2Y7gUGXPzSsMueQ', 'ZA1OT-PIZwz2kdHDA6mShw', 'Zk95TMXDx0zMUhYq5u8pxw', 'ajxohdcsKhRGFlEvHZDyTw', 'cIbbfJEGLB3B-c8Po4AL5g', 'dzJDCQ5vubQBJTfYTEmcbg', 'e5kg9bLvlJz-MEUrGjIeVQ', 'fLnkI1uHtXEsjtF6KoBHbQ', 'fcWM-oqjgS94yi1INhZa0g', 'hLVq7VSJBHZwqurwWoCmpg', 'jcriwcTidug0fK8sgAloHA', 'm1IVpXClMox1VGw5hO2LhQ', 'mu4XvWvJOb3XpG1C_CHCWA', 'nOTl4aPC4tKHK35T3bNauQ', 'tekHDsd0fskYG3tqu4sHQw', 'xrvyW1ruKS0uz9RtFewC0Q']\n",
      "['0FMte0z-repSVWSJ_BaQTg', '0FVcoJko1kfZCrJRfssfIA', '0QREkWHGO8-Z_70qx1BIWw', '1KQi8Ymatd4ySAd4fhSfaw', '23o7tyUGlC6FCDVcyqLeFA', '2XYdguaaZ7dgi6fAlddujg', '2quguRdKBzul3GpRi9e1mA', '39FT2Ui8KUXwmUt6hnwy-g', '4PQhC-zTQ4ACEN0-r39JuQ', '4pc_EyanaC3ARh0MZZyouA', '79yaBDbLASfIdB-C2c8DzA', '7RCz4Ln_FaTvNrdwe251Dg', '7Vfy39A_totC-w70qZi0MA', '97j2wkFU46OOgm6ErRAb7w', '9xM8upr_n9jchUDKxqSGHw', 'Ams0iLRd0AhZZectGKA8fw', 'B0ENvYKQdNNr1Izd2r-BAA', 'BDjiEmXljD2ZHT61Iv9rrQ', 'CebjpVd3PsofCgotWp60pg', 'ChshgCKJTdIDg17JKtFuJw', 'DKolrsBSwMTpTJL22dqJRQ', 'DkLSyxogCcJXY5DbTZ-f2A', 'ELfzWgdf64VBLi5z1ECItw', 'EiwxlbR8fb68lMgEXhcWKA', 'IXD-jdycm7m34b_Nliy82g', 'JLv2Dmfj73-I0d9N41tz1A', 'JteQGisqOf_pklq7GA0Rww', 'KHjroLTG6Ah8LyItTyB2yw', 'KLB3wIYUwKDPMbijIE92vg', 'KgJdBWS3ReP6TVhYWJRKmg', 'KtE55izPs1ubJn3ofF2IrA', 'LcCRMIDz1JgshpPGYfLDcA', 'O9pMFJSPg80YVzpMfNikxw', 'OoyQYSeYNyRVOmdO3tsxYA', 'PE8s8ACYABRNANI-T_WmzA', 'R4l3ONHzGBakKKNo4TN9iQ', 'S9dDf0JqSMAvusp5f-9bGw', 'SdXxLZQQnQNUEL1rGMOQ6w', 'T88y73qdOSutuvzLlhWtqQ', 'TjsBbWAfwxWEXPxaLNv5SQ', 'Tk_FWXueutKii3f9yJFsdw', 'UAB1Zyg6Q0oEpXeYRf5K_g', 'WoKCLSctS7G2547xKcED-Q', 'XPAJ2KHkCwBA0vafF-2Zcg', 'XUEwSGOGARxW-3gPiGJKUg', '_Pn-EmWO-pFPFg81ZIEiDw', '_VTEyUzzH92X3w-IpGaXVA', 'ay4M5J28kBUf0odOQct0BA', 'bE7Yd0jI_P6g27MWEKKalA', 'bHufZ2OTlC-OUxBDRXxViw', 'bJguBxPlnTW29tRTAF0nkQ', 'bSUS0YcvS7UelmHvCzNWBA', 'bbK1mL-AyYCHZncDQ_4RgA', 'cm3_8c_NDhPcpwJQ96Aixw', 'dTeSvET2SR5LDF_J07wJAQ', 'dW6bAWM1HbPdk_cGS_a2HA', 'e8uzNcSC5tQMD22GNAQEQA', 'hd343st7cOIUSfAd5r0U7A', 'hqmnMdDS-Opjp3BfBJA8qA', 'j8Dts8irvVBwEhEEae_-wA', 'jPcrABeWgWlTPi-E0Op_aA', 'kKTcYPz47sCDH1_ylnE4ZQ', 'ma6206bmu-a_Ja7Iv-yRCw', 'mnoe2vwouRADn97dTDkw4A', 'p9942XebvxZ9ubHm4SXmMQ', 'qtOCfMTrozmUSHWIcohc6Q', 'sBqCpEUn0qYdpSF4DbWlAQ', 'sO6iNKgv_ToVfof-aQWgXg', 'sdLns7062kz3Ur_b8wgeYw', 'tAcY4S3vIuNlAoRlCcz5VA', 'tL2pS5UOmN6aAOi3Z-qFGg', 'tRZAC_H5RHrjvyvtufcNXQ', 'voXU5A3FfOcXZ2VNsJ0q4w', 'waN6iwcphiVEoCews4f4CA', 'y6jsaAXFstAJkf53R4_y4Q', 'yCaDISH0R8e5U376zDWTpQ', 'zBi_JWB5uUdVuz3JLoAxGQ']\n"
     ]
    }
   ],
   "source": [
    "for r in res:\n",
    "    print(r)"
   ]
  },
  {
   "cell_type": "code",
   "execution_count": 27,
   "metadata": {
    "ExecuteTime": {
     "end_time": "2020-03-31T10:41:43.344357Z",
     "start_time": "2020-03-31T10:41:43.340074Z"
    }
   },
   "outputs": [
    {
     "data": {
      "text/plain": [
       "19"
      ]
     },
     "execution_count": 27,
     "metadata": {},
     "output_type": "execute_result"
    }
   ],
   "source": [
    "len(res)"
   ]
  },
  {
   "cell_type": "code",
   "execution_count": 28,
   "metadata": {
    "ExecuteTime": {
     "end_time": "2020-03-31T10:41:45.009821Z",
     "start_time": "2020-03-31T10:41:45.005087Z"
    }
   },
   "outputs": [],
   "source": [
    "def outputAsFile(res):\n",
    "    with open(community_output_file_path, 'w', encoding='utf-8') as fp:\n",
    "        for t in res:\n",
    "            if len(t) == 1:\n",
    "                fp.write(\"'%s'\\n\" % (t[0]))\n",
    "            else:\n",
    "                fp.write(\"'\" + (\"', '\").join(t) + \"'\\n\")"
   ]
  },
  {
   "cell_type": "code",
   "execution_count": 38,
   "metadata": {
    "ExecuteTime": {
     "end_time": "2020-03-31T07:43:31.506582Z",
     "start_time": "2020-03-31T07:43:31.504181Z"
    }
   },
   "outputs": [],
   "source": [
    "# outputAsFile(res)    "
   ]
  },
  {
   "cell_type": "code",
   "execution_count": null,
   "metadata": {},
   "outputs": [],
   "source": []
  },
  {
   "cell_type": "code",
   "execution_count": 22,
   "metadata": {
    "ExecuteTime": {
     "end_time": "2020-03-31T07:43:31.417100Z",
     "start_time": "2020-03-31T07:43:30.994302Z"
    }
   },
   "outputs": [
    {
     "data": {
      "image/png": "[encoded data removed]",
      "text/plain": [
       "<Figure size 432x288 with 1 Axes>"
      ]
     },
     "metadata": {
      "needs_background": "light"
     },
     "output_type": "display_data"
    }
   ],
   "source": [
    "import numpy as np \n",
    "from matplotlib import pyplot as plt \n",
    " \n",
    "x = np.array(list(range(len(visual))))\n",
    "y = np.array(visual)\n",
    "# plt.title(\"Matplotlib demo\") \n",
    "plt.xlabel(\"steps\") \n",
    "plt.ylabel(\"modularity\") \n",
    "plt.plot(x, y) \n",
    "plt.show()"
   ]
  }
 ],
 "metadata": {
  "kernelspec": {
   "display_name": "inf553",
   "language": "python",
   "name": "inf553"
  },
  "language_info": {
   "codemirror_mode": {
    "name": "ipython",
    "version": 3
   },
   "file_extension": ".py",
   "mimetype": "text/x-python",
   "name": "python",
   "nbconvert_exporter": "python",
   "pygments_lexer": "ipython3",
   "version": "3.6.10"
  },
  "toc": {
   "base_numbering": 1,
   "nav_menu": {},
   "number_sections": true,
   "sideBar": true,
   "skip_h1_title": false,
   "title_cell": "Table of Contents",
   "title_sidebar": "Contents",
   "toc_cell": false,
   "toc_position": {},
   "toc_section_display": true,
   "toc_window_display": false
  }
 },
 "nbformat": 4,
 "nbformat_minor": 4
}

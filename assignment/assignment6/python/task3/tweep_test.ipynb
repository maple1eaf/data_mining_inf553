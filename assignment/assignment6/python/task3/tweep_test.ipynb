{
 "cells": [
  {
   "cell_type": "code",
   "execution_count": 1,
   "metadata": {
    "ExecuteTime": {
     "end_time": "2020-04-16T04:35:51.172828Z",
     "start_time": "2020-04-16T04:35:50.990834Z"
    }
   },
   "outputs": [],
   "source": [
    "import tweepy"
   ]
  },
  {
   "cell_type": "code",
   "execution_count": 2,
   "metadata": {
    "ExecuteTime": {
     "end_time": "2020-04-16T04:35:51.177366Z",
     "start_time": "2020-04-16T04:35:51.174905Z"
    }
   },
   "outputs": [],
   "source": [
    "CONSUMER_TOKEN = \"hY3hLVZSsujafToV1NoWiIslF\"\n",
    "CONSUMER_SECRET = \"w8t97BvBg6frWFKcRFh3xKBw5YP0l86mF8sUll2HPelkWFxc8P\"\n",
    "ACCESS_TOKEN = \"1043393088331247617-coRiLixUNXdHVaIRavzKbpBVaSPdqL\"\n",
    "ACCESS_TOKEN_SECRET = \"Y7wcLcVb5OFH8x5BKHkfBTWopAGM5nkFr2Zv5IlXUY4cJ\""
   ]
  },
  {
   "cell_type": "code",
   "execution_count": 3,
   "metadata": {
    "ExecuteTime": {
     "end_time": "2020-04-16T04:35:51.182643Z",
     "start_time": "2020-04-16T04:35:51.180078Z"
    }
   },
   "outputs": [],
   "source": [
    "auth = tweepy.OAuthHandler(CONSUMER_TOKEN, CONSUMER_SECRET)"
   ]
  },
  {
   "cell_type": "code",
   "execution_count": 4,
   "metadata": {
    "ExecuteTime": {
     "end_time": "2020-04-16T04:35:51.187688Z",
     "start_time": "2020-04-16T04:35:51.185306Z"
    }
   },
   "outputs": [],
   "source": [
    "auth.set_access_token(ACCESS_TOKEN, ACCESS_TOKEN_SECRET)"
   ]
  },
  {
   "cell_type": "code",
   "execution_count": 5,
   "metadata": {
    "ExecuteTime": {
     "end_time": "2020-04-16T04:35:51.192108Z",
     "start_time": "2020-04-16T04:35:51.189485Z"
    }
   },
   "outputs": [],
   "source": [
    "api = tweepy.API(auth)"
   ]
  },
  {
   "cell_type": "code",
   "execution_count": 45,
   "metadata": {
    "ExecuteTime": {
     "end_time": "2020-04-16T06:05:15.814905Z",
     "start_time": "2020-04-16T06:05:15.481758Z"
    }
   },
   "outputs": [],
   "source": [
    "public_tweets = api.home_timeline()"
   ]
  },
  {
   "cell_type": "code",
   "execution_count": 46,
   "metadata": {
    "ExecuteTime": {
     "end_time": "2020-04-16T06:05:16.208765Z",
     "start_time": "2020-04-16T06:05:16.201728Z"
    }
   },
   "outputs": [
    {
     "data": {
      "text/plain": [
       "{'_api': <tweepy.api.API at 0x1070c19e8>,\n",
       " '_json': {'created_at': 'Thu Apr 16 06:05:09 +0000 2020',\n",
       "  'id': 1250666521359081472,\n",
       "  'id_str': '1250666521359081472',\n",
       "  'text': 'tag test #current1 #cur2',\n",
       "  'truncated': False,\n",
       "  'entities': {'hashtags': [{'text': 'current1', 'indices': [9, 18]},\n",
       "    {'text': 'cur2', 'indices': [19, 24]}],\n",
       "   'symbols': [],\n",
       "   'user_mentions': [],\n",
       "   'urls': []},\n",
       "  'source': '<a href=\"https://mobile.twitter.com\" rel=\"nofollow\">Twitter Web App</a>',\n",
       "  'in_reply_to_status_id': None,\n",
       "  'in_reply_to_status_id_str': None,\n",
       "  'in_reply_to_user_id': None,\n",
       "  'in_reply_to_user_id_str': None,\n",
       "  'in_reply_to_screen_name': None,\n",
       "  'user': {'id': 1043393088331247617,\n",
       "   'id_str': '1043393088331247617',\n",
       "   'name': 'Mark Duan',\n",
       "   'screen_name': 'MarkDuan6',\n",
       "   'location': 'Los Angeles, CA',\n",
       "   'description': '',\n",
       "   'url': None,\n",
       "   'entities': {'description': {'urls': []}},\n",
       "   'protected': False,\n",
       "   'followers_count': 0,\n",
       "   'friends_count': 1,\n",
       "   'listed_count': 0,\n",
       "   'created_at': 'Sat Sep 22 06:54:32 +0000 2018',\n",
       "   'favourites_count': 0,\n",
       "   'utc_offset': None,\n",
       "   'time_zone': None,\n",
       "   'geo_enabled': False,\n",
       "   'verified': False,\n",
       "   'statuses_count': 4,\n",
       "   'lang': None,\n",
       "   'contributors_enabled': False,\n",
       "   'is_translator': False,\n",
       "   'is_translation_enabled': False,\n",
       "   'profile_background_color': 'F5F8FA',\n",
       "   'profile_background_image_url': None,\n",
       "   'profile_background_image_url_https': None,\n",
       "   'profile_background_tile': False,\n",
       "   'profile_image_url': 'http://pbs.twimg.com/profile_images/1043393628477906944/m8tiX-35_normal.jpg',\n",
       "   'profile_image_url_https': 'https://pbs.twimg.com/profile_images/1043393628477906944/m8tiX-35_normal.jpg',\n",
       "   'profile_link_color': '1DA1F2',\n",
       "   'profile_sidebar_border_color': 'C0DEED',\n",
       "   'profile_sidebar_fill_color': 'DDEEF6',\n",
       "   'profile_text_color': '333333',\n",
       "   'profile_use_background_image': True,\n",
       "   'has_extended_profile': True,\n",
       "   'default_profile': True,\n",
       "   'default_profile_image': False,\n",
       "   'following': False,\n",
       "   'follow_request_sent': False,\n",
       "   'notifications': False,\n",
       "   'translator_type': 'none'},\n",
       "  'geo': None,\n",
       "  'coordinates': None,\n",
       "  'place': None,\n",
       "  'contributors': None,\n",
       "  'is_quote_status': False,\n",
       "  'retweet_count': 0,\n",
       "  'favorite_count': 0,\n",
       "  'favorited': False,\n",
       "  'retweeted': False,\n",
       "  'lang': 'en'},\n",
       " 'created_at': datetime.datetime(2020, 4, 16, 6, 5, 9),\n",
       " 'id': 1250666521359081472,\n",
       " 'id_str': '1250666521359081472',\n",
       " 'text': 'tag test #current1 #cur2',\n",
       " 'truncated': False,\n",
       " 'entities': {'hashtags': [{'text': 'current1', 'indices': [9, 18]},\n",
       "   {'text': 'cur2', 'indices': [19, 24]}],\n",
       "  'symbols': [],\n",
       "  'user_mentions': [],\n",
       "  'urls': []},\n",
       " 'source': 'Twitter Web App',\n",
       " 'source_url': 'https://mobile.twitter.com',\n",
       " 'in_reply_to_status_id': None,\n",
       " 'in_reply_to_status_id_str': None,\n",
       " 'in_reply_to_user_id': None,\n",
       " 'in_reply_to_user_id_str': None,\n",
       " 'in_reply_to_screen_name': None,\n",
       " 'author': User(_api=<tweepy.api.API object at 0x1070c19e8>, _json={'id': 1043393088331247617, 'id_str': '1043393088331247617', 'name': 'Mark Duan', 'screen_name': 'MarkDuan6', 'location': 'Los Angeles, CA', 'description': '', 'url': None, 'entities': {'description': {'urls': []}}, 'protected': False, 'followers_count': 0, 'friends_count': 1, 'listed_count': 0, 'created_at': 'Sat Sep 22 06:54:32 +0000 2018', 'favourites_count': 0, 'utc_offset': None, 'time_zone': None, 'geo_enabled': False, 'verified': False, 'statuses_count': 4, 'lang': None, 'contributors_enabled': False, 'is_translator': False, 'is_translation_enabled': False, 'profile_background_color': 'F5F8FA', 'profile_background_image_url': None, 'profile_background_image_url_https': None, 'profile_background_tile': False, 'profile_image_url': 'http://pbs.twimg.com/profile_images/1043393628477906944/m8tiX-35_normal.jpg', 'profile_image_url_https': 'https://pbs.twimg.com/profile_images/1043393628477906944/m8tiX-35_normal.jpg', 'profile_link_color': '1DA1F2', 'profile_sidebar_border_color': 'C0DEED', 'profile_sidebar_fill_color': 'DDEEF6', 'profile_text_color': '333333', 'profile_use_background_image': True, 'has_extended_profile': True, 'default_profile': True, 'default_profile_image': False, 'following': False, 'follow_request_sent': False, 'notifications': False, 'translator_type': 'none'}, id=1043393088331247617, id_str='1043393088331247617', name='Mark Duan', screen_name='MarkDuan6', location='Los Angeles, CA', description='', url=None, entities={'description': {'urls': []}}, protected=False, followers_count=0, friends_count=1, listed_count=0, created_at=datetime.datetime(2018, 9, 22, 6, 54, 32), favourites_count=0, utc_offset=None, time_zone=None, geo_enabled=False, verified=False, statuses_count=4, lang=None, contributors_enabled=False, is_translator=False, is_translation_enabled=False, profile_background_color='F5F8FA', profile_background_image_url=None, profile_background_image_url_https=None, profile_background_tile=False, profile_image_url='http://pbs.twimg.com/profile_images/1043393628477906944/m8tiX-35_normal.jpg', profile_image_url_https='https://pbs.twimg.com/profile_images/1043393628477906944/m8tiX-35_normal.jpg', profile_link_color='1DA1F2', profile_sidebar_border_color='C0DEED', profile_sidebar_fill_color='DDEEF6', profile_text_color='333333', profile_use_background_image=True, has_extended_profile=True, default_profile=True, default_profile_image=False, following=False, follow_request_sent=False, notifications=False, translator_type='none'),\n",
       " 'user': User(_api=<tweepy.api.API object at 0x1070c19e8>, _json={'id': 1043393088331247617, 'id_str': '1043393088331247617', 'name': 'Mark Duan', 'screen_name': 'MarkDuan6', 'location': 'Los Angeles, CA', 'description': '', 'url': None, 'entities': {'description': {'urls': []}}, 'protected': False, 'followers_count': 0, 'friends_count': 1, 'listed_count': 0, 'created_at': 'Sat Sep 22 06:54:32 +0000 2018', 'favourites_count': 0, 'utc_offset': None, 'time_zone': None, 'geo_enabled': False, 'verified': False, 'statuses_count': 4, 'lang': None, 'contributors_enabled': False, 'is_translator': False, 'is_translation_enabled': False, 'profile_background_color': 'F5F8FA', 'profile_background_image_url': None, 'profile_background_image_url_https': None, 'profile_background_tile': False, 'profile_image_url': 'http://pbs.twimg.com/profile_images/1043393628477906944/m8tiX-35_normal.jpg', 'profile_image_url_https': 'https://pbs.twimg.com/profile_images/1043393628477906944/m8tiX-35_normal.jpg', 'profile_link_color': '1DA1F2', 'profile_sidebar_border_color': 'C0DEED', 'profile_sidebar_fill_color': 'DDEEF6', 'profile_text_color': '333333', 'profile_use_background_image': True, 'has_extended_profile': True, 'default_profile': True, 'default_profile_image': False, 'following': False, 'follow_request_sent': False, 'notifications': False, 'translator_type': 'none'}, id=1043393088331247617, id_str='1043393088331247617', name='Mark Duan', screen_name='MarkDuan6', location='Los Angeles, CA', description='', url=None, entities={'description': {'urls': []}}, protected=False, followers_count=0, friends_count=1, listed_count=0, created_at=datetime.datetime(2018, 9, 22, 6, 54, 32), favourites_count=0, utc_offset=None, time_zone=None, geo_enabled=False, verified=False, statuses_count=4, lang=None, contributors_enabled=False, is_translator=False, is_translation_enabled=False, profile_background_color='F5F8FA', profile_background_image_url=None, profile_background_image_url_https=None, profile_background_tile=False, profile_image_url='http://pbs.twimg.com/profile_images/1043393628477906944/m8tiX-35_normal.jpg', profile_image_url_https='https://pbs.twimg.com/profile_images/1043393628477906944/m8tiX-35_normal.jpg', profile_link_color='1DA1F2', profile_sidebar_border_color='C0DEED', profile_sidebar_fill_color='DDEEF6', profile_text_color='333333', profile_use_background_image=True, has_extended_profile=True, default_profile=True, default_profile_image=False, following=False, follow_request_sent=False, notifications=False, translator_type='none'),\n",
       " 'geo': None,\n",
       " 'coordinates': None,\n",
       " 'place': None,\n",
       " 'contributors': None,\n",
       " 'is_quote_status': False,\n",
       " 'retweet_count': 0,\n",
       " 'favorite_count': 0,\n",
       " 'favorited': False,\n",
       " 'retweeted': False,\n",
       " 'lang': 'en'}"
      ]
     },
     "execution_count": 46,
     "metadata": {},
     "output_type": "execute_result"
    }
   ],
   "source": [
    "public_tweets[0].__dict__"
   ]
  },
  {
   "cell_type": "code",
   "execution_count": 47,
   "metadata": {
    "ExecuteTime": {
     "end_time": "2020-04-16T06:05:25.444971Z",
     "start_time": "2020-04-16T06:05:25.440975Z"
    }
   },
   "outputs": [
    {
     "data": {
      "text/plain": [
       "[{'text': 'current1', 'indices': [9, 18]},\n",
       " {'text': 'cur2', 'indices': [19, 24]}]"
      ]
     },
     "execution_count": 47,
     "metadata": {},
     "output_type": "execute_result"
    }
   ],
   "source": [
    "public_tweets[0].entities['hashtags']"
   ]
  },
  {
   "cell_type": "code",
   "execution_count": 53,
   "metadata": {
    "ExecuteTime": {
     "end_time": "2020-04-16T06:06:41.192432Z",
     "start_time": "2020-04-16T06:06:41.189214Z"
    }
   },
   "outputs": [
    {
     "data": {
      "text/plain": [
       "{'hashtags': [], 'symbols': [], 'user_mentions': [], 'urls': []}"
      ]
     },
     "execution_count": 53,
     "metadata": {},
     "output_type": "execute_result"
    }
   ],
   "source": [
    "public_tweets[2].entities"
   ]
  },
  {
   "cell_type": "code",
   "execution_count": 58,
   "metadata": {
    "ExecuteTime": {
     "end_time": "2020-04-16T06:10:06.345196Z",
     "start_time": "2020-04-16T06:10:06.332195Z"
    }
   },
   "outputs": [
    {
     "data": {
      "text/plain": [
       "{'_api': <tweepy.api.API at 0x1070c19e8>,\n",
       " '_json': {'created_at': 'Wed Apr 15 22:51:22 +0000 2020',\n",
       "  'id': 1250557356238389248,\n",
       "  'id_str': '1250557356238389248',\n",
       "  'text': 'RT @WhiteHouse: In 11 days, @GM sourced materials, transformed a manufacturing facility, and trained a workforce to build lifesaving ventil…',\n",
       "  'truncated': False,\n",
       "  'entities': {'hashtags': [],\n",
       "   'symbols': [],\n",
       "   'user_mentions': [{'screen_name': 'WhiteHouse',\n",
       "     'name': 'The White House',\n",
       "     'id': 822215673812119553,\n",
       "     'id_str': '822215673812119553',\n",
       "     'indices': [3, 14]},\n",
       "    {'screen_name': 'GM',\n",
       "     'name': 'General Motors',\n",
       "     'id': 10850192,\n",
       "     'id_str': '10850192',\n",
       "     'indices': [28, 31]}],\n",
       "   'urls': []},\n",
       "  'source': '<a href=\"http://twitter.com/download/iphone\" rel=\"nofollow\">Twitter for iPhone</a>',\n",
       "  'in_reply_to_status_id': None,\n",
       "  'in_reply_to_status_id_str': None,\n",
       "  'in_reply_to_user_id': None,\n",
       "  'in_reply_to_user_id_str': None,\n",
       "  'in_reply_to_screen_name': None,\n",
       "  'user': {'id': 25073877,\n",
       "   'id_str': '25073877',\n",
       "   'name': 'Donald J. Trump',\n",
       "   'screen_name': 'realDonaldTrump',\n",
       "   'location': 'Washington, DC',\n",
       "   'description': '45th President of the United States of America🇺🇸',\n",
       "   'url': 'https://t.co/OMxB0x7xC5',\n",
       "   'entities': {'url': {'urls': [{'url': 'https://t.co/OMxB0x7xC5',\n",
       "       'expanded_url': 'http://www.Instagram.com/realDonaldTrump',\n",
       "       'display_url': 'Instagram.com/realDonaldTrump',\n",
       "       'indices': [0, 23]}]},\n",
       "    'description': {'urls': []}},\n",
       "   'protected': False,\n",
       "   'followers_count': 77179192,\n",
       "   'friends_count': 47,\n",
       "   'listed_count': 119466,\n",
       "   'created_at': 'Wed Mar 18 13:46:38 +0000 2009',\n",
       "   'favourites_count': 6,\n",
       "   'utc_offset': None,\n",
       "   'time_zone': None,\n",
       "   'geo_enabled': True,\n",
       "   'verified': True,\n",
       "   'statuses_count': 50678,\n",
       "   'lang': None,\n",
       "   'contributors_enabled': False,\n",
       "   'is_translator': False,\n",
       "   'is_translation_enabled': True,\n",
       "   'profile_background_color': '6D5C18',\n",
       "   'profile_background_image_url': 'http://abs.twimg.com/images/themes/theme1/bg.png',\n",
       "   'profile_background_image_url_https': 'https://abs.twimg.com/images/themes/theme1/bg.png',\n",
       "   'profile_background_tile': True,\n",
       "   'profile_image_url': 'http://pbs.twimg.com/profile_images/874276197357596672/kUuht00m_normal.jpg',\n",
       "   'profile_image_url_https': 'https://pbs.twimg.com/profile_images/874276197357596672/kUuht00m_normal.jpg',\n",
       "   'profile_banner_url': 'https://pbs.twimg.com/profile_banners/25073877/1583212785',\n",
       "   'profile_link_color': '1B95E0',\n",
       "   'profile_sidebar_border_color': 'BDDCAD',\n",
       "   'profile_sidebar_fill_color': 'C5CEC0',\n",
       "   'profile_text_color': '333333',\n",
       "   'profile_use_background_image': True,\n",
       "   'has_extended_profile': False,\n",
       "   'default_profile': False,\n",
       "   'default_profile_image': False,\n",
       "   'following': True,\n",
       "   'follow_request_sent': False,\n",
       "   'notifications': False,\n",
       "   'translator_type': 'regular'},\n",
       "  'geo': None,\n",
       "  'coordinates': None,\n",
       "  'place': None,\n",
       "  'contributors': None,\n",
       "  'retweeted_status': {'created_at': 'Wed Apr 15 22:38:50 +0000 2020',\n",
       "   'id': 1250554200104284161,\n",
       "   'id_str': '1250554200104284161',\n",
       "   'text': 'In 11 days, @GM sourced materials, transformed a manufacturing facility, and trained a workforce to build lifesavin… https://t.co/SfjKw20ebt',\n",
       "   'truncated': True,\n",
       "   'entities': {'hashtags': [],\n",
       "    'symbols': [],\n",
       "    'user_mentions': [{'screen_name': 'GM',\n",
       "      'name': 'General Motors',\n",
       "      'id': 10850192,\n",
       "      'id_str': '10850192',\n",
       "      'indices': [12, 15]}],\n",
       "    'urls': [{'url': 'https://t.co/SfjKw20ebt',\n",
       "      'expanded_url': 'https://twitter.com/i/web/status/1250554200104284161',\n",
       "      'display_url': 'twitter.com/i/web/status/1…',\n",
       "      'indices': [117, 140]}]},\n",
       "   'source': '<a href=\"https://www.sprinklr.com\" rel=\"nofollow\">TheWhiteHouse</a>',\n",
       "   'in_reply_to_status_id': None,\n",
       "   'in_reply_to_status_id_str': None,\n",
       "   'in_reply_to_user_id': None,\n",
       "   'in_reply_to_user_id_str': None,\n",
       "   'in_reply_to_screen_name': None,\n",
       "   'user': {'id': 822215673812119553,\n",
       "    'id_str': '822215673812119553',\n",
       "    'name': 'The White House',\n",
       "    'screen_name': 'WhiteHouse',\n",
       "    'location': 'Washington, D.C.',\n",
       "    'description': 'Welcome to @WhiteHouse! Follow for the latest from President @realDonaldTrump and his Administration. Tweets may be archived: https://t.co/IURuMIrzxb',\n",
       "    'url': 'https://t.co/wyOVgSLgBV',\n",
       "    'entities': {'url': {'urls': [{'url': 'https://t.co/wyOVgSLgBV',\n",
       "        'expanded_url': 'http://www.WhiteHouse.gov',\n",
       "        'display_url': 'WhiteHouse.gov',\n",
       "        'indices': [0, 23]}]},\n",
       "     'description': {'urls': [{'url': 'https://t.co/IURuMIrzxb',\n",
       "        'expanded_url': 'http://whitehouse.gov/privacy',\n",
       "        'display_url': 'whitehouse.gov/privacy',\n",
       "        'indices': [126, 149]}]}},\n",
       "    'protected': False,\n",
       "    'followers_count': 21658101,\n",
       "    'friends_count': 20,\n",
       "    'listed_count': 14461,\n",
       "    'created_at': 'Thu Jan 19 22:54:27 +0000 2017',\n",
       "    'favourites_count': 16,\n",
       "    'utc_offset': None,\n",
       "    'time_zone': None,\n",
       "    'geo_enabled': True,\n",
       "    'verified': True,\n",
       "    'statuses_count': 17341,\n",
       "    'lang': None,\n",
       "    'contributors_enabled': False,\n",
       "    'is_translator': False,\n",
       "    'is_translation_enabled': False,\n",
       "    'profile_background_color': 'F5F8FA',\n",
       "    'profile_background_image_url': None,\n",
       "    'profile_background_image_url_https': None,\n",
       "    'profile_background_tile': False,\n",
       "    'profile_image_url': 'http://pbs.twimg.com/profile_images/1059888693945630720/yex0Gcbi_normal.jpg',\n",
       "    'profile_image_url_https': 'https://pbs.twimg.com/profile_images/1059888693945630720/yex0Gcbi_normal.jpg',\n",
       "    'profile_banner_url': 'https://pbs.twimg.com/profile_banners/822215673812119553/1580922287',\n",
       "    'profile_link_color': '1DA1F2',\n",
       "    'profile_sidebar_border_color': 'C0DEED',\n",
       "    'profile_sidebar_fill_color': 'DDEEF6',\n",
       "    'profile_text_color': '333333',\n",
       "    'profile_use_background_image': True,\n",
       "    'has_extended_profile': False,\n",
       "    'default_profile': True,\n",
       "    'default_profile_image': False,\n",
       "    'following': False,\n",
       "    'follow_request_sent': False,\n",
       "    'notifications': False,\n",
       "    'translator_type': 'none'},\n",
       "   'geo': None,\n",
       "   'coordinates': None,\n",
       "   'place': None,\n",
       "   'contributors': None,\n",
       "   'is_quote_status': False,\n",
       "   'retweet_count': 6170,\n",
       "   'favorite_count': 22717,\n",
       "   'favorited': False,\n",
       "   'retweeted': False,\n",
       "   'possibly_sensitive': False,\n",
       "   'possibly_sensitive_appealable': False,\n",
       "   'lang': 'en'},\n",
       "  'is_quote_status': False,\n",
       "  'retweet_count': 6170,\n",
       "  'favorite_count': 0,\n",
       "  'favorited': False,\n",
       "  'retweeted': False,\n",
       "  'lang': 'en'},\n",
       " 'created_at': datetime.datetime(2020, 4, 15, 22, 51, 22),\n",
       " 'id': 1250557356238389248,\n",
       " 'id_str': '1250557356238389248',\n",
       " 'text': 'RT @WhiteHouse: In 11 days, @GM sourced materials, transformed a manufacturing facility, and trained a workforce to build lifesaving ventil…',\n",
       " 'truncated': False,\n",
       " 'entities': {'hashtags': [],\n",
       "  'symbols': [],\n",
       "  'user_mentions': [{'screen_name': 'WhiteHouse',\n",
       "    'name': 'The White House',\n",
       "    'id': 822215673812119553,\n",
       "    'id_str': '822215673812119553',\n",
       "    'indices': [3, 14]},\n",
       "   {'screen_name': 'GM',\n",
       "    'name': 'General Motors',\n",
       "    'id': 10850192,\n",
       "    'id_str': '10850192',\n",
       "    'indices': [28, 31]}],\n",
       "  'urls': []},\n",
       " 'source': 'Twitter for iPhone',\n",
       " 'source_url': 'http://twitter.com/download/iphone',\n",
       " 'in_reply_to_status_id': None,\n",
       " 'in_reply_to_status_id_str': None,\n",
       " 'in_reply_to_user_id': None,\n",
       " 'in_reply_to_user_id_str': None,\n",
       " 'in_reply_to_screen_name': None,\n",
       " 'author': User(_api=<tweepy.api.API object at 0x1070c19e8>, _json={'id': 25073877, 'id_str': '25073877', 'name': 'Donald J. Trump', 'screen_name': 'realDonaldTrump', 'location': 'Washington, DC', 'description': '45th President of the United States of America🇺🇸', 'url': 'https://t.co/OMxB0x7xC5', 'entities': {'url': {'urls': [{'url': 'https://t.co/OMxB0x7xC5', 'expanded_url': 'http://www.Instagram.com/realDonaldTrump', 'display_url': 'Instagram.com/realDonaldTrump', 'indices': [0, 23]}]}, 'description': {'urls': []}}, 'protected': False, 'followers_count': 77179192, 'friends_count': 47, 'listed_count': 119466, 'created_at': 'Wed Mar 18 13:46:38 +0000 2009', 'favourites_count': 6, 'utc_offset': None, 'time_zone': None, 'geo_enabled': True, 'verified': True, 'statuses_count': 50678, 'lang': None, 'contributors_enabled': False, 'is_translator': False, 'is_translation_enabled': True, 'profile_background_color': '6D5C18', 'profile_background_image_url': 'http://abs.twimg.com/images/themes/theme1/bg.png', 'profile_background_image_url_https': 'https://abs.twimg.com/images/themes/theme1/bg.png', 'profile_background_tile': True, 'profile_image_url': 'http://pbs.twimg.com/profile_images/874276197357596672/kUuht00m_normal.jpg', 'profile_image_url_https': 'https://pbs.twimg.com/profile_images/874276197357596672/kUuht00m_normal.jpg', 'profile_banner_url': 'https://pbs.twimg.com/profile_banners/25073877/1583212785', 'profile_link_color': '1B95E0', 'profile_sidebar_border_color': 'BDDCAD', 'profile_sidebar_fill_color': 'C5CEC0', 'profile_text_color': '333333', 'profile_use_background_image': True, 'has_extended_profile': False, 'default_profile': False, 'default_profile_image': False, 'following': True, 'follow_request_sent': False, 'notifications': False, 'translator_type': 'regular'}, id=25073877, id_str='25073877', name='Donald J. Trump', screen_name='realDonaldTrump', location='Washington, DC', description='45th President of the United States of America🇺🇸', url='https://t.co/OMxB0x7xC5', entities={'url': {'urls': [{'url': 'https://t.co/OMxB0x7xC5', 'expanded_url': 'http://www.Instagram.com/realDonaldTrump', 'display_url': 'Instagram.com/realDonaldTrump', 'indices': [0, 23]}]}, 'description': {'urls': []}}, protected=False, followers_count=77179192, friends_count=47, listed_count=119466, created_at=datetime.datetime(2009, 3, 18, 13, 46, 38), favourites_count=6, utc_offset=None, time_zone=None, geo_enabled=True, verified=True, statuses_count=50678, lang=None, contributors_enabled=False, is_translator=False, is_translation_enabled=True, profile_background_color='6D5C18', profile_background_image_url='http://abs.twimg.com/images/themes/theme1/bg.png', profile_background_image_url_https='https://abs.twimg.com/images/themes/theme1/bg.png', profile_background_tile=True, profile_image_url='http://pbs.twimg.com/profile_images/874276197357596672/kUuht00m_normal.jpg', profile_image_url_https='https://pbs.twimg.com/profile_images/874276197357596672/kUuht00m_normal.jpg', profile_banner_url='https://pbs.twimg.com/profile_banners/25073877/1583212785', profile_link_color='1B95E0', profile_sidebar_border_color='BDDCAD', profile_sidebar_fill_color='C5CEC0', profile_text_color='333333', profile_use_background_image=True, has_extended_profile=False, default_profile=False, default_profile_image=False, following=True, follow_request_sent=False, notifications=False, translator_type='regular'),\n",
       " 'user': User(_api=<tweepy.api.API object at 0x1070c19e8>, _json={'id': 25073877, 'id_str': '25073877', 'name': 'Donald J. Trump', 'screen_name': 'realDonaldTrump', 'location': 'Washington, DC', 'description': '45th President of the United States of America🇺🇸', 'url': 'https://t.co/OMxB0x7xC5', 'entities': {'url': {'urls': [{'url': 'https://t.co/OMxB0x7xC5', 'expanded_url': 'http://www.Instagram.com/realDonaldTrump', 'display_url': 'Instagram.com/realDonaldTrump', 'indices': [0, 23]}]}, 'description': {'urls': []}}, 'protected': False, 'followers_count': 77179192, 'friends_count': 47, 'listed_count': 119466, 'created_at': 'Wed Mar 18 13:46:38 +0000 2009', 'favourites_count': 6, 'utc_offset': None, 'time_zone': None, 'geo_enabled': True, 'verified': True, 'statuses_count': 50678, 'lang': None, 'contributors_enabled': False, 'is_translator': False, 'is_translation_enabled': True, 'profile_background_color': '6D5C18', 'profile_background_image_url': 'http://abs.twimg.com/images/themes/theme1/bg.png', 'profile_background_image_url_https': 'https://abs.twimg.com/images/themes/theme1/bg.png', 'profile_background_tile': True, 'profile_image_url': 'http://pbs.twimg.com/profile_images/874276197357596672/kUuht00m_normal.jpg', 'profile_image_url_https': 'https://pbs.twimg.com/profile_images/874276197357596672/kUuht00m_normal.jpg', 'profile_banner_url': 'https://pbs.twimg.com/profile_banners/25073877/1583212785', 'profile_link_color': '1B95E0', 'profile_sidebar_border_color': 'BDDCAD', 'profile_sidebar_fill_color': 'C5CEC0', 'profile_text_color': '333333', 'profile_use_background_image': True, 'has_extended_profile': False, 'default_profile': False, 'default_profile_image': False, 'following': True, 'follow_request_sent': False, 'notifications': False, 'translator_type': 'regular'}, id=25073877, id_str='25073877', name='Donald J. Trump', screen_name='realDonaldTrump', location='Washington, DC', description='45th President of the United States of America🇺🇸', url='https://t.co/OMxB0x7xC5', entities={'url': {'urls': [{'url': 'https://t.co/OMxB0x7xC5', 'expanded_url': 'http://www.Instagram.com/realDonaldTrump', 'display_url': 'Instagram.com/realDonaldTrump', 'indices': [0, 23]}]}, 'description': {'urls': []}}, protected=False, followers_count=77179192, friends_count=47, listed_count=119466, created_at=datetime.datetime(2009, 3, 18, 13, 46, 38), favourites_count=6, utc_offset=None, time_zone=None, geo_enabled=True, verified=True, statuses_count=50678, lang=None, contributors_enabled=False, is_translator=False, is_translation_enabled=True, profile_background_color='6D5C18', profile_background_image_url='http://abs.twimg.com/images/themes/theme1/bg.png', profile_background_image_url_https='https://abs.twimg.com/images/themes/theme1/bg.png', profile_background_tile=True, profile_image_url='http://pbs.twimg.com/profile_images/874276197357596672/kUuht00m_normal.jpg', profile_image_url_https='https://pbs.twimg.com/profile_images/874276197357596672/kUuht00m_normal.jpg', profile_banner_url='https://pbs.twimg.com/profile_banners/25073877/1583212785', profile_link_color='1B95E0', profile_sidebar_border_color='BDDCAD', profile_sidebar_fill_color='C5CEC0', profile_text_color='333333', profile_use_background_image=True, has_extended_profile=False, default_profile=False, default_profile_image=False, following=True, follow_request_sent=False, notifications=False, translator_type='regular'),\n",
       " 'geo': None,\n",
       " 'coordinates': None,\n",
       " 'place': None,\n",
       " 'contributors': None,\n",
       " 'retweeted_status': Status(_api=<tweepy.api.API object at 0x1070c19e8>, _json={'created_at': 'Wed Apr 15 22:38:50 +0000 2020', 'id': 1250554200104284161, 'id_str': '1250554200104284161', 'text': 'In 11 days, @GM sourced materials, transformed a manufacturing facility, and trained a workforce to build lifesavin… https://t.co/SfjKw20ebt', 'truncated': True, 'entities': {'hashtags': [], 'symbols': [], 'user_mentions': [{'screen_name': 'GM', 'name': 'General Motors', 'id': 10850192, 'id_str': '10850192', 'indices': [12, 15]}], 'urls': [{'url': 'https://t.co/SfjKw20ebt', 'expanded_url': 'https://twitter.com/i/web/status/1250554200104284161', 'display_url': 'twitter.com/i/web/status/1…', 'indices': [117, 140]}]}, 'source': '<a href=\"https://www.sprinklr.com\" rel=\"nofollow\">TheWhiteHouse</a>', 'in_reply_to_status_id': None, 'in_reply_to_status_id_str': None, 'in_reply_to_user_id': None, 'in_reply_to_user_id_str': None, 'in_reply_to_screen_name': None, 'user': {'id': 822215673812119553, 'id_str': '822215673812119553', 'name': 'The White House', 'screen_name': 'WhiteHouse', 'location': 'Washington, D.C.', 'description': 'Welcome to @WhiteHouse! Follow for the latest from President @realDonaldTrump and his Administration. Tweets may be archived: https://t.co/IURuMIrzxb', 'url': 'https://t.co/wyOVgSLgBV', 'entities': {'url': {'urls': [{'url': 'https://t.co/wyOVgSLgBV', 'expanded_url': 'http://www.WhiteHouse.gov', 'display_url': 'WhiteHouse.gov', 'indices': [0, 23]}]}, 'description': {'urls': [{'url': 'https://t.co/IURuMIrzxb', 'expanded_url': 'http://whitehouse.gov/privacy', 'display_url': 'whitehouse.gov/privacy', 'indices': [126, 149]}]}}, 'protected': False, 'followers_count': 21658101, 'friends_count': 20, 'listed_count': 14461, 'created_at': 'Thu Jan 19 22:54:27 +0000 2017', 'favourites_count': 16, 'utc_offset': None, 'time_zone': None, 'geo_enabled': True, 'verified': True, 'statuses_count': 17341, 'lang': None, 'contributors_enabled': False, 'is_translator': False, 'is_translation_enabled': False, 'profile_background_color': 'F5F8FA', 'profile_background_image_url': None, 'profile_background_image_url_https': None, 'profile_background_tile': False, 'profile_image_url': 'http://pbs.twimg.com/profile_images/1059888693945630720/yex0Gcbi_normal.jpg', 'profile_image_url_https': 'https://pbs.twimg.com/profile_images/1059888693945630720/yex0Gcbi_normal.jpg', 'profile_banner_url': 'https://pbs.twimg.com/profile_banners/822215673812119553/1580922287', 'profile_link_color': '1DA1F2', 'profile_sidebar_border_color': 'C0DEED', 'profile_sidebar_fill_color': 'DDEEF6', 'profile_text_color': '333333', 'profile_use_background_image': True, 'has_extended_profile': False, 'default_profile': True, 'default_profile_image': False, 'following': False, 'follow_request_sent': False, 'notifications': False, 'translator_type': 'none'}, 'geo': None, 'coordinates': None, 'place': None, 'contributors': None, 'is_quote_status': False, 'retweet_count': 6170, 'favorite_count': 22717, 'favorited': False, 'retweeted': False, 'possibly_sensitive': False, 'possibly_sensitive_appealable': False, 'lang': 'en'}, created_at=datetime.datetime(2020, 4, 15, 22, 38, 50), id=1250554200104284161, id_str='1250554200104284161', text='In 11 days, @GM sourced materials, transformed a manufacturing facility, and trained a workforce to build lifesavin… https://t.co/SfjKw20ebt', truncated=True, entities={'hashtags': [], 'symbols': [], 'user_mentions': [{'screen_name': 'GM', 'name': 'General Motors', 'id': 10850192, 'id_str': '10850192', 'indices': [12, 15]}], 'urls': [{'url': 'https://t.co/SfjKw20ebt', 'expanded_url': 'https://twitter.com/i/web/status/1250554200104284161', 'display_url': 'twitter.com/i/web/status/1…', 'indices': [117, 140]}]}, source='TheWhiteHouse', source_url='https://www.sprinklr.com', in_reply_to_status_id=None, in_reply_to_status_id_str=None, in_reply_to_user_id=None, in_reply_to_user_id_str=None, in_reply_to_screen_name=None, author=User(_api=<tweepy.api.API object at 0x1070c19e8>, _json={'id': 822215673812119553, 'id_str': '822215673812119553', 'name': 'The White House', 'screen_name': 'WhiteHouse', 'location': 'Washington, D.C.', 'description': 'Welcome to @WhiteHouse! Follow for the latest from President @realDonaldTrump and his Administration. Tweets may be archived: https://t.co/IURuMIrzxb', 'url': 'https://t.co/wyOVgSLgBV', 'entities': {'url': {'urls': [{'url': 'https://t.co/wyOVgSLgBV', 'expanded_url': 'http://www.WhiteHouse.gov', 'display_url': 'WhiteHouse.gov', 'indices': [0, 23]}]}, 'description': {'urls': [{'url': 'https://t.co/IURuMIrzxb', 'expanded_url': 'http://whitehouse.gov/privacy', 'display_url': 'whitehouse.gov/privacy', 'indices': [126, 149]}]}}, 'protected': False, 'followers_count': 21658101, 'friends_count': 20, 'listed_count': 14461, 'created_at': 'Thu Jan 19 22:54:27 +0000 2017', 'favourites_count': 16, 'utc_offset': None, 'time_zone': None, 'geo_enabled': True, 'verified': True, 'statuses_count': 17341, 'lang': None, 'contributors_enabled': False, 'is_translator': False, 'is_translation_enabled': False, 'profile_background_color': 'F5F8FA', 'profile_background_image_url': None, 'profile_background_image_url_https': None, 'profile_background_tile': False, 'profile_image_url': 'http://pbs.twimg.com/profile_images/1059888693945630720/yex0Gcbi_normal.jpg', 'profile_image_url_https': 'https://pbs.twimg.com/profile_images/1059888693945630720/yex0Gcbi_normal.jpg', 'profile_banner_url': 'https://pbs.twimg.com/profile_banners/822215673812119553/1580922287', 'profile_link_color': '1DA1F2', 'profile_sidebar_border_color': 'C0DEED', 'profile_sidebar_fill_color': 'DDEEF6', 'profile_text_color': '333333', 'profile_use_background_image': True, 'has_extended_profile': False, 'default_profile': True, 'default_profile_image': False, 'following': False, 'follow_request_sent': False, 'notifications': False, 'translator_type': 'none'}, id=822215673812119553, id_str='822215673812119553', name='The White House', screen_name='WhiteHouse', location='Washington, D.C.', description='Welcome to @WhiteHouse! Follow for the latest from President @realDonaldTrump and his Administration. Tweets may be archived: https://t.co/IURuMIrzxb', url='https://t.co/wyOVgSLgBV', entities={'url': {'urls': [{'url': 'https://t.co/wyOVgSLgBV', 'expanded_url': 'http://www.WhiteHouse.gov', 'display_url': 'WhiteHouse.gov', 'indices': [0, 23]}]}, 'description': {'urls': [{'url': 'https://t.co/IURuMIrzxb', 'expanded_url': 'http://whitehouse.gov/privacy', 'display_url': 'whitehouse.gov/privacy', 'indices': [126, 149]}]}}, protected=False, followers_count=21658101, friends_count=20, listed_count=14461, created_at=datetime.datetime(2017, 1, 19, 22, 54, 27), favourites_count=16, utc_offset=None, time_zone=None, geo_enabled=True, verified=True, statuses_count=17341, lang=None, contributors_enabled=False, is_translator=False, is_translation_enabled=False, profile_background_color='F5F8FA', profile_background_image_url=None, profile_background_image_url_https=None, profile_background_tile=False, profile_image_url='http://pbs.twimg.com/profile_images/1059888693945630720/yex0Gcbi_normal.jpg', profile_image_url_https='https://pbs.twimg.com/profile_images/1059888693945630720/yex0Gcbi_normal.jpg', profile_banner_url='https://pbs.twimg.com/profile_banners/822215673812119553/1580922287', profile_link_color='1DA1F2', profile_sidebar_border_color='C0DEED', profile_sidebar_fill_color='DDEEF6', profile_text_color='333333', profile_use_background_image=True, has_extended_profile=False, default_profile=True, default_profile_image=False, following=False, follow_request_sent=False, notifications=False, translator_type='none'), user=User(_api=<tweepy.api.API object at 0x1070c19e8>, _json={'id': 822215673812119553, 'id_str': '822215673812119553', 'name': 'The White House', 'screen_name': 'WhiteHouse', 'location': 'Washington, D.C.', 'description': 'Welcome to @WhiteHouse! Follow for the latest from President @realDonaldTrump and his Administration. Tweets may be archived: https://t.co/IURuMIrzxb', 'url': 'https://t.co/wyOVgSLgBV', 'entities': {'url': {'urls': [{'url': 'https://t.co/wyOVgSLgBV', 'expanded_url': 'http://www.WhiteHouse.gov', 'display_url': 'WhiteHouse.gov', 'indices': [0, 23]}]}, 'description': {'urls': [{'url': 'https://t.co/IURuMIrzxb', 'expanded_url': 'http://whitehouse.gov/privacy', 'display_url': 'whitehouse.gov/privacy', 'indices': [126, 149]}]}}, 'protected': False, 'followers_count': 21658101, 'friends_count': 20, 'listed_count': 14461, 'created_at': 'Thu Jan 19 22:54:27 +0000 2017', 'favourites_count': 16, 'utc_offset': None, 'time_zone': None, 'geo_enabled': True, 'verified': True, 'statuses_count': 17341, 'lang': None, 'contributors_enabled': False, 'is_translator': False, 'is_translation_enabled': False, 'profile_background_color': 'F5F8FA', 'profile_background_image_url': None, 'profile_background_image_url_https': None, 'profile_background_tile': False, 'profile_image_url': 'http://pbs.twimg.com/profile_images/1059888693945630720/yex0Gcbi_normal.jpg', 'profile_image_url_https': 'https://pbs.twimg.com/profile_images/1059888693945630720/yex0Gcbi_normal.jpg', 'profile_banner_url': 'https://pbs.twimg.com/profile_banners/822215673812119553/1580922287', 'profile_link_color': '1DA1F2', 'profile_sidebar_border_color': 'C0DEED', 'profile_sidebar_fill_color': 'DDEEF6', 'profile_text_color': '333333', 'profile_use_background_image': True, 'has_extended_profile': False, 'default_profile': True, 'default_profile_image': False, 'following': False, 'follow_request_sent': False, 'notifications': False, 'translator_type': 'none'}, id=822215673812119553, id_str='822215673812119553', name='The White House', screen_name='WhiteHouse', location='Washington, D.C.', description='Welcome to @WhiteHouse! Follow for the latest from President @realDonaldTrump and his Administration. Tweets may be archived: https://t.co/IURuMIrzxb', url='https://t.co/wyOVgSLgBV', entities={'url': {'urls': [{'url': 'https://t.co/wyOVgSLgBV', 'expanded_url': 'http://www.WhiteHouse.gov', 'display_url': 'WhiteHouse.gov', 'indices': [0, 23]}]}, 'description': {'urls': [{'url': 'https://t.co/IURuMIrzxb', 'expanded_url': 'http://whitehouse.gov/privacy', 'display_url': 'whitehouse.gov/privacy', 'indices': [126, 149]}]}}, protected=False, followers_count=21658101, friends_count=20, listed_count=14461, created_at=datetime.datetime(2017, 1, 19, 22, 54, 27), favourites_count=16, utc_offset=None, time_zone=None, geo_enabled=True, verified=True, statuses_count=17341, lang=None, contributors_enabled=False, is_translator=False, is_translation_enabled=False, profile_background_color='F5F8FA', profile_background_image_url=None, profile_background_image_url_https=None, profile_background_tile=False, profile_image_url='http://pbs.twimg.com/profile_images/1059888693945630720/yex0Gcbi_normal.jpg', profile_image_url_https='https://pbs.twimg.com/profile_images/1059888693945630720/yex0Gcbi_normal.jpg', profile_banner_url='https://pbs.twimg.com/profile_banners/822215673812119553/1580922287', profile_link_color='1DA1F2', profile_sidebar_border_color='C0DEED', profile_sidebar_fill_color='DDEEF6', profile_text_color='333333', profile_use_background_image=True, has_extended_profile=False, default_profile=True, default_profile_image=False, following=False, follow_request_sent=False, notifications=False, translator_type='none'), geo=None, coordinates=None, place=None, contributors=None, is_quote_status=False, retweet_count=6170, favorite_count=22717, favorited=False, retweeted=False, possibly_sensitive=False, possibly_sensitive_appealable=False, lang='en'),\n",
       " 'is_quote_status': False,\n",
       " 'retweet_count': 6170,\n",
       " 'favorite_count': 0,\n",
       " 'favorited': False,\n",
       " 'retweeted': False,\n",
       " 'lang': 'en'}"
      ]
     },
     "execution_count": 58,
     "metadata": {},
     "output_type": "execute_result"
    }
   ],
   "source": [
    "public_tweets[4].__dict__"
   ]
  },
  {
   "cell_type": "code",
   "execution_count": 9,
   "metadata": {
    "ExecuteTime": {
     "end_time": "2020-04-16T04:37:02.415695Z",
     "start_time": "2020-04-16T04:37:02.411721Z"
    }
   },
   "outputs": [
    {
     "name": "stdout",
     "output_type": "stream",
     "text": [
      "api test.\n",
      "RT @WhiteHouse: The Federal government has ordered and shipped hundreds of millions of PPE items around the country. https://t.co/bVD3SyuXas\n",
      "RT @WhiteHouse: In 11 days, @GM sourced materials, transformed a manufacturing facility, and trained a workforce to build lifesaving ventil…\n",
      "RT @WhiteHouse: We are using every available authority to accelerate the development, study, and delivery of therapies. https://t.co/GKbkUd…\n",
      "RT @WhiteHouse: To date, more than 3.3 million Coronavirus tests have been completed and 48 different tests have been authorized. https://t…\n",
      "😀\n",
      "White House news conference today at 5:30 P.M. Eastern. Thank you!\n",
      "We are having very productive calls with the leaders of every sector of the economy who are all-in on getting Ameri… https://t.co/oMo4C5pu5V\n",
      "My condolences to the Steinbrenner family, and the entire @Yankees Organization, on the passing of Hank Steinbrenne… https://t.co/1uMc0Mq4HF\n",
      "#ThanksForDelivering @UPS! https://t.co/4Sis7Tme17\n",
      "RT @USNavy: Hard at work in #NYC.\n",
      "\n",
      "#USNavy Sailors provide care for trauma, emergency, and urgent care patients without regard to their #CO…\n",
      "Our GREAT Senator from South Carolina, @SenatorTimScott just released a fantastic new book, “OPPORTUNITY KNOCKS: Ho… https://t.co/XyRpIC1YAZ\n",
      "RT @GOPLeader: RT to tell Chuck Schumer and Nancy Pelosi to STOP blocking critical funding for small businesses. The Paycheck Protection Pr…\n",
      "“The Art of an Oil Deal” https://t.co/UyH5pYTmYw\n",
      "RT @WhiteHouse: President @realDonaldTrump is halting funding of the World Health Organization while a review is conducted to assess WHO's…\n",
      "https://t.co/KRxBA0OjpX\n",
      "White House news conference today at 5:45 P.M. Eastern. Thank you!\n",
      "My Administration is committed to protecting the Homeland from the scourge of narco-terrorists and traffickers seek… https://t.co/cnAPqQk19I\n",
      "Tell the Democrat Governors that “Mutiny On The Bounty” was one of my all time favorite movies. A good old fashione… https://t.co/AkL2j7upwF\n",
      "GET RID OF BALLOT HARVESTING, IT IS RAMPANT WITH FRAUD. THE USA MUST HAVE VOTER I.D., THE ONLY WAY TO GET AN HONEST COUNT!\n"
     ]
    }
   ],
   "source": [
    "for tweet in public_tweets:\n",
    "    print(tweet.text)"
   ]
  },
  {
   "cell_type": "code",
   "execution_count": null,
   "metadata": {},
   "outputs": [],
   "source": []
  },
  {
   "cell_type": "code",
   "execution_count": 24,
   "metadata": {
    "ExecuteTime": {
     "end_time": "2020-04-16T04:47:22.820598Z",
     "start_time": "2020-04-16T04:47:22.573158Z"
    }
   },
   "outputs": [],
   "source": [
    "user_twitters = api.user_timeline('Donald J. Trump')"
   ]
  },
  {
   "cell_type": "code",
   "execution_count": 25,
   "metadata": {
    "ExecuteTime": {
     "end_time": "2020-04-16T04:47:23.220337Z",
     "start_time": "2020-04-16T04:47:23.217367Z"
    }
   },
   "outputs": [
    {
     "name": "stdout",
     "output_type": "stream",
     "text": [
      "api test.\n",
      "😀\n"
     ]
    }
   ],
   "source": [
    "for tweet in user_twitters:\n",
    "    print(tweet.text)"
   ]
  },
  {
   "cell_type": "code",
   "execution_count": 30,
   "metadata": {
    "ExecuteTime": {
     "end_time": "2020-04-16T05:57:16.717497Z",
     "start_time": "2020-04-16T05:57:16.104395Z"
    }
   },
   "outputs": [],
   "source": [
    "st = api.me()"
   ]
  },
  {
   "cell_type": "code",
   "execution_count": 32,
   "metadata": {
    "ExecuteTime": {
     "end_time": "2020-04-16T05:57:29.022945Z",
     "start_time": "2020-04-16T05:57:29.019783Z"
    }
   },
   "outputs": [
    {
     "data": {
      "text/plain": [
       "'Mark Duan'"
      ]
     },
     "execution_count": 32,
     "metadata": {},
     "output_type": "execute_result"
    }
   ],
   "source": [
    "st.name"
   ]
  },
  {
   "cell_type": "code",
   "execution_count": 59,
   "metadata": {
    "ExecuteTime": {
     "end_time": "2020-04-16T06:18:21.390409Z",
     "start_time": "2020-04-16T06:18:21.387273Z"
    }
   },
   "outputs": [],
   "source": [
    "class MyStreamListener(tweepy.StreamListener):\n",
    "    def on_status(self, status):\n",
    "        print(status.text)\n",
    "    \n",
    "#     def on_error(self, status_code):\n",
    "#         # returning non-False reconnects the stream, with backoff.\n",
    "#         if status_code == 420:\n",
    "#             return True\n",
    "        "
   ]
  },
  {
   "cell_type": "code",
   "execution_count": 60,
   "metadata": {
    "ExecuteTime": {
     "end_time": "2020-04-16T06:18:23.068209Z",
     "start_time": "2020-04-16T06:18:23.065813Z"
    }
   },
   "outputs": [],
   "source": [
    "myStreamListener = MyStreamListener()"
   ]
  },
  {
   "cell_type": "code",
   "execution_count": 61,
   "metadata": {
    "ExecuteTime": {
     "end_time": "2020-04-16T06:18:30.118328Z",
     "start_time": "2020-04-16T06:18:30.115866Z"
    }
   },
   "outputs": [],
   "source": [
    "myStream = tweepy.Stream(auth = auth, listener=myStreamListener)"
   ]
  },
  {
   "cell_type": "code",
   "execution_count": 62,
   "metadata": {
    "ExecuteTime": {
     "end_time": "2020-04-16T06:18:36.346992Z",
     "start_time": "2020-04-16T06:18:36.342969Z"
    }
   },
   "outputs": [
    {
     "data": {
      "text/plain": [
       "<tweepy.streaming.Stream at 0x107db67f0>"
      ]
     },
     "execution_count": 62,
     "metadata": {},
     "output_type": "execute_result"
    }
   ],
   "source": [
    "myStream."
   ]
  },
  {
   "cell_type": "code",
   "execution_count": 65,
   "metadata": {
    "ExecuteTime": {
     "end_time": "2020-04-16T06:22:31.351366Z",
     "start_time": "2020-04-16T06:22:31.343538Z"
    },
    "scrolled": false
   },
   "outputs": [
    {
     "ename": "TweepError",
     "evalue": "Stream object already connected!",
     "output_type": "error",
     "traceback": [
      "\u001b[0;31m---------------------------------------------------------------------------\u001b[0m",
      "\u001b[0;31mTweepError\u001b[0m                                Traceback (most recent call last)",
      "\u001b[0;32m<ipython-input-65-4ac8ddc9d6ac>\u001b[0m in \u001b[0;36m<module>\u001b[0;34m\u001b[0m\n\u001b[0;32m----> 1\u001b[0;31m \u001b[0mmyStream\u001b[0m\u001b[0;34m.\u001b[0m\u001b[0mfilter\u001b[0m\u001b[0;34m(\u001b[0m\u001b[0;34m)\u001b[0m\u001b[0;34m\u001b[0m\u001b[0;34m\u001b[0m\u001b[0m\n\u001b[0m",
      "\u001b[0;32m~/opt/anaconda3/envs/inf553/lib/python3.6/site-packages/tweepy/streaming.py\u001b[0m in \u001b[0;36mfilter\u001b[0;34m(self, follow, track, is_async, locations, stall_warnings, languages, encoding, filter_level)\u001b[0m\n\u001b[1;32m    454\u001b[0m         \u001b[0mself\u001b[0m\u001b[0;34m.\u001b[0m\u001b[0msession\u001b[0m\u001b[0;34m.\u001b[0m\u001b[0mheaders\u001b[0m\u001b[0;34m[\u001b[0m\u001b[0;34m'Content-type'\u001b[0m\u001b[0;34m]\u001b[0m \u001b[0;34m=\u001b[0m \u001b[0;34m\"application/x-www-form-urlencoded\"\u001b[0m\u001b[0;34m\u001b[0m\u001b[0;34m\u001b[0m\u001b[0m\n\u001b[1;32m    455\u001b[0m         \u001b[0;32mif\u001b[0m \u001b[0mself\u001b[0m\u001b[0;34m.\u001b[0m\u001b[0mrunning\u001b[0m\u001b[0;34m:\u001b[0m\u001b[0;34m\u001b[0m\u001b[0;34m\u001b[0m\u001b[0m\n\u001b[0;32m--> 456\u001b[0;31m             \u001b[0;32mraise\u001b[0m \u001b[0mTweepError\u001b[0m\u001b[0;34m(\u001b[0m\u001b[0;34m'Stream object already connected!'\u001b[0m\u001b[0;34m)\u001b[0m\u001b[0;34m\u001b[0m\u001b[0;34m\u001b[0m\u001b[0m\n\u001b[0m\u001b[1;32m    457\u001b[0m         \u001b[0mself\u001b[0m\u001b[0;34m.\u001b[0m\u001b[0murl\u001b[0m \u001b[0;34m=\u001b[0m \u001b[0;34m'/%s/statuses/filter.json'\u001b[0m \u001b[0;34m%\u001b[0m \u001b[0mSTREAM_VERSION\u001b[0m\u001b[0;34m\u001b[0m\u001b[0;34m\u001b[0m\u001b[0m\n\u001b[1;32m    458\u001b[0m         \u001b[0;32mif\u001b[0m \u001b[0mfollow\u001b[0m\u001b[0;34m:\u001b[0m\u001b[0;34m\u001b[0m\u001b[0;34m\u001b[0m\u001b[0m\n",
      "\u001b[0;31mTweepError\u001b[0m: Stream object already connected!"
     ]
    },
    {
     "name": "stdout",
     "output_type": "stream",
     "text": [
      "[📷] 200416 kr_oneul IG update\n",
      "\n",
      "อูจิน X O’Neul # เดือนเมษายน\n",
      "\n",
      "#KIMWOOJIN #김우진 #우진 https://t.co/kCrlyeSQ4q\n",
      "बिहार-झारखंड की ताजा खबरें, 16 अप्रैल 2020 की बड़ी ब्रेकिंग न्यूज - राष्ट्रीय पत्रिका\n",
      "https://t.co/H3V1LOBllI\n",
      "# Cor… https://t.co/pPoJzfm3Na\n",
      "#Personalerfrühstück Volume 20: @pm2null und ich laden alle local Heros aus #Wiesbaden #Mainz # Hofheim #Rheingau e… https://t.co/J5U1xr2hrt\n",
      "RT @stfcfafah: มาค่ะ เห็นเฮียช็อปปิ้งในตลาดนุชละแฮปปี้ เราจะมาแจกหน้ากากผ้าของ AIIZ 1ชิ้นนะคะ กติกาง่ายๆคือ retweet และ reply\n",
      "👉 นุชที่มีร้า…\n",
      "@SK_Godara_ @tanwarkumar123 @Prakash92061206 @ashokgehlot51 @RajCMO @SachinPilot # पुलिस_ भर्ती_2018_ पूरी_ करो\n",
      "RT @shira_tedesco: @FredTJoseph Lucky #19 # RENTRELIEF!! HOPEFULLY AFTER 19 DAYS STRAIGHT , I WILL BE BLESSED TODAY TO BUY FOOD AND PAY A F…\n",
      "RT @KIMWOOJIN_TH: [📷] 200416 kr_oneul IG update\n",
      "\n",
      "อูจิน X O’Neul # เดือนเมษายน\n",
      "\n",
      "#KIMWOOJIN #김우진 #우진 https://t.co/Qyvm25dVid\n"
     ]
    }
   ],
   "source": [
    "myStream.filter()"
   ]
  },
  {
   "cell_type": "code",
   "execution_count": 14,
   "metadata": {
    "ExecuteTime": {
     "end_time": "2020-04-15T23:32:37.158490Z",
     "start_time": "2020-04-15T23:32:37.156131Z"
    }
   },
   "outputs": [],
   "source": [
    "a= 1"
   ]
  },
  {
   "cell_type": "code",
   "execution_count": 10,
   "metadata": {},
   "outputs": [],
   "source": [
    "def isEnglish(s):\n",
    "    try:\n",
    "        return all(ord(c) < 128 for c in s)\n",
    "    except TypeError:\n",
    "        return False"
   ]
  },
  {
   "cell_type": "code",
   "execution_count": 11,
   "metadata": {},
   "outputs": [
    {
     "output_type": "execute_result",
     "data": {
      "text/plain": "False"
     },
     "metadata": {},
     "execution_count": 11
    }
   ],
   "source": [
    "isEnglish('ewfaw fwall(ord(cى 128 for c in s)efwe;wefa')"
   ]
  },
  {
   "cell_type": "code",
   "execution_count": null,
   "metadata": {},
   "outputs": [],
   "source": []
  },
  {
   "cell_type": "code",
   "execution_count": null,
   "metadata": {},
   "outputs": [],
   "source": []
  },
  {
   "cell_type": "code",
   "execution_count": null,
   "metadata": {},
   "outputs": [],
   "source": []
  },
  {
   "cell_type": "code",
   "execution_count": null,
   "metadata": {},
   "outputs": [],
   "source": []
  }
 ],
 "metadata": {
  "kernelspec": {
   "display_name": "Python 3",
   "language": "python",
   "name": "python3"
  },
  "language_info": {
   "codemirror_mode": {
    "name": "ipython",
    "version": 3
   },
   "file_extension": ".py",
   "mimetype": "text/x-python",
   "name": "python",
   "nbconvert_exporter": "python",
   "pygments_lexer": "ipython3",
   "version": "3.6.10-final"
  },
  "toc": {
   "base_numbering": 1,
   "nav_menu": {},
   "number_sections": true,
   "sideBar": true,
   "skip_h1_title": false,
   "title_cell": "Table of Contents",
   "title_sidebar": "Contents",
   "toc_cell": false,
   "toc_position": {},
   "toc_section_display": true,
   "toc_window_display": false
  }
 },
 "nbformat": 4,
 "nbformat_minor": 4
}
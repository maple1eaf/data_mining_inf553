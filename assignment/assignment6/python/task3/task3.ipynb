{
 "cells": [
  {
   "cell_type": "code",
   "execution_count": 8,
   "metadata": {
    "ExecuteTime": {
     "end_time": "2020-04-16T07:43:16.150233Z",
     "start_time": "2020-04-16T07:43:16.147696Z"
    }
   },
   "outputs": [],
   "source": [
    "import socket\n",
    "\n",
    "import tweepy"
   ]
  },
  {
   "cell_type": "code",
   "execution_count": 2,
   "metadata": {
    "ExecuteTime": {
     "end_time": "2020-04-16T07:23:05.189814Z",
     "start_time": "2020-04-16T07:23:05.187364Z"
    }
   },
   "outputs": [],
   "source": [
    "CONSUMER_TOKEN = \"hY3hLVZSsujafToV1NoWiIslF\"\n",
    "CONSUMER_SECRET = \"w8t97BvBg6frWFKcRFh3xKBw5YP0l86mF8sUll2HPelkWFxc8P\"\n",
    "ACCESS_TOKEN = \"1043393088331247617-coRiLixUNXdHVaIRavzKbpBVaSPdqL\"\n",
    "ACCESS_TOKEN_SECRET = \"Y7wcLcVb5OFH8x5BKHkfBTWopAGM5nkFr2Zv5IlXUY4cJ\""
   ]
  },
  {
   "cell_type": "code",
   "execution_count": null,
   "metadata": {},
   "outputs": [],
   "source": [
    "port_num = 9999"
   ]
  },
  {
   "cell_type": "code",
   "execution_count": 4,
   "metadata": {
    "ExecuteTime": {
     "end_time": "2020-04-16T07:23:05.204901Z",
     "start_time": "2020-04-16T07:23:05.200008Z"
    }
   },
   "outputs": [],
   "source": [
    "class TwitterListener(tweepy.StreamListener):\n",
    "    def __init__(self, client_socket):\n",
    "        self.client_socket = client_socket\n",
    "        \n",
    "    def on_status(self, status):\n",
    "        if status.entities['hashtags'] == []:\n",
    "            return\n",
    "        tags = status.entities['hashtags']\n",
    "        texts = []\n",
    "        for tag in tags:\n",
    "            texts.append(tag['text'])\n",
    "        self.client_socket.send(json.dumps(texts))\n",
    "    \n",
    "    def on_error(self, status_code):\n",
    "        # returning non-False reconnects the stream, with backoff.\n",
    "        return True"
   ]
  },
  {
   "cell_type": "code",
   "execution_count": 9,
   "metadata": {
    "ExecuteTime": {
     "end_time": "2020-04-16T07:55:08.399008Z",
     "start_time": "2020-04-16T07:55:08.395893Z"
    }
   },
   "outputs": [],
   "source": [
    "def getAndSendTwitterTags(client_socket):\n",
    "    auth = tweepy.OAuthHandler(CONSUMER_TOKEN, CONSUMER_SECRET)\n",
    "    auth.set_access_token(ACCESS_TOKEN, ACCESS_TOKEN_SECRET)\n",
    "    \n",
    "    streamListener = TwitterListener(client_socket)\n",
    "    myStream = tweepy.Stream(auth = auth, listener=streamListener)\n",
    "    myStream.filter(track=['COVID'])"
   ]
  },
  {
   "cell_type": "code",
   "execution_count": 10,
   "metadata": {
    "ExecuteTime": {
     "end_time": "2020-04-16T08:38:56.511126Z",
     "start_time": "2020-04-16T08:38:56.508754Z"
    },
    "scrolled": false
   },
   "outputs": [],
   "source": [
    "s = socket.socket()"
   ]
  },
  {
   "cell_type": "code",
   "execution_count": 12,
   "metadata": {
    "ExecuteTime": {
     "end_time": "2020-04-16T08:39:12.465452Z",
     "start_time": "2020-04-16T08:39:12.462631Z"
    }
   },
   "outputs": [],
   "source": [
    "host = socket.gethostname()\n",
    "port = 9999"
   ]
  },
  {
   "cell_type": "code",
   "execution_count": 15,
   "metadata": {
    "ExecuteTime": {
     "end_time": "2020-04-16T08:39:29.626912Z",
     "start_time": "2020-04-16T08:39:29.622975Z"
    }
   },
   "outputs": [],
   "source": [
    "s.bind((host, port))"
   ]
  },
  {
   "cell_type": "code",
   "execution_count": 16,
   "metadata": {
    "ExecuteTime": {
     "end_time": "2020-04-16T08:39:33.448891Z",
     "start_time": "2020-04-16T08:39:33.446415Z"
    }
   },
   "outputs": [],
   "source": [
    "s.listen(2)"
   ]
  },
  {
   "cell_type": "code",
   "execution_count": 17,
   "metadata": {
    "ExecuteTime": {
     "end_time": "2020-04-16T08:51:00.212393Z",
     "start_time": "2020-04-16T08:39:44.711546Z"
    }
   },
   "outputs": [
    {
     "ename": "KeyboardInterrupt",
     "evalue": "",
     "output_type": "error",
     "traceback": [
      "\u001b[0;31m---------------------------------------------------------------------------\u001b[0m",
      "\u001b[0;31mKeyboardInterrupt\u001b[0m                         Traceback (most recent call last)",
      "\u001b[0;32m<ipython-input-17-577fefc7c561>\u001b[0m in \u001b[0;36m<module>\u001b[0;34m\u001b[0m\n\u001b[0;32m----> 1\u001b[0;31m \u001b[0mc\u001b[0m\u001b[0;34m,\u001b[0m \u001b[0maddr\u001b[0m \u001b[0;34m=\u001b[0m \u001b[0ms\u001b[0m\u001b[0;34m.\u001b[0m\u001b[0maccept\u001b[0m\u001b[0;34m(\u001b[0m\u001b[0;34m)\u001b[0m\u001b[0;34m\u001b[0m\u001b[0;34m\u001b[0m\u001b[0m\n\u001b[0m",
      "\u001b[0;32m~/opt/anaconda3/envs/inf553/lib/python3.6/socket.py\u001b[0m in \u001b[0;36maccept\u001b[0;34m(self)\u001b[0m\n\u001b[1;32m    203\u001b[0m         \u001b[0mFor\u001b[0m \u001b[0mIP\u001b[0m \u001b[0msockets\u001b[0m\u001b[0;34m,\u001b[0m \u001b[0mthe\u001b[0m \u001b[0maddress\u001b[0m \u001b[0minfo\u001b[0m \u001b[0;32mis\u001b[0m \u001b[0ma\u001b[0m \u001b[0mpair\u001b[0m \u001b[0;34m(\u001b[0m\u001b[0mhostaddr\u001b[0m\u001b[0;34m,\u001b[0m \u001b[0mport\u001b[0m\u001b[0;34m)\u001b[0m\u001b[0;34m.\u001b[0m\u001b[0;34m\u001b[0m\u001b[0;34m\u001b[0m\u001b[0m\n\u001b[1;32m    204\u001b[0m         \"\"\"\n\u001b[0;32m--> 205\u001b[0;31m         \u001b[0mfd\u001b[0m\u001b[0;34m,\u001b[0m \u001b[0maddr\u001b[0m \u001b[0;34m=\u001b[0m \u001b[0mself\u001b[0m\u001b[0;34m.\u001b[0m\u001b[0m_accept\u001b[0m\u001b[0;34m(\u001b[0m\u001b[0;34m)\u001b[0m\u001b[0;34m\u001b[0m\u001b[0;34m\u001b[0m\u001b[0m\n\u001b[0m\u001b[1;32m    206\u001b[0m         \u001b[0;31m# If our type has the SOCK_NONBLOCK flag, we shouldn't pass it onto the\u001b[0m\u001b[0;34m\u001b[0m\u001b[0;34m\u001b[0m\u001b[0;34m\u001b[0m\u001b[0m\n\u001b[1;32m    207\u001b[0m         \u001b[0;31m# new socket. We do not currently allow passing SOCK_NONBLOCK to\u001b[0m\u001b[0;34m\u001b[0m\u001b[0;34m\u001b[0m\u001b[0;34m\u001b[0m\u001b[0m\n",
      "\u001b[0;31mKeyboardInterrupt\u001b[0m: "
     ]
    }
   ],
   "source": [
    "c, addr = s.accept()"
   ]
  },
  {
   "cell_type": "code",
   "execution_count": null,
   "metadata": {},
   "outputs": [],
   "source": [
    "getAndSendTwitterTags(c)"
   ]
  },
  {
   "cell_type": "code",
   "execution_count": null,
   "metadata": {},
   "outputs": [],
   "source": []
  },
  {
   "cell_type": "code",
   "execution_count": null,
   "metadata": {},
   "outputs": [],
   "source": []
  },
  {
   "cell_type": "code",
   "execution_count": 18,
   "metadata": {
    "ExecuteTime": {
     "end_time": "2020-04-16T10:49:04.786534Z",
     "start_time": "2020-04-16T10:49:04.781570Z"
    }
   },
   "outputs": [],
   "source": [
    "import random"
   ]
  },
  {
   "cell_type": "code",
   "execution_count": 30,
   "metadata": {
    "ExecuteTime": {
     "end_time": "2020-04-16T11:13:15.164276Z",
     "start_time": "2020-04-16T11:13:15.159116Z"
    }
   },
   "outputs": [],
   "source": [
    "class ReservoirSampling():\n",
    "    def __init__(self, size):\n",
    "        \"\"\"\n",
    "        self.size: int - sample size\n",
    "        self.count: int - count from the beginning\n",
    "        \"\"\"\n",
    "        self.size = size\n",
    "        self.sample = []\n",
    "        self.count = 0\n",
    "        \n",
    "    def decide(self, element):\n",
    "        if self.size > len(self.sample):\n",
    "            self.sample.append(element)\n",
    "            self.count += 1\n",
    "        else:\n",
    "            if random.random() < self.size / (self.count + 1):\n",
    "                del_idx = random.randint(0, self.size - 1)\n",
    "                self.sample.pop(del_idx)\n",
    "                self.sample.append(element)\n",
    "            self.count += 1"
   ]
  },
  {
   "cell_type": "code",
   "execution_count": 31,
   "metadata": {
    "ExecuteTime": {
     "end_time": "2020-04-16T11:13:15.563658Z",
     "start_time": "2020-04-16T11:13:15.561505Z"
    }
   },
   "outputs": [],
   "source": [
    "rs = ReservoirSampling(3)"
   ]
  },
  {
   "cell_type": "code",
   "execution_count": 32,
   "metadata": {
    "ExecuteTime": {
     "end_time": "2020-04-16T11:13:16.110108Z",
     "start_time": "2020-04-16T11:13:16.107588Z"
    }
   },
   "outputs": [],
   "source": [
    "rs.decide(4)"
   ]
  },
  {
   "cell_type": "code",
   "execution_count": 36,
   "metadata": {
    "ExecuteTime": {
     "end_time": "2020-04-16T11:13:55.558812Z",
     "start_time": "2020-04-16T11:13:55.556436Z"
    }
   },
   "outputs": [],
   "source": [
    "rs.decide(2)"
   ]
  },
  {
   "cell_type": "code",
   "execution_count": 40,
   "metadata": {
    "ExecuteTime": {
     "end_time": "2020-04-16T11:14:05.953926Z",
     "start_time": "2020-04-16T11:14:05.951534Z"
    }
   },
   "outputs": [],
   "source": [
    "rs.decide(12)"
   ]
  },
  {
   "cell_type": "code",
   "execution_count": 44,
   "metadata": {
    "ExecuteTime": {
     "end_time": "2020-04-16T11:14:31.802752Z",
     "start_time": "2020-04-16T11:14:31.800017Z"
    }
   },
   "outputs": [],
   "source": [
    "rs.decide(77)"
   ]
  },
  {
   "cell_type": "code",
   "execution_count": 48,
   "metadata": {
    "ExecuteTime": {
     "end_time": "2020-04-16T11:14:59.996676Z",
     "start_time": "2020-04-16T11:14:59.994376Z"
    }
   },
   "outputs": [],
   "source": [
    "rs.decide(77)"
   ]
  },
  {
   "cell_type": "code",
   "execution_count": 52,
   "metadata": {
    "ExecuteTime": {
     "end_time": "2020-04-16T11:15:15.201093Z",
     "start_time": "2020-04-16T11:15:15.198625Z"
    }
   },
   "outputs": [],
   "source": [
    "rs.decide(12)"
   ]
  },
  {
   "cell_type": "code",
   "execution_count": 60,
   "metadata": {
    "ExecuteTime": {
     "end_time": "2020-04-16T11:15:32.294817Z",
     "start_time": "2020-04-16T11:15:32.292487Z"
    }
   },
   "outputs": [],
   "source": [
    "rs.decide(8)"
   ]
  },
  {
   "cell_type": "code",
   "execution_count": null,
   "metadata": {},
   "outputs": [],
   "source": []
  },
  {
   "cell_type": "code",
   "execution_count": 61,
   "metadata": {
    "ExecuteTime": {
     "end_time": "2020-04-16T11:15:33.763862Z",
     "start_time": "2020-04-16T11:15:33.760303Z"
    }
   },
   "outputs": [
    {
     "data": {
      "text/plain": [
       "3"
      ]
     },
     "execution_count": 61,
     "metadata": {},
     "output_type": "execute_result"
    }
   ],
   "source": [
    "rs.size"
   ]
  },
  {
   "cell_type": "code",
   "execution_count": 62,
   "metadata": {
    "ExecuteTime": {
     "end_time": "2020-04-16T11:15:34.164519Z",
     "start_time": "2020-04-16T11:15:34.160606Z"
    }
   },
   "outputs": [
    {
     "data": {
      "text/plain": [
       "[2, 77, 12]"
      ]
     },
     "execution_count": 62,
     "metadata": {},
     "output_type": "execute_result"
    }
   ],
   "source": [
    "rs.sample"
   ]
  },
  {
   "cell_type": "code",
   "execution_count": 63,
   "metadata": {
    "ExecuteTime": {
     "end_time": "2020-04-16T11:15:34.951024Z",
     "start_time": "2020-04-16T11:15:34.947771Z"
    }
   },
   "outputs": [
    {
     "data": {
      "text/plain": [
       "8"
      ]
     },
     "execution_count": 63,
     "metadata": {},
     "output_type": "execute_result"
    }
   ],
   "source": [
    "rs.count"
   ]
  },
  {
   "cell_type": "code",
   "execution_count": null,
   "metadata": {},
   "outputs": [],
   "source": []
  },
  {
   "cell_type": "code",
   "execution_count": 64,
   "metadata": {
    "ExecuteTime": {
     "end_time": "2020-04-16T18:39:04.725537Z",
     "start_time": "2020-04-16T18:39:04.705747Z"
    }
   },
   "outputs": [],
   "source": [
    "a = {1:2, 3:4, 5:6}"
   ]
  },
  {
   "cell_type": "code",
   "execution_count": 67,
   "metadata": {
    "ExecuteTime": {
     "end_time": "2020-04-16T18:42:24.917924Z",
     "start_time": "2020-04-16T18:42:24.914043Z"
    }
   },
   "outputs": [],
   "source": [
    "a_list = list(a.items())"
   ]
  },
  {
   "cell_type": "code",
   "execution_count": 68,
   "metadata": {
    "ExecuteTime": {
     "end_time": "2020-04-16T18:42:35.611186Z",
     "start_time": "2020-04-16T18:42:35.606323Z"
    }
   },
   "outputs": [],
   "source": [
    "a_candi = sorted(a_list, key=lambda x: x[0], reverse=True)"
   ]
  },
  {
   "cell_type": "code",
   "execution_count": 69,
   "metadata": {
    "ExecuteTime": {
     "end_time": "2020-04-16T18:42:38.477792Z",
     "start_time": "2020-04-16T18:42:38.473678Z"
    }
   },
   "outputs": [
    {
     "data": {
      "text/plain": [
       "[(5, 6), (3, 4), (1, 2)]"
      ]
     },
     "execution_count": 69,
     "metadata": {},
     "output_type": "execute_result"
    }
   ],
   "source": [
    "a_candi"
   ]
  },
  {
   "cell_type": "code",
   "execution_count": null,
   "metadata": {},
   "outputs": [],
   "source": []
  }
 ],
 "metadata": {
  "kernelspec": {
   "display_name": "inf553",
   "language": "python",
   "name": "inf553"
  },
  "language_info": {
   "codemirror_mode": {
    "name": "ipython",
    "version": 3
   },
   "file_extension": ".py",
   "mimetype": "text/x-python",
   "name": "python",
   "nbconvert_exporter": "python",
   "pygments_lexer": "ipython3",
   "version": "3.6.10"
  },
  "toc": {
   "base_numbering": 1,
   "nav_menu": {},
   "number_sections": true,
   "sideBar": true,
   "skip_h1_title": false,
   "title_cell": "Table of Contents",
   "title_sidebar": "Contents",
   "toc_cell": false,
   "toc_position": {},
   "toc_section_display": true,
   "toc_window_display": false
  }
 },
 "nbformat": 4,
 "nbformat_minor": 4
}

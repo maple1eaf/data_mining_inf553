{
 "cells": [
  {
   "cell_type": "markdown",
   "metadata": {},
   "source": [
    "``` bash\n",
    "spark-submit task2.py <port #> <output_file_path>\n",
    "```"
   ]
  },
  {
   "cell_type": "code",
   "execution_count": 1,
   "metadata": {
    "ExecuteTime": {
     "end_time": "2020-04-15T07:29:35.885392Z",
     "start_time": "2020-04-15T07:29:35.881232Z"
    }
   },
   "outputs": [],
   "source": [
    "import findspark\n",
    "findspark.init()"
   ]
  },
  {
   "cell_type": "code",
   "execution_count": 19,
   "metadata": {
    "ExecuteTime": {
     "end_time": "2020-04-17T04:41:24.723067Z",
     "start_time": "2020-04-17T04:41:24.720085Z"
    }
   },
   "outputs": [],
   "source": [
    "import sys\n",
    "import time\n",
    "import json\n",
    "import random\n",
    "import binascii\n",
    "import platform\n",
    "from math import inf\n",
    "\n",
    "from pyspark import SparkConf, SparkContext, StorageLevel\n",
    "from pyspark.streaming import StreamingContext"
   ]
  },
  {
   "cell_type": "code",
   "execution_count": 38,
   "metadata": {
    "ExecuteTime": {
     "end_time": "2020-04-17T04:47:11.574107Z",
     "start_time": "2020-04-17T04:47:11.570535Z"
    }
   },
   "outputs": [],
   "source": [
    "LARGE_NUMBER = inf\n",
    "HOST_NAME = 'localhost'\n",
    "WINDOW_LENGTH = 30\n",
    "SLIDING_INTERVAL = 10\n",
    "\n",
    "RANDOM_SEED = 1208\n",
    "EQUAL_THRESHOLD = 0.001\n",
    "NUM_HASH = 10\n",
    "BITS_LENGTH = 20\n",
    "NOF_HASH_BUCKETS = 2 ** BITS_LENGTH\n",
    "NOF_SMALL_GROUPS = 3"
   ]
  },
  {
   "cell_type": "code",
   "execution_count": 4,
   "metadata": {
    "ExecuteTime": {
     "end_time": "2020-04-15T07:29:36.157774Z",
     "start_time": "2020-04-15T07:29:36.154114Z"
    }
   },
   "outputs": [],
   "source": [
    "port_num = 9999\n",
    "output_file_path = \"./output/output_task2.csv\""
   ]
  },
  {
   "cell_type": "code",
   "execution_count": 5,
   "metadata": {
    "ExecuteTime": {
     "end_time": "2020-04-15T07:29:36.175703Z",
     "start_time": "2020-04-15T07:29:36.159888Z"
    }
   },
   "outputs": [],
   "source": [
    "class OneDimensionIntKMeans:\n",
    "    def __init__(self, k_cluster, seed=RANDOM_SEED):\n",
    "        self.k_cluster = k_cluster\n",
    "        self.seed=seed\n",
    "        \n",
    "    def initialCentroids(self, d, seed=RANDOM_SEED):\n",
    "        # d: dict - {idx: value, ...}\n",
    "        random.seed(seed)\n",
    "        centroids = {}\n",
    "        distance = {}\n",
    "        for i in range(self.k_cluster):\n",
    "            if i == 0:\n",
    "                first_centroid_tag = random.choice(list(d.keys()))\n",
    "                centroids[first_centroid_tag] = d[first_centroid_tag]\n",
    "                for idx in d:\n",
    "                    distance[idx] = self.computeDistance(d[idx], d[first_centroid_tag])\n",
    "            else:\n",
    "                largest_one = [None, -1]\n",
    "                for k in distance:\n",
    "                    if distance[k] > largest_one[1]:\n",
    "                        largest_one = [k, distance[k]]\n",
    "                next_centroid_tag = largest_one[0]\n",
    "                centroids[next_centroid_tag] = d[next_centroid_tag]\n",
    "                for idx in d:\n",
    "                    new_distance = self.computeDistance(d[idx], d[next_centroid_tag])\n",
    "                    distance[idx] = min(distance[idx], new_distance)\n",
    "        self.initial_centroids = centroids\n",
    "        return centroids\n",
    "                    \n",
    "    def computeDistance(self, i, c):\n",
    "        return abs(i - c)\n",
    "    \n",
    "    def fit(self, d):\n",
    "        old_centroids = None\n",
    "        new_centroids = self.initialCentroids(d, self.seed)\n",
    "        go_on = True\n",
    "        while(go_on):\n",
    "            clusters = self.clusterPoints(d, new_centroids)\n",
    "            old_centroids = new_centroids\n",
    "            new_centroids = self.computeCentroids(d, clusters)\n",
    "            go_on = self.checkCentroidsChanged(new_centroids, old_centroids, EQUAL_THRESHOLD)\n",
    "        return(clusters)\n",
    "            \n",
    "    def clusterPoints(self, d, centroids):\n",
    "        clusters = {}\n",
    "        for idx in d:\n",
    "            min_distance = [0, LARGE_NUMBER]\n",
    "            for tag in centroids:\n",
    "                dis = self.computeDistance(d[idx], centroids[tag])\n",
    "                if dis < min_distance[1]:\n",
    "                    min_distance = [tag, dis]\n",
    "            new_tag = min_distance[0]\n",
    "            if clusters.get(new_tag) == None:\n",
    "                clusters[new_tag] = [idx]\n",
    "            else:\n",
    "                clusters[new_tag].append(idx)\n",
    "        return clusters\n",
    "    \n",
    "    def computeCentroids(self, d, clusters):\n",
    "        new_centroids = {}\n",
    "        for tag in clusters:\n",
    "            cluster = clusters[tag]\n",
    "            new_centroid_value = sum([d[idx] for idx in cluster]) / len(cluster)\n",
    "            new_centroids[tag] = new_centroid_value\n",
    "        return new_centroids\n",
    "    \n",
    "    def checkCentroidsChanged(self, new_centroids, old_centroids, equal_threshold=EQUAL_THRESHOLD):\n",
    "        if old_centroids == None:\n",
    "            return True\n",
    "        if len(old_centroids) != len(new_centroids):\n",
    "            return True\n",
    "        sum_all = 0\n",
    "        for k in new_centroids:\n",
    "            sum_all += abs(new_centroids[k] - old_centroids[k])\n",
    "        dis_avg = sum_all / len(new_centroids)\n",
    "        print(dis_avg)\n",
    "        if dis_avg > equal_threshold:\n",
    "            return True\n",
    "        else:\n",
    "            return False\n",
    "        \n",
    "        "
   ]
  },
  {
   "cell_type": "code",
   "execution_count": 6,
   "metadata": {
    "ExecuteTime": {
     "end_time": "2020-04-15T07:29:38.468306Z",
     "start_time": "2020-04-15T07:29:36.178042Z"
    }
   },
   "outputs": [],
   "source": [
    "conf = SparkConf() \\\n",
    "    .setAppName(\"task\") \\\n",
    "    .setMaster(\"local[*]\") \\\n",
    "    .set(\"spark.driver.memory\",\"4g\")\n",
    "sc = SparkContext(conf=conf)\n",
    "sc.setLogLevel(\"ERROR\")\n",
    "scc = StreamingContext(sc, 5)"
   ]
  },
  {
   "cell_type": "code",
   "execution_count": 8,
   "metadata": {
    "ExecuteTime": {
     "end_time": "2020-04-15T07:31:09.440029Z",
     "start_time": "2020-04-15T07:31:09.414770Z"
    }
   },
   "outputs": [],
   "source": [
    "batches = scc.socketTextStream(HOST_NAME, port_num) \\\n",
    "    .window(WINDOW_LENGTH, SLIDING_INTERVAL) \\\n",
    "    .map(json.loads) \\\n",
    "    .map(lambda x: x['city']) \\\n",
    "    .cache()"
   ]
  },
  {
   "cell_type": "code",
   "execution_count": 9,
   "metadata": {
    "ExecuteTime": {
     "end_time": "2020-04-15T07:31:10.835956Z",
     "start_time": "2020-04-15T07:31:10.833135Z"
    }
   },
   "outputs": [],
   "source": [
    "def convertStrToInt(s):\n",
    "    return int(binascii.hexlify(s.encode('utf8')), 16)"
   ]
  },
  {
   "cell_type": "code",
   "execution_count": 10,
   "metadata": {
    "ExecuteTime": {
     "end_time": "2020-04-15T07:31:11.124302Z",
     "start_time": "2020-04-15T07:31:11.118256Z"
    }
   },
   "outputs": [],
   "source": [
    "def generateHashs(m, num_hash, seed=RANDOM_SEED):\n",
    "    \"\"\"\n",
    "    m - the number of the hash buckets\n",
    "    num_hash - the number of hash functions\n",
    "    \"\"\"\n",
    "    def hashGenerator(i):\n",
    "        a = a_s[i]\n",
    "        b = b_s[i]\n",
    "        def hashfunc(x):\n",
    "            return (a * x + b) % m\n",
    "        return hashfunc\n",
    "    \n",
    "    ab = set([])\n",
    "    random.seed(seed)\n",
    "    while(len(ab) < 2 * num_hash):\n",
    "        ab.add(random.randint(1, 10 * num_hash))\n",
    "        \n",
    "    a_s = []\n",
    "    for i in range(num_hash):\n",
    "        a_s.append(ab.pop())\n",
    "    b_s = list(ab)\n",
    "\n",
    "    hash_functions = []\n",
    "    for i in range(num_hash):\n",
    "        hash_functions.append(hashGenerator(i))\n",
    "    return hash_functions"
   ]
  },
  {
   "cell_type": "code",
   "execution_count": 28,
   "metadata": {
    "ExecuteTime": {
     "end_time": "2020-04-15T18:59:32.824004Z",
     "start_time": "2020-04-15T18:59:32.819221Z"
    }
   },
   "outputs": [],
   "source": [
    "def countTrailingZeros(n, bits_length):\n",
    "    # n - int\n",
    "    if n == 0:\n",
    "        return bits_length\n",
    "    count = 0\n",
    "    while(n & 1 ^ 1):\n",
    "        count += 1\n",
    "        n = n >> 1\n",
    "    return count"
   ]
  },
  {
   "cell_type": "code",
   "execution_count": 31,
   "metadata": {
    "ExecuteTime": {
     "end_time": "2020-04-15T19:00:15.768827Z",
     "start_time": "2020-04-15T19:00:15.765312Z"
    }
   },
   "outputs": [
    {
     "data": {
      "text/plain": [
       "8"
      ]
     },
     "execution_count": 31,
     "metadata": {},
     "output_type": "execute_result"
    }
   ],
   "source": [
    "countTrailingZeros(0, 8)"
   ]
  },
  {
   "cell_type": "code",
   "execution_count": 12,
   "metadata": {
    "ExecuteTime": {
     "end_time": "2020-04-15T07:31:12.064796Z",
     "start_time": "2020-04-15T07:31:12.062439Z"
    }
   },
   "outputs": [],
   "source": [
    "hashs = generateHashs(NOF_HASH_BUCKETS, NUM_HASH)"
   ]
  },
  {
   "cell_type": "code",
   "execution_count": 14,
   "metadata": {
    "ExecuteTime": {
     "end_time": "2020-04-15T07:34:14.940193Z",
     "start_time": "2020-04-15T07:34:14.936760Z"
    }
   },
   "outputs": [],
   "source": [
    "ground_truth = batches.map(lambda x: (x, 1)) \\\n",
    "    .reduceByKey(lambda x, y: 1) \\\n",
    "    .count()"
   ]
  },
  {
   "cell_type": "code",
   "execution_count": 15,
   "metadata": {
    "ExecuteTime": {
     "end_time": "2020-04-15T07:34:15.675769Z",
     "start_time": "2020-04-15T07:34:15.664910Z"
    },
    "scrolled": true
   },
   "outputs": [
    {
     "ename": "AttributeError",
     "evalue": "'TransformedDStream' object has no attribute 'collect'",
     "output_type": "error",
     "traceback": [
      "\u001b[0;31m---------------------------------------------------------------------------\u001b[0m",
      "\u001b[0;31mAttributeError\u001b[0m                            Traceback (most recent call last)",
      "\u001b[0;32m<ipython-input-15-57796ed660ca>\u001b[0m in \u001b[0;36m<module>\u001b[0;34m\u001b[0m\n\u001b[1;32m      4\u001b[0m     \u001b[0;34m.\u001b[0m\u001b[0mflatMap\u001b[0m\u001b[0;34m(\u001b[0m\u001b[0;32mlambda\u001b[0m \u001b[0mx\u001b[0m\u001b[0;34m:\u001b[0m \u001b[0;34m[\u001b[0m\u001b[0;34m(\u001b[0m\u001b[0mi\u001b[0m\u001b[0;34m,\u001b[0m \u001b[0;34m[\u001b[0m\u001b[0mx\u001b[0m\u001b[0;34m[\u001b[0m\u001b[0mi\u001b[0m\u001b[0;34m]\u001b[0m\u001b[0;34m]\u001b[0m\u001b[0;34m)\u001b[0m \u001b[0;32mfor\u001b[0m \u001b[0mi\u001b[0m \u001b[0;32min\u001b[0m \u001b[0mrange\u001b[0m\u001b[0;34m(\u001b[0m\u001b[0mlen\u001b[0m\u001b[0;34m(\u001b[0m\u001b[0mx\u001b[0m\u001b[0;34m)\u001b[0m\u001b[0;34m)\u001b[0m\u001b[0;34m]\u001b[0m\u001b[0;34m)\u001b[0m\u001b[0;31m \u001b[0m\u001b[0;31m\\\u001b[0m\u001b[0;34m\u001b[0m\u001b[0;34m\u001b[0m\u001b[0m\n\u001b[1;32m      5\u001b[0m     \u001b[0;34m.\u001b[0m\u001b[0mreduceByKey\u001b[0m\u001b[0;34m(\u001b[0m\u001b[0;32mlambda\u001b[0m \u001b[0mx\u001b[0m\u001b[0;34m,\u001b[0m \u001b[0my\u001b[0m\u001b[0;34m:\u001b[0m \u001b[0mx\u001b[0m \u001b[0;34m+\u001b[0m \u001b[0my\u001b[0m\u001b[0;34m)\u001b[0m\u001b[0;31m \u001b[0m\u001b[0;31m\\\u001b[0m\u001b[0;34m\u001b[0m\u001b[0;34m\u001b[0m\u001b[0m\n\u001b[0;32m----> 6\u001b[0;31m     \u001b[0;34m.\u001b[0m\u001b[0mmap\u001b[0m\u001b[0;34m(\u001b[0m\u001b[0;32mlambda\u001b[0m \u001b[0mx\u001b[0m\u001b[0;34m:\u001b[0m \u001b[0mmax\u001b[0m\u001b[0;34m(\u001b[0m\u001b[0mx\u001b[0m\u001b[0;34m[\u001b[0m\u001b[0;36m1\u001b[0m\u001b[0;34m]\u001b[0m\u001b[0;34m)\u001b[0m\u001b[0;34m)\u001b[0m\u001b[0;31m \u001b[0m\u001b[0;31m\\\u001b[0m\u001b[0;34m\u001b[0m\u001b[0;34m\u001b[0m\u001b[0m\n\u001b[0m\u001b[1;32m      7\u001b[0m     \u001b[0;34m.\u001b[0m\u001b[0mcollect\u001b[0m\u001b[0;34m(\u001b[0m\u001b[0;34m)\u001b[0m\u001b[0;34m\u001b[0m\u001b[0;34m\u001b[0m\u001b[0m\n",
      "\u001b[0;31mAttributeError\u001b[0m: 'TransformedDStream' object has no attribute 'collect'"
     ]
    }
   ],
   "source": [
    "powers = batches.map(lambda x: convertStrToInt(x)) \\\n",
    "    .map(lambda x: [h(x) for h in hashs]) \\\n",
    "    .map(lambda x: [countTrailingZeros(i) for i in x]) \\\n",
    "    .flatMap(lambda x: [(i, [x[i]]) for i in range(len(x))]) \\\n",
    "    .reduceByKey(lambda x, y: x + y) \\\n",
    "    .map(lambda x: max(x[1])) \\\n",
    "    .collect()"
   ]
  },
  {
   "cell_type": "code",
   "execution_count": null,
   "metadata": {
    "ExecuteTime": {
     "end_time": "2020-04-15T07:29:38.817661Z",
     "start_time": "2020-04-15T07:29:35.902Z"
    }
   },
   "outputs": [],
   "source": [
    "powers_dict = dict([(i, powers[i]) for i in range(len(powers))])"
   ]
  },
  {
   "cell_type": "code",
   "execution_count": null,
   "metadata": {
    "ExecuteTime": {
     "end_time": "2020-04-15T07:29:38.819894Z",
     "start_time": "2020-04-15T07:29:35.903Z"
    }
   },
   "outputs": [],
   "source": [
    "km = OneDimensionIntKMeans(NOF_SMALL_GROUPS)\n",
    "clusters = km.fit(powers_dict)"
   ]
  },
  {
   "cell_type": "code",
   "execution_count": null,
   "metadata": {
    "ExecuteTime": {
     "end_time": "2020-04-15T07:29:38.821526Z",
     "start_time": "2020-04-15T07:29:35.904Z"
    }
   },
   "outputs": [],
   "source": [
    "avg_groups = []\n",
    "for k in clusters:\n",
    "    group = clusters[k]\n",
    "    group_avg = sum([2**powers_dict[x] for x in group]) / len(group)\n",
    "    avg_groups.append(group_avg)"
   ]
  },
  {
   "cell_type": "code",
   "execution_count": null,
   "metadata": {
    "ExecuteTime": {
     "end_time": "2020-04-15T07:29:38.823140Z",
     "start_time": "2020-04-15T07:29:35.906Z"
    }
   },
   "outputs": [],
   "source": [
    "def getMedian(l):\n",
    "    l = sorted(l)\n",
    "    length_l = len(l)\n",
    "    if length_l % 2 == 0:\n",
    "        # even\n",
    "        return (l[int(length_l/2)-1] + l[(int(length_l/2))]) / 2\n",
    "    else:\n",
    "        return (l[int((length_l-1)/2)])"
   ]
  },
  {
   "cell_type": "code",
   "execution_count": null,
   "metadata": {
    "ExecuteTime": {
     "end_time": "2020-04-15T07:29:38.824754Z",
     "start_time": "2020-04-15T07:29:35.907Z"
    }
   },
   "outputs": [],
   "source": [
    "estimation = getMedian(avg_groups)"
   ]
  },
  {
   "cell_type": "code",
   "execution_count": null,
   "metadata": {
    "ExecuteTime": {
     "end_time": "2020-04-15T07:29:38.826823Z",
     "start_time": "2020-04-15T07:29:35.909Z"
    }
   },
   "outputs": [],
   "source": [
    "print('ground_truth:', ground_truth)\n",
    "print('estimation:', estimation)"
   ]
  },
  {
   "cell_type": "code",
   "execution_count": null,
   "metadata": {
    "ExecuteTime": {
     "end_time": "2020-04-15T07:29:38.828459Z",
     "start_time": "2020-04-15T07:29:35.911Z"
    }
   },
   "outputs": [],
   "source": [
    "scc.start()"
   ]
  },
  {
   "cell_type": "code",
   "execution_count": null,
   "metadata": {
    "ExecuteTime": {
     "end_time": "2020-04-15T07:29:38.830134Z",
     "start_time": "2020-04-15T07:29:38.522Z"
    },
    "scrolled": false
   },
   "outputs": [],
   "source": [
    "scc.awaitTermination()"
   ]
  },
  {
   "cell_type": "code",
   "execution_count": 93,
   "metadata": {
    "ExecuteTime": {
     "end_time": "2020-04-15T00:15:27.883034Z",
     "start_time": "2020-04-15T00:15:27.155406Z"
    },
    "scrolled": false
   },
   "outputs": [],
   "source": [
    "ones_position = cities.map(lambda x: convertStrToInt(x)) \\\n",
    "    .flatMap(lambda x: [h(x) for h in hashs]) \\\n",
    "    .distinct() \\\n",
    "    .collect()"
   ]
  },
  {
   "cell_type": "code",
   "execution_count": 112,
   "metadata": {
    "ExecuteTime": {
     "end_time": "2020-04-15T00:35:32.051866Z",
     "start_time": "2020-04-15T00:35:32.047921Z"
    }
   },
   "outputs": [],
   "source": [
    "output = ' '.join(res)"
   ]
  },
  {
   "cell_type": "code",
   "execution_count": 113,
   "metadata": {
    "ExecuteTime": {
     "end_time": "2020-04-15T00:36:05.196602Z",
     "start_time": "2020-04-15T00:36:05.192899Z"
    }
   },
   "outputs": [],
   "source": [
    "with open(output_file_path, 'w', encoding='utf-8') as fp:\n",
    "    fp.write(output)"
   ]
  },
  {
   "cell_type": "code",
   "execution_count": null,
   "metadata": {},
   "outputs": [],
   "source": []
  },
  {
   "cell_type": "code",
   "execution_count": 84,
   "metadata": {
    "ExecuteTime": {
     "end_time": "2020-04-15T00:12:23.075926Z",
     "start_time": "2020-04-15T00:12:23.073548Z"
    }
   },
   "outputs": [],
   "source": [
    "a.sort()"
   ]
  },
  {
   "cell_type": "code",
   "execution_count": 67,
   "metadata": {
    "ExecuteTime": {
     "end_time": "2020-04-15T00:03:29.863300Z",
     "start_time": "2020-04-15T00:03:29.848928Z"
    },
    "scrolled": true
   },
   "outputs": [
    {
     "data": {
      "text/plain": [
       "['Agincourt',\n",
       " 'Ahwatukee',\n",
       " 'Airdrie',\n",
       " 'Ajax',\n",
       " 'Alburg',\n",
       " 'Allegheny',\n",
       " 'Allison Park',\n",
       " 'Ambridge',\n",
       " 'Amherst',\n",
       " 'Angus',\n",
       " 'Anjou',\n",
       " 'Anthem',\n",
       " 'Argos',\n",
       " 'Arnold',\n",
       " 'Ashburn',\n",
       " 'Aspinwall',\n",
       " 'Auburn',\n",
       " 'Auburn Township',\n",
       " 'Aurora',\n",
       " 'Avalon',\n",
       " 'Avon',\n",
       " 'Avon Lake',\n",
       " 'Avondale',\n",
       " \"Baie-D'urfe\",\n",
       " 'Bainbridge',\n",
       " 'Bainbridge Township',\n",
       " 'Baldwin',\n",
       " 'Ballantyne',\n",
       " 'Balzac',\n",
       " 'Bay Village',\n",
       " 'Bayview',\n",
       " 'Beachwood',\n",
       " 'Beaconsfield',\n",
       " 'Beauharnois',\n",
       " 'Bedford',\n",
       " 'Bedford HTS',\n",
       " 'Bedford Heights',\n",
       " 'Bedford Hts.',\n",
       " 'Bellagio',\n",
       " 'Belleville',\n",
       " 'Bellevue',\n",
       " 'Bellvue',\n",
       " 'Belmont',\n",
       " 'Beloeil',\n",
       " 'Beltline',\n",
       " 'Ben Avon',\n",
       " 'Bentleyville',\n",
       " 'Berea',\n",
       " 'Berry',\n",
       " 'Bethel Park',\n",
       " 'Black Earth',\n",
       " 'Blainville',\n",
       " 'Blakeney',\n",
       " 'Blawnox',\n",
       " 'Bloomfield',\n",
       " 'Blue Diamond',\n",
       " 'Boisbriand',\n",
       " 'Bolton',\n",
       " 'Bond Head',\n",
       " 'Boston',\n",
       " 'Boston Heights',\n",
       " 'Boucherville',\n",
       " 'Boulder City',\n",
       " 'Braddock',\n",
       " 'Bradford',\n",
       " 'Bradford West Gwillimbury',\n",
       " 'Bradfordwoods',\n",
       " 'Brampton',\n",
       " 'Brampton FKA Bramalea',\n",
       " 'Bratenahl',\n",
       " 'Brecksville',\n",
       " 'Brentwood',\n",
       " 'Bridgeville',\n",
       " 'Bright',\n",
       " 'Broadlands',\n",
       " 'Broadview Heights',\n",
       " 'Broadview Hts',\n",
       " 'Brook Park',\n",
       " 'Brooklin',\n",
       " 'Brookline',\n",
       " 'Brooklyn',\n",
       " 'Brooklyn Heights',\n",
       " 'Brookpark',\n",
       " 'Brossard',\n",
       " 'Brunswick',\n",
       " 'Brunswick Hills',\n",
       " 'Buckeye',\n",
       " 'Buckeye - Shaker',\n",
       " 'Buena Vista',\n",
       " 'Burton',\n",
       " 'C Las Vegas',\n",
       " 'CHARLOTTE',\n",
       " 'COLUMBIA STA',\n",
       " 'Caledon',\n",
       " 'Caledon East',\n",
       " 'Caledon Village',\n",
       " 'Calgary',\n",
       " 'Camargo',\n",
       " 'Candiac',\n",
       " 'Canonsburg',\n",
       " 'Carefree',\n",
       " 'Caregie',\n",
       " 'Carnegie',\n",
       " 'Carp',\n",
       " 'Casablanca',\n",
       " 'Castle Shannon',\n",
       " 'Cave Creek',\n",
       " 'Cave Creek Road',\n",
       " 'Cecil',\n",
       " 'Centennial Hills',\n",
       " 'Central City Village',\n",
       " 'Central Henderson',\n",
       " 'Central Oakland',\n",
       " 'Chagrin Falls',\n",
       " 'Chambly',\n",
       " 'Champaign',\n",
       " 'Champlain',\n",
       " 'Chander',\n",
       " 'Chandler',\n",
       " 'Chandler-Gilbert',\n",
       " 'Chardon',\n",
       " 'Charlotte',\n",
       " 'Chatauguay',\n",
       " 'Chateau',\n",
       " 'Chateauguay',\n",
       " 'Chester Township',\n",
       " 'Chesterland',\n",
       " 'Chestermere',\n",
       " 'Cheswick',\n",
       " 'Chomedey, Laval',\n",
       " 'Churubusco',\n",
       " 'Châteauguay',\n",
       " 'Clairton',\n",
       " 'Claremont',\n",
       " 'Clark',\n",
       " 'Clarkson',\n",
       " 'Cleveland',\n",
       " 'Cleveland Height',\n",
       " 'Cleveland Heights',\n",
       " 'Cleveland, OH',\n",
       " 'Clinton',\n",
       " 'Columbia Station',\n",
       " 'Communauté-Urbaine-de-Montréal',\n",
       " 'Concord',\n",
       " 'Concord Township',\n",
       " 'Concord Twp',\n",
       " 'Cooksville',\n",
       " 'Copley',\n",
       " 'Coraopolis',\n",
       " 'Cornelius',\n",
       " 'Cote Saint Luc',\n",
       " 'Cote Saint-Luc',\n",
       " 'Cote-Saint-Luc',\n",
       " 'Cottage Grove',\n",
       " 'Crafton',\n",
       " 'Cramerton',\n",
       " 'Creighton',\n",
       " 'Crescent',\n",
       " 'Cross Plains',\n",
       " 'Cuddy',\n",
       " 'Cuyahoga Falls',\n",
       " 'Cuyahoga Fls',\n",
       " 'Cuyahoga Heights',\n",
       " 'Dallas',\n",
       " 'Dane',\n",
       " 'Davidson',\n",
       " 'Davidson, Nc',\n",
       " 'De Forest',\n",
       " 'DeForest',\n",
       " 'Decatur',\n",
       " 'Delson',\n",
       " 'Desert Ridge',\n",
       " 'Division No. 6',\n",
       " 'Dollard-Des Ormeaux',\n",
       " 'Dollard-Des-Ormeaux',\n",
       " 'Dollard-des Ormeaux',\n",
       " 'Dollard-des-Ormeaux',\n",
       " 'Don Mills',\n",
       " 'Dormont',\n",
       " 'Dorval',\n",
       " 'Downsview',\n",
       " 'Downtown',\n",
       " 'Downtown Toronto',\n",
       " 'Dravosburg',\n",
       " 'Duquesne',\n",
       " 'East Ajax',\n",
       " 'East Calgary',\n",
       " 'East Cleveland',\n",
       " 'East Credit',\n",
       " 'East Gwillimbury',\n",
       " 'East Liberty',\n",
       " 'East Mc Keesport',\n",
       " 'East McKeesport',\n",
       " 'East Mesa',\n",
       " 'East Mississauga',\n",
       " 'East Pittsburgh',\n",
       " 'East York',\n",
       " 'Eastlake',\n",
       " 'Edgewood',\n",
       " 'Edgeworth',\n",
       " 'El Mirage',\n",
       " 'Elizabeth',\n",
       " 'Elizabeth Township',\n",
       " 'Elk Grove Villa',\n",
       " 'Elrama',\n",
       " 'Elyria',\n",
       " 'Enns',\n",
       " 'Enterprise',\n",
       " 'Estrella Village',\n",
       " 'Estérel',\n",
       " 'Etna',\n",
       " 'Etobicoke',\n",
       " 'Etobicoke On',\n",
       " 'Etobicoke,',\n",
       " 'Etobiicoke',\n",
       " 'Euclid',\n",
       " 'Fabreville',\n",
       " 'Fairlawn',\n",
       " 'Fairport Harbor',\n",
       " 'Fairview',\n",
       " 'Fairview Park',\n",
       " 'Farnham',\n",
       " 'Ferrel',\n",
       " 'Finleyville',\n",
       " 'Fisher',\n",
       " 'Fitchburg',\n",
       " 'Fitchburgh',\n",
       " 'Fithian',\n",
       " 'Forest Hills',\n",
       " 'Fort  Mill',\n",
       " 'Fort McDowell',\n",
       " 'Fort Mill',\n",
       " 'Fountain Hills',\n",
       " 'Fox Chapel',\n",
       " 'Franklin Park',\n",
       " 'Frazer',\n",
       " 'Freyburg',\n",
       " 'Ft. Mill',\n",
       " 'Garfield Heights',\n",
       " 'Garfield Hts',\n",
       " 'Garfield hts',\n",
       " 'Gastonia',\n",
       " 'Gates Mills',\n",
       " 'Geauga',\n",
       " 'Gelndale',\n",
       " 'Georgetown',\n",
       " 'Gibsonia',\n",
       " 'Gifford',\n",
       " 'Gilbert',\n",
       " 'Gillbert',\n",
       " 'Glamorgan',\n",
       " 'Glassport',\n",
       " 'Glbert',\n",
       " 'Glendale',\n",
       " 'Glendale Az',\n",
       " 'Glenshaw',\n",
       " 'Goodyear',\n",
       " 'Gormley',\n",
       " 'Grafton',\n",
       " 'Grand River',\n",
       " 'Green Tree',\n",
       " 'Green Valley',\n",
       " 'Greenfield Park',\n",
       " 'Grünberg',\n",
       " 'Guadalupe',\n",
       " 'Hampton Township',\n",
       " 'Harmar Township',\n",
       " 'Harmarville',\n",
       " 'Harrisburg',\n",
       " 'Harrison City',\n",
       " 'Harwick',\n",
       " 'Haus',\n",
       " 'Heidelberg',\n",
       " 'Henderson',\n",
       " 'Henderson (Green Valley)',\n",
       " 'Henderson, NV',\n",
       " 'Hendersonville',\n",
       " 'Hendserson',\n",
       " 'Herminie',\n",
       " 'Hermitage Twp',\n",
       " 'Highland Heights',\n",
       " 'Higley',\n",
       " 'Hinckley',\n",
       " 'Hiram',\n",
       " 'Homer',\n",
       " 'Homestead',\n",
       " 'Houston',\n",
       " 'Hudson',\n",
       " 'Huntersville',\n",
       " 'Imperial',\n",
       " 'Inden',\n",
       " 'Independence',\n",
       " 'Indian Land',\n",
       " 'Indian Trail',\n",
       " 'Indian land',\n",
       " 'Indianola',\n",
       " 'Indus',\n",
       " 'Inglewood',\n",
       " 'Ingomar',\n",
       " 'Ingram',\n",
       " 'Irwin',\n",
       " 'Jefferson Hills',\n",
       " 'Jessen',\n",
       " 'Joliette',\n",
       " 'Jork',\n",
       " 'Kahnawake',\n",
       " 'Kannapolis',\n",
       " 'Kennedy Township',\n",
       " 'Kent',\n",
       " 'Kettleby',\n",
       " 'King',\n",
       " 'King City',\n",
       " 'Kinsman',\n",
       " 'Kirkland',\n",
       " 'Kirtland',\n",
       " 'Kleinburg',\n",
       " \"L'Ile-Perrot\",\n",
       " \"L'assomption\",\n",
       " \"L'ile-Bizard\",\n",
       " \"L'ile-Perrot\",\n",
       " \"L'Île-Perrot\",\n",
       " 'La Baie',\n",
       " 'La Prairie',\n",
       " 'La Salle',\n",
       " 'La Vegas',\n",
       " 'LaSalle',\n",
       " 'Lachenaie',\n",
       " 'Lachine',\n",
       " 'Lachute',\n",
       " 'Lacolle',\n",
       " 'Lagrange',\n",
       " 'Lake Las Vegas',\n",
       " 'Lake Wylie',\n",
       " 'Lakewood',\n",
       " 'Lakewood, Oh',\n",
       " 'Lam',\n",
       " 'Landau',\n",
       " 'Landsberg',\n",
       " 'Larimer',\n",
       " 'Las  Vegas',\n",
       " 'Las Vegas',\n",
       " 'Las Vegas East',\n",
       " 'Las Vegas,',\n",
       " 'Las Vegass',\n",
       " 'Las vegas',\n",
       " 'LasVegas',\n",
       " 'Lasalle',\n",
       " 'Laval',\n",
       " 'Laval, Pont Viau',\n",
       " 'Lavaltrie',\n",
       " 'Laveen',\n",
       " 'Laveen Village',\n",
       " 'Lawrenceville',\n",
       " 'Leaside',\n",
       " 'Leetsdale',\n",
       " 'Liberty',\n",
       " 'Library',\n",
       " 'Lich',\n",
       " 'Lindale',\n",
       " 'Linden',\n",
       " 'Litchfield',\n",
       " 'Litchfield Park',\n",
       " 'Longueuil',\n",
       " 'Lorain',\n",
       " 'Los Molinos',\n",
       " 'Lowell',\n",
       " 'Lower Burrell',\n",
       " 'Lowesville',\n",
       " 'Lyndhurst',\n",
       " 'MADISON',\n",
       " 'MATTHEWS',\n",
       " 'MESA',\n",
       " 'Macedonia',\n",
       " 'Madison',\n",
       " 'Mahomet',\n",
       " 'Mansfeld',\n",
       " 'Mansfield',\n",
       " 'Mantua',\n",
       " 'Maple',\n",
       " 'Maple Heights',\n",
       " 'Maria',\n",
       " 'Maricopa County',\n",
       " 'Markham',\n",
       " 'Marvin',\n",
       " 'Mascouche',\n",
       " 'Massey',\n",
       " 'Matthews',\n",
       " 'Mayfield',\n",
       " 'Mayfield Heights',\n",
       " 'Mayfield Hts.',\n",
       " 'Mayfield Village',\n",
       " 'Mc Donald',\n",
       " 'Mc Farland',\n",
       " 'Mc Kees Rocks',\n",
       " 'Mc Murray',\n",
       " 'McAdenville',\n",
       " 'McCandless',\n",
       " 'McCandless Township',\n",
       " 'McDonald',\n",
       " 'McFarland',\n",
       " 'McKees Rocks',\n",
       " 'McKeesport',\n",
       " 'McMurray',\n",
       " 'McMurry',\n",
       " 'Mccandless Township',\n",
       " 'Median',\n",
       " 'Medina',\n",
       " 'Medina Township',\n",
       " 'Mentor',\n",
       " 'Mentor On The Lake',\n",
       " 'Mentor On the',\n",
       " 'Mentor On the Lake',\n",
       " 'Mentor-on-the-Lake',\n",
       " 'Mercier',\n",
       " 'Mesa',\n",
       " 'Metro Phoenix',\n",
       " 'Middleburg',\n",
       " 'Middleburg Heights',\n",
       " 'Middleburg Hts',\n",
       " 'Middlefield',\n",
       " 'Middleton',\n",
       " 'Midland',\n",
       " 'Midnapore',\n",
       " 'Millvale',\n",
       " 'Mint  Hill',\n",
       " 'Mint Hill',\n",
       " 'Mirabel',\n",
       " 'Missisauga',\n",
       " 'Mississauaga',\n",
       " 'Mississauga',\n",
       " 'Monona',\n",
       " 'Monongahela',\n",
       " 'Monroe',\n",
       " 'Monroeville',\n",
       " 'Mont-Royal',\n",
       " 'Mont-Saint-Gregoire',\n",
       " 'Mont-Saint-Hilaire',\n",
       " 'Monticello',\n",
       " 'Montreal',\n",
       " 'Montreal-Nord',\n",
       " 'Montreal-Ouest',\n",
       " 'Montreal-West',\n",
       " 'Montréal',\n",
       " 'Montréal (Québec)',\n",
       " 'Montréal-Nord',\n",
       " 'Montéal',\n",
       " 'Mooers',\n",
       " 'Moon',\n",
       " 'Moon Township',\n",
       " 'Moon Twp',\n",
       " 'Moon Twp.',\n",
       " 'Moreland Hills',\n",
       " 'Morgan',\n",
       " 'Morin-Heights',\n",
       " 'Moss',\n",
       " 'Mount Albert',\n",
       " 'Mount Holly',\n",
       " 'Mount Horeb',\n",
       " 'Mount Laurel',\n",
       " 'Mount Lebanon',\n",
       " 'Mt Holly',\n",
       " 'Mt Lebanon',\n",
       " 'Mt. Holly',\n",
       " 'Mt. Lebanon',\n",
       " 'Mt. Oliver Boro',\n",
       " 'Munhall',\n",
       " 'Municipality of Murrysville',\n",
       " 'Munroe Falls',\n",
       " 'Murrysville',\n",
       " 'N E Las Vegas',\n",
       " 'N Las Vegas',\n",
       " 'N Ridgeville',\n",
       " 'N W Las Vegas',\n",
       " 'N. Las Vegas',\n",
       " 'N. OLMSTED',\n",
       " 'N. Randall',\n",
       " 'N. Ridgeville',\n",
       " 'NC',\n",
       " 'NORTH YORK',\n",
       " 'Napierville',\n",
       " 'National City',\n",
       " 'Nellis',\n",
       " 'Nellis AFB',\n",
       " 'Nellis Afb',\n",
       " 'Nellis Air Force Base',\n",
       " 'Neville Island',\n",
       " 'New Eagle',\n",
       " 'New Kensington',\n",
       " 'Newbury',\n",
       " 'Newmarket',\n",
       " 'Nobleton',\n",
       " 'Norland',\n",
       " 'North  Ridgeville',\n",
       " 'North  York',\n",
       " 'North Braddock',\n",
       " 'North Huntingdon',\n",
       " 'North Huntington',\n",
       " 'North Las Vegas',\n",
       " 'North Olmstead',\n",
       " 'North Olmsted',\n",
       " 'North Olmsted,',\n",
       " 'North Randall',\n",
       " 'North Ridgeville',\n",
       " 'North Royalton',\n",
       " 'North Scottsdale',\n",
       " 'North Versailles',\n",
       " 'North York',\n",
       " 'NorthEast Calgary',\n",
       " 'NorthWest Calgary',\n",
       " 'NorthYork',\n",
       " 'Northfield',\n",
       " 'Northfield Center',\n",
       " 'Northifield',\n",
       " 'Northwest Calgary',\n",
       " \"Notre-Dame-De-L'ile-Perrot\",\n",
       " 'Nottingham',\n",
       " 'Novelty',\n",
       " 'Noyan',\n",
       " 'Oakdale',\n",
       " 'Oakland',\n",
       " 'Oakmont',\n",
       " 'Oakridges',\n",
       " 'Oakville',\n",
       " 'Oakwood',\n",
       " 'Oakwood Village',\n",
       " 'Ogden',\n",
       " 'Oka',\n",
       " 'Old Scottsdale',\n",
       " 'Olivos',\n",
       " 'Olmsted Falls',\n",
       " 'Olmsted Township',\n",
       " 'Orange',\n",
       " 'Orange Village',\n",
       " 'Oregon',\n",
       " 'Ormstown',\n",
       " 'Otterburn Park',\n",
       " 'Outremont',\n",
       " 'Overbrook',\n",
       " 'Painesville',\n",
       " 'Painesville Township',\n",
       " 'Palgrave',\n",
       " 'Palmerston',\n",
       " 'Paoli',\n",
       " 'Paradise',\n",
       " 'Paradise Valley',\n",
       " 'Parma',\n",
       " 'Parma Heights',\n",
       " 'Peninsul',\n",
       " 'Peninsula',\n",
       " 'Penn Hills',\n",
       " 'Peoria',\n",
       " 'Peoria, AZ',\n",
       " 'Pepper Pike',\n",
       " 'Pepperpike',\n",
       " 'Peters Township',\n",
       " 'Pfaffing',\n",
       " 'Pheonix',\n",
       " 'Philo',\n",
       " 'Phoenix',\n",
       " 'Phoenix AZ',\n",
       " 'Phoenix metro area',\n",
       " 'Phoenix,',\n",
       " 'Phoenix, AZ',\n",
       " 'Phoneix',\n",
       " 'Phonenix',\n",
       " 'Phoniex',\n",
       " 'Phx',\n",
       " 'Pickering',\n",
       " 'Pickering Ajax Whitby',\n",
       " 'Piedmont',\n",
       " 'Pierrefonds',\n",
       " 'Pineville',\n",
       " 'Pitcairn',\n",
       " 'Pittsburch',\n",
       " 'Pittsburg',\n",
       " 'Pittsburgh',\n",
       " 'Plan',\n",
       " 'Pleasant Hills',\n",
       " 'Plum',\n",
       " 'Plum Boro',\n",
       " 'Point-Claire',\n",
       " 'Pointe Claire',\n",
       " 'Pointe-Aux-Trembles',\n",
       " 'Pointe-Calumet',\n",
       " 'Pointe-Claire',\n",
       " 'Port Credit',\n",
       " 'Presto',\n",
       " 'Promenade',\n",
       " 'Queensville',\n",
       " 'Rain',\n",
       " 'Rainbow Valley',\n",
       " 'Rankin',\n",
       " 'Ranlo',\n",
       " 'Rantoul',\n",
       " 'Rawdon',\n",
       " 'Repentigny',\n",
       " 'Rexdale',\n",
       " 'Richfield',\n",
       " 'Richmond Height',\n",
       " 'Richmond Heights',\n",
       " 'Richmond Hill',\n",
       " 'Richmond Hts',\n",
       " 'Ridgeville',\n",
       " 'Rillton',\n",
       " 'Robinson',\n",
       " 'Robinson Township',\n",
       " 'Robinson Twp.',\n",
       " 'Rocky River',\n",
       " 'Rocky View',\n",
       " 'Rocky View County',\n",
       " 'Rocky View No. 44',\n",
       " 'Roosevelt',\n",
       " 'Rosemere',\n",
       " 'Rosemère',\n",
       " 'Rosewood',\n",
       " 'Ross',\n",
       " 'Ross Township',\n",
       " 'Rouses Point',\n",
       " 'Roxboro',\n",
       " 'Russellton',\n",
       " 'S Concord',\n",
       " 'SCARBOROUGH',\n",
       " 'SW Calgary',\n",
       " 'Sagamore Hills',\n",
       " 'Sage Hill',\n",
       " 'Saint Joseph',\n",
       " 'Saint Laurent',\n",
       " 'Saint-Alphonse',\n",
       " 'Saint-Basile-Le-Grand',\n",
       " 'Saint-Bernard de Lacolle',\n",
       " 'Saint-Bruno',\n",
       " 'Saint-Bruno-de-Montarville',\n",
       " 'Saint-Charles-Borromee',\n",
       " 'Saint-Constant',\n",
       " 'Saint-Eustache',\n",
       " 'Saint-Georges',\n",
       " 'Saint-Hippolyte',\n",
       " 'Saint-Hubert',\n",
       " 'Saint-Hyacinthe',\n",
       " 'Saint-Jean-Sur-Richelieu',\n",
       " 'Saint-Jean-sur-Richelieu',\n",
       " 'Saint-Jerome',\n",
       " 'Saint-Jérôme',\n",
       " 'Saint-Lambert',\n",
       " 'Saint-Laurent',\n",
       " 'Saint-Lazare',\n",
       " 'Saint-Leonard',\n",
       " 'Saint-Marc-Sur-Richelieu',\n",
       " 'Saint-Philippe',\n",
       " 'Saint-Sauveur',\n",
       " 'Saint-Sauveur-des-Monts',\n",
       " 'Sainte-Adele',\n",
       " 'Sainte-Adèle',\n",
       " 'Sainte-Anne-De-Bellevue',\n",
       " 'Sainte-Anne-de-Bellevue',\n",
       " 'Sainte-Anne-des-Plaines',\n",
       " 'Sainte-Catherine',\n",
       " 'Sainte-Genevieve',\n",
       " 'Sainte-Geneviève',\n",
       " 'Sainte-Julie',\n",
       " 'Sainte-Madeleine',\n",
       " 'Sainte-Marguerite-Esterel',\n",
       " 'Sainte-Marguerite-du-lac-Masson',\n",
       " 'Sainte-Marthe',\n",
       " 'Sainte-Therese',\n",
       " 'Salaberry-De-Valleyfield',\n",
       " 'San Gennaro',\n",
       " 'San Rafael',\n",
       " 'San Tan',\n",
       " 'San Tan Valley',\n",
       " 'Sankt Martin',\n",
       " 'Savoy',\n",
       " 'Scarborough',\n",
       " 'Scarborough,',\n",
       " 'Scarbrough',\n",
       " 'Schomberg',\n",
       " 'Schottsdale',\n",
       " 'Scotsdale',\n",
       " 'Scott Township',\n",
       " 'Scottdale',\n",
       " 'Scottsale',\n",
       " 'Scottsdale',\n",
       " 'Scottsdale, AZ',\n",
       " 'Seven Hills',\n",
       " 'Sevilla',\n",
       " 'Sewickley',\n",
       " 'Shady Side',\n",
       " 'Shaker Heights',\n",
       " 'Shaker Hts',\n",
       " 'Shaler',\n",
       " 'Shaler Township',\n",
       " 'Sharpsburg',\n",
       " 'Shawnessy',\n",
       " 'Sheffield',\n",
       " 'Sheffield Lake',\n",
       " 'Sheffield Village',\n",
       " 'Side Slopes',\n",
       " 'Silver Lake',\n",
       " 'Skara',\n",
       " 'Sloan',\n",
       " 'Solon',\n",
       " 'South Amherst',\n",
       " 'South Charlotte',\n",
       " 'South Euclid',\n",
       " 'South Hills',\n",
       " 'South Las Vegas',\n",
       " 'South Park',\n",
       " 'South Park Township',\n",
       " 'SouthEast Calgary',\n",
       " 'SouthWest Calgary',\n",
       " 'Southeast Calgary',\n",
       " 'Southern',\n",
       " 'Southside Flats',\n",
       " 'Spa',\n",
       " 'Spring Valley',\n",
       " 'Springdale',\n",
       " 'Springfield',\n",
       " 'Squirrel Hill',\n",
       " 'St Davids',\n",
       " 'St Joseph',\n",
       " 'St Martin',\n",
       " 'St Oswald',\n",
       " 'St-Jerome',\n",
       " 'St-Leonard',\n",
       " 'St-Sauveur',\n",
       " 'St. Jean Sur Richelieu',\n",
       " 'St. Léonard',\n",
       " 'St. Peters',\n",
       " 'St. Sauveur',\n",
       " 'Stade',\n",
       " 'Stallings',\n",
       " 'Stanley',\n",
       " 'Ste-Rose',\n",
       " 'Ste-Therese-de-Blainville',\n",
       " 'Stetson Valley',\n",
       " 'Stouffville',\n",
       " 'Stoughton',\n",
       " 'Stow',\n",
       " 'Stowe',\n",
       " 'Streetsboro',\n",
       " 'Streetsville',\n",
       " 'Strip District',\n",
       " 'Strongsville',\n",
       " 'Strongville',\n",
       " 'Sturgeon',\n",
       " 'Suite 120',\n",
       " 'Summerlin',\n",
       " 'Sun City',\n",
       " 'Sun City West',\n",
       " 'Sun Lakes',\n",
       " 'Sun Prairie',\n",
       " 'Suncity',\n",
       " 'Surprise',\n",
       " 'Swissvale',\n",
       " 'Tallmadge',\n",
       " 'Tega Cay',\n",
       " 'Tempe',\n",
       " 'Terrebonne',\n",
       " 'Thale',\n",
       " 'The Promenade',\n",
       " 'The Quay',\n",
       " 'The Woodlands',\n",
       " 'Thomasboro',\n",
       " 'Thorncliffe Park',\n",
       " 'Thornhil',\n",
       " 'Thornhill',\n",
       " 'Tigre',\n",
       " 'Tolleson',\n",
       " 'Tolono',\n",
       " 'Topaz',\n",
       " 'Tornoto',\n",
       " 'Tornto',\n",
       " 'Toronto',\n",
       " 'Totronto',\n",
       " 'Township of Concord',\n",
       " 'Trafford',\n",
       " 'Train',\n",
       " 'Turks and Caicos Islands',\n",
       " 'Turtle Creek',\n",
       " 'Tuscola',\n",
       " 'Twinsburg',\n",
       " 'Unionville',\n",
       " 'University Heights',\n",
       " 'University Ht',\n",
       " 'Upper Saint Clair',\n",
       " 'Upper St Clair',\n",
       " 'Upper St. Clair',\n",
       " 'Urbana',\n",
       " 'Valley City',\n",
       " 'Valley View',\n",
       " 'Vanier',\n",
       " 'Vaudreuil-Dorion',\n",
       " 'Vaughan',\n",
       " 'Vaughn',\n",
       " 'Vegas',\n",
       " 'Venetia',\n",
       " 'Venise-En-Quebec',\n",
       " 'Verdun',\n",
       " 'Verona',\n",
       " 'Vilas',\n",
       " 'Villa Rosa',\n",
       " 'Ville Mont-Royal',\n",
       " 'Ville Saint Laurent',\n",
       " 'Ville-Marie',\n",
       " 'Vimont',\n",
       " 'Vinci',\n",
       " 'W Henderson',\n",
       " 'WICKLIFFE',\n",
       " 'Waddell',\n",
       " 'Walton',\n",
       " 'Warrensville',\n",
       " 'Warrensville Heights',\n",
       " 'Warrensville Hts',\n",
       " 'Warrensville Hts.',\n",
       " 'Waterford',\n",
       " 'Waunakee',\n",
       " 'Waxhaw',\n",
       " 'Weddington',\n",
       " 'Wendel',\n",
       " 'Wesley Chapel',\n",
       " 'West Homestead',\n",
       " 'West Mifflin',\n",
       " 'West View',\n",
       " 'Westlake',\n",
       " 'Westmount',\n",
       " 'Weston',\n",
       " 'Westworld Scottsdale',\n",
       " 'Wexford',\n",
       " 'Whiitby',\n",
       " 'Whitby',\n",
       " 'Whitchurch-Stouffville',\n",
       " 'White Oak',\n",
       " 'Whitney',\n",
       " 'Wickliffe',\n",
       " 'Wildwood',\n",
       " 'Wilkins Township',\n",
       " 'Wilkinsburg',\n",
       " 'Willoughby',\n",
       " 'Willoughby Hills',\n",
       " 'Willowdale',\n",
       " 'Willowick',\n",
       " 'Wilmerding',\n",
       " 'Windsor',\n",
       " 'Woodbridge',\n",
       " 'Woodmere',\n",
       " 'York',\n",
       " 'Yorkdale',\n",
       " 'Youngtown',\n",
       " 'charlottte',\n",
       " 'clinton',\n",
       " 'columbia station',\n",
       " 'etobicoke',\n",
       " 'highland hts',\n",
       " 'kirkwood',\n",
       " 'las Vegas',\n",
       " 'las vegas',\n",
       " 'peoria',\n",
       " 'tempe',\n",
       " 'toronto',\n",
       " 'Île des Soeurs']"
      ]
     },
     "execution_count": 67,
     "metadata": {},
     "output_type": "execute_result"
    }
   ],
   "source": [
    "a"
   ]
  },
  {
   "cell_type": "code",
   "execution_count": null,
   "metadata": {},
   "outputs": [],
   "source": []
  },
  {
   "cell_type": "code",
   "execution_count": 36,
   "metadata": {
    "ExecuteTime": {
     "end_time": "2020-04-15T07:10:24.402881Z",
     "start_time": "2020-04-15T07:10:24.399173Z"
    },
    "scrolled": true
   },
   "outputs": [],
   "source": [
    "r = [0, 0, 6, 7, 1, 9, 0, 3, 0, 7]\n",
    "r1 = dict([(i, r[i]) for i in range(len(r))])"
   ]
  },
  {
   "cell_type": "code",
   "execution_count": 37,
   "metadata": {
    "ExecuteTime": {
     "end_time": "2020-04-15T07:10:24.850228Z",
     "start_time": "2020-04-15T07:10:24.846493Z"
    }
   },
   "outputs": [
    {
     "data": {
      "text/plain": [
       "{0: 0, 1: 0, 2: 6, 3: 7, 4: 1, 5: 9, 6: 0, 7: 3, 8: 0, 9: 7}"
      ]
     },
     "execution_count": 37,
     "metadata": {},
     "output_type": "execute_result"
    }
   ],
   "source": [
    "r1"
   ]
  },
  {
   "cell_type": "code",
   "execution_count": 38,
   "metadata": {
    "ExecuteTime": {
     "end_time": "2020-04-15T07:10:25.314794Z",
     "start_time": "2020-04-15T07:10:25.312446Z"
    }
   },
   "outputs": [],
   "source": [
    "km = OneDimensionIntKMeans(NOF_SMALL_GROUPS)\n",
    "km.fit()"
   ]
  },
  {
   "cell_type": "code",
   "execution_count": 39,
   "metadata": {
    "ExecuteTime": {
     "end_time": "2020-04-15T07:10:25.753193Z",
     "start_time": "2020-04-15T07:10:25.747990Z"
    }
   },
   "outputs": [
    {
     "name": "stdout",
     "output_type": "stream",
     "text": [
      "0.4444444444444445\n",
      "0.0\n"
     ]
    },
    {
     "data": {
      "text/plain": [
       "{0: [0, 1, 4, 6, 7, 8], 2: [2, 3, 9], 5: [5]}"
      ]
     },
     "execution_count": 39,
     "metadata": {},
     "output_type": "execute_result"
    }
   ],
   "source": [
    "km.fit(r1)"
   ]
  },
  {
   "cell_type": "code",
   "execution_count": null,
   "metadata": {},
   "outputs": [],
   "source": []
  },
  {
   "cell_type": "code",
   "execution_count": null,
   "metadata": {},
   "outputs": [],
   "source": []
  },
  {
   "cell_type": "code",
   "execution_count": 61,
   "metadata": {
    "ExecuteTime": {
     "end_time": "2020-04-17T04:52:52.164564Z",
     "start_time": "2020-04-17T04:52:52.156326Z"
    }
   },
   "outputs": [],
   "source": [
    "def convertStrToInt(s):\n",
    "    return int(binascii.hexlify(s.encode('utf8')), 16)\n",
    "\n",
    "def generateHashs(m, num_hash, seed=RANDOM_SEED):\n",
    "    \"\"\"\n",
    "    m - the number of the hash buckets\n",
    "    num_hash - the number of hash functions\n",
    "    \"\"\"\n",
    "#     print(m)\n",
    "    def hashGenerator(i):\n",
    "        a = a_s[i]\n",
    "        b = b_s[i]\n",
    "        def hashfunc(x):\n",
    "            return (a * x + b) % m\n",
    "        return hashfunc\n",
    "    \n",
    "    ab = set([])\n",
    "    random.seed(seed)\n",
    "    while(len(ab) < 2 * num_hash):\n",
    "        ab.add(random.randint(1, 10*num_hash))\n",
    "        \n",
    "    a_s = []\n",
    "    for i in range(num_hash):\n",
    "        a_s.append(ab.pop())\n",
    "    b_s = list(ab)\n",
    "    print(a_s)\n",
    "    print(b_s)\n",
    "\n",
    "    hash_functions = []\n",
    "    for i in range(num_hash):\n",
    "        hash_functions.append(hashGenerator(i))\n",
    "    return hash_functions\n",
    "\n",
    "def countTrailingZeros(n, bits_length):\n",
    "    # n - int\n",
    "    if n == 0:\n",
    "        return 0\n",
    "    count = 0\n",
    "    while(n & 1 ^ 1):\n",
    "        count += 1\n",
    "        n = n >> 1\n",
    "    return count"
   ]
  },
  {
   "cell_type": "code",
   "execution_count": 62,
   "metadata": {
    "ExecuteTime": {
     "end_time": "2020-04-17T04:52:52.531906Z",
     "start_time": "2020-04-17T04:52:52.529179Z"
    }
   },
   "outputs": [
    {
     "name": "stdout",
     "output_type": "stream",
     "text": [
      "[32, 66, 4, 36, 100, 5, 70, 9, 42, 47]\n",
      "[81, 50, 82, 84, 93, 54, 23, 27, 61, 63]\n"
     ]
    }
   ],
   "source": [
    "hashs = generateHashs(NOF_HASH_BUCKETS, NUM_HASH)"
   ]
  },
  {
   "cell_type": "code",
   "execution_count": 63,
   "metadata": {
    "ExecuteTime": {
     "end_time": "2020-04-17T04:52:55.128718Z",
     "start_time": "2020-04-17T04:52:55.126138Z"
    }
   },
   "outputs": [],
   "source": [
    "city1 = \"los angeles\""
   ]
  },
  {
   "cell_type": "code",
   "execution_count": 64,
   "metadata": {
    "ExecuteTime": {
     "end_time": "2020-04-17T04:52:55.487896Z",
     "start_time": "2020-04-17T04:52:55.483836Z"
    }
   },
   "outputs": [
    {
     "data": {
      "text/plain": [
       "131090294906814430402340211"
      ]
     },
     "execution_count": 64,
     "metadata": {},
     "output_type": "execute_result"
    }
   ],
   "source": [
    "i = convertStrToInt(city1)\n",
    "i"
   ]
  },
  {
   "cell_type": "code",
   "execution_count": 65,
   "metadata": {
    "ExecuteTime": {
     "end_time": "2020-04-17T04:53:01.161172Z",
     "start_time": "2020-04-17T04:53:01.156756Z"
    }
   },
   "outputs": [
    {
     "data": {
      "text/plain": [
       "141272"
      ]
     },
     "execution_count": 65,
     "metadata": {},
     "output_type": "execute_result"
    }
   ],
   "source": [
    "hs = hashs[1](i)\n",
    "hs"
   ]
  },
  {
   "cell_type": "code",
   "execution_count": 66,
   "metadata": {
    "ExecuteTime": {
     "end_time": "2020-04-17T04:53:06.350462Z",
     "start_time": "2020-04-17T04:53:06.347086Z"
    }
   },
   "outputs": [
    {
     "data": {
      "text/plain": [
       "'0b100010011111011000'"
      ]
     },
     "execution_count": 66,
     "metadata": {},
     "output_type": "execute_result"
    }
   ],
   "source": [
    "bin(hs)"
   ]
  },
  {
   "cell_type": "code",
   "execution_count": 67,
   "metadata": {
    "ExecuteTime": {
     "end_time": "2020-04-17T04:53:07.637521Z",
     "start_time": "2020-04-17T04:53:07.634130Z"
    }
   },
   "outputs": [
    {
     "data": {
      "text/plain": [
       "3"
      ]
     },
     "execution_count": 67,
     "metadata": {},
     "output_type": "execute_result"
    }
   ],
   "source": [
    "countTrailingZeros(hs, BITS_LENGTH)"
   ]
  },
  {
   "cell_type": "code",
   "execution_count": null,
   "metadata": {},
   "outputs": [],
   "source": []
  }
 ],
 "metadata": {
  "kernelspec": {
   "display_name": "inf553",
   "language": "python",
   "name": "inf553"
  },
  "language_info": {
   "codemirror_mode": {
    "name": "ipython",
    "version": 3
   },
   "file_extension": ".py",
   "mimetype": "text/x-python",
   "name": "python",
   "nbconvert_exporter": "python",
   "pygments_lexer": "ipython3",
   "version": "3.6.10"
  },
  "toc": {
   "base_numbering": 1,
   "nav_menu": {},
   "number_sections": true,
   "sideBar": true,
   "skip_h1_title": false,
   "title_cell": "Table of Contents",
   "title_sidebar": "Contents",
   "toc_cell": false,
   "toc_position": {},
   "toc_section_display": true,
   "toc_window_display": false
  }
 },
 "nbformat": 4,
 "nbformat_minor": 4
}

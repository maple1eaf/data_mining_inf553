{
 "cells": [
  {
   "cell_type": "code",
   "execution_count": 1,
   "metadata": {
    "ExecuteTime": {
     "end_time": "2020-05-06T00:12:06.830624Z",
     "start_time": "2020-05-06T00:12:06.823063Z"
    }
   },
   "outputs": [],
   "source": [
    "import findspark\n",
    "findspark.init()"
   ]
  },
  {
   "cell_type": "code",
   "execution_count": 2,
   "metadata": {
    "ExecuteTime": {
     "end_time": "2020-05-06T00:12:07.170768Z",
     "start_time": "2020-05-06T00:12:07.167838Z"
    }
   },
   "outputs": [],
   "source": [
    "import json"
   ]
  },
  {
   "cell_type": "code",
   "execution_count": 3,
   "metadata": {
    "ExecuteTime": {
     "end_time": "2020-05-06T00:12:08.098507Z",
     "start_time": "2020-05-06T00:12:07.527578Z"
    }
   },
   "outputs": [],
   "source": [
    "from pyspark import SparkConf, SparkContext, StorageLevel"
   ]
  },
  {
   "cell_type": "code",
   "execution_count": 4,
   "metadata": {
    "ExecuteTime": {
     "end_time": "2020-05-06T00:12:08.659516Z",
     "start_time": "2020-05-06T00:12:08.656243Z"
    }
   },
   "outputs": [],
   "source": [
    "test_file = \"file:///Users/markduan/duan/USC_course/USC_APDS/INF553/project/data/test_review.json\"\n",
    "model_file = \"/Users/markduan/duan/USC_course/USC_APDS/INF553/project/model/als.json\"\n",
    "output_file = \"../predict/prediction_als_none.json\""
   ]
  },
  {
   "cell_type": "code",
   "execution_count": 5,
   "metadata": {
    "ExecuteTime": {
     "end_time": "2020-05-06T00:12:09.455440Z",
     "start_time": "2020-05-06T00:12:09.447841Z"
    }
   },
   "outputs": [],
   "source": [
    "class Als():\n",
    "    def __init__(self):\n",
    "        self.user_feature = None\n",
    "        self.product_feature = None\n",
    "    \n",
    "    def setModel(self, user_feature, product_feature):\n",
    "        \"\"\"\n",
    "        user_feature - {uid: float, ...}\n",
    "        product_feature - {bid: float, ...}\n",
    "        \"\"\"\n",
    "        self.user_feature = user_feature\n",
    "        self.product_feature = product_feature\n",
    "    \n",
    "    def predict(self, uid, bid):\n",
    "        u_value = self.user_feature.get(uid)\n",
    "        b_value = self.product_feature.get(bid)\n",
    "        if u_value == None or b_value == None:\n",
    "            return None\n",
    "        res = u_value * b_value\n",
    "        if res > 5.0:\n",
    "            res = 5.0\n",
    "        elif res < 0.0:\n",
    "            res = 0.0\n",
    "        return res"
   ]
  },
  {
   "cell_type": "code",
   "execution_count": 6,
   "metadata": {
    "ExecuteTime": {
     "end_time": "2020-05-06T00:12:10.264268Z",
     "start_time": "2020-05-06T00:12:10.259082Z"
    }
   },
   "outputs": [],
   "source": [
    "def loadAlsModel(model_file):\n",
    "    with open(model_file, 'r', encoding='utf-8') as fp:\n",
    "        model = json.load(fp)\n",
    "    user_feature = model[0]\n",
    "    product_feature = model[1]\n",
    "    als_model = Als()\n",
    "    als_model.setModel(user_feature, product_feature)\n",
    "    return als_model"
   ]
  },
  {
   "cell_type": "code",
   "execution_count": 7,
   "metadata": {
    "ExecuteTime": {
     "end_time": "2020-05-06T00:12:10.850263Z",
     "start_time": "2020-05-06T00:12:10.844374Z"
    }
   },
   "outputs": [],
   "source": [
    "def outputResultToFileItembased(prediction, output_file):\n",
    "    with open(output_file, 'w', encoding='utf-8') as fp:\n",
    "        for item in prediction:\n",
    "            t = {\n",
    "                'user_id': item[0][0],\n",
    "                'business_id': item[0][1],\n",
    "                'stars': item[1]\n",
    "            }\n",
    "            fp.write(json.dumps(t))\n",
    "            fp.write('\\n')"
   ]
  },
  {
   "cell_type": "code",
   "execution_count": 8,
   "metadata": {
    "ExecuteTime": {
     "end_time": "2020-05-06T00:12:18.737404Z",
     "start_time": "2020-05-06T00:12:14.413126Z"
    }
   },
   "outputs": [],
   "source": [
    "conf = SparkConf() \\\n",
    "    .setAppName(\"task\") \\\n",
    "    .setMaster(\"local[*]\") \\\n",
    "    .set(\"spark.driver.memory\",\"4g\")\n",
    "sc = SparkContext(conf=conf)\n",
    "sc.setLogLevel(\"ERROR\")"
   ]
  },
  {
   "cell_type": "code",
   "execution_count": 9,
   "metadata": {
    "ExecuteTime": {
     "end_time": "2020-05-06T00:12:18.746652Z",
     "start_time": "2020-05-06T00:12:18.740609Z"
    }
   },
   "outputs": [],
   "source": [
    "def loadAlsModels(lonely_pairs):\n",
    "    als_models = []\n",
    "    for u, b in lonely_pairs:\n",
    "        model_file = \"/Users/markduan/duan/USC_course/USC_APDS/INF553/project/model/als_%d_%d.json\" % (u, b)\n",
    "        als_model = loadAlsModel(model_file)\n",
    "        als_models.append(als_model)\n",
    "    return als_models"
   ]
  },
  {
   "cell_type": "code",
   "execution_count": 10,
   "metadata": {
    "ExecuteTime": {
     "end_time": "2020-05-06T00:12:18.755798Z",
     "start_time": "2020-05-06T00:12:18.750843Z"
    }
   },
   "outputs": [],
   "source": [
    "def getPres(uid, bid, als_models):\n",
    "    rs = [m.predict(uid, bid) for m in als_models]\n",
    "    rs.reverse()\n",
    "    return tuple(rs)"
   ]
  },
  {
   "cell_type": "code",
   "execution_count": 11,
   "metadata": {
    "ExecuteTime": {
     "end_time": "2020-05-06T00:12:18.764126Z",
     "start_time": "2020-05-06T00:12:18.758914Z"
    }
   },
   "outputs": [],
   "source": [
    "def decideWhich(vs):\n",
    "    length_vs = len(vs)\n",
    "    for i in range(length_vs):\n",
    "        v = vs[i]\n",
    "        if v != None:\n",
    "            return v\n",
    "    return None"
   ]
  },
  {
   "cell_type": "code",
   "execution_count": 45,
   "metadata": {
    "ExecuteTime": {
     "end_time": "2020-05-06T00:21:40.177902Z",
     "start_time": "2020-05-06T00:21:40.174106Z"
    }
   },
   "outputs": [],
   "source": [
    "lonely_pairs = [(i, i) for i in range(6, 11)]"
   ]
  },
  {
   "cell_type": "code",
   "execution_count": 46,
   "metadata": {
    "ExecuteTime": {
     "end_time": "2020-05-06T00:21:40.368930Z",
     "start_time": "2020-05-06T00:21:40.366383Z"
    }
   },
   "outputs": [],
   "source": [
    "# lonely_pairs = [(i, i) for i in [3, 5, 7, 10]]"
   ]
  },
  {
   "cell_type": "code",
   "execution_count": 47,
   "metadata": {
    "ExecuteTime": {
     "end_time": "2020-05-06T00:21:40.923371Z",
     "start_time": "2020-05-06T00:21:40.576302Z"
    }
   },
   "outputs": [],
   "source": [
    "als_models = loadAlsModels(lonely_pairs)"
   ]
  },
  {
   "cell_type": "code",
   "execution_count": 48,
   "metadata": {
    "ExecuteTime": {
     "end_time": "2020-05-06T00:21:49.092894Z",
     "start_time": "2020-05-06T00:21:41.359339Z"
    }
   },
   "outputs": [],
   "source": [
    "output_file = \"../predict/prediction_als_none_%d_to_%d.json\" % (5, 10)\n",
    "prediction = sc.textFile(test_file) \\\n",
    "    .map(json.loads) \\\n",
    "    .map(lambda x: (x['user_id'], x['business_id'])) \\\n",
    "    .map(lambda x: (x, getPres(x[0], x[1], als_models))) \\\n",
    "    .mapValues(lambda vs: decideWhich(vs)) \\\n",
    "    .map(lambda x: (x[0], dealwithNone(x[1], x[0][0], x[0][1], user_avg, business_avg))) \\\n",
    "    .collect()\n",
    "outputResultToFileItembased(prediction, output_file)"
   ]
  },
  {
   "cell_type": "code",
   "execution_count": null,
   "metadata": {},
   "outputs": [],
   "source": []
  },
  {
   "cell_type": "code",
   "execution_count": null,
   "metadata": {},
   "outputs": [],
   "source": []
  },
  {
   "cell_type": "code",
   "execution_count": null,
   "metadata": {},
   "outputs": [],
   "source": []
  },
  {
   "cell_type": "code",
   "execution_count": 15,
   "metadata": {
    "ExecuteTime": {
     "end_time": "2020-05-05T22:52:27.703573Z",
     "start_time": "2020-05-05T22:52:11.792668Z"
    }
   },
   "outputs": [],
   "source": [
    "\n",
    "model_file = \"/Users/markduan/duan/USC_course/USC_APDS/INF553/project/model/als_%d_%d.json\" % (i, i)\n",
    "output_file = \"../predict/prediction_als_none_%d_%d.json\" % (i, i)\n",
    "als_model = loadAlsModel(model_file)\n",
    "prediction = sc.textFile(test_file) \\\n",
    "    .map(json.loads) \\\n",
    "    .map(lambda x: (x['user_id'], x['business_id'])) \\\n",
    "    .map(lambda x: (x, als_model.predict(x[0], x[1]))) \\\n",
    "    .collect()\n",
    "outputResultToFileItembased(prediction, output_file)"
   ]
  },
  {
   "cell_type": "code",
   "execution_count": null,
   "metadata": {},
   "outputs": [],
   "source": []
  },
  {
   "cell_type": "code",
   "execution_count": null,
   "metadata": {},
   "outputs": [],
   "source": []
  },
  {
   "cell_type": "code",
   "execution_count": null,
   "metadata": {},
   "outputs": [],
   "source": []
  },
  {
   "cell_type": "code",
   "execution_count": null,
   "metadata": {},
   "outputs": [],
   "source": []
  },
  {
   "cell_type": "code",
   "execution_count": null,
   "metadata": {},
   "outputs": [],
   "source": []
  },
  {
   "cell_type": "code",
   "execution_count": null,
   "metadata": {},
   "outputs": [],
   "source": []
  },
  {
   "cell_type": "code",
   "execution_count": null,
   "metadata": {},
   "outputs": [],
   "source": []
  },
  {
   "cell_type": "code",
   "execution_count": null,
   "metadata": {},
   "outputs": [],
   "source": []
  },
  {
   "cell_type": "code",
   "execution_count": null,
   "metadata": {},
   "outputs": [],
   "source": []
  },
  {
   "cell_type": "code",
   "execution_count": 5,
   "metadata": {
    "ExecuteTime": {
     "end_time": "2020-05-05T23:57:43.091796Z",
     "start_time": "2020-05-05T23:57:43.088680Z"
    }
   },
   "outputs": [],
   "source": [
    "k1 = [1,2,3]\n",
    "k1.reverse()"
   ]
  },
  {
   "cell_type": "code",
   "execution_count": 6,
   "metadata": {
    "ExecuteTime": {
     "end_time": "2020-05-05T23:57:45.279194Z",
     "start_time": "2020-05-05T23:57:45.264220Z"
    }
   },
   "outputs": [
    {
     "data": {
      "text/plain": [
       "[3, 2, 1]"
      ]
     },
     "execution_count": 6,
     "metadata": {},
     "output_type": "execute_result"
    }
   ],
   "source": [
    "k1"
   ]
  },
  {
   "cell_type": "code",
   "execution_count": null,
   "metadata": {},
   "outputs": [],
   "source": []
  },
  {
   "cell_type": "code",
   "execution_count": null,
   "metadata": {},
   "outputs": [],
   "source": []
  },
  {
   "cell_type": "code",
   "execution_count": 25,
   "metadata": {
    "ExecuteTime": {
     "end_time": "2020-05-06T00:19:09.171003Z",
     "start_time": "2020-05-06T00:19:09.166889Z"
    }
   },
   "outputs": [],
   "source": [
    "def getAvg(avg_file):\n",
    "    with open(avg_file, 'r', encoding='utf-8') as fp:\n",
    "        avg_d = json.load(fp)\n",
    "    return avg_d"
   ]
  },
  {
   "cell_type": "code",
   "execution_count": 26,
   "metadata": {
    "ExecuteTime": {
     "end_time": "2020-05-06T00:19:09.424282Z",
     "start_time": "2020-05-06T00:19:09.421175Z"
    }
   },
   "outputs": [],
   "source": [
    "user_avg_file = \"/Users/markduan/duan/USC_course/USC_APDS/INF553/project/data/user_avg.json\"\n",
    "business_avg_file = \"/Users/markduan/duan/USC_course/USC_APDS/INF553/project/data/business_avg.json\""
   ]
  },
  {
   "cell_type": "code",
   "execution_count": 27,
   "metadata": {
    "ExecuteTime": {
     "end_time": "2020-05-06T00:19:09.749915Z",
     "start_time": "2020-05-06T00:19:09.691416Z"
    }
   },
   "outputs": [],
   "source": [
    "user_avg = getAvg(user_avg_file)\n",
    "business_avg = getAvg(business_avg_file)"
   ]
  },
  {
   "cell_type": "code",
   "execution_count": 28,
   "metadata": {
    "ExecuteTime": {
     "end_time": "2020-05-06T00:19:09.983593Z",
     "start_time": "2020-05-06T00:19:09.979932Z"
    }
   },
   "outputs": [],
   "source": [
    "def getMean(v1, v2):\n",
    "    return (v1 + v2) / 2"
   ]
  },
  {
   "cell_type": "code",
   "execution_count": 29,
   "metadata": {
    "ExecuteTime": {
     "end_time": "2020-05-06T00:19:10.596083Z",
     "start_time": "2020-05-06T00:19:10.591111Z"
    }
   },
   "outputs": [],
   "source": [
    "def dealwithNone(v, uid, bid, user_avg, business_avg):\n",
    "    if v != None:\n",
    "        return v\n",
    "    u_avg = user_avg.get(uid, user_avg['UNK'])\n",
    "    b_avg = business_avg.get(bid, business_avg['UNK'])\n",
    "#     _avg = getMean(u_avg, b_avg)\n",
    "    return b_avg"
   ]
  },
  {
   "cell_type": "code",
   "execution_count": 50,
   "metadata": {
    "ExecuteTime": {
     "end_time": "2020-05-06T03:33:55.154823Z",
     "start_time": "2020-05-06T03:33:32.119519Z"
    }
   },
   "outputs": [],
   "source": [
    "LONELY_USER_THRESHOLD = list(range(5, 6))\n",
    "LONELY_BUSINESS_THRESHOLD = list(range(8, 20))\n",
    "\n",
    "for u in LONELY_USER_THRESHOLD:\n",
    "    for b in LONELY_BUSINESS_THRESHOLD:\n",
    "        model_file = \"/Users/markduan/duan/USC_course/USC_APDS/INF553/project/model/als_%d_%d.json\" % (u, b)\n",
    "        output_file = \"../predict/prediction_als_%d_%d.json\" % (u, b)\n",
    "        als_model = loadAlsModel(model_file)\n",
    "        prediction = sc.textFile(test_file) \\\n",
    "            .map(json.loads) \\\n",
    "            .map(lambda x: (x['user_id'], x['business_id'])) \\\n",
    "            .map(lambda x: (x, als_model.predict(x[0], x[1]))) \\\n",
    "            .map(lambda x: (x[0], dealwithNone(x[1], x[0][0], x[0][1], user_avg, business_avg))) \\\n",
    "            .collect()\n",
    "        outputResultToFileItembased(prediction, output_file)"
   ]
  },
  {
   "cell_type": "code",
   "execution_count": null,
   "metadata": {},
   "outputs": [],
   "source": []
  },
  {
   "cell_type": "code",
   "execution_count": null,
   "metadata": {},
   "outputs": [],
   "source": []
  },
  {
   "cell_type": "code",
   "execution_count": null,
   "metadata": {},
   "outputs": [],
   "source": []
  },
  {
   "cell_type": "code",
   "execution_count": null,
   "metadata": {},
   "outputs": [],
   "source": []
  },
  {
   "cell_type": "code",
   "execution_count": null,
   "metadata": {},
   "outputs": [],
   "source": []
  },
  {
   "cell_type": "code",
   "execution_count": null,
   "metadata": {},
   "outputs": [],
   "source": []
  },
  {
   "cell_type": "code",
   "execution_count": null,
   "metadata": {},
   "outputs": [],
   "source": []
  },
  {
   "cell_type": "code",
   "execution_count": null,
   "metadata": {},
   "outputs": [],
   "source": []
  },
  {
   "cell_type": "code",
   "execution_count": null,
   "metadata": {},
   "outputs": [],
   "source": []
  },
  {
   "cell_type": "code",
   "execution_count": null,
   "metadata": {},
   "outputs": [],
   "source": []
  },
  {
   "cell_type": "code",
   "execution_count": null,
   "metadata": {},
   "outputs": [],
   "source": []
  },
  {
   "cell_type": "code",
   "execution_count": null,
   "metadata": {},
   "outputs": [],
   "source": []
  },
  {
   "cell_type": "code",
   "execution_count": null,
   "metadata": {},
   "outputs": [],
   "source": []
  },
  {
   "cell_type": "code",
   "execution_count": null,
   "metadata": {},
   "outputs": [],
   "source": []
  },
  {
   "cell_type": "code",
   "execution_count": null,
   "metadata": {},
   "outputs": [],
   "source": []
  }
 ],
 "metadata": {
  "kernelspec": {
   "display_name": "inf553",
   "language": "python",
   "name": "inf553"
  },
  "language_info": {
   "codemirror_mode": {
    "name": "ipython",
    "version": 3
   },
   "file_extension": ".py",
   "mimetype": "text/x-python",
   "name": "python",
   "nbconvert_exporter": "python",
   "pygments_lexer": "ipython3",
   "version": "3.6.10"
  },
  "toc": {
   "base_numbering": 1,
   "nav_menu": {},
   "number_sections": true,
   "sideBar": true,
   "skip_h1_title": false,
   "title_cell": "Table of Contents",
   "title_sidebar": "Contents",
   "toc_cell": false,
   "toc_position": {},
   "toc_section_display": true,
   "toc_window_display": false
  }
 },
 "nbformat": 4,
 "nbformat_minor": 4
}

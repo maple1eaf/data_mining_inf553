{
 "cells": [
  {
   "cell_type": "code",
   "execution_count": 1,
   "metadata": {
    "ExecuteTime": {
     "end_time": "2020-05-05T23:24:00.779612Z",
     "start_time": "2020-05-05T23:24:00.774856Z"
    }
   },
   "outputs": [],
   "source": [
    "import findspark\n",
    "findspark.init()"
   ]
  },
  {
   "cell_type": "code",
   "execution_count": 2,
   "metadata": {
    "ExecuteTime": {
     "end_time": "2020-05-05T23:24:00.785163Z",
     "start_time": "2020-05-05T23:24:00.782027Z"
    }
   },
   "outputs": [],
   "source": [
    "import sys\n",
    "import time\n",
    "import json\n",
    "from math import sqrt\n",
    "from decimal import Decimal, ROUND_HALF_UP"
   ]
  },
  {
   "cell_type": "code",
   "execution_count": 3,
   "metadata": {
    "ExecuteTime": {
     "end_time": "2020-05-05T23:24:01.031822Z",
     "start_time": "2020-05-05T23:24:00.787488Z"
    }
   },
   "outputs": [],
   "source": [
    "from pyspark import SparkConf, SparkContext, StorageLevel"
   ]
  },
  {
   "cell_type": "code",
   "execution_count": 4,
   "metadata": {
    "ExecuteTime": {
     "end_time": "2020-05-05T23:24:01.036468Z",
     "start_time": "2020-05-05T23:24:01.033976Z"
    }
   },
   "outputs": [],
   "source": [
    "N_NEIGHBORS_ITEMBASED = 10\n",
    "N_NEIGHBORS_USERBASED = 5\n",
    "UNK = 3.823989\n",
    "DEFAULT_OUTPUT = None"
   ]
  },
  {
   "cell_type": "code",
   "execution_count": 5,
   "metadata": {
    "ExecuteTime": {
     "end_time": "2020-05-05T23:24:01.040754Z",
     "start_time": "2020-05-05T23:24:01.038151Z"
    }
   },
   "outputs": [],
   "source": [
    "train_file = \"file:///Users/markduan/duan/USC_course/USC_APDS/INF553/project/data/train_review.json\"\n",
    "test_file = \"file:///Users/markduan/duan/USC_course/USC_APDS/INF553/project/data/test_review.json\"\n",
    "model_file = \"file:///Users/markduan/duan/USC_course/USC_APDS/INF553/project/model/model_itemCF.json\"\n",
    "output_file = \"../predict/prediction_cf_none_n%d.json\" % (N_NEIGHBORS_ITEMBASED)"
   ]
  },
  {
   "cell_type": "code",
   "execution_count": 6,
   "metadata": {
    "ExecuteTime": {
     "end_time": "2020-05-05T23:24:01.046009Z",
     "start_time": "2020-05-05T23:24:01.042157Z"
    }
   },
   "outputs": [],
   "source": [
    "def meanList(l):\n",
    "    return sum(l) / len(l)\n",
    "\n",
    "def averageRating(x):\n",
    "    uid = x[0][0]\n",
    "    bid = x[0][1]\n",
    "    stars = x[1] # list\n",
    "    average_stars = meanList(stars)\n",
    "    return (uid, [(bid, average_stars)])\n",
    "\n",
    "def convertToDict(l):\n",
    "    # l - [(bid, star), ...]\n",
    "    bs = {}\n",
    "    for bid, star in l:\n",
    "        bs[bid] = star\n",
    "    return bs"
   ]
  },
  {
   "cell_type": "code",
   "execution_count": 7,
   "metadata": {
    "ExecuteTime": {
     "end_time": "2020-05-05T23:24:01.056289Z",
     "start_time": "2020-05-05T23:24:01.047860Z"
    }
   },
   "outputs": [],
   "source": [
    "def computeStarsItembased(corated, target_bid, model):\n",
    "    \"\"\"\n",
    "    corated - {bid: star, ...}\n",
    "    \"\"\"\n",
    "    if corated == None:\n",
    "        return None\n",
    "    corated.pop(target_bid, None)\n",
    "    bid_cor = list(corated.keys())\n",
    "    collect = []\n",
    "    for b in bid_cor:\n",
    "        pair = None\n",
    "        if b < target_bid:\n",
    "            pair = (b, target_bid)\n",
    "        else:\n",
    "            pair = (target_bid, b)\n",
    "\n",
    "        # if b == target_bid:\n",
    "        #     print('same:', pair)\n",
    "        w = model.get(pair)\n",
    "        if w != None:\n",
    "            # pair may not have a value in the model\n",
    "            # when b == target_bid, pair have no value, too\n",
    "            collect.append((pair, w, b))\n",
    "        # else:\n",
    "        #     collect.append((pair, 0, b))\n",
    "    # print(collect)\n",
    "    collect.sort(key=lambda x: x[1], reverse=True)\n",
    "    \n",
    "    if len(collect) < N_NEIGHBORS_ITEMBASED:\n",
    "        return None\n",
    "    neighbors = collect[:N_NEIGHBORS_ITEMBASED]\n",
    "    sum_w = 0\n",
    "    n = 0\n",
    "    for p, w, b in neighbors:\n",
    "        star = corated[b]\n",
    "        n += star * w\n",
    "        sum_w += w\n",
    "    if sum_w == 0:\n",
    "        return None\n",
    "    else:\n",
    "        return n /sum_w\n",
    "#         predict_stars = n / sum_w\n",
    "#         origin_n = Decimal(str(predict_stars))\n",
    "#         ans_n = origin_n.quantize(Decimal('0'), rounding=ROUND_HALF_UP)\n",
    "#         return float(ans_n)"
   ]
  },
  {
   "cell_type": "code",
   "execution_count": 8,
   "metadata": {
    "ExecuteTime": {
     "end_time": "2020-05-05T23:24:01.062692Z",
     "start_time": "2020-05-05T23:24:01.059571Z"
    }
   },
   "outputs": [],
   "source": [
    "def getData(sc):\n",
    "    train_raw_data = sc.textFile(train_file) \\\n",
    "        .map(json.loads)\n",
    "    \n",
    "    test_raw_data = sc.textFile(test_file) \\\n",
    "        .map(json.loads)\n",
    "\n",
    "    return train_raw_data, test_raw_data"
   ]
  },
  {
   "cell_type": "code",
   "execution_count": 9,
   "metadata": {
    "ExecuteTime": {
     "end_time": "2020-05-05T23:24:01.068573Z",
     "start_time": "2020-05-05T23:24:01.064805Z"
    }
   },
   "outputs": [],
   "source": [
    "def getModelItembased(sc):\n",
    "    model = sc.textFile(model_file) \\\n",
    "        .map(json.loads) \\\n",
    "        .map(lambda r: ((r['b1'], r['b2']), r['sim'])) \\\n",
    "        .collectAsMap()\n",
    "    # model - {(bid1, bid2): sim, ...}  ps: bid1 < bid2\n",
    "    return model"
   ]
  },
  {
   "cell_type": "code",
   "execution_count": 10,
   "metadata": {
    "ExecuteTime": {
     "end_time": "2020-05-05T23:24:01.072437Z",
     "start_time": "2020-05-05T23:24:01.070506Z"
    }
   },
   "outputs": [],
   "source": [
    "# def getModelItembased():\n",
    "#     with open(model_file, 'r', encoding='utf-8') as fp:\n",
    "#         model_l = json.load(fp)\n",
    "#     model = {}\n",
    "#     for x in model_l:\n",
    "#         pair = (x[0], x[1])\n",
    "#         sim = x[2]\n",
    "#         model[pair] = sim\n",
    "#     # model - {(bid1, bid2): sim, ...}  ps: bid1 < bid2\n",
    "#     return model"
   ]
  },
  {
   "cell_type": "code",
   "execution_count": 11,
   "metadata": {
    "ExecuteTime": {
     "end_time": "2020-05-05T23:24:01.078704Z",
     "start_time": "2020-05-05T23:24:01.073869Z"
    }
   },
   "outputs": [],
   "source": [
    "def transformTrainDataGroupByUid(train_raw_data):\n",
    "    data_groupby_uid = train_raw_data.map(lambda r: ((r['user_id'], r['business_id']), [r['stars']])) \\\n",
    "        .reduceByKey(lambda x, y: x + y) \\\n",
    "        .map(lambda x: averageRating(x)) \\\n",
    "        .reduceByKey(lambda x, y: x + y) \\\n",
    "        .map(lambda x: (x[0], convertToDict(x[1]))) \\\n",
    "        .collect()\n",
    "    \n",
    "    u_d = {}\n",
    "    for uid, bd in data_groupby_uid:\n",
    "        u_d[uid] = bd\n",
    "    # u_d - {uid: {bid: star, ...}, ...}\n",
    "    return u_d"
   ]
  },
  {
   "cell_type": "code",
   "execution_count": 12,
   "metadata": {
    "ExecuteTime": {
     "end_time": "2020-05-05T23:24:01.084296Z",
     "start_time": "2020-05-05T23:24:01.080118Z"
    }
   },
   "outputs": [],
   "source": [
    "def predictItembased(model, u_d, test_raw_data):\n",
    "    prediction = test_raw_data.map(lambda r: (r['user_id'], r['business_id'])).collect()\n",
    "    for i in range(len(prediction)):\n",
    "        x = prediction[i]\n",
    "        prediction[i] = (x, computeStarsItembased(u_d.get(x[0]), x[1], model))\n",
    "    # prediction = test_raw_data.map(lambda r: (r['user_id'], r['business_id'])) \\\n",
    "    #     .map(lambda x: (x, computeStarsItembased(u_d.get(x[0]), x[1], model))) \\\n",
    "    #     .collect()\n",
    "    # [((uid, bid), star), ...]\n",
    "    return prediction"
   ]
  },
  {
   "cell_type": "code",
   "execution_count": 13,
   "metadata": {
    "ExecuteTime": {
     "end_time": "2020-05-05T23:24:01.089631Z",
     "start_time": "2020-05-05T23:24:01.086118Z"
    }
   },
   "outputs": [],
   "source": [
    "def outputResultToFileItembased(prediction):\n",
    "    with open(output_file, 'w', encoding='utf-8') as fp:\n",
    "        for item in prediction:\n",
    "            t = {\n",
    "                'user_id': item[0][0],\n",
    "                'business_id': item[0][1],\n",
    "                'stars': item[1]\n",
    "            }\n",
    "            fp.write(json.dumps(t))\n",
    "            fp.write('\\n')"
   ]
  },
  {
   "cell_type": "code",
   "execution_count": 14,
   "metadata": {
    "ExecuteTime": {
     "end_time": "2020-05-05T23:24:03.142062Z",
     "start_time": "2020-05-05T23:24:01.091572Z"
    }
   },
   "outputs": [],
   "source": [
    "conf = SparkConf() \\\n",
    "    .setAppName(\"project\") \\\n",
    "    .setMaster(\"local[*]\") \\\n",
    "    .set(\"spark.driver.memory\",\"4g\")\n",
    "sc = SparkContext(conf=conf)\n",
    "sc.setLogLevel(\"ERROR\")"
   ]
  },
  {
   "cell_type": "code",
   "execution_count": 15,
   "metadata": {
    "ExecuteTime": {
     "end_time": "2020-05-05T23:24:03.675956Z",
     "start_time": "2020-05-05T23:24:03.144537Z"
    }
   },
   "outputs": [],
   "source": [
    "# get raw data\n",
    "train_raw_data, test_raw_data = getData(sc)"
   ]
  },
  {
   "cell_type": "code",
   "execution_count": 16,
   "metadata": {
    "ExecuteTime": {
     "end_time": "2020-05-05T23:24:05.063519Z",
     "start_time": "2020-05-05T23:24:03.678036Z"
    }
   },
   "outputs": [],
   "source": [
    "# get model\n",
    "model = getModelItembased(sc)"
   ]
  },
  {
   "cell_type": "code",
   "execution_count": 17,
   "metadata": {
    "ExecuteTime": {
     "end_time": "2020-05-05T23:24:14.597210Z",
     "start_time": "2020-05-05T23:24:05.065414Z"
    }
   },
   "outputs": [],
   "source": [
    "# transform to generate a dataset for item-based model\n",
    "u_d = transformTrainDataGroupByUid(train_raw_data)"
   ]
  },
  {
   "cell_type": "code",
   "execution_count": 18,
   "metadata": {
    "ExecuteTime": {
     "end_time": "2020-05-05T23:24:16.672541Z",
     "start_time": "2020-05-05T23:24:14.599258Z"
    }
   },
   "outputs": [],
   "source": [
    "# predict star-rating\n",
    "prediction = predictItembased(model, u_d, test_raw_data)"
   ]
  },
  {
   "cell_type": "code",
   "execution_count": 19,
   "metadata": {
    "ExecuteTime": {
     "end_time": "2020-05-05T23:24:17.176320Z",
     "start_time": "2020-05-05T23:24:16.674726Z"
    }
   },
   "outputs": [],
   "source": [
    "# output prediction to file\n",
    "outputResultToFileItembased(prediction)"
   ]
  },
  {
   "cell_type": "code",
   "execution_count": null,
   "metadata": {},
   "outputs": [],
   "source": []
  },
  {
   "cell_type": "code",
   "execution_count": null,
   "metadata": {},
   "outputs": [],
   "source": []
  },
  {
   "cell_type": "code",
   "execution_count": null,
   "metadata": {},
   "outputs": [],
   "source": []
  },
  {
   "cell_type": "code",
   "execution_count": null,
   "metadata": {},
   "outputs": [],
   "source": []
  },
  {
   "cell_type": "code",
   "execution_count": null,
   "metadata": {},
   "outputs": [],
   "source": []
  },
  {
   "cell_type": "code",
   "execution_count": null,
   "metadata": {},
   "outputs": [],
   "source": []
  },
  {
   "cell_type": "code",
   "execution_count": null,
   "metadata": {},
   "outputs": [],
   "source": []
  },
  {
   "cell_type": "code",
   "execution_count": null,
   "metadata": {},
   "outputs": [],
   "source": []
  }
 ],
 "metadata": {
  "kernelspec": {
   "display_name": "inf553",
   "language": "python",
   "name": "inf553"
  },
  "language_info": {
   "codemirror_mode": {
    "name": "ipython",
    "version": 3
   },
   "file_extension": ".py",
   "mimetype": "text/x-python",
   "name": "python",
   "nbconvert_exporter": "python",
   "pygments_lexer": "ipython3",
   "version": "3.6.10"
  },
  "toc": {
   "base_numbering": 1,
   "nav_menu": {},
   "number_sections": true,
   "sideBar": true,
   "skip_h1_title": false,
   "title_cell": "Table of Contents",
   "title_sidebar": "Contents",
   "toc_cell": false,
   "toc_position": {},
   "toc_section_display": true,
   "toc_window_display": false
  }
 },
 "nbformat": 4,
 "nbformat_minor": 4
}

{
 "cells": [
  {
   "cell_type": "code",
   "execution_count": 1,
   "metadata": {
    "ExecuteTime": {
     "end_time": "2020-05-04T00:20:35.705726Z",
     "start_time": "2020-05-04T00:20:35.699270Z"
    }
   },
   "outputs": [],
   "source": [
    "import findspark\n",
    "findspark.init()"
   ]
  },
  {
   "cell_type": "code",
   "execution_count": 2,
   "metadata": {
    "ExecuteTime": {
     "end_time": "2020-05-04T00:20:36.357315Z",
     "start_time": "2020-05-04T00:20:36.350219Z"
    }
   },
   "outputs": [],
   "source": [
    "import sys\n",
    "import time\n",
    "import json\n",
    "from math import sqrt\n",
    "from projectsupport import *"
   ]
  },
  {
   "cell_type": "code",
   "execution_count": 3,
   "metadata": {
    "ExecuteTime": {
     "end_time": "2020-05-04T00:20:37.056931Z",
     "start_time": "2020-05-04T00:20:36.662578Z"
    }
   },
   "outputs": [],
   "source": [
    "from pyspark import SparkConf, SparkContext, StorageLevel"
   ]
  },
  {
   "cell_type": "code",
   "execution_count": null,
   "metadata": {
    "ExecuteTime": {
     "start_time": "2020-05-04T00:49:16.487Z"
    }
   },
   "outputs": [],
   "source": [
    "train_file = \"file:///Users/markduan/duan/USC_course/USC_APDS/INF553/project/data/train_review.json\"\n",
    "model_file = \"../model/model_user.json\"\n",
    "cf_type = \"user_based\"\n",
    "avg_business_file = \"/Users/markduan/duan/USC_course/USC_APDS/INF553/project/data/business_avg.json\""
   ]
  },
  {
   "cell_type": "code",
   "execution_count": 21,
   "metadata": {
    "ExecuteTime": {
     "end_time": "2020-05-04T00:39:45.704395Z",
     "start_time": "2020-05-04T00:39:45.699081Z"
    }
   },
   "outputs": [],
   "source": [
    "UNK = 3.823989\n",
    "CORATED_LIMIT = 10\n",
    "NUM_HASHS = 30\n",
    "NUM_BANDS = 15\n",
    "LARGE_NUMBER = sys.maxsize\n",
    "JACCARD_SIMILARITY_THRESHOLD = 0.01 # >="
   ]
  },
  {
   "cell_type": "code",
   "execution_count": 6,
   "metadata": {
    "ExecuteTime": {
     "end_time": "2020-05-04T00:20:38.636030Z",
     "start_time": "2020-05-04T00:20:38.630830Z"
    }
   },
   "outputs": [],
   "source": [
    "def meanList(l):\n",
    "    return sum(l) / len(l)\n",
    "\n",
    "def averageRating(x):\n",
    "    bid = x[0][0]\n",
    "    uid = x[0][1]\n",
    "    stars = x[1] # list\n",
    "    average_stars = meanList(stars)\n",
    "    return (bid, [(uid, average_stars)])\n",
    "\n",
    "def convertToDict(l):\n",
    "    # l - [(uid, star), ...]\n",
    "    us = {}\n",
    "    for uid, star in l:\n",
    "        us[uid] = star\n",
    "    return us"
   ]
  },
  {
   "cell_type": "code",
   "execution_count": 7,
   "metadata": {
    "ExecuteTime": {
     "end_time": "2020-05-04T00:21:03.706727Z",
     "start_time": "2020-05-04T00:21:03.696767Z"
    }
   },
   "outputs": [],
   "source": [
    "def pc(b1, b2):\n",
    "    # b1, b2 - (bid, {uid: star, ...})\n",
    "    # avg_business - {bid: avg, ...}\n",
    "    b1_bid = b1[0]\n",
    "    b2_bid = b2[0]\n",
    "    # if b1_bid == b2_bid:\n",
    "    #     return (b1_bid, b2_bid, 1.0) # b1_bid == b2_bid\n",
    "    b1_d = b1[1]\n",
    "    b2_d = b2[1]\n",
    "    b1_u = set(b1_d.keys())\n",
    "    b2_u = set(b2_d.keys())\n",
    "    u_intersect = list(b1_u.intersection(b2_u))\n",
    "    len_inter = len(u_intersect)\n",
    "#     if len_inter == 0:\n",
    "#         return None\n",
    "#     if len_inter < CORATED_LIMIT:\n",
    "#         len_gap = CORATED_LIMIT - len_inter\n",
    "#         # print(len_gap, end=' ')\n",
    "#         avg_b1 = avg_business.get(b1_bid, UNK)\n",
    "#         avg_b2 = avg_business.get(b1_bid, UNK)\n",
    "#         b1_corated = [b1_d[uid] for uid in u_intersect] + [avg_b1] * len_gap\n",
    "#         b2_corated = [b2_d[uid] for uid in u_intersect] + [avg_b2] * len_gap\n",
    "#     else:\n",
    "#         b1_corated = [b1_d[uid] for uid in u_intersect]\n",
    "#         b2_corated = [b2_d[uid] for uid in u_intersect]\n",
    "    if len_inter < CORATED_LIMIT:\n",
    "        return None\n",
    "    b1_corated = [b1_d[uid] for uid in u_intersect]\n",
    "    b2_corated = [b2_d[uid] for uid in u_intersect]\n",
    "\n",
    "    # co-rated average\n",
    "    b1_avg = meanList(b1_corated)\n",
    "    b2_avg = meanList(b2_corated)\n",
    "\n",
    "    # overall average\n",
    "    # b1_avg = bid_avg[b1_bid]\n",
    "    # b2_avg = bid_avg[b2_bid]\n",
    "\n",
    "    # overall average according to train_review.json\n",
    "    # b1_avg = meanList(list(b1_d.values()))\n",
    "    # b2_avg = meanList(list(b2_d.values()))\n",
    "\n",
    "    b1_corated_normalized = [(x - b1_avg) for x in b1_corated]\n",
    "    b2_corated_normalized = [(x - b2_avg) for x in b2_corated]\n",
    "    n = sum([(b1_corated_normalized[i] * b2_corated_normalized[i]) for i in range(len(u_intersect))])\n",
    "    d1 = sum([(x * x) for x in b1_corated_normalized])\n",
    "    d2 = sum([(x * x) for x in b2_corated_normalized])\n",
    "    if n == 0 or d1 == 0 or d2 == 0:\n",
    "        return None\n",
    "    w = n / sqrt(d1 * d2)\n",
    "    if w > 0:\n",
    "#         w = w ** 2.5 # Case Amplification\n",
    "        return (b1_bid, b2_bid, w) # b1_bid < b2_bid\n",
    "    else:\n",
    "        return None"
   ]
  },
  {
   "cell_type": "code",
   "execution_count": 8,
   "metadata": {
    "ExecuteTime": {
     "end_time": "2020-05-04T00:21:05.088316Z",
     "start_time": "2020-05-04T00:21:05.076369Z"
    }
   },
   "outputs": [],
   "source": [
    "def updateSignature(s_cur, s_new, length):\n",
    "    # update s_cur\n",
    "    for i in range(length):\n",
    "        if s_new[i] < s_cur[i]:\n",
    "            s_cur[i] = s_new[i]\n",
    "\n",
    "def minHash(x, hashs):\n",
    "    u_id = x[0]\n",
    "    b_ids = x[1]\n",
    "    signature = [LARGE_NUMBER] * NUM_HASHS\n",
    "    for b in b_ids:\n",
    "        s_ = [hashs[i](b) for i in range(NUM_HASHS)]\n",
    "        updateSignature(signature, s_, NUM_HASHS)\n",
    "    res = (u_id, signature)\n",
    "    return res\n",
    "\n",
    "def LSH(x, b, r, hash_lsh):\n",
    "    u_id = x[0]\n",
    "    signature = x[1]\n",
    "    ress = []\n",
    "    for i in range(b):\n",
    "        v_hash = hash_lsh(signature[i*r:(i+1)*r])\n",
    "        res = ((v_hash, i), u_id)\n",
    "        ress.append(res)\n",
    "    return ress\n",
    "\n",
    "def generatePairs(l):\n",
    "    l.sort()\n",
    "    l_len = len(l)\n",
    "    res_l = [(l[i],l[j]) for i in range(l_len) for j in range(i+1, l_len)]\n",
    "    # in each pair, pair[0] < pair[1]\n",
    "    return res_l\n",
    "\n",
    "def computeJaccardSimilarity(l1, l2):\n",
    "    # items in l1 are unique to each other, so does l2\n",
    "    l1_len = len(l1)\n",
    "    l2_len = len(l2)\n",
    "    intersect_set = set(l1).intersection(set(l2))\n",
    "    inter_len = len(intersect_set)\n",
    "    union_len = l1_len + l2_len - inter_len\n",
    "    js = inter_len / union_len\n",
    "    return js"
   ]
  },
  {
   "cell_type": "code",
   "execution_count": 9,
   "metadata": {
    "ExecuteTime": {
     "end_time": "2020-05-04T00:21:05.709173Z",
     "start_time": "2020-05-04T00:21:05.705726Z"
    }
   },
   "outputs": [],
   "source": [
    "def getData(sc):\n",
    "    raw_data = sc.textFile(train_file) \\\n",
    "        .map(json.loads)\n",
    "    return raw_data"
   ]
  },
  {
   "cell_type": "code",
   "execution_count": 10,
   "metadata": {
    "ExecuteTime": {
     "end_time": "2020-05-04T00:21:06.067207Z",
     "start_time": "2020-05-04T00:21:06.061339Z"
    }
   },
   "outputs": [],
   "source": [
    "def getRenameData(raw_data):\n",
    "    # rename bid\n",
    "    original_bid = raw_data.map(lambda x: x['business_id']).distinct().collect()\n",
    "    bid_rename = Rename(original_bid)\n",
    "\n",
    "    # rename uid\n",
    "    original_uid = raw_data.map(lambda x: x['user_id']).distinct().collect()\n",
    "    uid_rename = Rename(original_uid)\n",
    "\n",
    "    # rename data\n",
    "    data_renamed = raw_data.map(lambda r: (r['user_id'], r['business_id'], r['stars'])) \\\n",
    "        .map(lambda x: (uid_rename.getNewValue(x[0]), bid_rename.getNewValue(x[1]), x[2])) \\\n",
    "        .persist(StorageLevel.MEMORY_AND_DISK)\n",
    "\n",
    "    return data_renamed, bid_rename, uid_rename"
   ]
  },
  {
   "cell_type": "code",
   "execution_count": 22,
   "metadata": {
    "ExecuteTime": {
     "end_time": "2020-05-04T00:40:21.908260Z",
     "start_time": "2020-05-04T00:40:21.894091Z"
    }
   },
   "outputs": [],
   "source": [
    "# for user based model\n",
    "def getCandidates(data_renamed, bid_rename, uid_rename):\n",
    "    data_distinct = data_renamed.map(lambda x: (x[0], x[1])) \\\n",
    "        .distinct() \\\n",
    "        .persist(StorageLevel.MEMORY_AND_DISK)\n",
    "    # data after rename: [(22368, 6616), (22369, 4431), (11224, 2238), (9325, 759), (1829, 4435)]\n",
    "    # data_distinct - [(uid, bid), ...]\n",
    "    \n",
    "    # print('long uid', uid_rename.values_length)\n",
    "    # print('long bid', bid_rename.values_length)\n",
    "    # generate hash functions for min-hash\n",
    "    num_bid = bid_rename.values_length\n",
    "    print('num_uid =', uid_rename.values_length) # 91,730 can generate 4.207e9 pairs\n",
    "    print('num_bid =', num_bid) # 13,167\n",
    "    hashs_minhash = generateHashs(NUM_HASHS, num_bid)\n",
    "\n",
    "    # generate hash functions and parameters for LSH\n",
    "    b = NUM_BANDS\n",
    "    r = int(NUM_HASHS / NUM_BANDS)\n",
    "    hash_lsh = generateHashForLSH(r)\n",
    "\n",
    "    # generate candidates using Min-Hash & LSH\n",
    "    candidates = data_distinct.groupByKey() \\\n",
    "        .map(lambda x: minHash(x, hashs_minhash)) \\\n",
    "        .flatMap(lambda x: LSH(x, b, r, hash_lsh)) \\\n",
    "        .groupByKey() \\\n",
    "        .filter(lambda x: len(x[1]) > 1) \\\n",
    "        .map(lambda x: list(x[1])) \\\n",
    "        .flatMap(lambda x: generatePairs(x)) \\\n",
    "        .distinct() \\\n",
    "        .collect()\n",
    "    print('length of candidates:', len(candidates)) # 19300205\n",
    "\n",
    "    return candidates"
   ]
  },
  {
   "cell_type": "code",
   "execution_count": 12,
   "metadata": {
    "ExecuteTime": {
     "end_time": "2020-05-04T00:21:10.061645Z",
     "start_time": "2020-05-04T00:21:10.055833Z"
    }
   },
   "outputs": [],
   "source": [
    "def transformDataForUserBased(data_renamed):\n",
    "    # data_renamed - [(uid, bid, star), ...]\n",
    "    data_groupby_uid = data_renamed.map(lambda x: ((x[0], x[1]), [x[2]])) \\\n",
    "        .reduceByKey(lambda x, y: x + y) \\\n",
    "        .map(lambda x: averageRating(x)) \\\n",
    "        .reduceByKey(lambda x, y: x + y) \\\n",
    "        .filter(lambda x: len(x[1]) > 2) \\\n",
    "        .map(lambda x: (x[0], convertToDict(x[1]))) \\\n",
    "        .collect()\n",
    "\n",
    "    print('data_groupby_uid[:5]:', data_groupby_uid[:5])\n",
    "    # print(len(data_groupby_uid)) # 26178\n",
    "\n",
    "    return data_groupby_uid"
   ]
  },
  {
   "cell_type": "code",
   "execution_count": 13,
   "metadata": {
    "ExecuteTime": {
     "end_time": "2020-05-04T00:21:10.333361Z",
     "start_time": "2020-05-04T00:21:10.326134Z"
    }
   },
   "outputs": [],
   "source": [
    "def computePearsonCorrelationAndJaccardSimilarityUserBased(data, candidates):\n",
    "    # data - [(uid, {bid: star, ...}), ...]\n",
    "    print('data[:3]:', data[:3])\n",
    "    data_dict = {} # {uid: (uid, {bid: star, ...}), ...}\n",
    "    for uid, d in data:\n",
    "        data_dict[uid] = (uid, d)\n",
    "    # uid_list = list(data_dict.keys())\n",
    "    uid_v = []\n",
    "    for u1, u2 in candidates:\n",
    "        pc1 = data_dict.get(u1)\n",
    "        pc2 = data_dict.get(u2)\n",
    "        if pc1 == None or pc2 == None:\n",
    "            # if pc1 == None:\n",
    "            #     print('None value:', u1)\n",
    "            # else:\n",
    "            #     print('None value:', u2)\n",
    "            continue\n",
    "        res = pc(data_dict[u1], data_dict[u2])\n",
    "        if res != None:\n",
    "            bids1 = list(data_dict[u1][1].keys())\n",
    "            bids2 = list(data_dict[u2][1].keys())\n",
    "            js_ = computeJaccardSimilarity(bids1, bids2)\n",
    "            if js_ >= JACCARD_SIMILARITY_THRESHOLD:\n",
    "                d_ = {'u1': res[0], 'u2': res[1], 'sim': res[2]}\n",
    "                # print(d_)\n",
    "                uid_v.append(d_)\n",
    "\n",
    "    print('uid_v[:5] =', uid_v[:5])\n",
    "    print('len(uid_v) =', len(uid_v)) # 542141\n",
    "    return uid_v"
   ]
  },
  {
   "cell_type": "code",
   "execution_count": 14,
   "metadata": {
    "ExecuteTime": {
     "end_time": "2020-05-04T00:21:11.095156Z",
     "start_time": "2020-05-04T00:21:11.090639Z"
    }
   },
   "outputs": [],
   "source": [
    "def outputModelToFileUserBased(model, rename):\n",
    "    # model - [{'u1': uid, 'u2': uid, 'sim': w}, ...]\n",
    "    with open(model_file, 'w', encoding='utf-8') as fp:\n",
    "        for item in model:\n",
    "            item['u1'] = rename.getOriginalValue(item['u1'])\n",
    "            item['u2'] = rename.getOriginalValue(item['u2'])\n",
    "            fp.write(json.dumps(item))\n",
    "            fp.write('\\n')"
   ]
  },
  {
   "cell_type": "code",
   "execution_count": 16,
   "metadata": {
    "ExecuteTime": {
     "end_time": "2020-05-04T00:21:27.660133Z",
     "start_time": "2020-05-04T00:21:25.565630Z"
    }
   },
   "outputs": [],
   "source": [
    "conf = SparkConf() \\\n",
    "    .setAppName(\"task3train\") \\\n",
    "    .setMaster(\"local[*]\") \\\n",
    "    .set(\"spark.driver.memory\",\"4g\")\n",
    "sc = SparkContext(conf=conf)"
   ]
  },
  {
   "cell_type": "code",
   "execution_count": 17,
   "metadata": {
    "ExecuteTime": {
     "end_time": "2020-05-04T00:21:28.880346Z",
     "start_time": "2020-05-04T00:21:28.339709Z"
    }
   },
   "outputs": [],
   "source": [
    "# get data\n",
    "raw_data = getData(sc)"
   ]
  },
  {
   "cell_type": "code",
   "execution_count": 18,
   "metadata": {
    "ExecuteTime": {
     "end_time": "2020-05-04T00:21:44.963975Z",
     "start_time": "2020-05-04T00:21:33.396054Z"
    }
   },
   "outputs": [],
   "source": [
    "# get rename data\n",
    "data_renamed, bid_rename, uid_rename = getRenameData(raw_data)"
   ]
  },
  {
   "cell_type": "code",
   "execution_count": null,
   "metadata": {
    "ExecuteTime": {
     "start_time": "2020-05-04T00:40:25.990Z"
    }
   },
   "outputs": [
    {
     "name": "stdout",
     "output_type": "stream",
     "text": [
      "num_uid = 91730\n",
      "num_bid = 13167\n"
     ]
    }
   ],
   "source": [
    "# find most possible user pairs using Min-Hash & LSH\n",
    "candidates = getCandidates(data_renamed, bid_rename, uid_rename)"
   ]
  },
  {
   "cell_type": "code",
   "execution_count": null,
   "metadata": {},
   "outputs": [],
   "source": [
    "# transform to generate a dataset for user-based model\n",
    "data_groupby_uid = transformDataForUserBased(data_renamed)"
   ]
  },
  {
   "cell_type": "code",
   "execution_count": null,
   "metadata": {},
   "outputs": [],
   "source": [
    "# compute Pearson Correlation w\n",
    "model = computePearsonCorrelationAndJaccardSimilarityUserBased(data_groupby_uid, candidates)"
   ]
  },
  {
   "cell_type": "code",
   "execution_count": null,
   "metadata": {},
   "outputs": [],
   "source": [
    "# name back & output model to file\n",
    "outputModelToFileUserBased(model, uid_rename)"
   ]
  },
  {
   "cell_type": "code",
   "execution_count": null,
   "metadata": {},
   "outputs": [],
   "source": []
  },
  {
   "cell_type": "code",
   "execution_count": null,
   "metadata": {},
   "outputs": [],
   "source": []
  },
  {
   "cell_type": "code",
   "execution_count": null,
   "metadata": {},
   "outputs": [],
   "source": []
  },
  {
   "cell_type": "code",
   "execution_count": null,
   "metadata": {},
   "outputs": [],
   "source": []
  },
  {
   "cell_type": "code",
   "execution_count": null,
   "metadata": {},
   "outputs": [],
   "source": []
  },
  {
   "cell_type": "code",
   "execution_count": null,
   "metadata": {},
   "outputs": [],
   "source": []
  },
  {
   "cell_type": "code",
   "execution_count": null,
   "metadata": {},
   "outputs": [],
   "source": []
  },
  {
   "cell_type": "code",
   "execution_count": null,
   "metadata": {},
   "outputs": [],
   "source": []
  },
  {
   "cell_type": "code",
   "execution_count": null,
   "metadata": {},
   "outputs": [],
   "source": []
  },
  {
   "cell_type": "code",
   "execution_count": null,
   "metadata": {},
   "outputs": [],
   "source": []
  },
  {
   "cell_type": "code",
   "execution_count": null,
   "metadata": {},
   "outputs": [],
   "source": []
  },
  {
   "cell_type": "code",
   "execution_count": null,
   "metadata": {},
   "outputs": [],
   "source": []
  },
  {
   "cell_type": "code",
   "execution_count": null,
   "metadata": {},
   "outputs": [],
   "source": []
  },
  {
   "cell_type": "code",
   "execution_count": null,
   "metadata": {},
   "outputs": [],
   "source": []
  }
 ],
 "metadata": {
  "kernelspec": {
   "display_name": "inf553",
   "language": "python",
   "name": "inf553"
  },
  "language_info": {
   "codemirror_mode": {
    "name": "ipython",
    "version": 3
   },
   "file_extension": ".py",
   "mimetype": "text/x-python",
   "name": "python",
   "nbconvert_exporter": "python",
   "pygments_lexer": "ipython3",
   "version": "3.6.10"
  },
  "toc": {
   "base_numbering": 1,
   "nav_menu": {},
   "number_sections": true,
   "sideBar": true,
   "skip_h1_title": false,
   "title_cell": "Table of Contents",
   "title_sidebar": "Contents",
   "toc_cell": false,
   "toc_position": {},
   "toc_section_display": true,
   "toc_window_display": false
  }
 },
 "nbformat": 4,
 "nbformat_minor": 4
}

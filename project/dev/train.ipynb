{
 "cells": [
  {
   "cell_type": "code",
   "execution_count": 1,
   "metadata": {
    "ExecuteTime": {
     "end_time": "2020-05-05T23:04:01.914005Z",
     "start_time": "2020-05-05T23:04:01.908991Z"
    }
   },
   "outputs": [],
   "source": [
    "import findspark\n",
    "findspark.init()"
   ]
  },
  {
   "cell_type": "code",
   "execution_count": 2,
   "metadata": {
    "ExecuteTime": {
     "end_time": "2020-05-05T23:04:01.921611Z",
     "start_time": "2020-05-05T23:04:01.916405Z"
    }
   },
   "outputs": [],
   "source": [
    "import sys\n",
    "import time\n",
    "import json\n",
    "from math import sqrt\n",
    "from projectsupport import *"
   ]
  },
  {
   "cell_type": "code",
   "execution_count": 3,
   "metadata": {
    "ExecuteTime": {
     "end_time": "2020-05-05T23:04:02.305270Z",
     "start_time": "2020-05-05T23:04:01.923958Z"
    }
   },
   "outputs": [],
   "source": [
    "from pyspark import SparkConf, SparkContext, StorageLevel"
   ]
  },
  {
   "cell_type": "code",
   "execution_count": 4,
   "metadata": {
    "ExecuteTime": {
     "end_time": "2020-05-05T23:04:02.310063Z",
     "start_time": "2020-05-05T23:04:02.307607Z"
    }
   },
   "outputs": [],
   "source": [
    "train_file = \"file:///Users/markduan/duan/USC_course/USC_APDS/INF553/project/data/train_review.json\"\n",
    "model_file = \"../model/model_itemCF.json\"\n",
    "cf_type = \"item_based\"\n",
    "# avg_business_file = \"/Users/markduan/duan/USC_course/USC_APDS/INF553/project/data/business_avg.json\""
   ]
  },
  {
   "cell_type": "code",
   "execution_count": 5,
   "metadata": {
    "ExecuteTime": {
     "end_time": "2020-05-05T23:04:02.314593Z",
     "start_time": "2020-05-05T23:04:02.311879Z"
    }
   },
   "outputs": [],
   "source": [
    "UNK = 3.823989\n",
    "CORATED_LIMIT = 20\n",
    "NUM_HASHS = 50\n",
    "LARGE_NUMBER = sys.maxsize\n",
    "NUM_BANDS = NUM_HASHS\n",
    "JACCARD_SIMILARITY_THRESHOLD = 0.01 # >="
   ]
  },
  {
   "cell_type": "code",
   "execution_count": 6,
   "metadata": {
    "ExecuteTime": {
     "end_time": "2020-05-05T23:04:02.318982Z",
     "start_time": "2020-05-05T23:04:02.316487Z"
    }
   },
   "outputs": [],
   "source": [
    "def meanList(l):\n",
    "    return sum(l) / len(l)"
   ]
  },
  {
   "cell_type": "code",
   "execution_count": 7,
   "metadata": {
    "ExecuteTime": {
     "end_time": "2020-05-05T23:04:02.324018Z",
     "start_time": "2020-05-05T23:04:02.320979Z"
    }
   },
   "outputs": [],
   "source": [
    "def averageRating(x):\n",
    "    bid = x[0][0]\n",
    "    uid = x[0][1]\n",
    "    stars = x[1] # list\n",
    "    average_stars = meanList(stars)\n",
    "    return (bid, [(uid, average_stars)])"
   ]
  },
  {
   "cell_type": "code",
   "execution_count": 8,
   "metadata": {
    "ExecuteTime": {
     "end_time": "2020-05-05T23:04:02.330428Z",
     "start_time": "2020-05-05T23:04:02.327442Z"
    }
   },
   "outputs": [],
   "source": [
    "def convertToDict(l):\n",
    "    # l - [(uid, star), ...]\n",
    "    us = {}\n",
    "    for uid, star in l:\n",
    "        us[uid] = star\n",
    "    return us"
   ]
  },
  {
   "cell_type": "code",
   "execution_count": 9,
   "metadata": {
    "ExecuteTime": {
     "end_time": "2020-05-05T23:04:02.341075Z",
     "start_time": "2020-05-05T23:04:02.333012Z"
    }
   },
   "outputs": [],
   "source": [
    "def pc(b1, b2):\n",
    "    # b1, b2 - (bid, {uid: star, ...})\n",
    "    # avg_business - {bid: avg, ...}\n",
    "    b1_bid = b1[0]\n",
    "    b2_bid = b2[0]\n",
    "    # if b1_bid == b2_bid:\n",
    "    #     return (b1_bid, b2_bid, 1.0) # b1_bid == b2_bid\n",
    "    b1_d = b1[1]\n",
    "    b2_d = b2[1]\n",
    "    b1_u = set(b1_d.keys())\n",
    "    b2_u = set(b2_d.keys())\n",
    "    u_intersect = list(b1_u.intersection(b2_u))\n",
    "    len_inter = len(u_intersect)\n",
    "#     if len_inter == 0:\n",
    "#         return None\n",
    "#     if len_inter < CORATED_LIMIT:\n",
    "#         len_gap = CORATED_LIMIT - len_inter\n",
    "#         # print(len_gap, end=' ')\n",
    "#         avg_b1 = avg_business.get(b1_bid, UNK)\n",
    "#         avg_b2 = avg_business.get(b1_bid, UNK)\n",
    "#         b1_corated = [b1_d[uid] for uid in u_intersect] + [avg_b1] * len_gap\n",
    "#         b2_corated = [b2_d[uid] for uid in u_intersect] + [avg_b2] * len_gap\n",
    "#     else:\n",
    "#         b1_corated = [b1_d[uid] for uid in u_intersect]\n",
    "#         b2_corated = [b2_d[uid] for uid in u_intersect]\n",
    "    if len_inter < CORATED_LIMIT:\n",
    "        return None\n",
    "    b1_corated = [b1_d[uid] for uid in u_intersect]\n",
    "    b2_corated = [b2_d[uid] for uid in u_intersect]\n",
    "\n",
    "    # co-rated average\n",
    "    b1_avg = meanList(b1_corated)\n",
    "    b2_avg = meanList(b2_corated)\n",
    "\n",
    "    # overall average\n",
    "    # b1_avg = bid_avg[b1_bid]\n",
    "    # b2_avg = bid_avg[b2_bid]\n",
    "\n",
    "    # overall average according to train_review.json\n",
    "    # b1_avg = meanList(list(b1_d.values()))\n",
    "    # b2_avg = meanList(list(b2_d.values()))\n",
    "\n",
    "    b1_corated_normalized = [(x - b1_avg) for x in b1_corated]\n",
    "    b2_corated_normalized = [(x - b2_avg) for x in b2_corated]\n",
    "    n = sum([(b1_corated_normalized[i] * b2_corated_normalized[i]) for i in range(len(u_intersect))])\n",
    "    d1 = sum([(x * x) for x in b1_corated_normalized])\n",
    "    d2 = sum([(x * x) for x in b2_corated_normalized])\n",
    "    if n == 0 or d1 == 0 or d2 == 0:\n",
    "        return None\n",
    "    w = n / sqrt(d1 * d2)\n",
    "    if w > 0:\n",
    "#         w = w ** 2.5 # Case Amplification\n",
    "        return (b1_bid, b2_bid, w) # b1_bid < b2_bid\n",
    "    else:\n",
    "        return None"
   ]
  },
  {
   "cell_type": "code",
   "execution_count": 10,
   "metadata": {
    "ExecuteTime": {
     "end_time": "2020-05-05T23:04:02.345917Z",
     "start_time": "2020-05-05T23:04:02.343069Z"
    }
   },
   "outputs": [],
   "source": [
    "def getData(sc):\n",
    "    raw_data = sc.textFile(train_file) \\\n",
    "        .map(json.loads)\n",
    "    return raw_data"
   ]
  },
  {
   "cell_type": "code",
   "execution_count": 11,
   "metadata": {
    "ExecuteTime": {
     "end_time": "2020-05-05T23:04:02.352122Z",
     "start_time": "2020-05-05T23:04:02.347497Z"
    }
   },
   "outputs": [],
   "source": [
    "# for itembased model\n",
    "def transformDataForItemBased(raw_data):\n",
    "    data_groupby_bid = raw_data.map(lambda r: ((r['business_id'], r['user_id']), [r['stars']])) \\\n",
    "        .reduceByKey(lambda x, y: x + y) \\\n",
    "        .map(lambda x: averageRating(x)) \\\n",
    "        .reduceByKey(lambda x, y: x + y) \\\n",
    "        .map(lambda x: (x[0], convertToDict(x[1]))) \\\n",
    "        .collect()\n",
    "        # .filter(lambda x: len(x[1]) > 2) \\\n",
    "        # .map(lambda x: (x[0], convertToDict(x[1]))) \\\n",
    "        # .collect()\n",
    "\n",
    "    # print(data_groupby_bid[:2])\n",
    "    print(len(data_groupby_bid)) # 10253 -> 10118 (remove businesses that were rated by fewer than 2 users)\n",
    "\n",
    "    return data_groupby_bid"
   ]
  },
  {
   "cell_type": "code",
   "execution_count": 12,
   "metadata": {
    "ExecuteTime": {
     "end_time": "2020-05-05T23:04:02.358790Z",
     "start_time": "2020-05-05T23:04:02.353609Z"
    }
   },
   "outputs": [],
   "source": [
    "def computePearsonCorrelationItemBased(data):\n",
    "    # data - [(bid, {uid: star, ...}), ...]\n",
    "    # avg_business - {bid: avg, ...}\n",
    "    data_dict = {} # {bid: (bid, {uid: star, ...}), ...}\n",
    "    for bid, d in data:\n",
    "        data_dict[bid] = (bid, d)\n",
    "    bid_list = list(data_dict.keys())\n",
    "    bid_list.sort()\n",
    "    bid_length = len(bid_list)\n",
    "    # bid_pairs = ((bid_list[i], bid_list[j]) for i in range(bid_length) for j in range(i+1, bid_length))\n",
    "    bid_v = []\n",
    "    for i in range(bid_length):\n",
    "        x = bid_list[i]\n",
    "#         print(i)\n",
    "        for j in range(i+1, bid_length):\n",
    "            y = bid_list[j]\n",
    "            res = pc(data_dict[x], data_dict[y])\n",
    "            if res != None:\n",
    "                d_ = {'b1': res[0], 'b2': res[1], 'sim': res[2]}\n",
    "                # print(d_)\n",
    "                bid_v.append(d_)\n",
    "    # print(bid_v[:5])\n",
    "    print(len(bid_v)) # 214796\n",
    "    return bid_v"
   ]
  },
  {
   "cell_type": "code",
   "execution_count": 13,
   "metadata": {
    "ExecuteTime": {
     "end_time": "2020-05-05T23:04:02.363292Z",
     "start_time": "2020-05-05T23:04:02.360330Z"
    }
   },
   "outputs": [],
   "source": [
    "def outputModelToFile(model):\n",
    "    with open(model_file, 'w', encoding='utf-8') as fp:\n",
    "        for item in model:\n",
    "            fp.write(json.dumps(item))\n",
    "            fp.write('\\n')"
   ]
  },
  {
   "cell_type": "code",
   "execution_count": 14,
   "metadata": {
    "ExecuteTime": {
     "end_time": "2020-05-05T23:04:02.367397Z",
     "start_time": "2020-05-05T23:04:02.364836Z"
    }
   },
   "outputs": [],
   "source": [
    "# def computePearsonCorrelationItemBased(data, avg_business):\n",
    "#     # data - [(bid, {uid: star, ...}), ...]\n",
    "#     # avg_business - {bid: avg, ...}\n",
    "#     data_dict = {} # {bid: (bid, {uid: star, ...}), ...}\n",
    "#     for bid, d in data:\n",
    "#         data_dict[bid] = (bid, d)\n",
    "#     bid_list = list(data_dict.keys())\n",
    "#     bid_list.sort()\n",
    "#     bid_length = len(bid_list)\n",
    "#     # bid_pairs = ((bid_list[i], bid_list[j]) for i in range(bid_length) for j in range(i+1, bid_length))\n",
    "#     bid_l = []\n",
    "#     for i in range(bid_length):\n",
    "#         x = bid_list[i]\n",
    "# #         print(i)\n",
    "#         for j in range(i+1, bid_length):\n",
    "#             y = bid_list[j]\n",
    "#             res = pc(data_dict[x], data_dict[y], avg_business)\n",
    "#             if res != None:\n",
    "#                 bid_l.append(res)\n",
    "#     # print(bid_v[:5])\n",
    "#     print(len(bid_l)) # 214796\n",
    "#     return bid_l"
   ]
  },
  {
   "cell_type": "code",
   "execution_count": 15,
   "metadata": {
    "ExecuteTime": {
     "end_time": "2020-05-05T23:04:02.371972Z",
     "start_time": "2020-05-05T23:04:02.369613Z"
    }
   },
   "outputs": [],
   "source": [
    "# def outputModelToFile(model):\n",
    "#     with open(model_file, 'w', encoding='utf-8') as fp:\n",
    "#         json.dump(model, fp)"
   ]
  },
  {
   "cell_type": "code",
   "execution_count": 16,
   "metadata": {
    "ExecuteTime": {
     "end_time": "2020-05-05T23:04:04.701410Z",
     "start_time": "2020-05-05T23:04:02.374222Z"
    }
   },
   "outputs": [],
   "source": [
    "conf = SparkConf() \\\n",
    "    .setAppName(\"project\") \\\n",
    "    .setMaster(\"local[*]\") \\\n",
    "    .set(\"spark.driver.memory\",\"4g\")\n",
    "sc = SparkContext(conf=conf)"
   ]
  },
  {
   "cell_type": "code",
   "execution_count": 17,
   "metadata": {
    "ExecuteTime": {
     "end_time": "2020-05-05T23:04:05.149510Z",
     "start_time": "2020-05-05T23:04:04.703468Z"
    }
   },
   "outputs": [],
   "source": [
    "# get data\n",
    "raw_data = getData(sc)"
   ]
  },
  {
   "cell_type": "code",
   "execution_count": 18,
   "metadata": {
    "ExecuteTime": {
     "end_time": "2020-05-05T23:04:05.153671Z",
     "start_time": "2020-05-05T23:04:05.151704Z"
    }
   },
   "outputs": [],
   "source": [
    "# # get avg_business\n",
    "# with open(avg_business_file, 'r', encoding='utf-8') as fp:\n",
    "#     avg_business = json.load(fp)"
   ]
  },
  {
   "cell_type": "code",
   "execution_count": 19,
   "metadata": {
    "ExecuteTime": {
     "end_time": "2020-05-05T23:04:16.373592Z",
     "start_time": "2020-05-05T23:04:05.155660Z"
    }
   },
   "outputs": [
    {
     "name": "stdout",
     "output_type": "stream",
     "text": [
      "13167\n"
     ]
    }
   ],
   "source": [
    "# transform to generate a dataset for item-based model\n",
    "data_groupby_bid = transformDataForItemBased(raw_data)"
   ]
  },
  {
   "cell_type": "code",
   "execution_count": 20,
   "metadata": {
    "ExecuteTime": {
     "end_time": "2020-05-05T23:14:49.712752Z",
     "start_time": "2020-05-05T23:04:16.376832Z"
    }
   },
   "outputs": [
    {
     "name": "stdout",
     "output_type": "stream",
     "text": [
      "29172\n"
     ]
    }
   ],
   "source": [
    "# compute Pearson Correlation w\n",
    "model = computePearsonCorrelationItemBased(data_groupby_bid)"
   ]
  },
  {
   "cell_type": "code",
   "execution_count": 21,
   "metadata": {
    "ExecuteTime": {
     "end_time": "2020-05-05T23:14:49.850486Z",
     "start_time": "2020-05-05T23:14:49.716587Z"
    }
   },
   "outputs": [],
   "source": [
    "# output model to file\n",
    "outputModelToFile(model)"
   ]
  },
  {
   "cell_type": "code",
   "execution_count": null,
   "metadata": {},
   "outputs": [],
   "source": []
  },
  {
   "cell_type": "code",
   "execution_count": null,
   "metadata": {},
   "outputs": [],
   "source": []
  },
  {
   "cell_type": "code",
   "execution_count": null,
   "metadata": {},
   "outputs": [],
   "source": []
  },
  {
   "cell_type": "code",
   "execution_count": null,
   "metadata": {},
   "outputs": [],
   "source": []
  },
  {
   "cell_type": "code",
   "execution_count": null,
   "metadata": {},
   "outputs": [],
   "source": []
  },
  {
   "cell_type": "code",
   "execution_count": null,
   "metadata": {},
   "outputs": [],
   "source": []
  },
  {
   "cell_type": "code",
   "execution_count": null,
   "metadata": {},
   "outputs": [],
   "source": []
  },
  {
   "cell_type": "code",
   "execution_count": null,
   "metadata": {},
   "outputs": [],
   "source": []
  },
  {
   "cell_type": "code",
   "execution_count": null,
   "metadata": {},
   "outputs": [],
   "source": []
  },
  {
   "cell_type": "code",
   "execution_count": null,
   "metadata": {},
   "outputs": [],
   "source": []
  }
 ],
 "metadata": {
  "kernelspec": {
   "display_name": "inf553",
   "language": "python",
   "name": "inf553"
  },
  "language_info": {
   "codemirror_mode": {
    "name": "ipython",
    "version": 3
   },
   "file_extension": ".py",
   "mimetype": "text/x-python",
   "name": "python",
   "nbconvert_exporter": "python",
   "pygments_lexer": "ipython3",
   "version": "3.6.10"
  },
  "toc": {
   "base_numbering": 1,
   "nav_menu": {},
   "number_sections": true,
   "sideBar": true,
   "skip_h1_title": false,
   "title_cell": "Table of Contents",
   "title_sidebar": "Contents",
   "toc_cell": false,
   "toc_position": {},
   "toc_section_display": true,
   "toc_window_display": false
  }
 },
 "nbformat": 4,
 "nbformat_minor": 4
}

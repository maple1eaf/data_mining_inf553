{
 "cells": [
  {
   "cell_type": "code",
   "execution_count": 1,
   "metadata": {
    "ExecuteTime": {
     "end_time": "2020-05-06T15:03:23.637628Z",
     "start_time": "2020-05-06T15:03:23.634092Z"
    }
   },
   "outputs": [],
   "source": [
    "import json"
   ]
  },
  {
   "cell_type": "code",
   "execution_count": 2,
   "metadata": {
    "ExecuteTime": {
     "end_time": "2020-05-06T15:03:23.647722Z",
     "start_time": "2020-05-06T15:03:23.641001Z"
    }
   },
   "outputs": [],
   "source": [
    "def absoluteDiff(y_true, y_pred):\n",
    "    res_d = {\n",
    "        '01': 0,\n",
    "        '12': 0,\n",
    "        '23': 0,\n",
    "        '34': 0,\n",
    "        '4': 0,\n",
    "    }\n",
    "    for i in range(len(y_true)):\n",
    "        diff = abs(y_true[i] - y_pred[i])\n",
    "        if diff>=0 and diff<1:\n",
    "            res_d['01'] += 1\n",
    "        elif diff>=1 and diff<2:\n",
    "            res_d['12'] += 1\n",
    "        elif diff>=2 and diff<3:\n",
    "            res_d['23'] += 1\n",
    "        elif diff>=3 and diff<4:\n",
    "            res_d['34'] += 1\n",
    "        else:\n",
    "            res_d['4'] += 1\n",
    "    return res_d"
   ]
  },
  {
   "cell_type": "code",
   "execution_count": 3,
   "metadata": {
    "ExecuteTime": {
     "end_time": "2020-05-06T15:03:23.655470Z",
     "start_time": "2020-05-06T15:03:23.650410Z"
    }
   },
   "outputs": [],
   "source": [
    "def getYList(file_path):\n",
    "    gt = []\n",
    "    with open(file_path, 'r', encoding='utf-8') as fp:\n",
    "        lines = fp.readlines()\n",
    "#     print(len(lines))\n",
    "    for line in lines:\n",
    "        line = line[:-1]\n",
    "        r_dict = json.loads(line)\n",
    "        uid = r_dict['user_id']\n",
    "        bid = r_dict['business_id']\n",
    "        stars = r_dict['stars']\n",
    "        gt.append(((uid, bid), stars))\n",
    "#     print(len(gt))\n",
    "    return gt"
   ]
  },
  {
   "cell_type": "code",
   "execution_count": 4,
   "metadata": {
    "ExecuteTime": {
     "end_time": "2020-05-06T15:03:23.662140Z",
     "start_time": "2020-05-06T15:03:23.657939Z"
    }
   },
   "outputs": [],
   "source": [
    "def getY(y_list):\n",
    "    y = []\n",
    "    for i in range(len(y_list)):\n",
    "        y.append(y_list[i][1])\n",
    "    return y"
   ]
  },
  {
   "cell_type": "code",
   "execution_count": 5,
   "metadata": {
    "ExecuteTime": {
     "end_time": "2020-05-06T15:03:23.668889Z",
     "start_time": "2020-05-06T15:03:23.664081Z"
    }
   },
   "outputs": [],
   "source": [
    "def getYReduce(y_true, y_pred):\n",
    "    if len(y_true) != len(y_pred):\n",
    "        print('diff lenght!')\n",
    "        return None, None\n",
    "    miss = 0\n",
    "    y_true_reduce = []\n",
    "    y_pred_reduce = []\n",
    "    for i in range(len(y_true)):\n",
    "        if y_pred[i] == None:\n",
    "            miss += 1\n",
    "        else:\n",
    "            y_true_reduce.append(y_true[i])\n",
    "            y_pred_reduce.append(y_pred[i])\n",
    "    print('miss %d values.' % (miss))\n",
    "    return y_true_reduce, y_pred_reduce     "
   ]
  },
  {
   "cell_type": "code",
   "execution_count": 6,
   "metadata": {
    "ExecuteTime": {
     "end_time": "2020-05-06T15:03:23.676552Z",
     "start_time": "2020-05-06T15:03:23.671346Z"
    }
   },
   "outputs": [],
   "source": [
    "def withNoneAD(pre_file_path):\n",
    "    gt_file_path = \"/Users/markduan/duan/USC_course/USC_APDS/INF553/project/data/test_review_ratings.json\"\n",
    "    gt_list = getYList(gt_file_path)\n",
    "\n",
    "    pre_list = getYList(pre_file_path)\n",
    "\n",
    "    y_true = getY(gt_list)\n",
    "    y_pred = getY(pre_list)\n",
    "    y_true_reduce, y_pred_reduce = getYReduce(y_true, y_pred)\n",
    "\n",
    "    res = absoluteDiff(y_true_reduce, y_pred_reduce)\n",
    "    \n",
    "    return res"
   ]
  },
  {
   "cell_type": "code",
   "execution_count": 17,
   "metadata": {
    "ExecuteTime": {
     "end_time": "2020-05-07T06:39:39.531694Z",
     "start_time": "2020-05-07T06:39:37.798381Z"
    }
   },
   "outputs": [
    {
     "name": "stdout",
     "output_type": "stream",
     "text": [
      "miss 0 values.\n"
     ]
    },
    {
     "data": {
      "text/plain": [
       "{'01': 80459, '12': 35342, '23': 10613, '34': 2155, '4': 151}"
      ]
     },
     "execution_count": 17,
     "metadata": {},
     "output_type": "execute_result"
    }
   ],
   "source": [
    "pre_file_path = \"/Users/markduan/duan/USC_course/USC_APDS/INF553/project/deliver/prediction.json\"\n",
    "withNoneAD(pre_file_path)"
   ]
  },
  {
   "cell_type": "code",
   "execution_count": 19,
   "metadata": {
    "ExecuteTime": {
     "end_time": "2020-05-07T06:47:19.688854Z",
     "start_time": "2020-05-07T06:47:18.165889Z"
    }
   },
   "outputs": [
    {
     "name": "stdout",
     "output_type": "stream",
     "text": [
      "miss 0 values.\n"
     ]
    },
    {
     "data": {
      "text/plain": [
       "{'01': 80400, '12': 35385, '23': 10631, '34': 2155, '4': 149}"
      ]
     },
     "execution_count": 19,
     "metadata": {},
     "output_type": "execute_result"
    }
   ],
   "source": [
    "pre_file_path = \"/Users/markduan/duan/USC_course/USC_APDS/INF553/project/deliver/prediction.json\"\n",
    "withNoneAD(pre_file_path)"
   ]
  },
  {
   "cell_type": "code",
   "execution_count": 21,
   "metadata": {
    "ExecuteTime": {
     "end_time": "2020-05-07T06:49:57.908718Z",
     "start_time": "2020-05-07T06:49:56.312018Z"
    }
   },
   "outputs": [
    {
     "name": "stdout",
     "output_type": "stream",
     "text": [
      "miss 0 values.\n"
     ]
    },
    {
     "data": {
      "text/plain": [
       "{'01': 80401, '12': 35384, '23': 10631, '34': 2155, '4': 149}"
      ]
     },
     "execution_count": 21,
     "metadata": {},
     "output_type": "execute_result"
    }
   ],
   "source": [
    "pre_file_path = \"/Users/markduan/duan/USC_course/USC_APDS/INF553/project/deliver/prediction.json\"\n",
    "withNoneAD(pre_file_path)"
   ]
  },
  {
   "cell_type": "code",
   "execution_count": 9,
   "metadata": {
    "ExecuteTime": {
     "end_time": "2020-05-06T23:34:30.985527Z",
     "start_time": "2020-05-06T23:34:29.399722Z"
    }
   },
   "outputs": [
    {
     "name": "stdout",
     "output_type": "stream",
     "text": [
      "miss 0 values.\n"
     ]
    },
    {
     "data": {
      "text/plain": [
       "{'01': 79867, '12': 35810, '23': 10783, '34': 2149, '4': 111}"
      ]
     },
     "execution_count": 9,
     "metadata": {},
     "output_type": "execute_result"
    }
   ],
   "source": [
    "pre_file_path = \"/Users/markduan/duan/USC_course/USC_APDS/INF553/project/predict/prediction_combine.json\"\n",
    "withNoneAD(pre_file_path)"
   ]
  },
  {
   "cell_type": "code",
   "execution_count": 10,
   "metadata": {
    "ExecuteTime": {
     "end_time": "2020-05-06T23:37:16.234114Z",
     "start_time": "2020-05-06T23:37:14.720968Z"
    }
   },
   "outputs": [
    {
     "name": "stdout",
     "output_type": "stream",
     "text": [
      "miss 0 values.\n"
     ]
    },
    {
     "data": {
      "text/plain": [
       "{'01': 79918, '12': 35640, '23': 10874, '34': 2176, '4': 112}"
      ]
     },
     "execution_count": 10,
     "metadata": {},
     "output_type": "execute_result"
    }
   ],
   "source": [
    "pre_file_path = \"/Users/markduan/duan/USC_course/USC_APDS/INF553/project/predict/prediction_combine.json\"\n",
    "withNoneAD(pre_file_path)"
   ]
  },
  {
   "cell_type": "code",
   "execution_count": 14,
   "metadata": {
    "ExecuteTime": {
     "end_time": "2020-05-05T05:00:04.882351Z",
     "start_time": "2020-05-05T05:00:02.805329Z"
    }
   },
   "outputs": [
    {
     "name": "stdout",
     "output_type": "stream",
     "text": [
      "miss 18744 values.\n"
     ]
    },
    {
     "data": {
      "text/plain": [
       "{'01': 69413, '12': 29981, '23': 8825, '34': 1665, '4': 92}"
      ]
     },
     "execution_count": 14,
     "metadata": {},
     "output_type": "execute_result"
    }
   ],
   "source": [
    "pre_file_path = \"/Users/markduan/duan/USC_course/USC_APDS/INF553/project/predict/prediction_als_none.json\"\n",
    "withNoneAD(pre_file_path)"
   ]
  },
  {
   "cell_type": "code",
   "execution_count": 17,
   "metadata": {
    "ExecuteTime": {
     "end_time": "2020-05-05T07:02:58.965208Z",
     "start_time": "2020-05-05T07:02:57.401781Z"
    }
   },
   "outputs": [
    {
     "name": "stdout",
     "output_type": "stream",
     "text": [
      "miss 108692 values.\n"
     ]
    },
    {
     "data": {
      "text/plain": [
       "{'01': 13702, '12': 5089, '23': 1037, '34': 197, '4': 3}"
      ]
     },
     "execution_count": 17,
     "metadata": {},
     "output_type": "execute_result"
    }
   ],
   "source": [
    "pre_file_path = \"/Users/markduan/duan/USC_course/USC_APDS/INF553/project/predict/prediction_cf_none.json\"\n",
    "withNoneAD(pre_file_path)"
   ]
  },
  {
   "cell_type": "code",
   "execution_count": null,
   "metadata": {},
   "outputs": [],
   "source": []
  },
  {
   "cell_type": "code",
   "execution_count": 8,
   "metadata": {
    "ExecuteTime": {
     "end_time": "2020-05-06T23:22:29.007029Z",
     "start_time": "2020-05-06T23:22:27.387886Z"
    }
   },
   "outputs": [
    {
     "name": "stdout",
     "output_type": "stream",
     "text": [
      "miss 0 values.\n"
     ]
    },
    {
     "data": {
      "text/plain": [
       "{'01': 80207, '12': 35373, '23': 10806, '34': 2212, '4': 122}"
      ]
     },
     "execution_count": 8,
     "metadata": {},
     "output_type": "execute_result"
    }
   ],
   "source": [
    "pre_file_path = \"/Users/markduan/duan/USC_course/USC_APDS/INF553/project/predict/prediction_als_%d_%d.json\" % (5, 5)\n",
    "withNoneAD(pre_file_path)"
   ]
  },
  {
   "cell_type": "code",
   "execution_count": null,
   "metadata": {},
   "outputs": [],
   "source": []
  },
  {
   "cell_type": "code",
   "execution_count": null,
   "metadata": {},
   "outputs": [],
   "source": []
  },
  {
   "cell_type": "code",
   "execution_count": null,
   "metadata": {},
   "outputs": [],
   "source": []
  },
  {
   "cell_type": "code",
   "execution_count": null,
   "metadata": {},
   "outputs": [],
   "source": []
  },
  {
   "cell_type": "code",
   "execution_count": null,
   "metadata": {},
   "outputs": [],
   "source": []
  },
  {
   "cell_type": "code",
   "execution_count": null,
   "metadata": {},
   "outputs": [],
   "source": []
  },
  {
   "cell_type": "code",
   "execution_count": null,
   "metadata": {},
   "outputs": [],
   "source": []
  },
  {
   "cell_type": "code",
   "execution_count": null,
   "metadata": {},
   "outputs": [],
   "source": []
  },
  {
   "cell_type": "code",
   "execution_count": null,
   "metadata": {},
   "outputs": [],
   "source": []
  }
 ],
 "metadata": {
  "kernelspec": {
   "display_name": "inf553",
   "language": "python",
   "name": "inf553"
  },
  "language_info": {
   "codemirror_mode": {
    "name": "ipython",
    "version": 3
   },
   "file_extension": ".py",
   "mimetype": "text/x-python",
   "name": "python",
   "nbconvert_exporter": "python",
   "pygments_lexer": "ipython3",
   "version": "3.6.10"
  },
  "toc": {
   "base_numbering": 1,
   "nav_menu": {},
   "number_sections": true,
   "sideBar": true,
   "skip_h1_title": false,
   "title_cell": "Table of Contents",
   "title_sidebar": "Contents",
   "toc_cell": false,
   "toc_position": {},
   "toc_section_display": true,
   "toc_window_display": false
  }
 },
 "nbformat": 4,
 "nbformat_minor": 4
}

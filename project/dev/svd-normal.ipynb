{
 "cells": [
  {
   "cell_type": "code",
   "execution_count": 7,
   "metadata": {
    "ExecuteTime": {
     "end_time": "2020-05-05T01:52:00.477100Z",
     "start_time": "2020-05-05T01:52:00.471188Z"
    }
   },
   "outputs": [],
   "source": [
    "import findspark\n",
    "findspark.init()"
   ]
  },
  {
   "cell_type": "code",
   "execution_count": 8,
   "metadata": {
    "ExecuteTime": {
     "end_time": "2020-05-05T01:52:00.681747Z",
     "start_time": "2020-05-05T01:52:00.678844Z"
    }
   },
   "outputs": [],
   "source": [
    "import json\n",
    "# import os"
   ]
  },
  {
   "cell_type": "code",
   "execution_count": 9,
   "metadata": {
    "ExecuteTime": {
     "end_time": "2020-05-05T01:52:01.366105Z",
     "start_time": "2020-05-05T01:52:00.904775Z"
    }
   },
   "outputs": [],
   "source": [
    "from pyspark import SparkConf, SparkContext, StorageLevel\n",
    "# from pyspark.sql import SparkSession"
   ]
  },
  {
   "cell_type": "code",
   "execution_count": 10,
   "metadata": {
    "ExecuteTime": {
     "end_time": "2020-05-05T01:52:01.767252Z",
     "start_time": "2020-05-05T01:52:01.742584Z"
    }
   },
   "outputs": [],
   "source": [
    "from pyspark.mllib.recommendation import ALS, MatrixFactorizationModel, Rating"
   ]
  },
  {
   "cell_type": "code",
   "execution_count": 11,
   "metadata": {
    "ExecuteTime": {
     "end_time": "2020-05-05T01:52:01.958403Z",
     "start_time": "2020-05-05T01:52:01.955216Z"
    }
   },
   "outputs": [],
   "source": [
    "train_file = \"file:///Users/markduan/duan/USC_course/USC_APDS/INF553/project/data/train_review.json\"\n",
    "test_file = \"file:///Users/markduan/duan/USC_course/USC_APDS/INF553/project/data/test_review.json\"\n",
    "model_file = \"/Users/markduan/duan/USC_course/USC_APDS/INF553/project/model/als.json\"\n",
    "checkpoint_file = \"file:///Users/markduan/duan/USC_course/USC_APDS/INF553/project/dev/checkpoint\""
   ]
  },
  {
   "cell_type": "code",
   "execution_count": 12,
   "metadata": {
    "ExecuteTime": {
     "end_time": "2020-05-05T01:52:02.195875Z",
     "start_time": "2020-05-05T01:52:02.193034Z"
    }
   },
   "outputs": [],
   "source": [
    "user_avg_file = \"/Users/markduan/duan/USC_course/USC_APDS/INF553/project/data/user_avg.json\"\n",
    "business_avg_file = \"/Users/markduan/duan/USC_course/USC_APDS/INF553/project/data/business_avg.json\""
   ]
  },
  {
   "cell_type": "code",
   "execution_count": 13,
   "metadata": {
    "ExecuteTime": {
     "end_time": "2020-05-05T01:52:02.392822Z",
     "start_time": "2020-05-05T01:52:02.389466Z"
    }
   },
   "outputs": [],
   "source": [
    "def getAvg(avg_file):\n",
    "    with open(avg_file, 'r', encoding='utf-8') as fp:\n",
    "        avg_d = json.load(fp)\n",
    "    return avg_d"
   ]
  },
  {
   "cell_type": "code",
   "execution_count": 14,
   "metadata": {
    "ExecuteTime": {
     "end_time": "2020-05-05T01:52:02.663179Z",
     "start_time": "2020-05-05T01:52:02.627607Z"
    }
   },
   "outputs": [],
   "source": [
    "user_avg = getAvg(user_avg_file)\n",
    "business_avg = getAvg(business_avg_file)"
   ]
  },
  {
   "cell_type": "code",
   "execution_count": 15,
   "metadata": {
    "ExecuteTime": {
     "end_time": "2020-05-05T01:52:06.025144Z",
     "start_time": "2020-05-05T01:52:04.010909Z"
    }
   },
   "outputs": [],
   "source": [
    "conf = SparkConf() \\\n",
    "    .setAppName(\"task\") \\\n",
    "    .setMaster(\"local[*]\") \\\n",
    "    .set(\"spark.driver.memory\",\"4g\")\n",
    "sc = SparkContext(conf=conf)\n",
    "sc.setLogLevel(\"ERROR\")"
   ]
  },
  {
   "cell_type": "code",
   "execution_count": 16,
   "metadata": {
    "ExecuteTime": {
     "end_time": "2020-05-05T01:52:47.139388Z",
     "start_time": "2020-05-05T01:52:47.136591Z"
    }
   },
   "outputs": [],
   "source": [
    "# spark = SparkSession.builder.config(conf=SparkConf()).getOrCreate()"
   ]
  },
  {
   "cell_type": "code",
   "execution_count": 17,
   "metadata": {
    "ExecuteTime": {
     "end_time": "2020-05-05T01:52:47.905085Z",
     "start_time": "2020-05-05T01:52:47.358797Z"
    }
   },
   "outputs": [],
   "source": [
    "raw_data = sc.textFile(train_file).map(json.loads).persist(StorageLevel.MEMORY_AND_DISK)"
   ]
  },
  {
   "cell_type": "code",
   "execution_count": 18,
   "metadata": {
    "ExecuteTime": {
     "end_time": "2020-05-05T01:52:57.677589Z",
     "start_time": "2020-05-05T01:52:47.907019Z"
    }
   },
   "outputs": [],
   "source": [
    "u_table = raw_data.map(lambda x: x['user_id']) \\\n",
    "    .distinct() \\\n",
    "    .collect()"
   ]
  },
  {
   "cell_type": "code",
   "execution_count": 19,
   "metadata": {
    "ExecuteTime": {
     "end_time": "2020-05-05T01:52:59.432714Z",
     "start_time": "2020-05-05T01:52:57.680303Z"
    }
   },
   "outputs": [],
   "source": [
    "b_table = raw_data.map(lambda x: x['business_id']) \\\n",
    "    .distinct() \\\n",
    "    .collect()"
   ]
  },
  {
   "cell_type": "code",
   "execution_count": 20,
   "metadata": {
    "ExecuteTime": {
     "end_time": "2020-05-05T02:00:22.431964Z",
     "start_time": "2020-05-05T02:00:22.428302Z"
    }
   },
   "outputs": [],
   "source": [
    "def adjustStars(stars, uid, bid, user_avg, business_avg):\n",
    "    u_avg = user_avg.get(uid, user_avg['UNK'])\n",
    "    b_avg = business_avg.get(bid, business_avg['UNK'])\n",
    "    _avg = (u_avg + b_avg) / 2\n",
    "    adjusted_stars = stars - _avg\n",
    "    return adjusted_stars"
   ]
  },
  {
   "cell_type": "code",
   "execution_count": 22,
   "metadata": {
    "ExecuteTime": {
     "end_time": "2020-05-05T02:00:26.460932Z",
     "start_time": "2020-05-05T02:00:26.455733Z"
    }
   },
   "outputs": [],
   "source": [
    "stars_data = raw_data.map(lambda x: (x['user_id'], x['business_id'], x['stars'])) \\\n",
    "    .map(lambda x: (x[0], x[1], adjustStars(x[2], x[0], x[1], user_avg, business_avg))) \\\n",
    "    .map(lambda x: (u_table.index(x[0]), b_table.index(x[1]), x[2])) \\\n",
    "    .map(lambda x: Rating(x[0], x[1], x[2]))"
   ]
  },
  {
   "cell_type": "code",
   "execution_count": 23,
   "metadata": {
    "ExecuteTime": {
     "end_time": "2020-05-05T02:00:31.984285Z",
     "start_time": "2020-05-05T02:00:31.976865Z"
    }
   },
   "outputs": [],
   "source": [
    "sc.setCheckpointDir(checkpoint_file)\n",
    "ALS.checkpointInterval = 2"
   ]
  },
  {
   "cell_type": "code",
   "execution_count": 24,
   "metadata": {
    "ExecuteTime": {
     "end_time": "2020-05-05T02:05:33.779286Z",
     "start_time": "2020-05-05T02:00:34.915190Z"
    }
   },
   "outputs": [],
   "source": [
    "modelRDD = ALS.train(ratings=stars_data, rank=1, iterations=10, lambda_=0.01)"
   ]
  },
  {
   "cell_type": "code",
   "execution_count": null,
   "metadata": {},
   "outputs": [],
   "source": []
  },
  {
   "cell_type": "code",
   "execution_count": 25,
   "metadata": {
    "ExecuteTime": {
     "end_time": "2020-05-05T02:05:33.787277Z",
     "start_time": "2020-05-05T02:05:33.782038Z"
    }
   },
   "outputs": [],
   "source": [
    "def collectAlsModel(modelRDD, u_table, b_table):\n",
    "    user_featrue = modelRDD.userFeatures() \\\n",
    "        .map(lambda x: (u_table[x[0]], list(x[1])[0])) \\\n",
    "        .collectAsMap()\n",
    "    product_feature = modelRDD.productFeatures() \\\n",
    "        .map(lambda x: (b_table[x[0]], list(x[1])[0])) \\\n",
    "        .collectAsMap()\n",
    "    return [user_featrue, product_feature]"
   ]
  },
  {
   "cell_type": "code",
   "execution_count": 26,
   "metadata": {
    "ExecuteTime": {
     "end_time": "2020-05-05T02:05:33.795958Z",
     "start_time": "2020-05-05T02:05:33.790873Z"
    }
   },
   "outputs": [],
   "source": [
    "def saveAlsModel(modelRDD, u_table, b_table, model_file):\n",
    "    model = collectAlsModel(modelRDD, u_table, b_table)\n",
    "    with open(model_file, 'w', encoding='utf-8') as fp:\n",
    "        json.dump(model, fp)"
   ]
  },
  {
   "cell_type": "code",
   "execution_count": 27,
   "metadata": {
    "ExecuteTime": {
     "end_time": "2020-05-05T02:05:35.100231Z",
     "start_time": "2020-05-05T02:05:33.798830Z"
    }
   },
   "outputs": [],
   "source": [
    "saveAlsModel(modelRDD, u_table, b_table, model_file)"
   ]
  },
  {
   "cell_type": "code",
   "execution_count": null,
   "metadata": {},
   "outputs": [],
   "source": []
  },
  {
   "cell_type": "code",
   "execution_count": null,
   "metadata": {},
   "outputs": [],
   "source": []
  },
  {
   "cell_type": "code",
   "execution_count": null,
   "metadata": {},
   "outputs": [],
   "source": []
  },
  {
   "cell_type": "code",
   "execution_count": null,
   "metadata": {},
   "outputs": [],
   "source": []
  },
  {
   "cell_type": "code",
   "execution_count": null,
   "metadata": {},
   "outputs": [],
   "source": []
  },
  {
   "cell_type": "code",
   "execution_count": null,
   "metadata": {},
   "outputs": [],
   "source": []
  },
  {
   "cell_type": "code",
   "execution_count": null,
   "metadata": {},
   "outputs": [],
   "source": []
  },
  {
   "cell_type": "code",
   "execution_count": null,
   "metadata": {},
   "outputs": [],
   "source": []
  }
 ],
 "metadata": {
  "kernelspec": {
   "display_name": "inf553",
   "language": "python",
   "name": "inf553"
  },
  "language_info": {
   "codemirror_mode": {
    "name": "ipython",
    "version": 3
   },
   "file_extension": ".py",
   "mimetype": "text/x-python",
   "name": "python",
   "nbconvert_exporter": "python",
   "pygments_lexer": "ipython3",
   "version": "3.6.10"
  },
  "toc": {
   "base_numbering": 1,
   "nav_menu": {},
   "number_sections": true,
   "sideBar": true,
   "skip_h1_title": false,
   "title_cell": "Table of Contents",
   "title_sidebar": "Contents",
   "toc_cell": false,
   "toc_position": {},
   "toc_section_display": true,
   "toc_window_display": false
  }
 },
 "nbformat": 4,
 "nbformat_minor": 4
}
